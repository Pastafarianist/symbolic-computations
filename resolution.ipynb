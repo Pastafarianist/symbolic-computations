{
 "metadata": {
  "kernelspec": {
   "display_name": "Python 3",
   "language": "python",
   "name": "python3"
  },
  "language_info": {
   "codemirror_mode": {
    "name": "ipython",
    "version": 3
   },
   "file_extension": ".py",
   "mimetype": "text/x-python",
   "name": "python",
   "nbconvert_exporter": "python",
   "pygments_lexer": "ipython3",
   "version": "3.6.0"
  },
  "name": "",
  "signature": "sha256:68dba380b9ad6532d4c449f32a461f255926cd38aa518ee91c4d45df1a22c380"
 },
 "nbformat": 3,
 "nbformat_minor": 0,
 "worksheets": [
  {
   "cells": [
    {
     "cell_type": "code",
     "collapsed": false,
     "input": [
      "import sympy as sp\n",
      "from rrop import TP, Sum, mysimplify, k, c, d, x, y, xy, yx\n",
      "\n",
      "sp.init_printing()"
     ],
     "language": "python",
     "metadata": {},
     "outputs": [],
     "prompt_number": 1
    },
    {
     "cell_type": "code",
     "collapsed": false,
     "input": [
      "q = sp.symbols('q')\n",
      "\n",
      "Y = TP(y, 1) + TP(1, y)\n",
      "X = TP(x, 1) + TP(1, x)\n",
      "\n",
      "Phi1 = Sum(TP((y*x)**q, (x*y)**(k - 1 - q)), (q, 0, k - 1))\n",
      "Phi2 = -TP(x, 1) - TP(1, x) + Sum(TP(y * (x*y)**q, y * (x*y)**(k - 2 - q)), (q, 0, k - 2))\n",
      "\n",
      "lbda = TP(x, 1) * Phi1\n",
      "mu = Sum(TP((x*y)**q, y*(x*y)**(k - 1 - q)), (q, 0, k - 1))\n",
      "\n",
      "rho = TP(x * yx**(k-1), 1) + TP(1, x * yx**(k-1))\n",
      "psi = TP(yx**(k-1), xy**(k-1))\n",
      "tau = Y * X\n",
      "\n",
      "sigma = X * Phi1\n",
      "\n",
      "omega = TP((1 + c*x) * yx**(k-1), xy**k)"
     ],
     "language": "python",
     "metadata": {},
     "outputs": [],
     "prompt_number": 2
    },
    {
     "cell_type": "code",
     "collapsed": true,
     "input": [
      "A = c**2 * d * omega\n",
      "B = d * TP(1 + c*x, y) * X\n",
      "C = (\n",
      "    + c**2 * TP(y*xy**(k-1), x*yx**(k-1))\n",
      "    + c**3 * TP(x * yx**(k-1), xy**k)\n",
      ")\n",
      "D = (\n",
      "    + c * Y * TP(x, x)\n",
      "    + c * TP(x**2, y)\n",
      "    + d * TP(x * yx**(k-1), x)\n",
      ")\n",
      "\n",
      "E = (\n",
      "    + d * TP(x*yx**(k-1), 1)\n",
      "    + c**2 * d * omega\n",
      ")\n",
      "F = d * TP(1, y)\n",
      "G = c**2 * omega\n",
      "H = 0\n",
      "I = 0\n",
      "J = c * TP(y*xy**(k-1), xy**(k-1))\n",
      "\n",
      "K = c**3 * d * TP(x * yx**(k-1), xy**k)\n",
      "L = d * TP(1, y)\n",
      "M = 0\n",
      "N = c**3 * TP(x * yx**(k-1), xy**k)\n",
      "O = d * TP(x * yx**(k-1), 1)\n",
      "P = 0\n",
      "Q = 0\n",
      "R = 0\n",
      "S = 0\n",
      "T = 0\n",
      "U = c * TP(yx**(k-1), x*yx**(k-1))\n",
      "V = 0\n",
      "\n",
      "Ap = d * TP(x*yx**(k-1), 1) + c**3 * d * TP(x*yx**(k-1), xy**k)\n",
      "Bp = d * TP(1, y)\n",
      "Cp = 0\n",
      "Dp = 0\n",
      "Ep = N\n",
      "Fp = 0\n",
      "Gp = 0\n",
      "Hp = 0"
     ],
     "language": "python",
     "metadata": {},
     "outputs": [],
     "prompt_number": 3
    },
    {
     "cell_type": "markdown",
     "metadata": {},
     "source": [
      "$\\Huge (d_2)_{*1}$"
     ]
    },
    {
     "cell_type": "code",
     "collapsed": false,
     "input": [
      "bot_rhs0 = mysimplify(Y * d * mu)\n",
      "bot_rhs0"
     ],
     "language": "python",
     "metadata": {},
     "outputs": [
      {
       "output_type": "stream",
       "stream": "stderr",
       "text": [
        "/usr/lib/python3/dist-packages/matplotlib/font_manager.py:273: UserWarning: Matplotlib is building the font cache using fc-list. This may take a moment.\n",
        "  warnings.warn('Matplotlib is building the font cache using fc-list. This may take a moment.')\n",
        "/usr/lib/python3/dist-packages/matplotlib/font_manager.py:273: UserWarning: Matplotlib is building the font cache using fc-list. This may take a moment.\n",
        "  warnings.warn('Matplotlib is building the font cache using fc-list. This may take a moment.')\n"
       ]
      },
      {
       "output_type": "stream",
       "stream": "stderr",
       "text": [
        "/usr/lib/python3/dist-packages/IPython/core/formatters.py:239: FormatterWarning: Exception in image/png formatter: \n",
        "d^{2} \\left( \n",
        "             ^\n",
        "Expected \"\\right\" (at char 13), (line:1, col:14)\n",
        "  FormatterWarning,\n"
       ]
      },
      {
       "latex": [
        "$$d^{2} \\left( \\left(x y\\right)^{k - 1} \\otimes \\left(x y\\right)^{k} \\right) + d \\sum_{q=0}^{k - 1} \\left( y \\left(x y\\right)^{q} \\otimes y \\left(x y\\right)^{k - q - 1} \\right)$$"
       ],
       "metadata": {},
       "output_type": "pyout",
       "prompt_number": 4,
       "text": [
        "                         k - 1                          \n",
        "                          ____                          \n",
        "                          \u2572                             \n",
        "                           \u2572           (       q        \n",
        " 2                          \u2572  y\u22c5(x\u22c5y) \u2297       k - q - 1\n",
        "d \u22c5   (     k - 1    + d\u22c5   \u2571      y\u22c5(x\u22c5y)         )    \n",
        "   (x\u22c5y)     \u2297     k       \u2571                            \n",
        "        (x\u22c5y) )           \u2571                             \n",
        "                          \u203e\u203e\u203e\u203e                          \n",
        "                         q = 0                          "
       ]
      }
     ],
     "prompt_number": 4
    },
    {
     "cell_type": "code",
     "collapsed": false,
     "input": [
      "mysimplify(bot_rhs0 + A * d * mu + B * (Phi2 + c * mu))"
     ],
     "language": "python",
     "metadata": {},
     "outputs": [
      {
       "output_type": "stream",
       "stream": "stderr",
       "text": [
        "WARNING: fix_misc found TP*Sum in a Mul: TP(y*(x*y)**(k - 1), y) and Sum(TP(y*(x*y)**q, y*(x*y)**(k - q - 2)), (q, 0, k - 2))\n",
        "WARNING: fix_misc found TP*TP in a Mul: TP(y*(x*y)**(k - 1), y) and TP(1, x)\n",
        "WARNING: fix_misc found TP*Sum in a Mul: TP((x*y)**k, y) and Sum(TP(y*(x*y)**q, y*(x*y)**(k - q - 2)), (q, 0, k - 2))\n",
        "WARNING: fix_misc found TP*TP in a Mul: TP((x*y)**k, y) and TP(1, x)\n",
        "WARNING: fix_misc found TP*Sum in a Mul: TP(y*(x*y)**(k - 1), y) and Sum(TP((x*y)**q, y*(x*y)**(k - q - 1)), (q, 0, k - 1))\n",
        "WARNING:"
       ]
      },
      {
       "output_type": "stream",
       "stream": "stderr",
       "text": [
        " fix_misc found TP*Sum in a Mul: TP((x*y)**k, y) and Sum(TP((x*y)**q, y*(x*y)**(k - q - 1)), (q, 0, k - 1))\n",
        "/usr/lib/python3/dist-packages/IPython/core/formatters.py:239: FormatterWarning: Exception in image/png formatter: \n",
        "c^{3} d^{2} \\sum_{q=0}^{k - 1} \\left( \n",
        "                                      ^\n",
        "Expected \"\\right\" (at char 38), (line:1, col:39)\n",
        "  FormatterWarning,\n"
       ]
      },
      {
       "latex": [
        "$$c^{3} d^{2} \\sum_{q=0}^{k - 1} \\left( x \\left(y x\\right)^{k - 1} \\left(x y\\right)^{q} \\otimes y \\left(x y\\right)^{2 k - q - 1} \\right) + c^{2} d^{2} \\sum_{q=0}^{k - 1} \\left( \\left(y x\\right)^{k - 1} \\left(x y\\right)^{q} \\otimes y \\left(x y\\right)^{2 k - q - 1} \\right) + c^{2} d \\left( \\left(x y\\right)^{k} \\otimes x y \\right) + c d \\sum_{q=0}^{k - 1} \\left( \\left(x y\\right)^{q} \\otimes y \\left(x y\\right)^{k - q} \\right) + c d \\sum_{q=0}^{k - 2} \\left( \\left(x y\\right)^{q + 1} \\otimes y \\left(x y\\right)^{k - q - 1} \\right) + c d \\left( y \\left(x y\\right)^{k - 1} \\otimes x y \\right) + d \\sum_{q=0}^{k - 2} \\left( y \\left(x y\\right)^{q} \\otimes y \\left(x y\\right)^{k - q - 1} \\right) + d \\sum_{q=0}^{k - 1} \\left( y \\left(x y\\right)^{q} \\otimes y \\left(x y\\right)^{k - q - 1} \\right) + d \\left( y \\left(x y\\right)^{k - 1} \\otimes y \\right)$$"
       ],
       "metadata": {},
       "output_type": "pyout",
       "prompt_number": 5,
       "text": [
        "      k - 1                                                k - 1              \n",
        "       ____                                                 ____              \n",
        "       \u2572                                                    \u2572                 \n",
        "        \u2572            (       k - 1      q                    \u2572            (   \n",
        " 3  2    \u2572  x\u22c5(y\u22c5x)     \u22c5(x\u22c5y) \u2297       2\u22c5k - q - 1    2  2    \u2572  (y\u22c5x)     \u22c5(x\n",
        "c \u22c5d \u22c5   \u2571           y\u22c5(x\u22c5y)           )           + c \u22c5d \u22c5   \u2571          y\u22c5(x\u22c5\n",
        "        \u2571                                                    \u2571                \n",
        "       \u2571                                                    \u2571                 \n",
        "       \u203e\u203e\u203e\u203e                                                 \u203e\u203e\u203e\u203e              \n",
        "      q = 0                                                q = 0              \n",
        "\n",
        "                                                 k - 1                        \n",
        "                                                  ____                        \n",
        "                                                  \u2572                           \n",
        "  k - 1      q                                     \u2572         (     q          \n",
        "\u22c5y) \u2297       2\u22c5k - q - 1    2                        \u2572  (x\u22c5y) \u2297       k - q    \n",
        "y)           )          + c \u22c5d\u22c5  (     k   + c\u22c5d\u22c5   \u2571     y\u22c5(x\u22c5y)     )    + c\n",
        "                               (x\u22c5y) \u2297x\u22c5y)         \u2571                          \n",
        "                                                  \u2571                           \n",
        "                                                  \u203e\u203e\u203e\u203e                        \n",
        "                                                 q = 0                        \n",
        "\n",
        "   k - 2                                                         k - 2        \n",
        "    ____                                                          ____        \n",
        "    \u2572                                                             \u2572           \n",
        "     \u2572           (     q + 1                                       \u2572          \n",
        "      \u2572  (x\u22c5y)     \u2297       k - q - 1                                \u2572  y\u22c5(x\u22c5y)\n",
        "\u22c5d\u22c5   \u2571       y\u22c5(x\u22c5y)         )      + c\u22c5d\u22c5  (       k - 1   + d\u22c5   \u2571      y\u22c5(\n",
        "     \u2571                                     y\u22c5(x\u22c5y)     \u2297x\u22c5y)       \u2571          \n",
        "    \u2571                                                             \u2571           \n",
        "    \u203e\u203e\u203e\u203e                                                          \u203e\u203e\u203e\u203e        \n",
        "   q = 0                                                         q = 0        \n",
        "\n",
        "                       k - 1                                              \n",
        "                        ____                                              \n",
        "                        \u2572                                                 \n",
        " (       q               \u2572           (       q                            \n",
        " \u2297       k - q - 1        \u2572  y\u22c5(x\u22c5y) \u2297       k - q - 1                    \n",
        "x\u22c5y)         )     + d\u22c5   \u2571      y\u22c5(x\u22c5y)         )     + d\u22c5 (       k - 1 \n",
        "                         \u2571                                 y\u22c5(x\u22c5y)     \u2297y)\n",
        "                        \u2571                                                 \n",
        "                        \u203e\u203e\u203e\u203e                                              \n",
        "                       q = 0                                              "
       ]
      }
     ],
     "prompt_number": 5
    },
    {
     "cell_type": "code",
     "collapsed": false,
     "input": [
      "top_rhs0 = mysimplify(Y * (Y + d*lbda))\n",
      "top_rhs0"
     ],
     "language": "python",
     "metadata": {},
     "outputs": [
      {
       "output_type": "stream",
       "stream": "stderr",
       "text": [
        "/usr/lib/python3/dist-packages/IPython/core/formatters.py:239: FormatterWarning: Exception in image/png formatter: \n",
        "d \\sum_{q=0}^{k - 1} \\left( \n",
        "                            ^\n",
        "Expected \"\\right\" (at char 28), (line:1, col:29)\n",
        "  FormatterWarning,\n"
       ]
      },
      {
       "latex": [
        "$$d \\sum_{q=0}^{k - 1} \\left( x \\left(y x\\right)^{q} \\otimes \\left(x y\\right)^{k - q - 1} y \\right) + d \\sum_{q=0}^{k - 1} \\left( \\left(y x\\right)^{q + 1} \\otimes \\left(x y\\right)^{k - q - 1} \\right) + d \\left( 1 \\otimes \\left(x y\\right)^{k} \\right) + d \\left( \\left(x y\\right)^{k} \\otimes 1 \\right)$$"
       ],
       "metadata": {},
       "output_type": "pyout",
       "prompt_number": 6,
       "text": [
        "  k - 1                               k - 1                                   \n",
        "   ____                                ____                                   \n",
        "   \u2572                                   \u2572                                      \n",
        "    \u2572           (       q               \u2572          (     q + 1                \n",
        "     \u2572  x\u22c5(y\u22c5x) \u2297     k - q - 1          \u2572  (y\u22c5x)     \u2297     k - q - 1         \n",
        "d\u22c5   \u2571      (x\u22c5y)         \u22c5y)     + d\u22c5   \u2571       (x\u22c5y)         )      + d\u22c5(1\u2297 \n",
        "    \u2571                                   \u2571                                  (x\u22c5\n",
        "   \u2571                                   \u2571                                      \n",
        "   \u203e\u203e\u203e\u203e                                \u203e\u203e\u203e\u203e                                   \n",
        "  q = 0                               q = 0                                   \n",
        "\n",
        "                   \n",
        "                   \n",
        "                   \n",
        "                   \n",
        "                   \n",
        "    k + d\u22c5 (     k \n",
        "y) )      (x\u22c5y) \u22971)\n",
        "                   \n",
        "                   \n",
        "                   "
       ]
      }
     ],
     "prompt_number": 6
    },
    {
     "cell_type": "code",
     "collapsed": false,
     "input": [
      "mysimplify(top_rhs0 + A * (Y + d*lbda) + B * (Phi1 + c*lbda))"
     ],
     "language": "python",
     "metadata": {
      "scrolled": true
     },
     "outputs": [
      {
       "output_type": "stream",
       "stream": "stderr",
       "text": [
        "WARNING: fix_misc found TP*Sum in a Mul: TP(y*(x*y)**(k - 1), y) and Sum(TP((y*x)**q, (x*y)**(k - q - 1)), (q, 0, k - 1))\n",
        "WARNING: fix_misc found TP*Sum in a Mul: TP((x*y)**k, y) and Sum(TP((y*x)**q, (x*y)**(k - q - 1)), (q, 0, k - 1))\n",
        "WARNING: fix_misc found TP*Sum in a Mul: TP(y*(x*y)**(k - 1), y) and Sum(TP(x*(y*x)**q, (x*y)**(k - q - 1)), (q, 0, k - 1))\n",
        "WARNING: fix_misc found TP*Sum in a Mul: TP((x*y)**k, y) and Sum(TP(x*(y*x)**q, (x*y)**(k - q - 1)), (q, 0, k - 1))\n",
        "/usr/lib/python3/dist-packages/IPython/core/formatters.py:239: FormatterWarning: Exception in image/png formatter: \n",
        "c^{3} d \\sum_{q=0}^{k - 1} \\left( \n",
        "                                  ^\n",
        "Expected \"\\right\" (at char 34), (line:1, col:35)\n",
        "  FormatterWarning,\n"
       ]
      },
      {
       "latex": [
        "$$c^{3} d \\sum_{q=0}^{k - 1} \\left( \\left(x y\\right)^{k} \\left(y x\\right)^{q} \\otimes \\left(x y\\right)^{k - q} \\right) + c^{3} d \\left( \\left(x y\\right)^{k} \\otimes \\left(x y\\right)^{k} \\right) + c^{2} d \\sum_{q=0}^{k - 1} \\left( \\left(x y\\right)^{k} \\left(y x\\right)^{q} \\otimes \\left(x y\\right)^{k - q - 1} y \\right) + c^{2} d \\sum_{q=0}^{k - 1} \\left( y \\left(x y\\right)^{k - 1} \\left(y x\\right)^{q} \\otimes \\left(x y\\right)^{k - q} \\right) + c^{2} d \\left( y \\left(x y\\right)^{k - 1} \\otimes \\left(x y\\right)^{k} \\right) + c d \\sum_{q=0}^{k - 1} \\left( y \\left(x y\\right)^{k - 1} \\left(y x\\right)^{q} \\otimes \\left(x y\\right)^{k - q - 1} y \\right) + d \\sum_{q=0}^{k - 1} \\left( \\left(y x\\right)^{q} \\otimes \\left(x y\\right)^{k - q} \\right) + d \\sum_{q=0}^{k - 1} \\left( \\left(y x\\right)^{q + 1} \\otimes \\left(x y\\right)^{k - q - 1} \\right) + d \\left( 1 \\otimes \\left(x y\\right)^{k} \\right) + d \\left( \\left(x y\\right)^{k} \\otimes 1 \\right)$$"
       ],
       "metadata": {},
       "output_type": "pyout",
       "prompt_number": 7,
       "text": [
        "     k - 1                                                      k - 1         \n",
        "      ____                                                       ____         \n",
        "      \u2572                                                          \u2572            \n",
        "       \u2572        (     k      q                                    \u2572           \n",
        " 3      \u2572  (x\u22c5y) \u22c5(y\u22c5x) \u2297     k - q    3                    2      \u2572  (x\u22c5y) \u22c5(\n",
        "c \u22c5d\u22c5   \u2571        (x\u22c5y)     )        + c \u22c5d\u22c5   (     k    + c \u22c5d\u22c5   \u2571        (x\n",
        "       \u2571                                   (x\u22c5y) \u2297     k          \u2571           \n",
        "      \u2571                                       (x\u22c5y) )            \u2571            \n",
        "      \u203e\u203e\u203e\u203e                                                       \u203e\u203e\u203e\u203e         \n",
        "     q = 0                                                      q = 0         \n",
        "\n",
        "                              k - 1                                           \n",
        "                               ____                                           \n",
        "                               \u2572                                              \n",
        "(     k      q                  \u2572        (       k - 1      q                 \n",
        "y\u22c5x) \u2297     k - q - 1      2      \u2572  y\u22c5(x\u22c5y)     \u22c5(y\u22c5x) \u2297     k - q    2       \n",
        "\u22c5y)         \u22c5y)        + c \u22c5d\u22c5   \u2571           (x\u22c5y)     )           + c \u22c5d\u22c5   (\n",
        "                                \u2571                                         y\u22c5(x\n",
        "                               \u2571                                              \n",
        "                               \u203e\u203e\u203e\u203e                                           \n",
        "                              q = 0                                           \n",
        "\n",
        "                      k - 1                                          k - 1    \n",
        "                       ____                                           ____    \n",
        "                       \u2572                                              \u2572       \n",
        "                        \u2572           (       k - 1      q               \u2572      \n",
        "                         \u2572  y\u22c5(x\u22c5y)     \u22c5(y\u22c5x) \u2297     k - q - 1          \u2572  (y\u22c5\n",
        "       k - 1    + c\u22c5d\u22c5   \u2571           (x\u22c5y)         \u22c5y)           + d\u22c5   \u2571     \n",
        "\u22c5y)     \u2297     k         \u2571                                              \u2571      \n",
        "  (x\u22c5y) )              \u2571                                              \u2571       \n",
        "                       \u203e\u203e\u203e\u203e                                           \u203e\u203e\u203e\u203e    \n",
        "                      q = 0                                          q = 0    \n",
        "\n",
        "                   k - 1                                                      \n",
        "                    ____                                                      \n",
        "                    \u2572                                                         \n",
        "  (     q            \u2572          (     q + 1                                   \n",
        "x) \u2297     k - q        \u2572  (y\u22c5x)     \u2297     k - q - 1                            \n",
        "(x\u22c5y)     )    + d\u22c5   \u2571       (x\u22c5y)         )      + d\u22c5(1\u2297     k + d\u22c5 (     k \n",
        "                     \u2571                                  (x\u22c5y) )      (x\u22c5y) \u22971)\n",
        "                    \u2571                                                         \n",
        "                    \u203e\u203e\u203e\u203e                                                      \n",
        "                   q = 0                                                      "
       ]
      }
     ],
     "prompt_number": 7
    },
    {
     "cell_type": "code",
     "collapsed": false,
     "input": [
      "mysimplify(bot_rhs0 + A * d * mu + B * (Phi2 + c * mu))"
     ],
     "language": "python",
     "metadata": {
      "scrolled": true
     },
     "outputs": [
      {
       "output_type": "stream",
       "stream": "stderr",
       "text": [
        "WARNING: fix_misc found TP*Sum in a Mul: TP(y*(x*y)**(k - 1), y) and Sum(TP(y*(x*y)**q, y*(x*y)**(k - q - 2)), (q, 0, k - 2))\n",
        "WARNING: fix_misc found TP*TP in a Mul: TP(y*(x*y)**(k - 1), y) and TP(1, x)\n",
        "WARNING: fix_misc found TP*Sum in a Mul: TP((x*y)**k, y) and Sum(TP(y*(x*y)**q, y*(x*y)**(k - q - 2)), (q, 0, k - 2))\n",
        "WARNING: fix_misc found TP*TP in a Mul: TP((x*y)**k, y) and TP(1, x)\n",
        "WARNING: fix_misc found TP*Sum in a Mul: TP(y*(x*y)**(k - 1), y) and Sum(TP((x*y)**q, y*(x*y)**(k - q - 1)), (q, 0, k - 1))\n",
        "WARNING: fix_misc found TP*Sum in a Mul: TP((x*y)**k, y) and Sum(TP((x*y)**q, y*(x*y)**(k - q - 1)), (q, 0, k - 1))\n",
        "/usr/lib/python3/dist-packages/IPython/core/formatters.py:239: FormatterWarning: Exception in image/png formatter: \n",
        "c^{3} d^{2} \\sum_{q=0}^{k - 1} \\left( \n",
        "                                      ^\n",
        "Expected \"\\right\" (at char 38), (line:1, col:39)\n",
        "  FormatterWarning,\n"
       ]
      },
      {
       "latex": [
        "$$c^{3} d^{2} \\sum_{q=0}^{k - 1} \\left( x \\left(y x\\right)^{k - 1} \\left(x y\\right)^{q} \\otimes y \\left(x y\\right)^{2 k - q - 1} \\right) + c^{2} d^{2} \\sum_{q=0}^{k - 1} \\left( \\left(y x\\right)^{k - 1} \\left(x y\\right)^{q} \\otimes y \\left(x y\\right)^{2 k - q - 1} \\right) + c^{2} d \\left( \\left(x y\\right)^{k} \\otimes x y \\right) + c d \\sum_{q=0}^{k - 1} \\left( \\left(x y\\right)^{q} \\otimes y \\left(x y\\right)^{k - q} \\right) + c d \\sum_{q=0}^{k - 2} \\left( \\left(x y\\right)^{q + 1} \\otimes y \\left(x y\\right)^{k - q - 1} \\right) + c d \\left( y \\left(x y\\right)^{k - 1} \\otimes x y \\right) + d \\sum_{q=0}^{k - 2} \\left( y \\left(x y\\right)^{q} \\otimes y \\left(x y\\right)^{k - q - 1} \\right) + d \\sum_{q=0}^{k - 1} \\left( y \\left(x y\\right)^{q} \\otimes y \\left(x y\\right)^{k - q - 1} \\right) + d \\left( y \\left(x y\\right)^{k - 1} \\otimes y \\right)$$"
       ],
       "metadata": {},
       "output_type": "pyout",
       "prompt_number": 8,
       "text": [
        "      k - 1                                                k - 1              \n",
        "       ____                                                 ____              \n",
        "       \u2572                                                    \u2572                 \n",
        "        \u2572            (       k - 1      q                    \u2572            (   \n",
        " 3  2    \u2572  x\u22c5(y\u22c5x)     \u22c5(x\u22c5y) \u2297       2\u22c5k - q - 1    2  2    \u2572  (y\u22c5x)     \u22c5(x\n",
        "c \u22c5d \u22c5   \u2571           y\u22c5(x\u22c5y)           )           + c \u22c5d \u22c5   \u2571          y\u22c5(x\u22c5\n",
        "        \u2571                                                    \u2571                \n",
        "       \u2571                                                    \u2571                 \n",
        "       \u203e\u203e\u203e\u203e                                                 \u203e\u203e\u203e\u203e              \n",
        "      q = 0                                                q = 0              \n",
        "\n",
        "                                                 k - 1                        \n",
        "                                                  ____                        \n",
        "                                                  \u2572                           \n",
        "  k - 1      q                                     \u2572         (     q          \n",
        "\u22c5y) \u2297       2\u22c5k - q - 1    2                        \u2572  (x\u22c5y) \u2297       k - q    \n",
        "y)           )          + c \u22c5d\u22c5  (     k   + c\u22c5d\u22c5   \u2571     y\u22c5(x\u22c5y)     )    + c\n",
        "                               (x\u22c5y) \u2297x\u22c5y)         \u2571                          \n",
        "                                                  \u2571                           \n",
        "                                                  \u203e\u203e\u203e\u203e                        \n",
        "                                                 q = 0                        \n",
        "\n",
        "   k - 2                                                         k - 2        \n",
        "    ____                                                          ____        \n",
        "    \u2572                                                             \u2572           \n",
        "     \u2572           (     q + 1                                       \u2572          \n",
        "      \u2572  (x\u22c5y)     \u2297       k - q - 1                                \u2572  y\u22c5(x\u22c5y)\n",
        "\u22c5d\u22c5   \u2571       y\u22c5(x\u22c5y)         )      + c\u22c5d\u22c5  (       k - 1   + d\u22c5   \u2571      y\u22c5(\n",
        "     \u2571                                     y\u22c5(x\u22c5y)     \u2297x\u22c5y)       \u2571          \n",
        "    \u2571                                                             \u2571           \n",
        "    \u203e\u203e\u203e\u203e                                                          \u203e\u203e\u203e\u203e        \n",
        "   q = 0                                                         q = 0        \n",
        "\n",
        "                       k - 1                                              \n",
        "                        ____                                              \n",
        "                        \u2572                                                 \n",
        " (       q               \u2572           (       q                            \n",
        " \u2297       k - q - 1        \u2572  y\u22c5(x\u22c5y) \u2297       k - q - 1                    \n",
        "x\u22c5y)         )     + d\u22c5   \u2571      y\u22c5(x\u22c5y)         )     + d\u22c5 (       k - 1 \n",
        "                         \u2571                                 y\u22c5(x\u22c5y)     \u2297y)\n",
        "                        \u2571                                                 \n",
        "                        \u203e\u203e\u203e\u203e                                              \n",
        "                       q = 0                                              "
       ]
      }
     ],
     "prompt_number": 8
    },
    {
     "cell_type": "markdown",
     "metadata": {},
     "source": [
      "$\\Huge (d_2)_{*2}$"
     ]
    },
    {
     "cell_type": "code",
     "collapsed": false,
     "input": [
      "top_rhs0 = mysimplify(rho * (Y + d*lbda) + tau * (Phi1 + c*lbda))\n",
      "top_rhs0"
     ],
     "language": "python",
     "metadata": {},
     "outputs": [
      {
       "output_type": "stream",
       "stream": "stderr",
       "text": [
        "/usr/lib/python3/dist-packages/IPython/core/formatters.py:239: FormatterWarning: Exception in image/png formatter: \n",
        "c^{2} \\sum_{q=0}^{k - 1} \\left( \n",
        "                                ^\n",
        "Expected \"\\right\" (at char 32), (line:1, col:33)\n",
        "  FormatterWarning,\n"
       ]
      },
      {
       "latex": [
        "$$c^{2} \\sum_{q=0}^{k - 1} \\left( \\left(x y\\right)^{k} \\left(y x\\right)^{q} \\otimes \\left(x y\\right)^{k - q - 1} y \\right) + c \\sum_{q=0}^{k - 1} \\left( x \\left(y x\\right)^{q} \\otimes \\left(x y\\right)^{k - q} \\right) + c \\sum_{q=0}^{k - 1} \\left( \\left(y x\\right)^{q + 1} \\otimes x \\left(y x\\right)^{k - q - 1} \\right) + c \\sum_{q=0}^{k - 1} \\left( y \\left(x y\\right)^{k - 1} \\left(y x\\right)^{q} \\otimes \\left(x y\\right)^{k - q - 1} y \\right) + d \\sum_{q=0}^{k - 1} \\left( x \\left(y x\\right)^{q} \\otimes x \\left(y x\\right)^{2 k - q - 2} \\right) + \\sum_{q=0}^{k - 1} \\left( x \\left(y x\\right)^{q} \\otimes \\left(x y\\right)^{k - q - 1} y \\right) + \\sum_{q=0}^{k - 1} \\left( \\left(y x\\right)^{q} \\otimes \\left(x y\\right)^{k - q} \\right) + \\sum_{q=0}^{k - 1} \\left( \\left(y x\\right)^{q + 1} \\otimes \\left(x y\\right)^{k - q - 1} \\right) + \\sum_{q=0}^{k - 1} \\left( y \\left(y x\\right)^{q} \\otimes x \\left(y x\\right)^{k - q - 1} \\right) + \\left( 1 \\otimes \\left(x y\\right)^{k} \\right) + \\left( y \\otimes x \\left(y x\\right)^{k - 1} \\right) + \\left( \\left(x y\\right)^{k} \\otimes 1 \\right) + \\left( x \\left(y x\\right)^{k - 1} \\otimes y \\right)$$"
       ],
       "metadata": {},
       "output_type": "pyout",
       "prompt_number": 9,
       "text": [
        "   k - 1                                    k - 1                         k - \n",
        "    ____                                     ____                          ___\n",
        "    \u2572                                        \u2572                             \u2572  \n",
        "     \u2572           (     k      q               \u2572        (       q            \u2572 \n",
        " 2    \u2572  (x\u22c5y) \u22c5(y\u22c5x) \u2297     k - q - 1          \u2572  x\u22c5(y\u22c5x) \u2297     k - q        \u2572\n",
        "c \u22c5   \u2571        (x\u22c5y)         \u22c5y)        + c\u22c5   \u2571      (x\u22c5y)     )     + c\u22c5   \u2571\n",
        "     \u2571                                        \u2571                             \u2571 \n",
        "    \u2571                                        \u2571                             \u2571  \n",
        "    \u203e\u203e\u203e\u203e                                     \u203e\u203e\u203e\u203e                          \u203e\u203e\u203e\n",
        "   q = 0                                    q = 0                         q = \n",
        "\n",
        "1                                 k - 1                                       \n",
        "_                                  ____                                       \n",
        "                                   \u2572                                          \n",
        "          (     q + 1               \u2572           (       k - 1      q          \n",
        "  (y\u22c5x)     \u2297       k - q - 1        \u2572  y\u22c5(x\u22c5y)     \u22c5(y\u22c5x) \u2297     k - q - 1    \n",
        "       x\u22c5(y\u22c5x)         )      + c\u22c5   \u2571           (x\u22c5y)         \u22c5y)           +\n",
        "                                    \u2571                                         \n",
        "                                   \u2571                                          \n",
        "\u203e                                  \u203e\u203e\u203e\u203e                                       \n",
        "0                                 q = 0                                       \n",
        "\n",
        "   k - 1                               k - 1                             k - 1\n",
        "    ____                                ____                              ____\n",
        "    \u2572                                   \u2572                                 \u2572   \n",
        "     \u2572            (       q              \u2572           (       q             \u2572  \n",
        "      \u2572  x\u22c5(y\u22c5x) \u2297       2\u22c5k - q - 2      \u2572  x\u22c5(y\u22c5x) \u2297     k - q - 1        \u2572 \n",
        " d\u22c5   \u2571      x\u22c5(y\u22c5x)           )     +    \u2571      (x\u22c5y)         \u22c5y)     +    \u2571 \n",
        "     \u2571                                   \u2571                                 \u2571  \n",
        "    \u2571                                   \u2571                                 \u2571   \n",
        "    \u203e\u203e\u203e\u203e                                \u203e\u203e\u203e\u203e                              \u203e\u203e\u203e\u203e\n",
        "   q = 0                               q = 0                             q = 0\n",
        "\n",
        "                     k - 1                             k - 1                  \n",
        "                      ____                              ____                  \n",
        "                      \u2572                                 \u2572                     \n",
        "      (     q          \u2572          (     q + 1            \u2572           (       q\n",
        " (y\u22c5x) \u2297     k - q      \u2572  (y\u22c5x)     \u2297     k - q - 1      \u2572  y\u22c5(y\u22c5x) \u2297       k\n",
        "    (x\u22c5y)     )    +    \u2571       (x\u22c5y)         )      +    \u2571      x\u22c5(y\u22c5x)      \n",
        "                       \u2571                                 \u2571                    \n",
        "                      \u2571                                 \u2571                     \n",
        "                      \u203e\u203e\u203e\u203e                              \u203e\u203e\u203e\u203e                  \n",
        "                     q = 0                             q = 0                  \n",
        "\n",
        "                                                                    \n",
        "                                                                    \n",
        "                                                                    \n",
        "                                                                    \n",
        " - q - 1                                                            \n",
        "   )     + (1\u2297     k + (y\u2297       k - 1 +  (     k  +  (       k - 1 \n",
        "            (x\u22c5y) )     x\u22c5(y\u22c5x)     )    (x\u22c5y) \u22971)   x\u22c5(y\u22c5x)     \u2297y)\n",
        "                                                                    \n",
        "                                                                    \n",
        "                                                                    "
       ]
      }
     ],
     "prompt_number": 9
    },
    {
     "cell_type": "code",
     "collapsed": false,
     "input": [
      "bot_rhs0 = mysimplify(rho * d * mu + tau * (Phi2 + c*mu))\n",
      "bot_rhs0"
     ],
     "language": "python",
     "metadata": {},
     "outputs": [
      {
       "output_type": "stream",
       "stream": "stderr",
       "text": [
        "/usr/lib/python3/dist-packages/IPython/core/formatters.py:239: FormatterWarning: Exception in image/png formatter: \n",
        "c \\sum_{q=0}^{k - 1} \\left( \n",
        "                            ^\n",
        "Expected \"\\right\" (at char 28), (line:1, col:29)\n",
        "  FormatterWarning,\n"
       ]
      },
      {
       "latex": [
        "$$c \\sum_{q=0}^{k - 1} \\left( \\left(x y\\right)^{q} \\otimes y \\left(x y\\right)^{k - q} \\right) + c \\sum_{q=0}^{k - 1} \\left( y \\left(x y\\right)^{q} \\otimes \\left(y x\\right)^{k - q} \\right) + c \\left( y \\otimes \\left(x y\\right)^{k} \\right) + c \\left( \\left(x y\\right)^{k} \\otimes y \\right) + c \\left( y x \\otimes y \\left(x y\\right)^{k - 1} \\right) + d \\sum_{q=0}^{k - 1} \\left( \\left(x y\\right)^{q} \\otimes \\left(y x\\right)^{2 k - q - 1} \\right) + d \\sum_{q=0}^{k - 1} \\left( x \\left(y x\\right)^{k - 1} \\left(x y\\right)^{q} \\otimes y \\left(x y\\right)^{k - q - 1} \\right) + d \\left( \\left(x y\\right)^{k} \\otimes \\left(y x\\right)^{k - 1} \\right) + d \\left( \\left(x y\\right)^{k - 1} \\otimes \\left(x y\\right)^{k} \\right) + \\sum_{q=0}^{k - 2} \\left( y \\left(x y\\right)^{q} \\otimes y \\left(x y\\right)^{k - q - 1} \\right) + \\sum_{q=0}^{k - 2} \\left( y \\left(x y\\right)^{q + 1} \\otimes y \\left(x y\\right)^{k - q - 2} \\right) + \\left( y \\otimes y \\left(x y\\right)^{k - 1} \\right) + \\left( y \\left(x y\\right)^{k - 1} \\otimes y \\right)$$"
       ],
       "metadata": {},
       "output_type": "pyout",
       "prompt_number": 10,
       "text": [
        "  k - 1                         k - 1                                         \n",
        "   ____                          ____                                         \n",
        "   \u2572                             \u2572                                            \n",
        "    \u2572         (     q             \u2572        (       q                          \n",
        "     \u2572  (x\u22c5y) \u2297       k - q        \u2572  y\u22c5(x\u22c5y) \u2297     k - q                     \n",
        "c\u22c5   \u2571     y\u22c5(x\u22c5y)     )    + c\u22c5   \u2571      (y\u22c5x)     )     + c\u22c5(y\u2297     k + c\u22c5 (\n",
        "    \u2571                             \u2571                            (x\u22c5y) )      (x\n",
        "   \u2571                             \u2571                                            \n",
        "   \u203e\u203e\u203e\u203e                          \u203e\u203e\u203e\u203e                                         \n",
        "  q = 0                         q = 0                                         \n",
        "\n",
        "                                  k - 1                             k - 1     \n",
        "                                   ____                              ____     \n",
        "                                   \u2572                                 \u2572        \n",
        "                                    \u2572           (     q               \u2572       \n",
        "                                     \u2572  (x\u22c5y) \u2297     2\u22c5k - q - 1        \u2572  x\u22c5(y\n",
        "     k  + c\u22c5(y\u22c5x\u2297       k - 1 + d\u22c5   \u2571     (y\u22c5x)           )    + d\u22c5   \u2571      \n",
        "\u22c5y) \u2297y)       y\u22c5(x\u22c5y)     )         \u2571                                 \u2571       \n",
        "                                   \u2571                                 \u2571        \n",
        "                                   \u203e\u203e\u203e\u203e                              \u203e\u203e\u203e\u203e     \n",
        "                                  q = 0                             q = 0     \n",
        "\n",
        "                                                                              \n",
        "                                                                              \n",
        "                                                                              \n",
        "    (       k - 1      q                                                      \n",
        "\u22c5x)     \u22c5(x\u22c5y) \u2297       k - q - 1                                              \n",
        "     y\u22c5(x\u22c5y)         )           + d\u22c5     (     k      + d\u22c5   (     k - 1    +\n",
        "                                     (x\u22c5y) \u2297     k - 1     (x\u22c5y)     \u2297     k  \n",
        "                                        (y\u22c5x)     )             (x\u22c5y) )       \n",
        "                                                                              \n",
        "                                                                              \n",
        "\n",
        " k - 2                             k - 2                                      \n",
        "  ____                              ____                                      \n",
        "  \u2572                                 \u2572                                         \n",
        "   \u2572           (       q             \u2572           (       q + 1                \n",
        "    \u2572  y\u22c5(x\u22c5y) \u2297       k - q - 1      \u2572  y\u22c5(x\u22c5y)     \u2297       k - q - 2        \n",
        "    \u2571      y\u22c5(x\u22c5y)         )     +    \u2571        y\u22c5(x\u22c5y)         )       + (y\u2297  \n",
        "   \u2571                                 \u2571                                    y\u22c5(x\n",
        "  \u2571                                 \u2571                                         \n",
        "  \u203e\u203e\u203e\u203e                              \u203e\u203e\u203e\u203e                                      \n",
        " q = 0                             q = 0                                      \n",
        "\n",
        "                            \n",
        "                            \n",
        "                            \n",
        "                            \n",
        "                            \n",
        "     k - 1 +  (       k - 1 \n",
        "\u22c5y)     )    y\u22c5(x\u22c5y)     \u2297y)\n",
        "                            \n",
        "                            \n",
        "                            "
       ]
      }
     ],
     "prompt_number": 10
    },
    {
     "cell_type": "code",
     "collapsed": false,
     "input": [
      "bot_rhs1 = (\n",
      "    c * Sum(TP(xy**q, y*xy**(k-q)), (q, 0, k - 1)) + \n",
      "    c * Sum(TP(y*xy**q, yx**(k-q)), (q, 0, k - 1)) + \n",
      "    c * TP(yx, y*xy**(k-1)) +\n",
      "    c * TP(y, xy**k) + \n",
      "    c * TP(xy**k, y) + \n",
      "    d * TP(xy**k, yx**(k-1)) + \n",
      "    d * TP(x*yx**(k - 1), y*xy**(k - 1))\n",
      ")\n",
      "bot_rhs1"
     ],
     "language": "python",
     "metadata": {},
     "outputs": [
      {
       "output_type": "stream",
       "stream": "stderr",
       "text": [
        "/usr/lib/python3/dist-packages/IPython/core/formatters.py:239: FormatterWarning: Exception in image/png formatter: \n",
        "c \\sum_{q=0}^{k - 1} \\left( \n",
        "                            ^\n",
        "Expected \"\\right\" (at char 28), (line:1, col:29)\n",
        "  FormatterWarning,\n"
       ]
      },
      {
       "latex": [
        "$$c \\sum_{q=0}^{k - 1} \\left( \\left(x y\\right)^{q} \\otimes y \\left(x y\\right)^{k - q} \\right) + c \\sum_{q=0}^{k - 1} \\left( y \\left(x y\\right)^{q} \\otimes \\left(y x\\right)^{k - q} \\right) + c \\left( y \\otimes \\left(x y\\right)^{k} \\right) + c \\left( \\left(x y\\right)^{k} \\otimes y \\right) + c \\left( y x \\otimes y \\left(x y\\right)^{k - 1} \\right) + d \\left( \\left(x y\\right)^{k} \\otimes \\left(y x\\right)^{k - 1} \\right) + d \\left( x \\left(y x\\right)^{k - 1} \\otimes y \\left(x y\\right)^{k - 1} \\right)$$"
       ],
       "metadata": {},
       "output_type": "pyout",
       "prompt_number": 11,
       "text": [
        "  k - 1                         k - 1                                         \n",
        "   ____                          ____                                         \n",
        "   \u2572                             \u2572                                            \n",
        "    \u2572         (     q             \u2572        (       q                          \n",
        "     \u2572  (x\u22c5y) \u2297       k - q        \u2572  y\u22c5(x\u22c5y) \u2297     k - q                     \n",
        "c\u22c5   \u2571     y\u22c5(x\u22c5y)     )    + c\u22c5   \u2571      (y\u22c5x)     )     + c\u22c5(y\u2297     k + c\u22c5 (\n",
        "    \u2571                             \u2571                            (x\u22c5y) )      (x\n",
        "   \u2571                             \u2571                                            \n",
        "   \u203e\u203e\u203e\u203e                          \u203e\u203e\u203e\u203e                                         \n",
        "  q = 0                         q = 0                                         \n",
        "\n",
        "                                                                              \n",
        "                                                                              \n",
        "                                                                              \n",
        "                                                                              \n",
        "                                                                              \n",
        "     k  + c\u22c5(y\u22c5x\u2297       k - 1 + d\u22c5     (     k      + d\u22c5      (       k - 1   \n",
        "\u22c5y) \u2297y)       y\u22c5(x\u22c5y)     )       (x\u22c5y) \u2297     k - 1     x\u22c5(y\u22c5x)     \u2297       k \n",
        "                                     (y\u22c5x)     )              y\u22c5(x\u22c5y)     )   \n",
        "                                                                              \n",
        "                                                                              \n",
        "\n",
        "   \n",
        "   \n",
        "   \n",
        "   \n",
        "   \n",
        "   \n",
        "- 1\n",
        "   \n",
        "   \n",
        "   "
       ]
      }
     ],
     "prompt_number": 11
    },
    {
     "cell_type": "code",
     "collapsed": false,
     "input": [
      "mysimplify(bot_rhs1 + C * d * mu + D * (Phi2 + c*mu))"
     ],
     "language": "python",
     "metadata": {
      "scrolled": false
     },
     "outputs": [
      {
       "output_type": "stream",
       "stream": "stderr",
       "text": [
        "/usr/lib/python3/dist-packages/IPython/core/formatters.py:239: FormatterWarning: Exception in image/png formatter: \n",
        "c^{3} d \\sum_{q=0}^{k - 1} \\left( \n",
        "                                  ^\n",
        "Expected \"\\right\" (at char 34), (line:1, col:35)\n",
        "  FormatterWarning,\n"
       ]
      },
      {
       "latex": [
        "$$c^{3} d \\sum_{q=0}^{k - 1} \\left( x \\left(y x\\right)^{k - 1} \\left(x y\\right)^{q} \\otimes y \\left(x y\\right)^{2 k - q - 1} \\right) + c^{2} d \\sum_{q=0}^{k - 1} \\left( y \\left(x y\\right)^{k + q - 1} \\otimes \\left(y x\\right)^{2 k - q - 1} \\right) + c d \\sum_{q=0}^{k - 1} \\left( x \\left(y x\\right)^{k - 1} \\left(x y\\right)^{q} \\otimes \\left(y x\\right)^{k - q} \\right) + c d \\left( x \\left(y x\\right)^{k - 1} \\otimes \\left(x y\\right)^{k} \\right) + c \\sum_{q=0}^{k - 1} \\left( \\left(x y\\right)^{q} \\otimes y \\left(x y\\right)^{k - q} \\right) + c \\sum_{q=0}^{k - 2} \\left( \\left(x y\\right)^{q + 1} \\otimes y \\left(x y\\right)^{k - q - 1} \\right) + c \\sum_{q=0}^{k - 1} \\left( y \\left(x y\\right)^{q} \\otimes \\left(y x\\right)^{k - q} \\right) + c \\sum_{q=0}^{k - 2} \\left( y \\left(x y\\right)^{q + 1} \\otimes \\left(y x\\right)^{k - q - 1} \\right) + c \\left( y \\otimes \\left(x y\\right)^{k} \\right)$$"
       ],
       "metadata": {},
       "output_type": "pyout",
       "prompt_number": 12,
       "text": [
        "     k - 1                                               k - 1                \n",
        "      ____                                                ____                \n",
        "      \u2572                                                   \u2572                   \n",
        "       \u2572            (       k - 1      q                   \u2572           (      \n",
        " 3      \u2572  x\u22c5(y\u22c5x)     \u22c5(x\u22c5y) \u2297       2\u22c5k - q - 1    2      \u2572  y\u22c5(x\u22c5y)        \n",
        "c \u22c5d\u22c5   \u2571           y\u22c5(x\u22c5y)           )           + c \u22c5d\u22c5   \u2571          (y\u22c5x)  \n",
        "       \u2571                                                   \u2571                  \n",
        "      \u2571                                                   \u2571                   \n",
        "      \u203e\u203e\u203e\u203e                                                \u203e\u203e\u203e\u203e                \n",
        "     q = 0                                               q = 0                \n",
        "\n",
        "                         k - 1                                                \n",
        "                          ____                                                \n",
        "                          \u2572                                                   \n",
        " k + q - 1                 \u2572        (       k - 1      q                      \n",
        " \u2297     2\u22c5k - q - 1          \u2572  x\u22c5(y\u22c5x)     \u22c5(x\u22c5y) \u2297     k - q                 \n",
        "         )         + c\u22c5d\u22c5   \u2571           (y\u22c5x)     )           + c\u22c5d\u22c5   (      \n",
        "                           \u2571                                        x\u22c5(y\u22c5x)   \n",
        "                          \u2571                                               (x\u22c5y\n",
        "                          \u203e\u203e\u203e\u203e                                                \n",
        "                         q = 0                                                \n",
        "\n",
        "              k - 1                         k - 2                             \n",
        "               ____                          ____                             \n",
        "               \u2572                             \u2572                                \n",
        "                \u2572         (     q             \u2572           (     q + 1         \n",
        "                 \u2572  (x\u22c5y) \u2297       k - q        \u2572  (x\u22c5y)     \u2297       k - q - 1 \n",
        " k - 1    + c\u22c5   \u2571     y\u22c5(x\u22c5y)     )    + c\u22c5   \u2571       y\u22c5(x\u22c5y)         )      \n",
        "  \u2297     k       \u2571                             \u2571                               \n",
        ") )            \u2571                             \u2571                                \n",
        "               \u203e\u203e\u203e\u203e                          \u203e\u203e\u203e\u203e                             \n",
        "              q = 0                         q = 0                             \n",
        "\n",
        "    k - 1                         k - 2                                       \n",
        "     ____                          ____                                       \n",
        "     \u2572                             \u2572                                          \n",
        "      \u2572        (       q            \u2572          (       q + 1                  \n",
        "       \u2572  y\u22c5(x\u22c5y) \u2297     k - q        \u2572  y\u22c5(x\u22c5y)     \u2297     k - q - 1           \n",
        "+ c\u22c5   \u2571      (y\u22c5x)     )     + c\u22c5   \u2571        (y\u22c5x)         )       + c\u22c5(y\u2297   \n",
        "      \u2571                             \u2571                                    (x\u22c5y)\n",
        "     \u2571                             \u2571                                          \n",
        "     \u203e\u203e\u203e\u203e                          \u203e\u203e\u203e\u203e                                       \n",
        "    q = 0                         q = 0                                       \n",
        "\n",
        "   \n",
        "   \n",
        "   \n",
        "   \n",
        "   \n",
        "  k\n",
        " ) \n",
        "   \n",
        "   \n",
        "   "
       ]
      }
     ],
     "prompt_number": 12
    },
    {
     "cell_type": "code",
     "collapsed": false,
     "input": [
      "mysimplify(top_rhs0 + C * (Y + d*lbda) + D * (Phi1 + c*lbda))"
     ],
     "language": "python",
     "metadata": {
      "scrolled": true
     },
     "outputs": [
      {
       "output_type": "stream",
       "stream": "stderr",
       "text": [
        "/usr/lib/python3/dist-packages/IPython/core/formatters.py:239: FormatterWarning: Exception in image/png formatter: \n",
        "c^{3} \\sum_{q=0}^{k - 1} \\left( \n",
        "                                ^\n",
        "Expected \"\\right\" (at char 32), (line:1, col:33)\n",
        "  FormatterWarning,\n"
       ]
      },
      {
       "latex": [
        "$$c^{3} \\sum_{q=0}^{k - 1} \\left( \\left(x y\\right)^{k} \\left(y x\\right)^{q} \\otimes \\left(x y\\right)^{k - q} \\right) + c^{3} \\left( \\left(x y\\right)^{k} \\otimes \\left(x y\\right)^{k} \\right) + c^{2} d \\sum_{q=0}^{k - 1} \\left( \\left(x y\\right)^{k} \\left(y x\\right)^{q} \\otimes x \\left(y x\\right)^{2 k - q - 2} \\right) + c^{2} \\sum_{q=0}^{k - 1} \\left( \\left(x y\\right)^{k} \\left(y x\\right)^{q} \\otimes \\left(x y\\right)^{k - q - 1} y \\right) + c^{2} \\sum_{q=0}^{k - 1} \\left( y \\left(x y\\right)^{k - 1} \\left(y x\\right)^{q} \\otimes \\left(x y\\right)^{k - q} \\right) + c^{2} \\left( y \\left(x y\\right)^{k - 1} \\otimes \\left(x y\\right)^{k} \\right) + d \\sum_{q=0}^{k - 1} \\left( x \\left(y x\\right)^{q} \\otimes x \\left(y x\\right)^{2 k - q - 2} \\right) + d \\sum_{q=0}^{k - 1} \\left( x \\left(y x\\right)^{k + q - 1} \\otimes x \\left(y x\\right)^{k - q - 1} \\right) + \\sum_{q=0}^{k - 1} \\left( x \\left(y x\\right)^{q} \\otimes \\left(x y\\right)^{k - q - 1} y \\right) + \\sum_{q=0}^{k - 1} \\left( \\left(y x\\right)^{q} \\otimes \\left(x y\\right)^{k - q} \\right) + \\sum_{q=0}^{k - 1} \\left( \\left(y x\\right)^{q + 1} \\otimes \\left(x y\\right)^{k - q - 1} \\right) + \\sum_{q=0}^{k - 1} \\left( y \\left(y x\\right)^{q} \\otimes x \\left(y x\\right)^{k - q - 1} \\right) + \\left( 1 \\otimes \\left(x y\\right)^{k} \\right) + \\left( y \\otimes x \\left(y x\\right)^{k - 1} \\right) + \\left( \\left(x y\\right)^{k} \\otimes 1 \\right) + \\left( x \\left(y x\\right)^{k - 1} \\otimes y \\right)$$"
       ],
       "metadata": {},
       "output_type": "pyout",
       "prompt_number": 13,
       "text": [
        "   k - 1                                                    k - 1             \n",
        "    ____                                                     ____             \n",
        "    \u2572                                                        \u2572                \n",
        "     \u2572        (     k      q                                  \u2572            (  \n",
        " 3    \u2572  (x\u22c5y) \u22c5(y\u22c5x) \u2297     k - q    3                  2      \u2572  (x\u22c5y) \u22c5(y\u22c5x)\n",
        "c \u22c5   \u2571        (x\u22c5y)     )        + c \u22c5   (     k    + c \u22c5d\u22c5   \u2571        x\u22c5(y\u22c5x\n",
        "     \u2571                                 (x\u22c5y) \u2297     k          \u2571               \n",
        "    \u2571                                     (x\u22c5y) )            \u2571                \n",
        "    \u203e\u203e\u203e\u203e                                                     \u203e\u203e\u203e\u203e             \n",
        "   q = 0                                                    q = 0             \n",
        "\n",
        "                          k - 1                                     k - 1     \n",
        "                           ____                                      ____     \n",
        "                           \u2572                                         \u2572        \n",
        "   k      q                 \u2572           (     k      q                \u2572       \n",
        " \u2297       2\u22c5k - q - 2    2    \u2572  (x\u22c5y) \u22c5(y\u22c5x) \u2297     k - q - 1      2    \u2572  y\u22c5(x\n",
        ")           )        + c \u22c5   \u2571        (x\u22c5y)         \u22c5y)        + c \u22c5   \u2571      \n",
        "                            \u2571                                         \u2571       \n",
        "                           \u2571                                         \u2571        \n",
        "                           \u203e\u203e\u203e\u203e                                      \u203e\u203e\u203e\u203e     \n",
        "                          q = 0                                     q = 0     \n",
        "\n",
        "                                                        k - 1                 \n",
        "                                                         ____                 \n",
        "                                                         \u2572                    \n",
        " (       k - 1      q                                     \u2572            (      \n",
        "\u22c5y)     \u22c5(y\u22c5x) \u2297     k - q    2                            \u2572  x\u22c5(y\u22c5x) \u2297       \n",
        "     (x\u22c5y)     )           + c \u22c5   (       k - 1    + d\u22c5   \u2571      x\u22c5(y\u22c5x)     \n",
        "                                y\u22c5(x\u22c5y)     \u2297     k       \u2571                   \n",
        "                                      (x\u22c5y) )            \u2571                    \n",
        "                                                         \u203e\u203e\u203e\u203e                 \n",
        "                                                        q = 0                 \n",
        "\n",
        "                k - 1                                     k - 1               \n",
        "                 ____                                      ____               \n",
        "                 \u2572                                         \u2572                  \n",
        " q                \u2572           (       k + q - 1             \u2572           (     \n",
        "2\u22c5k - q - 2        \u2572  x\u22c5(y\u22c5x)         \u2297       k - q - 1      \u2572  x\u22c5(y\u22c5x) \u2297     \n",
        "      )     + d\u22c5   \u2571          x\u22c5(y\u22c5x)         )         +    \u2571      (x\u22c5y)     \n",
        "                  \u2571                                         \u2571                 \n",
        "                 \u2571                                         \u2571                  \n",
        "                 \u203e\u203e\u203e\u203e                                      \u203e\u203e\u203e\u203e               \n",
        "                q = 0                                     q = 0               \n",
        "\n",
        "              k - 1                     k - 1                             k - \n",
        "               ____                      ____                              ___\n",
        "               \u2572                         \u2572                                 \u2572  \n",
        "  q             \u2572        (     q          \u2572          (     q + 1            \u2572 \n",
        "k - q - 1        \u2572  (y\u22c5x) \u2297     k - q      \u2572  (y\u22c5x)     \u2297     k - q - 1      \u2572\n",
        "    \u22c5y)     +    \u2571     (x\u22c5y)     )    +    \u2571       (x\u22c5y)         )      +    \u2571\n",
        "                \u2571                         \u2571                                 \u2571 \n",
        "               \u2571                         \u2571                                 \u2571  \n",
        "               \u203e\u203e\u203e\u203e                      \u203e\u203e\u203e\u203e                              \u203e\u203e\u203e\n",
        "              q = 0                     q = 0                             q = \n",
        "\n",
        "1                                                                             \n",
        "_                                                                             \n",
        "                                                                              \n",
        "          (       q                                                           \n",
        "  y\u22c5(y\u22c5x) \u2297       k - q - 1                                                   \n",
        "      x\u22c5(y\u22c5x)         )     + (1\u2297     k + (y\u2297       k - 1 +  (     k  +  (    \n",
        "                               (x\u22c5y) )     x\u22c5(y\u22c5x)     )    (x\u22c5y) \u22971)   x\u22c5(y\u22c5x\n",
        "                                                                              \n",
        "\u203e                                                                             \n",
        "0                                                                             \n",
        "\n",
        "         \n",
        "         \n",
        "         \n",
        "         \n",
        "         \n",
        "   k - 1 \n",
        ")     \u2297y)\n",
        "         \n",
        "         \n",
        "         "
       ]
      }
     ],
     "prompt_number": 13
    },
    {
     "cell_type": "code",
     "collapsed": false,
     "input": [
      "mysimplify(bot_rhs0 + C * d * mu + D * (Phi2 + c*mu))"
     ],
     "language": "python",
     "metadata": {
      "scrolled": true
     },
     "outputs": [
      {
       "output_type": "stream",
       "stream": "stderr",
       "text": [
        "/usr/lib/python3/dist-packages/IPython/core/formatters.py:239: FormatterWarning: Exception in image/png formatter: \n",
        "c^{3} d \\sum_{q=0}^{k - 1} \\left( \n",
        "                                  ^\n",
        "Expected \"\\right\" (at char 34), (line:1, col:35)\n",
        "  FormatterWarning,\n"
       ]
      },
      {
       "latex": [
        "$$c^{3} d \\sum_{q=0}^{k - 1} \\left( x \\left(y x\\right)^{k - 1} \\left(x y\\right)^{q} \\otimes y \\left(x y\\right)^{2 k - q - 1} \\right) + c^{2} d \\sum_{q=0}^{k - 1} \\left( y \\left(x y\\right)^{k + q - 1} \\otimes \\left(y x\\right)^{2 k - q - 1} \\right) + c d \\sum_{q=0}^{k - 1} \\left( x \\left(y x\\right)^{k - 1} \\left(x y\\right)^{q} \\otimes \\left(y x\\right)^{k - q} \\right) + c d \\left( x \\left(y x\\right)^{k - 1} \\otimes \\left(x y\\right)^{k} \\right) + c \\sum_{q=0}^{k - 1} \\left( \\left(x y\\right)^{q} \\otimes y \\left(x y\\right)^{k - q} \\right) + c \\sum_{q=0}^{k - 2} \\left( \\left(x y\\right)^{q + 1} \\otimes y \\left(x y\\right)^{k - q - 1} \\right) + c \\sum_{q=0}^{k - 1} \\left( y \\left(x y\\right)^{q} \\otimes \\left(y x\\right)^{k - q} \\right) + c \\sum_{q=0}^{k - 2} \\left( y \\left(x y\\right)^{q + 1} \\otimes \\left(y x\\right)^{k - q - 1} \\right) + c \\left( y \\otimes \\left(x y\\right)^{k} \\right) + d \\sum_{q=0}^{k - 1} \\left( \\left(x y\\right)^{q} \\otimes \\left(y x\\right)^{2 k - q - 1} \\right) + d \\sum_{q=0}^{k - 1} \\left( x \\left(y x\\right)^{k - 1} \\left(x y\\right)^{q} \\otimes y \\left(x y\\right)^{k - q - 1} \\right) + d \\left( \\left(x y\\right)^{k - 1} \\otimes \\left(x y\\right)^{k} \\right) + d \\left( x \\left(y x\\right)^{k - 1} \\otimes y \\left(x y\\right)^{k - 1} \\right) + \\sum_{q=0}^{k - 2} \\left( y \\left(x y\\right)^{q} \\otimes y \\left(x y\\right)^{k - q - 1} \\right) + \\sum_{q=0}^{k - 2} \\left( y \\left(x y\\right)^{q + 1} \\otimes y \\left(x y\\right)^{k - q - 2} \\right) + \\left( y \\otimes y \\left(x y\\right)^{k - 1} \\right) + \\left( y \\left(x y\\right)^{k - 1} \\otimes y \\right)$$"
       ],
       "metadata": {},
       "output_type": "pyout",
       "prompt_number": 14,
       "text": [
        "     k - 1                                               k - 1                \n",
        "      ____                                                ____                \n",
        "      \u2572                                                   \u2572                   \n",
        "       \u2572            (       k - 1      q                   \u2572           (      \n",
        " 3      \u2572  x\u22c5(y\u22c5x)     \u22c5(x\u22c5y) \u2297       2\u22c5k - q - 1    2      \u2572  y\u22c5(x\u22c5y)        \n",
        "c \u22c5d\u22c5   \u2571           y\u22c5(x\u22c5y)           )           + c \u22c5d\u22c5   \u2571          (y\u22c5x)  \n",
        "       \u2571                                                   \u2571                  \n",
        "      \u2571                                                   \u2571                   \n",
        "      \u203e\u203e\u203e\u203e                                                \u203e\u203e\u203e\u203e                \n",
        "     q = 0                                               q = 0                \n",
        "\n",
        "                         k - 1                                                \n",
        "                          ____                                                \n",
        "                          \u2572                                                   \n",
        " k + q - 1                 \u2572        (       k - 1      q                      \n",
        " \u2297     2\u22c5k - q - 1          \u2572  x\u22c5(y\u22c5x)     \u22c5(x\u22c5y) \u2297     k - q                 \n",
        "         )         + c\u22c5d\u22c5   \u2571           (y\u22c5x)     )           + c\u22c5d\u22c5   (      \n",
        "                           \u2571                                        x\u22c5(y\u22c5x)   \n",
        "                          \u2571                                               (x\u22c5y\n",
        "                          \u203e\u203e\u203e\u203e                                                \n",
        "                         q = 0                                                \n",
        "\n",
        "              k - 1                         k - 2                             \n",
        "               ____                          ____                             \n",
        "               \u2572                             \u2572                                \n",
        "                \u2572         (     q             \u2572           (     q + 1         \n",
        "                 \u2572  (x\u22c5y) \u2297       k - q        \u2572  (x\u22c5y)     \u2297       k - q - 1 \n",
        " k - 1    + c\u22c5   \u2571     y\u22c5(x\u22c5y)     )    + c\u22c5   \u2571       y\u22c5(x\u22c5y)         )      \n",
        "  \u2297     k       \u2571                             \u2571                               \n",
        ") )            \u2571                             \u2571                                \n",
        "               \u203e\u203e\u203e\u203e                          \u203e\u203e\u203e\u203e                             \n",
        "              q = 0                         q = 0                             \n",
        "\n",
        "    k - 1                         k - 2                                       \n",
        "     ____                          ____                                       \n",
        "     \u2572                             \u2572                                          \n",
        "      \u2572        (       q            \u2572          (       q + 1                  \n",
        "       \u2572  y\u22c5(x\u22c5y) \u2297     k - q        \u2572  y\u22c5(x\u22c5y)     \u2297     k - q - 1           \n",
        "+ c\u22c5   \u2571      (y\u22c5x)     )     + c\u22c5   \u2571        (y\u22c5x)         )       + c\u22c5(y\u2297   \n",
        "      \u2571                             \u2571                                    (x\u22c5y)\n",
        "     \u2571                             \u2571                                          \n",
        "     \u203e\u203e\u203e\u203e                          \u203e\u203e\u203e\u203e                                       \n",
        "    q = 0                         q = 0                                       \n",
        "\n",
        "        k - 1                             k - 1                               \n",
        "         ____                              ____                               \n",
        "         \u2572                                 \u2572                                  \n",
        "          \u2572           (     q               \u2572           (       k - 1      q  \n",
        "           \u2572  (x\u22c5y) \u2297     2\u22c5k - q - 1        \u2572  x\u22c5(y\u22c5x)     \u22c5(x\u22c5y) \u2297       k -\n",
        "  k + d\u22c5   \u2571     (y\u22c5x)           )    + d\u22c5   \u2571           y\u22c5(x\u22c5y)         )    \n",
        " )        \u2571                                 \u2571                                 \n",
        "         \u2571                                 \u2571                                  \n",
        "         \u203e\u203e\u203e\u203e                              \u203e\u203e\u203e\u203e                               \n",
        "        q = 0                             q = 0                               \n",
        "\n",
        "                                                             k - 2            \n",
        "                                                              ____            \n",
        "                                                              \u2572               \n",
        "                                                               \u2572           (  \n",
        " q - 1                                                          \u2572  y\u22c5(x\u22c5y) \u2297  \n",
        "       + d\u22c5   (     k - 1    + d\u22c5      (       k - 1       +    \u2571      y\u22c5(x\u22c5y)\n",
        "           (x\u22c5y)     \u2297     k     x\u22c5(y\u22c5x)     \u2297       k - 1     \u2571              \n",
        "                (x\u22c5y) )                y\u22c5(x\u22c5y)     )          \u2571               \n",
        "                                                              \u203e\u203e\u203e\u203e            \n",
        "                                                             q = 0            \n",
        "\n",
        "                 k - 2                                                        \n",
        "                  ____                                                        \n",
        "                  \u2572                                                           \n",
        "     q             \u2572           (       q + 1                                  \n",
        "     k - q - 1      \u2572  y\u22c5(x\u22c5y)     \u2297       k - q - 2                          \n",
        "         )     +    \u2571        y\u22c5(x\u22c5y)         )       + (y\u2297       k - 1 +  (   \n",
        "                   \u2571                                    y\u22c5(x\u22c5y)     )    y\u22c5(x\u22c5\n",
        "                  \u2571                                                           \n",
        "                  \u203e\u203e\u203e\u203e                                                        \n",
        "                 q = 0                                                        \n",
        "\n",
        "          \n",
        "          \n",
        "          \n",
        "          \n",
        "          \n",
        "    k - 1 \n",
        "y)     \u2297y)\n",
        "          \n",
        "          \n",
        "          "
       ]
      }
     ],
     "prompt_number": 14
    },
    {
     "cell_type": "markdown",
     "metadata": {},
     "source": [
      "$\\Huge (d_3)_{*1}$"
     ]
    },
    {
     "cell_type": "code",
     "collapsed": false,
     "input": [
      "bot_rhs0 = mysimplify(Y * B)\n",
      "bot_rhs0"
     ],
     "language": "python",
     "metadata": {},
     "outputs": [
      {
       "output_type": "stream",
       "stream": "stderr",
       "text": [
        "WARNING: fix_misc found TP*TP in a Mul: TP(x, (x*y)**k) and TP(1, x)\n",
        "WARNING: fix_misc found TP*TP in a Mul: TP(x, (x*y)**k) and TP(x, 1)\n",
        "/usr/lib/python3/dist-packages/IPython/core/formatters.py:239: FormatterWarning: Exception in image/png formatter: \n",
        "c^{2} d^{2} \\left( \n",
        "                   ^\n",
        "Expected \"\\right\" (at char 19), (line:1, col:20)\n",
        "  FormatterWarning,\n"
       ]
      },
      {
       "latex": [
        "$$c^{2} d^{2} \\left( \\left(x y\\right)^{k} \\otimes \\left(x y\\right)^{k} \\right) + c d^{2} \\left( y \\left(x y\\right)^{k - 1} \\otimes \\left(x y\\right)^{k} \\right) + c d \\left( y x \\otimes x y \\right) + d^{2} \\left( x \\otimes \\left(x y\\right)^{k} \\right) + d \\left( y \\otimes x y \\right) + d \\left( y x \\otimes y \\right)$$"
       ],
       "metadata": {},
       "output_type": "pyout",
       "prompt_number": 15,
       "text": [
        " 2  2                    2                                        2           \n",
        "c \u22c5d \u22c5   (     k    + c\u22c5d \u22c5   (       k - 1    + c\u22c5d\u22c5(y\u22c5x\u2297x\u22c5y) + d \u22c5(x\u2297     k \n",
        "      (x\u22c5y) \u2297     k        y\u22c5(x\u22c5y)     \u2297     k                       (x\u22c5y) )  \n",
        "         (x\u22c5y) )                 (x\u22c5y) )                                      \n",
        "\n",
        "                       \n",
        "+ d\u22c5(y\u2297x\u22c5y) + d\u22c5(y\u22c5x\u2297y)\n",
        "                       \n",
        "                       "
       ]
      }
     ],
     "prompt_number": 15
    },
    {
     "cell_type": "code",
     "collapsed": false,
     "input": [
      "top_rhs0 = mysimplify(Y * (Y + A))\n",
      "top_rhs0"
     ],
     "language": "python",
     "metadata": {},
     "outputs": [
      {
       "output_type": "stream",
       "stream": "stderr",
       "text": [
        "/usr/lib/python3/dist-packages/IPython/core/formatters.py:239: FormatterWarning: Exception in image/png formatter: \n",
        "c^{3} d \\left( \n",
        "               ^\n",
        "Expected \"\\right\" (at char 15), (line:1, col:16)\n",
        "  FormatterWarning,\n"
       ]
      },
      {
       "latex": [
        "$$c^{3} d \\left( \\left(x y\\right)^{k} \\otimes \\left(x y\\right)^{k} \\right) + d \\left( 1 \\otimes \\left(x y\\right)^{k} \\right) + d \\left( \\left(x y\\right)^{k} \\otimes 1 \\right)$$"
       ],
       "metadata": {},
       "output_type": "pyout",
       "prompt_number": 16,
       "text": [
        " 3                                            \n",
        "c \u22c5d\u22c5   (     k    + d\u22c5(1\u2297     k + d\u22c5 (     k \n",
        "     (x\u22c5y) \u2297     k      (x\u22c5y) )      (x\u22c5y) \u22971)\n",
        "        (x\u22c5y) )                               "
       ]
      }
     ],
     "prompt_number": 16
    },
    {
     "cell_type": "code",
     "collapsed": false,
     "input": [
      "mysimplify(bot_rhs0 + E * B + F * (tau + D))"
     ],
     "language": "python",
     "metadata": {},
     "outputs": [
      {
       "latex": [
        "$$0$$"
       ],
       "metadata": {},
       "output_type": "pyout",
       "png": "[encoded data removed]",
       "prompt_number": 17,
       "text": [
        "0"
       ]
      }
     ],
     "prompt_number": 17
    },
    {
     "cell_type": "code",
     "collapsed": false,
     "input": [
      "mysimplify(top_rhs0 + E * (Y + A) + F * (rho + C))"
     ],
     "language": "python",
     "metadata": {},
     "outputs": [
      {
       "latex": [
        "$$0$$"
       ],
       "metadata": {},
       "output_type": "pyout",
       "png": "[encoded data removed]",
       "prompt_number": 18,
       "text": [
        "0"
       ]
      }
     ],
     "prompt_number": 18
    },
    {
     "cell_type": "markdown",
     "metadata": {},
     "source": [
      "$\\Huge (d_3)_{*2}$"
     ]
    },
    {
     "cell_type": "code",
     "collapsed": false,
     "input": [
      "bot_rhs0 = mysimplify(rho * B + Y * (tau + D))\n",
      "bot_rhs0"
     ],
     "language": "python",
     "metadata": {},
     "outputs": [
      {
       "latex": [
        "$$0$$"
       ],
       "metadata": {},
       "output_type": "pyout",
       "png": "[encoded data removed]",
       "prompt_number": 19,
       "text": [
        "0"
       ]
      }
     ],
     "prompt_number": 19
    },
    {
     "cell_type": "code",
     "collapsed": false,
     "input": [
      "top_rhs0 = mysimplify(rho * (Y + A) + Y * (rho + C))\n",
      "top_rhs0"
     ],
     "language": "python",
     "metadata": {},
     "outputs": [
      {
       "output_type": "stream",
       "stream": "stderr",
       "text": [
        "/usr/lib/python3/dist-packages/IPython/core/formatters.py:239: FormatterWarning: Exception in image/png formatter: \n",
        "c^{3} \\left( \n",
        "             ^\n",
        "Expected \"\\right\" (at char 13), (line:1, col:14)\n",
        "  FormatterWarning,\n"
       ]
      },
      {
       "latex": [
        "$$c^{3} \\left( \\left(x y\\right)^{k} \\otimes \\left(x y\\right)^{k} \\right) + c^{2} \\left( y \\left(x y\\right)^{k - 1} \\otimes \\left(x y\\right)^{k} \\right)$$"
       ],
       "metadata": {},
       "output_type": "pyout",
       "prompt_number": 20,
       "text": [
        " 3                  2                    \n",
        "c \u22c5   (     k    + c \u22c5   (       k - 1   \n",
        "   (x\u22c5y) \u2297     k      y\u22c5(x\u22c5y)     \u2297     k\n",
        "      (x\u22c5y) )               (x\u22c5y) )      "
       ]
      }
     ],
     "prompt_number": 20
    },
    {
     "cell_type": "code",
     "collapsed": false,
     "input": [
      "mysimplify(bot_rhs0 + G * B + H * (tau + D))"
     ],
     "language": "python",
     "metadata": {},
     "outputs": [
      {
       "latex": [
        "$$0$$"
       ],
       "metadata": {},
       "output_type": "pyout",
       "png": "[encoded data removed]",
       "prompt_number": 21,
       "text": [
        "0"
       ]
      }
     ],
     "prompt_number": 21
    },
    {
     "cell_type": "code",
     "collapsed": false,
     "input": [
      "mysimplify(top_rhs0 + G * (Y + A) + H * (rho + C))"
     ],
     "language": "python",
     "metadata": {},
     "outputs": [
      {
       "latex": [
        "$$0$$"
       ],
       "metadata": {},
       "output_type": "pyout",
       "png": "[encoded data removed]",
       "prompt_number": 22,
       "text": [
        "0"
       ]
      }
     ],
     "prompt_number": 22
    },
    {
     "cell_type": "markdown",
     "metadata": {},
     "source": [
      "$\\Huge (d_3)_{*3}$"
     ]
    },
    {
     "cell_type": "code",
     "collapsed": false,
     "input": [
      "top_rhs0 = mysimplify(sigma * (rho + C))\n",
      "top_rhs0"
     ],
     "language": "python",
     "metadata": {},
     "outputs": [
      {
       "output_type": "stream",
       "stream": "stderr",
       "text": [
        "/usr/lib/python3/dist-packages/IPython/core/formatters.py:239: FormatterWarning: Exception in image/png formatter: \n",
        "c^{3} \\sum_{q=0}^{k - 1} \\left( \n",
        "                                ^\n",
        "Expected \"\\right\" (at char 32), (line:1, col:33)\n",
        "  FormatterWarning,\n"
       ]
      },
      {
       "latex": [
        "$$c^{3} \\sum_{q=0}^{k - 1} \\left( x \\left(y x\\right)^{q} x \\left(y x\\right)^{k - 1} \\otimes \\left(x y\\right)^{2 k - q - 1} \\right) + \\sum_{q=0}^{k - 1} \\left( x \\left(y x\\right)^{q} \\otimes x \\left(y x\\right)^{k - 1} \\left(x y\\right)^{k - q - 1} \\right) + \\sum_{q=0}^{k - 1} \\left( \\left(y x\\right)^{q} x \\left(y x\\right)^{k - 1} \\otimes x \\left(y x\\right)^{k - q - 1} \\right) + \\sum_{q=0}^{k - 1} \\left( x \\left(y x\\right)^{q} x \\left(y x\\right)^{k - 1} \\otimes \\left(x y\\right)^{k - q - 1} \\right)$$"
       ],
       "metadata": {},
       "output_type": "pyout",
       "prompt_number": 23,
       "text": [
        "   k - 1                                          k - 1                       \n",
        "    ____                                           ____                       \n",
        "    \u2572                                              \u2572                          \n",
        "     \u2572           (       q        k - 1             \u2572                (       q\n",
        " 3    \u2572  x\u22c5(y\u22c5x) \u22c5x\u22c5(y\u22c5x)     \u2297     2\u22c5k - q - 1      \u2572  x\u22c5(y\u22c5x) \u2297       k - 1 \n",
        "c \u22c5   \u2571            (x\u22c5y)           )            +    \u2571      x\u22c5(y\u22c5x)     \u22c5(x\u22c5y)\n",
        "     \u2571                                              \u2571                         \n",
        "    \u2571                                              \u2571                          \n",
        "    \u203e\u203e\u203e\u203e                                           \u203e\u203e\u203e\u203e                       \n",
        "   q = 0                                          q = 0                       \n",
        "\n",
        "                 k - 1                                        k - 1           \n",
        "                  ____                                         ____           \n",
        "                  \u2572                                            \u2572              \n",
        "                   \u2572           (     q        k - 1             \u2572          (  \n",
        "     k - q - 1      \u2572  (y\u22c5x) \u22c5x\u22c5(y\u22c5x)     \u2297       k - q - 1      \u2572  x\u22c5(y\u22c5x) \u22c5x\n",
        "         )     +    \u2571           x\u22c5(y\u22c5x)         )           +    \u2571            \n",
        "                   \u2571                                            \u2571             \n",
        "                  \u2571                                            \u2571              \n",
        "                  \u203e\u203e\u203e\u203e                                         \u203e\u203e\u203e\u203e           \n",
        "                 q = 0                                        q = 0           \n",
        "\n",
        "                          \n",
        "                          \n",
        "                          \n",
        "     q        k - 1       \n",
        "\u22c5(y\u22c5x)     \u2297     k - q - 1\n",
        "(x\u22c5y)         )           \n",
        "                          \n",
        "                          \n",
        "                          \n",
        "                          "
       ]
      }
     ],
     "prompt_number": 23
    },
    {
     "cell_type": "code",
     "collapsed": false,
     "input": [
      "bot_rhs0 = mysimplify(sigma * (tau + D))\n",
      "bot_rhs0"
     ],
     "language": "python",
     "metadata": {},
     "outputs": [
      {
       "output_type": "stream",
       "stream": "stderr",
       "text": [
        "/usr/lib/python3/dist-packages/IPython/core/formatters.py:239: FormatterWarning: Exception in image/png formatter: \n",
        "c^{2} \\sum_{q=0}^{k - 1} \\left( \n",
        "                                ^\n",
        "Expected \"\\right\" (at char 32), (line:1, col:33)\n",
        "  FormatterWarning,\n"
       ]
      },
      {
       "latex": [
        "$$c^{2} \\sum_{q=0}^{k - 1} \\left( x \\left(y x\\right)^{q} \\left(x y\\right)^{k} \\otimes y \\left(x y\\right)^{k - q - 1} \\right) + c \\sum_{q=0}^{k - 1} \\left( \\left(y x\\right)^{q + 1} \\otimes y \\left(x y\\right)^{k - 1} \\left(y x\\right)^{k - q - 1} \\right) + c \\sum_{q=0}^{k - 1} \\left( y \\left(x y\\right)^{k + q - 1} \\otimes \\left(y x\\right)^{k - q} \\right) + c \\sum_{q=0}^{k - 1} \\left( \\left(y x\\right)^{q} x \\otimes x \\left(y x\\right)^{k - q} \\right) + c \\sum_{q=0}^{k - 1} \\left( x \\left(y x\\right)^{q} x \\otimes \\left(x y\\right)^{k - q} \\right) + c \\left( \\left(x y\\right)^{k} \\otimes y \\left(x y\\right)^{k - 1} \\right) + c \\left( y \\left(x y\\right)^{k - 1} \\otimes \\left(x y\\right)^{k} \\right) + d \\sum_{q=0}^{k - 1} \\left( \\left(y x\\right)^{q} x \\left(y x\\right)^{k - 1} \\otimes y \\left(x y\\right)^{k - 1} \\left(y x\\right)^{k - q - 1} \\right) + \\sum_{q=0}^{k - 1} \\left( x \\left(y x\\right)^{q} \\otimes \\left(x y\\right)^{k - q} \\right) + \\sum_{q=0}^{k - 1} \\left( x \\left(y x\\right)^{q + 1} \\otimes \\left(x y\\right)^{k - q - 1} \\right) + \\sum_{q=0}^{k - 1} \\left( \\left(y x\\right)^{q} \\otimes x \\left(y x\\right)^{k - q} \\right) + \\sum_{q=0}^{k - 1} \\left( \\left(y x\\right)^{q + 1} \\otimes x \\left(y x\\right)^{k - q - 1} \\right) + \\sum_{q=0}^{k - 1} \\left( y \\left(x y\\right)^{q} \\otimes y \\left(x y\\right)^{k - 1} \\left(y x\\right)^{k - q - 1} \\right) + \\sum_{q=0}^{k - 1} \\left( \\left(y x\\right)^{q} x \\otimes \\left(y x\\right)^{k - q} \\right) + \\sum_{q=0}^{k - 1} \\left( x \\left(y x\\right)^{q} x \\otimes y \\left(x y\\right)^{k - q - 1} \\right) + \\left( \\left(x y\\right)^{k} \\otimes x \\right)$$"
       ],
       "metadata": {},
       "output_type": "pyout",
       "prompt_number": 24,
       "text": [
        "   k - 1                                      k - 1                           \n",
        "    ____                                       ____                           \n",
        "    \u2572                                          \u2572                              \n",
        "     \u2572           (       q      k               \u2572                (     q + 1  \n",
        " 2    \u2572  x\u22c5(y\u22c5x) \u22c5(x\u22c5y) \u2297       k - q - 1        \u2572  (y\u22c5x)     \u2297       k - 1   \n",
        "c \u22c5   \u2571         y\u22c5(x\u22c5y)         )         + c\u22c5   \u2571       y\u22c5(x\u22c5y)     \u22c5(y\u22c5x)   \n",
        "     \u2571                                          \u2571                             \n",
        "    \u2571                                          \u2571                              \n",
        "    \u203e\u203e\u203e\u203e                                       \u203e\u203e\u203e\u203e                           \n",
        "   q = 0                                      q = 0                           \n",
        "\n",
        "                 k - 1                                 k - 1                  \n",
        "                  ____                                  ____                  \n",
        "                  \u2572                                     \u2572                     \n",
        "                   \u2572        (       k + q - 1            \u2572         (     q    \n",
        "   k - q - 1        \u2572  y\u22c5(x\u22c5y)         \u2297     k - q        \u2572  (y\u22c5x) \u22c5x\u2297       k\n",
        "      )      + c\u22c5   \u2571          (y\u22c5x)     )         + c\u22c5   \u2571      x\u22c5(y\u22c5x)     )\n",
        "                   \u2571                                     \u2571                    \n",
        "                  \u2571                                     \u2571                     \n",
        "                  \u203e\u203e\u203e\u203e                                  \u203e\u203e\u203e\u203e                  \n",
        "                 q = 0                                 q = 0                  \n",
        "\n",
        "         k - 1                                                                \n",
        "          ____                                                                \n",
        "          \u2572                                                                   \n",
        "           \u2572        (       q                                                 \n",
        " - q        \u2572  x\u22c5(y\u22c5x) \u22c5x\u2297     k - q                                          \n",
        "     + c\u22c5   \u2571       (x\u22c5y)     )      + c\u22c5      (     k       + c\u22c5   (       k \n",
        "           \u2571                             (x\u22c5y) \u2297       k - 1     y\u22c5(x\u22c5y)     \u2297\n",
        "          \u2571                                 y\u22c5(x\u22c5y)     )              (x\u22c5y) )\n",
        "          \u203e\u203e\u203e\u203e                                                                \n",
        "         q = 0                                                                \n",
        "\n",
        "           k - 1                                                   k - 1      \n",
        "            ____                                                    ____      \n",
        "            \u2572                                                       \u2572         \n",
        "             \u2572                 (     q        k - 1                  \u2572        \n",
        "              \u2572  (y\u22c5x) \u22c5x\u22c5(y\u22c5x)     \u2297       k - 1      k - q - 1      \u2572  x\u22c5(y\u22c5\n",
        "- 1    + d\u22c5   \u2571            y\u22c5(x\u22c5y)     \u22c5(y\u22c5x)         )          +    \u2571      (\n",
        "     k       \u2571                                                       \u2571        \n",
        "            \u2571                                                       \u2571         \n",
        "            \u203e\u203e\u203e\u203e                                                    \u203e\u203e\u203e\u203e      \n",
        "           q = 0                                                   q = 0      \n",
        "\n",
        "                 k - 1                               k - 1                    \n",
        "                  ____                                ____                    \n",
        "                  \u2572                                   \u2572                       \n",
        "(       q          \u2572          (       q + 1            \u2572         (     q      \n",
        "x) \u2297     k - q      \u2572  x\u22c5(y\u22c5x)     \u2297     k - q - 1      \u2572  (y\u22c5x) \u2297       k - q\n",
        "x\u22c5y)     )     +    \u2571        (x\u22c5y)         )       +    \u2571     x\u22c5(y\u22c5x)     )   \n",
        "                   \u2571                                   \u2571                      \n",
        "                  \u2571                                   \u2571                       \n",
        "                  \u203e\u203e\u203e\u203e                                \u203e\u203e\u203e\u203e                    \n",
        "                 q = 0                               q = 0                    \n",
        "\n",
        "   k - 1                               k - 1                                  \n",
        "    ____                                ____                                  \n",
        "    \u2572                                   \u2572                                     \n",
        "     \u2572           (     q + 1             \u2572                (       q           \n",
        "      \u2572  (y\u22c5x)     \u2297       k - q - 1      \u2572  y\u22c5(x\u22c5y) \u2297       k - 1      k - q \n",
        " +    \u2571       x\u22c5(y\u22c5x)         )      +    \u2571      y\u22c5(x\u22c5y)     \u22c5(y\u22c5x)         ) \n",
        "     \u2571                                   \u2571                                    \n",
        "    \u2571                                   \u2571                                     \n",
        "    \u203e\u203e\u203e\u203e                                \u203e\u203e\u203e\u203e                                  \n",
        "   q = 0                               q = 0                                  \n",
        "\n",
        "      k - 1                       k - 1                                       \n",
        "       ____                        ____                                       \n",
        "       \u2572                           \u2572                                          \n",
        "        \u2572        (     q            \u2572           (       q                     \n",
        "- 1      \u2572  (y\u22c5x) \u22c5x\u2297     k - q      \u2572  x\u22c5(y\u22c5x) \u22c5x\u2297       k - q - 1           \n",
        "    +    \u2571      (y\u22c5x)     )     +    \u2571       y\u22c5(x\u22c5y)         )      +  (     k\n",
        "        \u2571                           \u2571                                 (x\u22c5y) \u2297x\n",
        "       \u2571                           \u2571                                          \n",
        "       \u203e\u203e\u203e\u203e                        \u203e\u203e\u203e\u203e                                       \n",
        "      q = 0                       q = 0                                       \n",
        "\n",
        " \n",
        " \n",
        " \n",
        " \n",
        " \n",
        " \n",
        ")\n",
        " \n",
        " \n",
        " "
       ]
      }
     ],
     "prompt_number": 24
    },
    {
     "cell_type": "code",
     "collapsed": false,
     "input": [
      "bot_rhs1 = mysimplify(c * TP(x**2, xy**k) + c * TP(xy**k, y*xy**(k-1)))\n",
      "bot_rhs1"
     ],
     "language": "python",
     "metadata": {},
     "outputs": [
      {
       "output_type": "stream",
       "stream": "stderr",
       "text": [
        "/usr/lib/python3/dist-packages/IPython/core/formatters.py:239: FormatterWarning: Exception in image/png formatter: \n",
        "c^{2} \\left( \n",
        "             ^\n",
        "Expected \"\\right\" (at char 13), (line:1, col:14)\n",
        "  FormatterWarning,\n"
       ]
      },
      {
       "latex": [
        "$$c^{2} \\left( \\left(x y\\right)^{k} \\otimes \\left(x y\\right)^{k} \\right) + c \\left( \\left(x y\\right)^{k} \\otimes y \\left(x y\\right)^{k - 1} \\right) + c \\left( y \\left(x y\\right)^{k - 1} \\otimes \\left(x y\\right)^{k} \\right)$$"
       ],
       "metadata": {},
       "output_type": "pyout",
       "prompt_number": 25,
       "text": [
        " 2                                                              \n",
        "c \u22c5   (     k    + c\u22c5      (     k       + c\u22c5   (       k - 1   \n",
        "   (x\u22c5y) \u2297     k     (x\u22c5y) \u2297       k - 1     y\u22c5(x\u22c5y)     \u2297     k\n",
        "      (x\u22c5y) )           y\u22c5(x\u22c5y)     )              (x\u22c5y) )      "
       ]
      }
     ],
     "prompt_number": 25
    },
    {
     "cell_type": "code",
     "collapsed": false,
     "input": [
      "mysimplify(bot_rhs1 + I * B + J * (tau + D))"
     ],
     "language": "python",
     "metadata": {},
     "outputs": [
      {
       "latex": [
        "$$0$$"
       ],
       "metadata": {},
       "output_type": "pyout",
       "png": "[encoded data removed]",
       "prompt_number": 26,
       "text": [
        "0"
       ]
      }
     ],
     "prompt_number": 26
    },
    {
     "cell_type": "code",
     "collapsed": false,
     "input": [
      "# top_rhs0 == 0\n",
      "mysimplify(0 + I * (Y + A) + J * (rho + C))"
     ],
     "language": "python",
     "metadata": {},
     "outputs": [
      {
       "latex": [
        "$$0$$"
       ],
       "metadata": {},
       "output_type": "pyout",
       "png": "[encoded data removed]",
       "prompt_number": 27,
       "text": [
        "0"
       ]
      }
     ],
     "prompt_number": 27
    },
    {
     "cell_type": "markdown",
     "metadata": {
      "collapsed": true
     },
     "source": [
      "$\\Huge (d_4)_{*1}$"
     ]
    },
    {
     "cell_type": "code",
     "collapsed": false,
     "input": [
      "top_rhs0 = mysimplify((Y + K) * (Y + E) + L * (rho + G) + M * 0)\n",
      "top_rhs0"
     ],
     "language": "python",
     "metadata": {},
     "outputs": [
      {
       "latex": [
        "$$0$$"
       ],
       "metadata": {},
       "output_type": "pyout",
       "png": "[encoded data removed]",
       "prompt_number": 28,
       "text": [
        "0"
       ]
      }
     ],
     "prompt_number": 28
    },
    {
     "cell_type": "code",
     "collapsed": false,
     "input": [
      "bot_rhs0 = mysimplify((Y + K) * F + L * Y + M * (sigma + J))\n",
      "bot_rhs0"
     ],
     "language": "python",
     "metadata": {},
     "outputs": [
      {
       "latex": [
        "$$0$$"
       ],
       "metadata": {},
       "output_type": "pyout",
       "png": "[encoded data removed]",
       "prompt_number": 29,
       "text": [
        "0"
       ]
      }
     ],
     "prompt_number": 29
    },
    {
     "cell_type": "markdown",
     "metadata": {},
     "source": [
      "$\\Huge (d_4)_{*2}$"
     ]
    },
    {
     "cell_type": "code",
     "collapsed": false,
     "input": [
      "top_rhs0 = mysimplify((rho + N) * (Y + E) + (Y + O) * (rho + G) + P * 0)\n",
      "top_rhs0"
     ],
     "language": "python",
     "metadata": {},
     "outputs": [
      {
       "latex": [
        "$$0$$"
       ],
       "metadata": {},
       "output_type": "pyout",
       "png": "[encoded data removed]",
       "prompt_number": 30,
       "text": [
        "0"
       ]
      }
     ],
     "prompt_number": 30
    },
    {
     "cell_type": "code",
     "collapsed": false,
     "input": [
      "bot_rhs0 = mysimplify((rho + N) * F + (Y + O) * Y + P * (sigma + J))\n",
      "bot_rhs0"
     ],
     "language": "python",
     "metadata": {},
     "outputs": [
      {
       "latex": [
        "$$0$$"
       ],
       "metadata": {},
       "output_type": "pyout",
       "png": "[encoded data removed]",
       "prompt_number": 31,
       "text": [
        "0"
       ]
      }
     ],
     "prompt_number": 31
    },
    {
     "cell_type": "markdown",
     "metadata": {},
     "source": [
      "$\\Huge (d_4)_{*3}$"
     ]
    },
    {
     "cell_type": "code",
     "collapsed": false,
     "input": [
      "top_rhs0 = mysimplify(Q * (Y + E) + (rho + R) * (rho + G) + (Y + S) * 0)\n",
      "top_rhs0"
     ],
     "language": "python",
     "metadata": {},
     "outputs": [
      {
       "latex": [
        "$$0$$"
       ],
       "metadata": {},
       "output_type": "pyout",
       "png": "[encoded data removed]",
       "prompt_number": 32,
       "text": [
        "0"
       ]
      }
     ],
     "prompt_number": 32
    },
    {
     "cell_type": "code",
     "collapsed": false,
     "input": [
      "bot_rhs0 = mysimplify(Q * F + (rho + R) * Y + (Y + S) * (sigma + J))\n",
      "bot_rhs0"
     ],
     "language": "python",
     "metadata": {},
     "outputs": [
      {
       "output_type": "stream",
       "stream": "stderr",
       "text": [
        "/usr/lib/python3/dist-packages/IPython/core/formatters.py:239: FormatterWarning: Exception in image/png formatter: \n",
        "\\sum_{q=0}^{k - 1} \\left( \n",
        "                          ^\n",
        "Expected \"\\right\" (at char 26), (line:1, col:27)\n",
        "  FormatterWarning,\n"
       ]
      },
      {
       "latex": [
        "$$\\sum_{q=0}^{k - 1} \\left( x \\left(y x\\right)^{q} \\otimes \\left(x y\\right)^{k - q - 1} y \\right) + \\sum_{q=0}^{k - 1} \\left( \\left(y x\\right)^{q} \\otimes \\left(x y\\right)^{k - q} \\right) + \\sum_{q=0}^{k - 1} \\left( \\left(y x\\right)^{q + 1} \\otimes \\left(x y\\right)^{k - q - 1} \\right) + \\sum_{q=0}^{k - 1} \\left( y \\left(y x\\right)^{q} \\otimes x \\left(y x\\right)^{k - q - 1} \\right) + \\left( 1 \\otimes \\left(x y\\right)^{k} \\right) + \\left( y \\otimes x \\left(y x\\right)^{k - 1} \\right) + \\left( \\left(x y\\right)^{k} \\otimes 1 \\right) + \\left( x \\left(y x\\right)^{k - 1} \\otimes y \\right)$$"
       ],
       "metadata": {},
       "output_type": "pyout",
       "prompt_number": 33,
       "text": [
        "k - 1                             k - 1                     k - 1             \n",
        " ____                              ____                      ____             \n",
        " \u2572                                 \u2572                         \u2572                \n",
        "  \u2572           (       q             \u2572        (     q          \u2572          (    \n",
        "   \u2572  x\u22c5(y\u22c5x) \u2297     k - q - 1        \u2572  (y\u22c5x) \u2297     k - q      \u2572  (y\u22c5x)     \u2297 \n",
        "   \u2571      (x\u22c5y)         \u22c5y)     +    \u2571     (x\u22c5y)     )    +    \u2571       (x\u22c5y)  \n",
        "  \u2571                                 \u2571                         \u2571               \n",
        " \u2571                                 \u2571                         \u2571                \n",
        " \u203e\u203e\u203e\u203e                              \u203e\u203e\u203e\u203e                      \u203e\u203e\u203e\u203e             \n",
        "q = 0                             q = 0                     q = 0             \n",
        "\n",
        "                k - 1                                                         \n",
        "                 ____                                                         \n",
        "                 \u2572                                                            \n",
        " q + 1            \u2572           (       q                                       \n",
        "    k - q - 1      \u2572  y\u22c5(y\u22c5x) \u2297       k - q - 1                               \n",
        "       )      +    \u2571      x\u22c5(y\u22c5x)         )     + (1\u2297     k + (y\u2297       k - 1 \n",
        "                  \u2571                                (x\u22c5y) )     x\u22c5(y\u22c5x)     )  \n",
        "                 \u2571                                                            \n",
        "                 \u203e\u203e\u203e\u203e                                                         \n",
        "                q = 0                                                         \n",
        "\n",
        "                             \n",
        "                             \n",
        "                             \n",
        "                             \n",
        "                             \n",
        "+  (     k  +  (       k - 1 \n",
        "  (x\u22c5y) \u22971)   x\u22c5(y\u22c5x)     \u2297y)\n",
        "                             \n",
        "                             \n",
        "                             "
       ]
      }
     ],
     "prompt_number": 33
    },
    {
     "cell_type": "markdown",
     "metadata": {
      "collapsed": true
     },
     "source": [
      "$\\Huge (d_4)_{*4}$"
     ]
    },
    {
     "cell_type": "code",
     "collapsed": false,
     "input": [
      "top_rhs0 = mysimplify(T * (Y + E) + (psi + U) * (rho + G) + (X + V) * 0)\n",
      "top_rhs0"
     ],
     "language": "python",
     "metadata": {},
     "outputs": [
      {
       "latex": [
        "$$0$$"
       ],
       "metadata": {},
       "output_type": "pyout",
       "png": "[encoded data removed]",
       "prompt_number": 34,
       "text": [
        "0"
       ]
      }
     ],
     "prompt_number": 34
    },
    {
     "cell_type": "code",
     "collapsed": false,
     "input": [
      "bot_rhs0 = mysimplify(T * F + (psi + U) * Y + (X + V) * (sigma + J))\n",
      "bot_rhs0"
     ],
     "language": "python",
     "metadata": {},
     "outputs": [
      {
       "output_type": "stream",
       "stream": "stderr",
       "text": [
        "/usr/lib/python3/dist-packages/IPython/core/formatters.py:239: FormatterWarning: Exception in image/png formatter: \n",
        "c \\sum_{q=0}^{k - 1} \\left( \n",
        "                            ^\n",
        "Expected \"\\right\" (at char 28), (line:1, col:29)\n",
        "  FormatterWarning,\n"
       ]
      },
      {
       "latex": [
        "$$c \\sum_{q=0}^{k - 1} \\left( \\left(y x\\right)^{q} \\otimes \\left(x y\\right)^{2 k - q - 1} \\right) + c \\sum_{q=0}^{k - 1} \\left( \\left(x y\\right)^{k} \\left(y x\\right)^{q} \\otimes \\left(x y\\right)^{k - q - 1} \\right) + c \\left( \\left(x y\\right)^{k} \\otimes \\left(x y\\right)^{k - 1} \\right) + c \\left( \\left(y x\\right)^{k - 1} \\otimes \\left(x y\\right)^{k} \\right) + \\sum_{q=0}^{k - 1} \\left( \\left(y x\\right)^{q} \\otimes \\left(x y\\right)^{k - q - 1} y \\left(x y\\right)^{k - 1} \\right) + \\sum_{q=0}^{k - 1} \\left( y \\left(x y\\right)^{k - 1} \\left(y x\\right)^{q} \\otimes \\left(x y\\right)^{k - q - 1} \\right) + \\left( \\left(y x\\right)^{k - 1} \\otimes y \\left(x y\\right)^{k - 1} \\right) + \\left( y \\left(x y\\right)^{k - 1} \\otimes \\left(x y\\right)^{k - 1} \\right)$$"
       ],
       "metadata": {},
       "output_type": "pyout",
       "prompt_number": 35,
       "text": [
        "  k - 1                             k - 1                                     \n",
        "   ____                              ____                                     \n",
        "   \u2572                                 \u2572                                        \n",
        "    \u2572           (     q               \u2572          (     k      q               \n",
        "     \u2572  (y\u22c5x) \u2297     2\u22c5k - q - 1        \u2572  (x\u22c5y) \u22c5(y\u22c5x) \u2297     k - q - 1        \n",
        "c\u22c5   \u2571     (x\u22c5y)           )    + c\u22c5   \u2571        (x\u22c5y)         )        + c\u22c5   \n",
        "    \u2571                                 \u2571                                    (x\u22c5\n",
        "   \u2571                                 \u2571                                        \n",
        "   \u203e\u203e\u203e\u203e                              \u203e\u203e\u203e\u203e                                     \n",
        "  q = 0                             q = 0                                     \n",
        "\n",
        "                                       k - 1                                  \n",
        "                                        ____                                  \n",
        "                                        \u2572                                     \n",
        "                                         \u2572                (     q             \n",
        "                                          \u2572  (y\u22c5x) \u2297     k - q - 1        k - \n",
        "  (     k      + c\u22c5   (     k - 1    +    \u2571     (x\u22c5y)         \u22c5y\u22c5(x\u22c5y)     )  \n",
        "y) \u2297     k - 1     (y\u22c5x)     \u2297     k     \u2571                                    \n",
        "(x\u22c5y)     )             (x\u22c5y) )         \u2571                                     \n",
        "                                        \u203e\u203e\u203e\u203e                                  \n",
        "                                       q = 0                                  \n",
        "\n",
        "    k - 1                                                                     \n",
        "     ____                                                                     \n",
        "     \u2572                                                                        \n",
        "      \u2572          (       k - 1      q                                         \n",
        "1      \u2572  y\u22c5(x\u22c5y)     \u22c5(y\u22c5x) \u2297     k - q - 1                                  \n",
        "  +    \u2571           (x\u22c5y)         )           +       (     k - 1       +      \n",
        "      \u2571                                        (y\u22c5x)     \u2297       k - 1   y\u22c5(x\u22c5\n",
        "     \u2571                                              y\u22c5(x\u22c5y)     )             \n",
        "     \u203e\u203e\u203e\u203e                                                                     \n",
        "    q = 0                                                                     \n",
        "\n",
        "                  \n",
        "                  \n",
        "                  \n",
        "                  \n",
        "                  \n",
        "(       k - 1     \n",
        "y)     \u2297     k - 1\n",
        " (x\u22c5y)     )      \n",
        "                  \n",
        "                  "
       ]
      }
     ],
     "prompt_number": 35
    },
    {
     "cell_type": "code",
     "collapsed": false,
     "input": [
      "bot_rhs1 = mysimplify(c * TP(yx**(k-1), xy**k) + c * TP(y*xy**(k-1), x*yx**(k-1)) + T * F + U * Y + V * (sigma + J))\n",
      "bot_rhs1"
     ],
     "language": "python",
     "metadata": {},
     "outputs": [
      {
       "latex": [
        "$$0$$"
       ],
       "metadata": {},
       "output_type": "pyout",
       "png": "[encoded data removed]",
       "prompt_number": 36,
       "text": [
        "0"
       ]
      }
     ],
     "prompt_number": 36
    },
    {
     "cell_type": "markdown",
     "metadata": {
      "collapsed": true
     },
     "source": [
      "$\\Huge (d_5)_{*1}$"
     ]
    },
    {
     "cell_type": "code",
     "collapsed": false,
     "input": [
      "top_rhs0 = mysimplify((Y + Ap) * (Y + K) + Bp * (rho + N) + Cp * 0 + Dp * 0)\n",
      "top_rhs0"
     ],
     "language": "python",
     "metadata": {},
     "outputs": [
      {
       "latex": [
        "$$0$$"
       ],
       "metadata": {},
       "output_type": "pyout",
       "png": "[encoded data removed]",
       "prompt_number": 37,
       "text": [
        "0"
       ]
      }
     ],
     "prompt_number": 37
    },
    {
     "cell_type": "code",
     "collapsed": false,
     "input": [
      "mid_rhs0 = mysimplify((Y + Ap) * L + Bp * (Y + O) + Cp * rho + Dp * (psi + U))\n",
      "mid_rhs0"
     ],
     "language": "python",
     "metadata": {},
     "outputs": [
      {
       "latex": [
        "$$0$$"
       ],
       "metadata": {},
       "output_type": "pyout",
       "png": "[encoded data removed]",
       "prompt_number": 38,
       "text": [
        "0"
       ]
      }
     ],
     "prompt_number": 38
    },
    {
     "cell_type": "code",
     "collapsed": false,
     "input": [
      "bot_rhs0 = mysimplify((Y + Ap) * 0 + Bp * 0 + Cp * Y + Dp * X)\n",
      "bot_rhs0"
     ],
     "language": "python",
     "metadata": {},
     "outputs": [
      {
       "latex": [
        "$$0$$"
       ],
       "metadata": {},
       "output_type": "pyout",
       "png": "[encoded data removed]",
       "prompt_number": 39,
       "text": [
        "0"
       ]
      }
     ],
     "prompt_number": 39
    },
    {
     "cell_type": "markdown",
     "metadata": {},
     "source": [
      "$\\Huge (d_5)_{*2}$"
     ]
    },
    {
     "cell_type": "code",
     "collapsed": true,
     "input": [
      "top_row = [Y + K, rho + N, 0, 0]\n",
      "mid_row = [L, Y + O, rho, psi + U]\n",
      "bot_row = [0, 0, Y, X]\n",
      "col = [rho + Ep, Y + Fp, Gp, Hp]"
     ],
     "language": "python",
     "metadata": {},
     "outputs": [],
     "prompt_number": 40
    },
    {
     "cell_type": "code",
     "collapsed": false,
     "input": [
      "top_rhs0 = mysimplify(sum(u * v for (u, v) in zip(col, top_row)))\n",
      "top_rhs0"
     ],
     "language": "python",
     "metadata": {},
     "outputs": [
      {
       "latex": [
        "$$0$$"
       ],
       "metadata": {},
       "output_type": "pyout",
       "png": "[encoded data removed]",
       "prompt_number": 41,
       "text": [
        "0"
       ]
      }
     ],
     "prompt_number": 41
    },
    {
     "cell_type": "code",
     "collapsed": false,
     "input": [
      "mid_rhs0 = mysimplify(sum(u * v for (u, v) in zip(col, mid_row)))\n",
      "mid_rhs0"
     ],
     "language": "python",
     "metadata": {},
     "outputs": [
      {
       "latex": [
        "$$0$$"
       ],
       "metadata": {},
       "output_type": "pyout",
       "png": "[encoded data removed]",
       "prompt_number": 42,
       "text": [
        "0"
       ]
      }
     ],
     "prompt_number": 42
    },
    {
     "cell_type": "code",
     "collapsed": false,
     "input": [
      "bot_rhs0 = mysimplify(sum(u * v for (u, v) in zip(col, bot_row)))\n",
      "bot_rhs0"
     ],
     "language": "python",
     "metadata": {},
     "outputs": [
      {
       "latex": [
        "$$0$$"
       ],
       "metadata": {},
       "output_type": "pyout",
       "png": "[encoded data removed]",
       "prompt_number": 43,
       "text": [
        "0"
       ]
      }
     ],
     "prompt_number": 43
    },
    {
     "cell_type": "markdown",
     "metadata": {},
     "source": [
      "$\\Huge (d_5)_{*3}$"
     ]
    },
    {
     "cell_type": "code",
     "collapsed": true,
     "input": [
      "Ip = 0\n",
      "Jp = 0\n",
      "Kp = d * lbda\n",
      "Lp = d * mu"
     ],
     "language": "python",
     "metadata": {},
     "outputs": [],
     "prompt_number": 44
    },
    {
     "cell_type": "code",
     "collapsed": true,
     "input": [
      "col = [Ip, rho + Jp, Y + Kp, Lp]"
     ],
     "language": "python",
     "metadata": {},
     "outputs": [],
     "prompt_number": 45
    },
    {
     "cell_type": "code",
     "collapsed": false,
     "input": [
      "top_rhs0 = mysimplify(sum(u * v for (u, v) in zip(col, top_row)))\n",
      "top_rhs0"
     ],
     "language": "python",
     "metadata": {},
     "outputs": [
      {
       "latex": [
        "$$0$$"
       ],
       "metadata": {},
       "output_type": "pyout",
       "png": "[encoded data removed]",
       "prompt_number": 46,
       "text": [
        "0"
       ]
      }
     ],
     "prompt_number": 46
    },
    {
     "cell_type": "code",
     "collapsed": false,
     "input": [
      "mid_rhs0 = mysimplify(sum(u * v for (u, v) in zip(col, mid_row)))\n",
      "mid_rhs0"
     ],
     "language": "python",
     "metadata": {},
     "outputs": [
      {
       "output_type": "stream",
       "stream": "stderr",
       "text": [
        "/usr/lib/python3/dist-packages/IPython/core/formatters.py:239: FormatterWarning: Exception in image/png formatter: \n",
        "c d \\sum_{q=0}^{k - 1} \\left( \n",
        "                              ^\n",
        "Expected \"\\right\" (at char 30), (line:1, col:31)\n",
        "  FormatterWarning,\n"
       ]
      },
      {
       "latex": [
        "$$c d \\sum_{q=0}^{k - 1} \\left( \\left(x y\\right)^{q} \\left(y x\\right)^{k - 1} \\otimes \\left(x y\\right)^{2 k - q - 1} \\right) + d \\sum_{q=0}^{k - 1} \\left( x \\left(y x\\right)^{q} \\otimes x \\left(y x\\right)^{k - 1} \\left(x y\\right)^{k - q - 1} \\right) + d \\sum_{q=0}^{k - 1} \\left( x \\left(y x\\right)^{q} x \\left(y x\\right)^{k - 1} \\otimes \\left(x y\\right)^{k - q - 1} \\right) + d \\left( x \\left(y x\\right)^{k - 1} \\otimes x \\left(y x\\right)^{k - 1} \\right)$$"
       ],
       "metadata": {},
       "output_type": "pyout",
       "prompt_number": 47,
       "text": [
        "    k - 1                                        k - 1                        \n",
        "     ____                                         ____                        \n",
        "     \u2572                                            \u2572                           \n",
        "      \u2572           (     q      k - 1               \u2572                (       q \n",
        "       \u2572  (x\u22c5y) \u22c5(y\u22c5x)     \u2297     2\u22c5k - q - 1        \u2572  x\u22c5(y\u22c5x) \u2297       k - 1  \n",
        "c\u22c5d\u22c5   \u2571          (x\u22c5y)           )          + d\u22c5   \u2571      x\u22c5(y\u22c5x)     \u22c5(x\u22c5y) \n",
        "      \u2571                                            \u2571                          \n",
        "     \u2571                                            \u2571                           \n",
        "     \u203e\u203e\u203e\u203e                                         \u203e\u203e\u203e\u203e                        \n",
        "    q = 0                                        q = 0                        \n",
        "\n",
        "                  k - 1                                                       \n",
        "                   ____                                                       \n",
        "                   \u2572                                                          \n",
        "                    \u2572          (       q        k - 1                         \n",
        "    k - q - 1        \u2572  x\u22c5(y\u22c5x) \u22c5x\u22c5(y\u22c5x)     \u2297     k - q - 1                  \n",
        "        )     + d\u22c5   \u2571            (x\u22c5y)         )            + d\u22c5      (      \n",
        "                    \u2571                                            x\u22c5(y\u22c5x)     \u2297\n",
        "                   \u2571                                                   x\u22c5(y\u22c5x)\n",
        "                   \u203e\u203e\u203e\u203e                                                       \n",
        "                  q = 0                                                       \n",
        "\n",
        "            \n",
        "            \n",
        "            \n",
        "            \n",
        "            \n",
        " k - 1      \n",
        "       k - 1\n",
        "     )      \n",
        "            \n",
        "            "
       ]
      }
     ],
     "prompt_number": 47
    },
    {
     "cell_type": "code",
     "collapsed": false,
     "input": [
      "bot_rhs0 = mysimplify(sum(u * v for (u, v) in zip(col, bot_row)))\n",
      "bot_rhs0"
     ],
     "language": "python",
     "metadata": {},
     "outputs": [
      {
       "output_type": "stream",
       "stream": "stderr",
       "text": [
        "/usr/lib/python3/dist-packages/IPython/core/formatters.py:239: FormatterWarning: Exception in image/png formatter: \n",
        "d \\sum_{q=0}^{k - 1} \\left( \n",
        "                            ^\n",
        "Expected \"\\right\" (at char 28), (line:1, col:29)\n",
        "  FormatterWarning,\n"
       ]
      },
      {
       "latex": [
        "$$d \\sum_{q=0}^{k - 1} \\left( \\left(x y\\right)^{q} \\otimes \\left(x y\\right)^{k - q} \\right) + d \\sum_{q=0}^{k - 1} \\left( \\left(x y\\right)^{q + 1} \\otimes \\left(x y\\right)^{k - q - 1} \\right) + d \\left( 1 \\otimes \\left(x y\\right)^{k} \\right) + d \\left( \\left(x y\\right)^{k} \\otimes 1 \\right)$$"
       ],
       "metadata": {},
       "output_type": "pyout",
       "prompt_number": 48,
       "text": [
        "  k - 1                       k - 1                                           \n",
        "   ____                        ____                                           \n",
        "   \u2572                           \u2572                                              \n",
        "    \u2572        (     q            \u2572          (     q + 1                        \n",
        "     \u2572  (x\u22c5y) \u2297     k - q        \u2572  (x\u22c5y)     \u2297     k - q - 1                 \n",
        "d\u22c5   \u2571     (x\u22c5y)     )    + d\u22c5   \u2571       (x\u22c5y)         )      + d\u22c5(1\u2297     k + \n",
        "    \u2571                           \u2571                                  (x\u22c5y) )    \n",
        "   \u2571                           \u2571                                              \n",
        "   \u203e\u203e\u203e\u203e                        \u203e\u203e\u203e\u203e                                           \n",
        "  q = 0                       q = 0                                           \n",
        "\n",
        "           \n",
        "           \n",
        "           \n",
        "           \n",
        "           \n",
        "d\u22c5 (     k \n",
        "  (x\u22c5y) \u22971)\n",
        "           \n",
        "           \n",
        "           "
       ]
      }
     ],
     "prompt_number": 48
    },
    {
     "cell_type": "markdown",
     "metadata": {},
     "source": [
      "$\\Huge (d_5)_{*4}$"
     ]
    },
    {
     "cell_type": "code",
     "collapsed": true,
     "input": [
      "Mp = 0\n",
      "Np = 0\n",
      "Op = c * lbda\n",
      "Pp = c * mu"
     ],
     "language": "python",
     "metadata": {},
     "outputs": [],
     "prompt_number": 49
    },
    {
     "cell_type": "code",
     "collapsed": true,
     "input": [
      "col = [Mp, Np, Phi1 + Op, Phi2 + Pp]"
     ],
     "language": "python",
     "metadata": {},
     "outputs": [],
     "prompt_number": 50
    },
    {
     "cell_type": "code",
     "collapsed": false,
     "input": [
      "top_rhs0 = mysimplify(sum(u * v for (u, v) in zip(col, top_row)))\n",
      "top_rhs0"
     ],
     "language": "python",
     "metadata": {},
     "outputs": [
      {
       "latex": [
        "$$0$$"
       ],
       "metadata": {},
       "output_type": "pyout",
       "png": "[encoded data removed]",
       "prompt_number": 51,
       "text": [
        "0"
       ]
      }
     ],
     "prompt_number": 51
    },
    {
     "cell_type": "code",
     "collapsed": false,
     "input": [
      "mid_rhs0 = mysimplify(sum(u * v for (u, v) in zip(col, mid_row)))\n",
      "mid_rhs0"
     ],
     "language": "python",
     "metadata": {},
     "outputs": [
      {
       "output_type": "stream",
       "stream": "stderr",
       "text": [
        "/usr/lib/python3/dist-packages/IPython/core/formatters.py:239: FormatterWarning: Exception in image/png formatter: \n",
        "c^{2} \\sum_{q=0}^{k - 1} \\left( \n",
        "                                ^\n",
        "Expected \"\\right\" (at char 32), (line:1, col:33)\n",
        "  FormatterWarning,\n"
       ]
      },
      {
       "latex": [
        "$$c^{2} \\sum_{q=0}^{k - 1} \\left( \\left(x y\\right)^{q} \\left(y x\\right)^{k - 1} \\otimes \\left(x y\\right)^{2 k - q - 1} \\right) + c \\sum_{q=0}^{k - 1} \\left( x \\left(y x\\right)^{q} \\otimes x \\left(y x\\right)^{k - 1} \\left(x y\\right)^{k - q - 1} \\right) + c \\sum_{q=0}^{k - 2} \\left( y \\left(x y\\right)^{q} \\left(y x\\right)^{k - 1} \\otimes \\left(x y\\right)^{2 k - q - 2} \\right) + c \\sum_{q=0}^{k - 1} \\left( x \\left(y x\\right)^{q} x \\left(y x\\right)^{k - 1} \\otimes \\left(x y\\right)^{k - q - 1} \\right) + c \\left( x \\left(y x\\right)^{k - 1} \\otimes x \\left(y x\\right)^{k - 1} \\right) + \\sum_{q=0}^{k - 1} \\left( \\left(y x\\right)^{q} \\otimes x \\left(y x\\right)^{k - 1} \\left(x y\\right)^{k - q - 1} \\right) + \\sum_{q=0}^{k - 1} \\left( \\left(y x\\right)^{q} x \\left(y x\\right)^{k - 1} \\otimes \\left(x y\\right)^{k - q - 1} \\right) + \\left( x \\left(y x\\right)^{k - 1} \\otimes \\left(x y\\right)^{k - 1} \\right) + \\left( \\left(y x\\right)^{k - 1} \\otimes x \\left(y x\\right)^{k - 1} \\right)$$"
       ],
       "metadata": {},
       "output_type": "pyout",
       "prompt_number": 52,
       "text": [
        "   k - 1                                        k - 1                         \n",
        "    ____                                         ____                         \n",
        "    \u2572                                            \u2572                            \n",
        "     \u2572           (     q      k - 1               \u2572                (       q  \n",
        " 2    \u2572  (x\u22c5y) \u22c5(y\u22c5x)     \u2297     2\u22c5k - q - 1        \u2572  x\u22c5(y\u22c5x) \u2297       k - 1   \n",
        "c \u22c5   \u2571          (x\u22c5y)           )          + c\u22c5   \u2571      x\u22c5(y\u22c5x)     \u22c5(x\u22c5y)  \n",
        "     \u2571                                            \u2571                           \n",
        "    \u2571                                            \u2571                            \n",
        "    \u203e\u203e\u203e\u203e                                         \u203e\u203e\u203e\u203e                         \n",
        "   q = 0                                        q = 0                         \n",
        "\n",
        "                 k - 2                                          k - 1         \n",
        "                  ____                                           ____         \n",
        "                  \u2572                                              \u2572            \n",
        "                   \u2572           (       q      k - 1               \u2572          (\n",
        "   k - q - 1        \u2572  y\u22c5(x\u22c5y) \u22c5(y\u22c5x)     \u2297     2\u22c5k - q - 2        \u2572  x\u22c5(y\u22c5x) \n",
        "       )     + c\u22c5   \u2571           (x\u22c5y)           )           + c\u22c5   \u2571          \n",
        "                   \u2571                                              \u2571           \n",
        "                  \u2571                                              \u2571            \n",
        "                  \u203e\u203e\u203e\u203e                                           \u203e\u203e\u203e\u203e         \n",
        "                 q = 0                                          q = 0         \n",
        "\n",
        "                                                             k - 1            \n",
        "                                                              ____            \n",
        "                                                              \u2572               \n",
        "       q        k - 1                                          \u2572              \n",
        "\u22c5x\u22c5(y\u22c5x)     \u2297     k - q - 1                                    \u2572  (y\u22c5x) \u2297    \n",
        "  (x\u22c5y)         )            + c\u22c5      (       k - 1       +    \u2571     x\u22c5(y\u22c5x) \n",
        "                                 x\u22c5(y\u22c5x)     \u2297       k - 1     \u2571              \n",
        "                                       x\u22c5(y\u22c5x)     )          \u2571               \n",
        "                                                              \u203e\u203e\u203e\u203e            \n",
        "                                                             q = 0            \n",
        "\n",
        "                          k - 1                                               \n",
        "                           ____                                               \n",
        "                           \u2572                                                  \n",
        "  (     q                   \u2572          (     q        k - 1                   \n",
        "   k - 1      k - q - 1      \u2572  (y\u22c5x) \u22c5x\u22c5(y\u22c5x)     \u2297     k - q - 1            \n",
        "    \u22c5(x\u22c5y)         )    +    \u2571           (x\u22c5y)         )           +      (   \n",
        "                            \u2571                                        x\u22c5(y\u22c5x)  \n",
        "                           \u2571                                               (x\u22c5\n",
        "                           \u203e\u203e\u203e\u203e                                               \n",
        "                          q = 0                                               \n",
        "\n",
        "                                        \n",
        "                                        \n",
        "                                        \n",
        "                                        \n",
        "                                        \n",
        "    k - 1      +       (     k - 1      \n",
        "   \u2297     k - 1   (y\u22c5x)     \u2297       k - 1\n",
        "y)     )              x\u22c5(y\u22c5x)     )     \n",
        "                                        \n",
        "                                        "
       ]
      }
     ],
     "prompt_number": 52
    },
    {
     "cell_type": "code",
     "collapsed": false,
     "input": [
      "bot_rhs0 = mysimplify(sum(u * v for (u, v) in zip(col, bot_row)))\n",
      "bot_rhs0"
     ],
     "language": "python",
     "metadata": {},
     "outputs": [
      {
       "output_type": "stream",
       "stream": "stderr",
       "text": [
        "/usr/lib/python3/dist-packages/IPython/core/formatters.py:239: FormatterWarning: Exception in image/png formatter: \n",
        "c \\sum_{q=0}^{k - 1} \\left( \n",
        "                            ^\n",
        "Expected \"\\right\" (at char 28), (line:1, col:29)\n",
        "  FormatterWarning,\n"
       ]
      },
      {
       "latex": [
        "$$c \\sum_{q=0}^{k - 1} \\left( \\left(x y\\right)^{q} \\otimes \\left(x y\\right)^{k - q} \\right) + c \\sum_{q=0}^{k - 1} \\left( \\left(x y\\right)^{q + 1} \\otimes \\left(x y\\right)^{k - q - 1} \\right) + c \\left( 1 \\otimes \\left(x y\\right)^{k} \\right) + c \\left( \\left(x y\\right)^{k} \\otimes 1 \\right) + \\sum_{q=0}^{k - 1} \\left( \\left(y x\\right)^{q} \\otimes y \\left(x y\\right)^{k - q - 1} \\right) + \\sum_{q=0}^{k - 2} \\left( \\left(y x\\right)^{q + 1} \\otimes y \\left(x y\\right)^{k - q - 2} \\right) + \\sum_{q=0}^{k - 2} \\left( y \\left(x y\\right)^{q} \\otimes \\left(x y\\right)^{k - q - 1} \\right) + \\sum_{q=0}^{k - 1} \\left( y \\left(x y\\right)^{q} \\otimes \\left(x y\\right)^{k - q - 1} \\right) + \\left( 1 \\otimes y \\left(x y\\right)^{k - 1} \\right) + \\left( y \\left(x y\\right)^{k - 1} \\otimes 1 \\right)$$"
       ],
       "metadata": {},
       "output_type": "pyout",
       "prompt_number": 53,
       "text": [
        "  k - 1                       k - 1                                           \n",
        "   ____                        ____                                           \n",
        "   \u2572                           \u2572                                              \n",
        "    \u2572        (     q            \u2572          (     q + 1                        \n",
        "     \u2572  (x\u22c5y) \u2297     k - q        \u2572  (x\u22c5y)     \u2297     k - q - 1                 \n",
        "c\u22c5   \u2571     (x\u22c5y)     )    + c\u22c5   \u2571       (x\u22c5y)         )      + c\u22c5(1\u2297     k + \n",
        "    \u2571                           \u2571                                  (x\u22c5y) )    \n",
        "   \u2571                           \u2571                                              \n",
        "   \u203e\u203e\u203e\u203e                        \u203e\u203e\u203e\u203e                                           \n",
        "  q = 0                       q = 0                                           \n",
        "\n",
        "              k - 1                           k - 2                           \n",
        "               ____                            ____                           \n",
        "               \u2572                               \u2572                              \n",
        "                \u2572           (     q             \u2572           (     q + 1       \n",
        "                 \u2572  (y\u22c5x) \u2297       k - q - 1      \u2572  (y\u22c5x)     \u2297       k - q - \n",
        "c\u22c5 (     k  +    \u2571     y\u22c5(x\u22c5y)         )    +    \u2571       y\u22c5(x\u22c5y)         )    \n",
        "  (x\u22c5y) \u22971)     \u2571                               \u2571                             \n",
        "               \u2571                               \u2571                              \n",
        "               \u203e\u203e\u203e\u203e                            \u203e\u203e\u203e\u203e                           \n",
        "              q = 0                           q = 0                           \n",
        "\n",
        "    k - 2                           k - 1                                     \n",
        "     ____                            ____                                     \n",
        "     \u2572                               \u2572                                        \n",
        "      \u2572          (       q            \u2572          (       q                    \n",
        "2      \u2572  y\u22c5(x\u22c5y) \u2297     k - q - 1      \u2572  y\u22c5(x\u22c5y) \u2297     k - q - 1             \n",
        "  +    \u2571      (x\u22c5y)         )     +    \u2571      (x\u22c5y)         )     + (1\u2297       \n",
        "      \u2571                               \u2571                              y\u22c5(x\u22c5y)  \n",
        "     \u2571                               \u2571                                        \n",
        "     \u203e\u203e\u203e\u203e                            \u203e\u203e\u203e\u203e                                     \n",
        "    q = 0                           q = 0                                     \n",
        "\n",
        "                       \n",
        "                       \n",
        "                       \n",
        "                       \n",
        "                       \n",
        "k - 1 +  (       k - 1 \n",
        "   )    y\u22c5(x\u22c5y)     \u22971)\n",
        "                       \n",
        "                       \n",
        "                       "
       ]
      }
     ],
     "prompt_number": 53
    },
    {
     "cell_type": "code",
     "collapsed": true,
     "input": [
      "col_vars = [Mp, Np, Op, Pp]"
     ],
     "language": "python",
     "metadata": {},
     "outputs": [],
     "prompt_number": 54
    },
    {
     "cell_type": "code",
     "collapsed": false,
     "input": [
      "mid_rhs1 = mysimplify(c * TP(x*yx**(k-1), x*yx**(k-1)) + sum(u * v for (u, v) in zip(col_vars, mid_row)))\n",
      "mid_rhs1"
     ],
     "language": "python",
     "metadata": {},
     "outputs": [
      {
       "output_type": "stream",
       "stream": "stderr",
       "text": [
        "/usr/lib/python3/dist-packages/IPython/core/formatters.py:239: FormatterWarning: Exception in image/png formatter: \n",
        "c^{2} \\sum_{q=0}^{k - 1} \\left( \n",
        "                                ^\n",
        "Expected \"\\right\" (at char 32), (line:1, col:33)\n",
        "  FormatterWarning,\n"
       ]
      },
      {
       "latex": [
        "$$c^{2} \\sum_{q=0}^{k - 1} \\left( \\left(x y\\right)^{q} \\left(y x\\right)^{k - 1} \\otimes \\left(x y\\right)^{2 k - q - 1} \\right) + c \\sum_{q=0}^{k - 1} \\left( x \\left(y x\\right)^{q} \\otimes x \\left(y x\\right)^{k - 1} \\left(x y\\right)^{k - q - 1} \\right) + c \\sum_{q=0}^{k - 1} \\left( x \\left(y x\\right)^{q} x \\left(y x\\right)^{k - 1} \\otimes \\left(x y\\right)^{k - q - 1} \\right) + c \\left( x \\left(y x\\right)^{k - 1} \\otimes x \\left(y x\\right)^{k - 1} \\right)$$"
       ],
       "metadata": {},
       "output_type": "pyout",
       "prompt_number": 55,
       "text": [
        "   k - 1                                        k - 1                         \n",
        "    ____                                         ____                         \n",
        "    \u2572                                            \u2572                            \n",
        "     \u2572           (     q      k - 1               \u2572                (       q  \n",
        " 2    \u2572  (x\u22c5y) \u22c5(y\u22c5x)     \u2297     2\u22c5k - q - 1        \u2572  x\u22c5(y\u22c5x) \u2297       k - 1   \n",
        "c \u22c5   \u2571          (x\u22c5y)           )          + c\u22c5   \u2571      x\u22c5(y\u22c5x)     \u22c5(x\u22c5y)  \n",
        "     \u2571                                            \u2571                           \n",
        "    \u2571                                            \u2571                            \n",
        "    \u203e\u203e\u203e\u203e                                         \u203e\u203e\u203e\u203e                         \n",
        "   q = 0                                        q = 0                         \n",
        "\n",
        "                 k - 1                                                        \n",
        "                  ____                                                        \n",
        "                  \u2572                                                           \n",
        "                   \u2572          (       q        k - 1                          \n",
        "   k - q - 1        \u2572  x\u22c5(y\u22c5x) \u22c5x\u22c5(y\u22c5x)     \u2297     k - q - 1                   \n",
        "       )     + c\u22c5   \u2571            (x\u22c5y)         )            + c\u22c5      (       \n",
        "                   \u2571                                            x\u22c5(y\u22c5x)     \u2297 \n",
        "                  \u2571                                                   x\u22c5(y\u22c5x) \n",
        "                  \u203e\u203e\u203e\u203e                                                        \n",
        "                 q = 0                                                        \n",
        "\n",
        "           \n",
        "           \n",
        "           \n",
        "           \n",
        "           \n",
        "k - 1      \n",
        "      k - 1\n",
        "    )      \n",
        "           \n",
        "           "
       ]
      }
     ],
     "prompt_number": 55
    },
    {
     "cell_type": "code",
     "collapsed": false,
     "input": [
      "bot_rhs1 = mysimplify(c * TP(1, xy**k) + c * TP(xy**k, 1) + sum(u * v for (u, v) in zip(col_vars, bot_row)))\n",
      "bot_rhs1"
     ],
     "language": "python",
     "metadata": {},
     "outputs": [
      {
       "output_type": "stream",
       "stream": "stderr",
       "text": [
        "/usr/lib/python3/dist-packages/IPython/core/formatters.py:239: FormatterWarning: Exception in image/png formatter: \n",
        "c \\sum_{q=0}^{k - 1} \\left( \n",
        "                            ^\n",
        "Expected \"\\right\" (at char 28), (line:1, col:29)\n",
        "  FormatterWarning,\n"
       ]
      },
      {
       "latex": [
        "$$c \\sum_{q=0}^{k - 1} \\left( \\left(x y\\right)^{q} \\otimes \\left(x y\\right)^{k - q} \\right) + c \\sum_{q=0}^{k - 1} \\left( \\left(x y\\right)^{q + 1} \\otimes \\left(x y\\right)^{k - q - 1} \\right) + c \\left( 1 \\otimes \\left(x y\\right)^{k} \\right) + c \\left( \\left(x y\\right)^{k} \\otimes 1 \\right)$$"
       ],
       "metadata": {},
       "output_type": "pyout",
       "prompt_number": 56,
       "text": [
        "  k - 1                       k - 1                                           \n",
        "   ____                        ____                                           \n",
        "   \u2572                           \u2572                                              \n",
        "    \u2572        (     q            \u2572          (     q + 1                        \n",
        "     \u2572  (x\u22c5y) \u2297     k - q        \u2572  (x\u22c5y)     \u2297     k - q - 1                 \n",
        "c\u22c5   \u2571     (x\u22c5y)     )    + c\u22c5   \u2571       (x\u22c5y)         )      + c\u22c5(1\u2297     k + \n",
        "    \u2571                           \u2571                                  (x\u22c5y) )    \n",
        "   \u2571                           \u2571                                              \n",
        "   \u203e\u203e\u203e\u203e                        \u203e\u203e\u203e\u203e                                           \n",
        "  q = 0                       q = 0                                           \n",
        "\n",
        "           \n",
        "           \n",
        "           \n",
        "           \n",
        "           \n",
        "c\u22c5 (     k \n",
        "  (x\u22c5y) \u22971)\n",
        "           \n",
        "           \n",
        "           "
       ]
      }
     ],
     "prompt_number": 56
    },
    {
     "cell_type": "markdown",
     "metadata": {
      "collapsed": true
     },
     "source": [
      "$\\Huge (d_6)_{*1}$"
     ]
    },
    {
     "cell_type": "code",
     "collapsed": true,
     "input": [
      "App = K\n",
      "Bpp = F\n",
      "Cpp = 0\n",
      "Dpp = 0"
     ],
     "language": "python",
     "metadata": {},
     "outputs": [],
     "prompt_number": 57
    },
    {
     "cell_type": "code",
     "collapsed": true,
     "input": [
      "col = [Y + App, Bpp, Cpp, Dpp]"
     ],
     "language": "python",
     "metadata": {},
     "outputs": [],
     "prompt_number": 58
    },
    {
     "cell_type": "code",
     "collapsed": true,
     "input": [
      "row1 = [Y + Ap, rho + Ep, 0, 0]\n",
      "row2 = [Bp, Y, rho, 0]\n",
      "row3 = [0, 0, Y + Kp, Phi1 + Op]\n",
      "row4 = [0, 0, Lp, Phi2 + Pp]"
     ],
     "language": "python",
     "metadata": {},
     "outputs": [],
     "prompt_number": 59
    },
    {
     "cell_type": "code",
     "collapsed": false,
     "input": [
      "[mysimplify(sum(u * v for (u, v) in zip(col, row))) for row in [row1, row2, row3, row4]]"
     ],
     "language": "python",
     "metadata": {},
     "outputs": [
      {
       "latex": [
        "$$\\left [ 0, \\quad 0, \\quad 0, \\quad 0\\right ]$$"
       ],
       "metadata": {},
       "output_type": "pyout",
       "png": "[encoded data removed]",
       "prompt_number": 60,
       "text": [
        "[0, 0, 0, 0]"
       ]
      }
     ],
     "prompt_number": 60
    },
    {
     "cell_type": "markdown",
     "metadata": {},
     "source": [
      "$\\Huge (d_6)_{*2}$"
     ]
    },
    {
     "cell_type": "code",
     "collapsed": true,
     "input": [
      "Epp = N\n",
      "Fpp = O\n",
      "Gpp = 0\n",
      "Hpp = 0"
     ],
     "language": "python",
     "metadata": {},
     "outputs": [],
     "prompt_number": 61
    },
    {
     "cell_type": "code",
     "collapsed": true,
     "input": [
      "col = [rho + Epp, Y + Fpp, Gpp, Hpp]"
     ],
     "language": "python",
     "metadata": {},
     "outputs": [],
     "prompt_number": 62
    },
    {
     "cell_type": "code",
     "collapsed": false,
     "input": [
      "[mysimplify(sum(u * v for (u, v) in zip(col, row))) for row in [row1, row2, row3, row4]]"
     ],
     "language": "python",
     "metadata": {},
     "outputs": [
      {
       "latex": [
        "$$\\left [ 0, \\quad 0, \\quad 0, \\quad 0\\right ]$$"
       ],
       "metadata": {},
       "output_type": "pyout",
       "png": "[encoded data removed]",
       "prompt_number": 63,
       "text": [
        "[0, 0, 0, 0]"
       ]
      }
     ],
     "prompt_number": 63
    },
    {
     "cell_type": "markdown",
     "metadata": {},
     "source": [
      "$\\Huge (d_6)_{*3}$"
     ]
    },
    {
     "cell_type": "code",
     "collapsed": true,
     "input": [
      "Ipp = 0\n",
      "Jpp = 0\n",
      "Kpp = A\n",
      "Lpp = B"
     ],
     "language": "python",
     "metadata": {},
     "outputs": [],
     "prompt_number": 64
    },
    {
     "cell_type": "code",
     "collapsed": true,
     "input": [
      "col = [Ipp, rho + Jpp, Y + Kpp, Lpp]"
     ],
     "language": "python",
     "metadata": {},
     "outputs": [],
     "prompt_number": 65
    },
    {
     "cell_type": "code",
     "collapsed": false,
     "input": [
      "line1_rhs0, line2_rhs0, line3_rhs0, line4_rhs0 = \\\n",
      "    [mysimplify(sum(u * v for (u, v) in zip(col, row))) for row in [row1, row2, row3, row4]]\n",
      "[line1_rhs0, line2_rhs0, line3_rhs0, line4_rhs0]"
     ],
     "language": "python",
     "metadata": {},
     "outputs": [
      {
       "output_type": "stream",
       "stream": "stderr",
       "text": [
        "WARNING: fix_misc found TP*Sum in a Mul: TP(y*(x*y)**(k - 1), y) and Sum(TP((y*x)**q, (x*y)**(k - q - 1)), (q, 0, k - 1))\n",
        "WARNING: fix_misc found TP*Sum in a Mul: TP((x*y)**k, y) and Sum(TP((y*x)**q, (x*y)**(k - q - 1)), (q, 0, k - 1))\n",
        "WARNING: fix_misc found TP*Sum in a Mul: TP(y*(x*y)**(k - 1), y) and Sum(TP(x*(y*x)**q, (x*y)**(k - q - 1)), (q, 0, k - 1))\n",
        "WARNING: fix_misc found TP*Sum in a Mul: TP((x*y)**k, y) and Sum(TP(x*(y*x)**q, (x*y)**(k - q - 1)), (q, 0, k - 1))\n",
        "WARNING:"
       ]
      },
      {
       "output_type": "stream",
       "stream": "stderr",
       "text": [
        " fix_misc found TP*Sum in a Mul: TP(y*(x*y)**(k - 1), y) and Sum(TP(y*(x*y)**q, y*(x*y)**(k - q - 2)), (q, 0, k - 2))\n",
        "WARNING: fix_misc found TP*TP in a Mul: TP(y*(x*y)**(k - 1), y) and TP(1, x)\n",
        "WARNING: fix_misc found TP*Sum in a Mul: TP((x*y)**k, y) and Sum(TP(y*(x*y)**q, y*(x*y)**(k - q - 2)), (q, 0, k - 2))\n",
        "WARNING: fix_misc found TP*TP in a Mul: TP((x*y)**k, y) and TP(1, x)\n",
        "WARNING: fix_misc found TP*Sum in a Mul: TP(y*(x*y)**(k - 1), y) and Sum(TP((x*y)**q, y*(x*y)**(k - q - 1)), (q, 0, k - 1))\n",
        "WARNING: fix_misc found TP*Sum in a Mul: TP((x*y)**k, y) and Sum(TP((x*y)**q, y*(x*y)**(k - q - 1)), (q, 0, k - 1))\n",
        "/usr/lib/python3/dist-packages/IPython/core/formatters.py:239: FormatterWarning: Exception in image/png formatter: \n",
        "\\left [ 0, \\quad 0, \\quad c^{3} d \\sum_{q=0}^{k - 1} \\left( \n",
        "                                                            ^\n",
        "Expected \"\\right\" (at char 60), (line:1, col:61)\n",
        "  FormatterWarning,\n"
       ]
      },
      {
       "latex": [
        "$$\\left [ 0, \\quad 0, \\quad c^{3} d \\sum_{q=0}^{k - 1} \\left( \\left(x y\\right)^{k} \\left(y x\\right)^{q} \\otimes \\left(x y\\right)^{k - q} \\right) + c^{3} d \\left( \\left(x y\\right)^{k} \\otimes \\left(x y\\right)^{k} \\right) + c^{2} d \\sum_{q=0}^{k - 1} \\left( \\left(x y\\right)^{k} \\left(y x\\right)^{q} \\otimes \\left(x y\\right)^{k - q - 1} y \\right) + c^{2} d \\sum_{q=0}^{k - 1} \\left( y \\left(x y\\right)^{k - 1} \\left(y x\\right)^{q} \\otimes \\left(x y\\right)^{k - q} \\right) + c^{2} d \\left( y \\left(x y\\right)^{k - 1} \\otimes \\left(x y\\right)^{k} \\right) + c d \\sum_{q=0}^{k - 1} \\left( y \\left(x y\\right)^{k - 1} \\left(y x\\right)^{q} \\otimes \\left(x y\\right)^{k - q - 1} y \\right) + d \\sum_{q=0}^{k - 1} \\left( \\left(y x\\right)^{q} \\otimes \\left(x y\\right)^{k - q} \\right) + d \\sum_{q=0}^{k - 1} \\left( \\left(y x\\right)^{q + 1} \\otimes \\left(x y\\right)^{k - q - 1} \\right) + d \\left( 1 \\otimes \\left(x y\\right)^{k} \\right) + d \\left( \\left(x y\\right)^{k} \\otimes 1 \\right), \\quad c^{3} d^{2} \\sum_{q=0}^{k - 1} \\left( x \\left(y x\\right)^{k - 1} \\left(x y\\right)^{q} \\otimes y \\left(x y\\right)^{2 k - q - 1} \\right) + c^{2} d^{2} \\sum_{q=0}^{k - 1} \\left( \\left(y x\\right)^{k - 1} \\left(x y\\right)^{q} \\otimes y \\left(x y\\right)^{2 k - q - 1} \\right) + c^{2} d \\left( \\left(x y\\right)^{k} \\otimes x y \\right) + c d \\sum_{q=0}^{k - 1} \\left( \\left(x y\\right)^{q} \\otimes y \\left(x y\\right)^{k - q} \\right) + c d \\sum_{q=0}^{k - 2} \\left( \\left(x y\\right)^{q + 1} \\otimes y \\left(x y\\right)^{k - q - 1} \\right) + c d \\left( y \\left(x y\\right)^{k - 1} \\otimes x y \\right) + d \\sum_{q=0}^{k - 2} \\left( y \\left(x y\\right)^{q} \\otimes y \\left(x y\\right)^{k - q - 1} \\right) + d \\sum_{q=0}^{k - 1} \\left( y \\left(x y\\right)^{q} \\otimes y \\left(x y\\right)^{k - q - 1} \\right) + d \\left( y \\left(x y\\right)^{k - 1} \\otimes y \\right)\\right ]$$"
       ],
       "metadata": {},
       "output_type": "pyout",
       "prompt_number": 66,
       "text": [
        "\u23a1           k - 1                                                      k - 1  \n",
        "\u23a2            ____                                                       ____  \n",
        "\u23a2            \u2572                                                          \u2572     \n",
        "\u23a2             \u2572        (     k      q                                    \u2572    \n",
        "\u23a2       3      \u2572  (x\u22c5y) \u22c5(y\u22c5x) \u2297     k - q    3                    2      \u2572  (\n",
        "\u23a20, 0, c \u22c5d\u22c5   \u2571        (x\u22c5y)     )        + c \u22c5d\u22c5   (     k    + c \u22c5d\u22c5   \u2571   \n",
        "\u23a2             \u2571                                   (x\u22c5y) \u2297     k          \u2571    \n",
        "\u23a2            \u2571                                       (x\u22c5y) )            \u2571     \n",
        "\u23a2            \u203e\u203e\u203e\u203e                                                       \u203e\u203e\u203e\u203e  \n",
        "\u23a3           q = 0                                                      q = 0  \n",
        "\n",
        "                                     k - 1                                    \n",
        "                                      ____                                    \n",
        "                                      \u2572                                       \n",
        "       (     k      q                  \u2572        (       k - 1      q          \n",
        "x\u22c5y) \u22c5(y\u22c5x) \u2297     k - q - 1      2      \u2572  y\u22c5(x\u22c5y)     \u22c5(y\u22c5x) \u2297     k - q    2\n",
        "     (x\u22c5y)         \u22c5y)        + c \u22c5d\u22c5   \u2571           (x\u22c5y)     )           + c \n",
        "                                       \u2571                                      \n",
        "                                      \u2571                                       \n",
        "                                      \u203e\u203e\u203e\u203e                                    \n",
        "                                     q = 0                                    \n",
        "\n",
        "                             k - 1                                          k \n",
        "                              ____                                           _\n",
        "                              \u2572                                              \u2572\n",
        "                               \u2572           (       k - 1      q               \n",
        "                                \u2572  y\u22c5(x\u22c5y)     \u22c5(y\u22c5x) \u2297     k - q - 1         \n",
        "\u22c5d\u22c5   (       k - 1    + c\u22c5d\u22c5   \u2571           (x\u22c5y)         \u22c5y)           + d\u22c5  \n",
        "   y\u22c5(x\u22c5y)     \u2297     k         \u2571                                              \n",
        "         (x\u22c5y) )              \u2571                                              \u2571\n",
        "                              \u203e\u203e\u203e\u203e                                           \u203e\n",
        "                             q = 0                                          q \n",
        "\n",
        "- 1                       k - 1                                               \n",
        "___                        ____                                               \n",
        "                           \u2572                                                  \n",
        "\u2572        (     q            \u2572          (     q + 1                            \n",
        " \u2572  (y\u22c5x) \u2297     k - q        \u2572  (y\u22c5x)     \u2297     k - q - 1                     \n",
        " \u2571     (x\u22c5y)     )    + d\u22c5   \u2571       (x\u22c5y)         )      + d\u22c5(1\u2297     k + d\u22c5 (\n",
        "\u2571                           \u2571                                  (x\u22c5y) )      (x\n",
        "                           \u2571                                                  \n",
        "\u203e\u203e\u203e                        \u203e\u203e\u203e\u203e                                               \n",
        "= 0                       q = 0                                               \n",
        "\n",
        "               k - 1                                                k - 1     \n",
        "                ____                                                 ____     \n",
        "                \u2572                                                    \u2572        \n",
        "                 \u2572            (       k - 1      q                    \u2572       \n",
        "          3  2    \u2572  x\u22c5(y\u22c5x)     \u22c5(x\u22c5y) \u2297       2\u22c5k - q - 1    2  2    \u2572  (y\u22c5x\n",
        "     k , c \u22c5d \u22c5   \u2571           y\u22c5(x\u22c5y)           )           + c \u22c5d \u22c5   \u2571      \n",
        "\u22c5y) \u22971)          \u2571                                                    \u2571       \n",
        "                \u2571                                                    \u2571        \n",
        "                \u203e\u203e\u203e\u203e                                                 \u203e\u203e\u203e\u203e     \n",
        "               q = 0                                                q = 0     \n",
        "\n",
        "                                                          k - 1               \n",
        "                                                           ____               \n",
        "                                                           \u2572                  \n",
        "     (     k - 1      q                                     \u2572         (     q \n",
        ")     \u22c5(x\u22c5y) \u2297       2\u22c5k - q - 1    2                        \u2572  (x\u22c5y) \u2297       \n",
        "    y\u22c5(x\u22c5y)           )          + c \u22c5d\u22c5  (     k   + c\u22c5d\u22c5   \u2571     y\u22c5(x\u22c5y)    \n",
        "                                        (x\u22c5y) \u2297x\u22c5y)         \u2571                 \n",
        "                                                           \u2571                  \n",
        "                                                           \u203e\u203e\u203e\u203e               \n",
        "                                                          q = 0               \n",
        "\n",
        "            k - 2                                                         k - \n",
        "             ____                                                          ___\n",
        "             \u2572                                                             \u2572  \n",
        "              \u2572           (     q + 1                                       \u2572 \n",
        "k - q          \u2572  (x\u22c5y)     \u2297       k - q - 1                                \u2572\n",
        " )    + c\u22c5d\u22c5   \u2571       y\u22c5(x\u22c5y)         )      + c\u22c5d\u22c5  (       k - 1   + d\u22c5   \u2571\n",
        "              \u2571                                     y\u22c5(x\u22c5y)     \u2297x\u22c5y)       \u2571 \n",
        "             \u2571                                                             \u2571  \n",
        "             \u203e\u203e\u203e\u203e                                                          \u203e\u203e\u203e\n",
        "            q = 0                                                         q = \n",
        "\n",
        "2                               k - 1                                         \n",
        "_                                ____                                         \n",
        "                                 \u2572                                            \n",
        "          (       q               \u2572           (       q                       \n",
        "  y\u22c5(x\u22c5y) \u2297       k - q - 1        \u2572  y\u22c5(x\u22c5y) \u2297       k - q - 1               \n",
        "      y\u22c5(x\u22c5y)         )     + d\u22c5   \u2571      y\u22c5(x\u22c5y)         )     + d\u22c5 (       k\n",
        "                                  \u2571                                 y\u22c5(x\u22c5y)   \n",
        "                                 \u2571                                            \n",
        "\u203e                                \u203e\u203e\u203e\u203e                                         \n",
        "0                               q = 0                                         \n",
        "\n",
        "     \u23a4\n",
        "     \u23a5\n",
        "     \u23a5\n",
        "     \u23a5\n",
        "     \u23a5\n",
        " - 1 \u23a5\n",
        "  \u2297y)\u23a5\n",
        "     \u23a5\n",
        "     \u23a5\n",
        "     \u23a6"
       ]
      }
     ],
     "prompt_number": 66
    },
    {
     "cell_type": "code",
     "collapsed": false,
     "input": [
      "# line3_rhs0 == 0\n",
      "# line4_rhs0 is calculated as non-zero, but it's actually a bug. See the following cells.\n",
      "line4_rhs0"
     ],
     "language": "python",
     "metadata": {},
     "outputs": [
      {
       "output_type": "stream",
       "stream": "stderr",
       "text": [
        "/usr/lib/python3/dist-packages/IPython/core/formatters.py:239: FormatterWarning: Exception in image/png formatter: \n",
        "c^{3} d^{2} \\sum_{q=0}^{k - 1} \\left( \n",
        "                                      ^\n",
        "Expected \"\\right\" (at char 38), (line:1, col:39)\n",
        "  FormatterWarning,\n"
       ]
      },
      {
       "latex": [
        "$$c^{3} d^{2} \\sum_{q=0}^{k - 1} \\left( x \\left(y x\\right)^{k - 1} \\left(x y\\right)^{q} \\otimes y \\left(x y\\right)^{2 k - q - 1} \\right) + c^{2} d^{2} \\sum_{q=0}^{k - 1} \\left( \\left(y x\\right)^{k - 1} \\left(x y\\right)^{q} \\otimes y \\left(x y\\right)^{2 k - q - 1} \\right) + c^{2} d \\left( \\left(x y\\right)^{k} \\otimes x y \\right) + c d \\sum_{q=0}^{k - 1} \\left( \\left(x y\\right)^{q} \\otimes y \\left(x y\\right)^{k - q} \\right) + c d \\sum_{q=0}^{k - 2} \\left( \\left(x y\\right)^{q + 1} \\otimes y \\left(x y\\right)^{k - q - 1} \\right) + c d \\left( y \\left(x y\\right)^{k - 1} \\otimes x y \\right) + d \\sum_{q=0}^{k - 2} \\left( y \\left(x y\\right)^{q} \\otimes y \\left(x y\\right)^{k - q - 1} \\right) + d \\sum_{q=0}^{k - 1} \\left( y \\left(x y\\right)^{q} \\otimes y \\left(x y\\right)^{k - q - 1} \\right) + d \\left( y \\left(x y\\right)^{k - 1} \\otimes y \\right)$$"
       ],
       "metadata": {},
       "output_type": "pyout",
       "prompt_number": 67,
       "text": [
        "      k - 1                                                k - 1              \n",
        "       ____                                                 ____              \n",
        "       \u2572                                                    \u2572                 \n",
        "        \u2572            (       k - 1      q                    \u2572            (   \n",
        " 3  2    \u2572  x\u22c5(y\u22c5x)     \u22c5(x\u22c5y) \u2297       2\u22c5k - q - 1    2  2    \u2572  (y\u22c5x)     \u22c5(x\n",
        "c \u22c5d \u22c5   \u2571           y\u22c5(x\u22c5y)           )           + c \u22c5d \u22c5   \u2571          y\u22c5(x\u22c5\n",
        "        \u2571                                                    \u2571                \n",
        "       \u2571                                                    \u2571                 \n",
        "       \u203e\u203e\u203e\u203e                                                 \u203e\u203e\u203e\u203e              \n",
        "      q = 0                                                q = 0              \n",
        "\n",
        "                                                 k - 1                        \n",
        "                                                  ____                        \n",
        "                                                  \u2572                           \n",
        "  k - 1      q                                     \u2572         (     q          \n",
        "\u22c5y) \u2297       2\u22c5k - q - 1    2                        \u2572  (x\u22c5y) \u2297       k - q    \n",
        "y)           )          + c \u22c5d\u22c5  (     k   + c\u22c5d\u22c5   \u2571     y\u22c5(x\u22c5y)     )    + c\n",
        "                               (x\u22c5y) \u2297x\u22c5y)         \u2571                          \n",
        "                                                  \u2571                           \n",
        "                                                  \u203e\u203e\u203e\u203e                        \n",
        "                                                 q = 0                        \n",
        "\n",
        "   k - 2                                                         k - 2        \n",
        "    ____                                                          ____        \n",
        "    \u2572                                                             \u2572           \n",
        "     \u2572           (     q + 1                                       \u2572          \n",
        "      \u2572  (x\u22c5y)     \u2297       k - q - 1                                \u2572  y\u22c5(x\u22c5y)\n",
        "\u22c5d\u22c5   \u2571       y\u22c5(x\u22c5y)         )      + c\u22c5d\u22c5  (       k - 1   + d\u22c5   \u2571      y\u22c5(\n",
        "     \u2571                                     y\u22c5(x\u22c5y)     \u2297x\u22c5y)       \u2571          \n",
        "    \u2571                                                             \u2571           \n",
        "    \u203e\u203e\u203e\u203e                                                          \u203e\u203e\u203e\u203e        \n",
        "   q = 0                                                         q = 0        \n",
        "\n",
        "                       k - 1                                              \n",
        "                        ____                                              \n",
        "                        \u2572                                                 \n",
        " (       q               \u2572           (       q                            \n",
        " \u2297       k - q - 1        \u2572  y\u22c5(x\u22c5y) \u2297       k - q - 1                    \n",
        "x\u22c5y)         )     + d\u22c5   \u2571      y\u22c5(x\u22c5y)         )     + d\u22c5 (       k - 1 \n",
        "                         \u2571                                 y\u22c5(x\u22c5y)     \u2297y)\n",
        "                        \u2571                                                 \n",
        "                        \u203e\u203e\u203e\u203e                                              \n",
        "                       q = 0                                              "
       ]
      }
     ],
     "prompt_number": 67
    },
    {
     "cell_type": "code",
     "collapsed": false,
     "input": [
      "left = TP(x, y) * X\n",
      "right = X + TP(xy**k, xy**k)\n",
      "left, right"
     ],
     "language": "python",
     "metadata": {},
     "outputs": [
      {
       "output_type": "stream",
       "stream": "stderr",
       "text": [
        "/usr/lib/python3/dist-packages/IPython/core/formatters.py:239: FormatterWarning: Exception in image/png formatter: \n",
        "\\left ( \\left( \n",
        "               ^\n",
        "Expected \"\\right\" (at char 15), (line:1, col:16)\n",
        "  FormatterWarning,\n"
       ]
      },
      {
       "latex": [
        "$$\\left ( \\left( x \\otimes y \\right) \\left(\\left( 1 \\otimes x \\right) + \\left( x \\otimes 1 \\right)\\right), \\quad \\left( 1 \\otimes x \\right) + \\left( x \\otimes 1 \\right) + \\left( \\left(x y\\right)^{k} \\otimes \\left(x y\\right)^{k} \\right)\\right )$$"
       ],
       "metadata": {},
       "output_type": "pyout",
       "prompt_number": 68,
       "text": [
        "\u239b(x\u2297y)\u22c5((1\u2297x) + (x\u22971)), (1\u2297x) + (x\u22971) +    (     k   \u239e\n",
        "\u239c                                       (x\u22c5y) \u2297     k\u239f\n",
        "\u239d                                          (x\u22c5y) )   \u23a0"
       ]
      }
     ],
     "prompt_number": 68
    },
    {
     "cell_type": "code",
     "collapsed": false,
     "input": [
      "mysimplify(left * right)"
     ],
     "language": "python",
     "metadata": {},
     "outputs": [
      {
       "output_type": "stream",
       "stream": "stderr",
       "text": [
        "WARNING: fix_misc found TP*TP in a Mul: TP(y*(x*y)**(k - 1), y) and TP(1, x)\n",
        "WARNING: fix_misc found TP*TP in a Mul: TP(y*(x*y)**(k - 1), y) and TP((x*y)**k, (x*y)**k)\n",
        "WARNING: fix_misc found TP*TP in a Mul: TP((x*y)**k, y) and TP(1, x)\n",
        "WARNING: fix_misc found TP*TP in a Mul: TP((x*y)**k, y) and TP((x*y)**k, (x*y)**k)\n",
        "/usr/lib/python3/dist-packages/IPython/core/formatters.py:239: FormatterWarning: Exception in image/png formatter: \n",
        "c \\left( \n",
        "         ^\n",
        "Expected \"\\right\" (at char 9), (line:1, col:10)\n",
        "  FormatterWarning,\n"
       ]
      },
      {
       "latex": [
        "$$c \\left( \\left(x y\\right)^{k} \\otimes x y \\right) + \\left( \\left(x y\\right)^{k} \\otimes y \\right) + \\left( y \\left(x y\\right)^{k - 1} \\otimes x y \\right)$$"
       ],
       "metadata": {},
       "output_type": "pyout",
       "prompt_number": 69,
       "text": [
        "c\u22c5  (     k   +  (     k  +   (       k - 1  \n",
        "  (x\u22c5y) \u2297x\u22c5y)   (x\u22c5y) \u2297y)   y\u22c5(x\u22c5y)     \u2297x\u22c5y)"
       ]
      }
     ],
     "prompt_number": 69
    },
    {
     "cell_type": "code",
     "collapsed": false,
     "input": [
      "mysimplify(mysimplify(left) * mysimplify(right))"
     ],
     "language": "python",
     "metadata": {},
     "outputs": [
      {
       "output_type": "stream",
       "stream": "stderr",
       "text": [
        "/usr/lib/python3/dist-packages/IPython/core/formatters.py:239: FormatterWarning: Exception in image/png formatter: \n",
        "\\left( \n",
        "       ^\n",
        "Expected \"\\right\" (at char 7), (line:1, col:8)\n",
        "  FormatterWarning,\n"
       ]
      },
      {
       "latex": [
        "$$\\left( \\left(x y\\right)^{k} \\otimes y \\right)$$"
       ],
       "metadata": {},
       "output_type": "pyout",
       "prompt_number": 70,
       "text": [
        " (     k \n",
        "(x\u22c5y) \u2297y)"
       ]
      }
     ],
     "prompt_number": 70
    },
    {
     "cell_type": "markdown",
     "metadata": {},
     "source": [
      "$\\Huge (d_6)_{*4}$"
     ]
    },
    {
     "cell_type": "code",
     "collapsed": true,
     "input": [
      "Mpp = 0\n",
      "Npp = 0\n",
      "Opp = C\n",
      "Ppp = D"
     ],
     "language": "python",
     "metadata": {},
     "outputs": [],
     "prompt_number": 71
    },
    {
     "cell_type": "code",
     "collapsed": true,
     "input": [
      "col = [Mpp, Npp, rho + Opp, tau + Ppp]"
     ],
     "language": "python",
     "metadata": {},
     "outputs": [],
     "prompt_number": 72
    },
    {
     "cell_type": "code",
     "collapsed": false,
     "input": [
      "line1_rhs0, line2_rhs0, line3_rhs0, line4_rhs0 = \\\n",
      "    [mysimplify(sum(u * v for (u, v) in zip(col, row))) for row in [row1, row2, row3, row4]]\n",
      "[line1_rhs0, line2_rhs0, line3_rhs0, line4_rhs0]"
     ],
     "language": "python",
     "metadata": {},
     "outputs": [
      {
       "output_type": "stream",
       "stream": "stderr",
       "text": [
        "/usr/lib/python3/dist-packages/IPython/core/formatters.py:239: FormatterWarning: Exception in image/png formatter: \n",
        "\\left [ 0, \\quad 0, \\quad c^{3} \\sum_{q=0}^{k - 1} \\left( \n",
        "                                                          ^\n",
        "Expected \"\\right\" (at char 58), (line:1, col:59)\n",
        "  FormatterWarning,\n"
       ]
      },
      {
       "latex": [
        "$$\\left [ 0, \\quad 0, \\quad c^{3} \\sum_{q=0}^{k - 1} \\left( \\left(x y\\right)^{k} \\left(y x\\right)^{q} \\otimes \\left(x y\\right)^{k - q} \\right) + c^{3} \\left( \\left(x y\\right)^{k} \\otimes \\left(x y\\right)^{k} \\right) + c^{2} d \\sum_{q=0}^{k - 1} \\left( \\left(x y\\right)^{k} \\left(y x\\right)^{q} \\otimes x \\left(y x\\right)^{2 k - q - 2} \\right) + c^{2} \\sum_{q=0}^{k - 1} \\left( \\left(x y\\right)^{k} \\left(y x\\right)^{q} \\otimes \\left(x y\\right)^{k - q - 1} y \\right) + c^{2} \\sum_{q=0}^{k - 1} \\left( y \\left(x y\\right)^{k - 1} \\left(y x\\right)^{q} \\otimes \\left(x y\\right)^{k - q} \\right) + c^{2} \\left( y \\left(x y\\right)^{k - 1} \\otimes \\left(x y\\right)^{k} \\right) + d \\sum_{q=0}^{k - 1} \\left( x \\left(y x\\right)^{q} \\otimes x \\left(y x\\right)^{2 k - q - 2} \\right) + d \\sum_{q=0}^{k - 1} \\left( x \\left(y x\\right)^{k + q - 1} \\otimes x \\left(y x\\right)^{k - q - 1} \\right) + \\sum_{q=0}^{k - 1} \\left( x \\left(y x\\right)^{q} \\otimes \\left(x y\\right)^{k - q - 1} y \\right) + \\sum_{q=0}^{k - 1} \\left( \\left(y x\\right)^{q} \\otimes \\left(x y\\right)^{k - q} \\right) + \\sum_{q=0}^{k - 1} \\left( \\left(y x\\right)^{q + 1} \\otimes \\left(x y\\right)^{k - q - 1} \\right) + \\sum_{q=0}^{k - 1} \\left( y \\left(y x\\right)^{q} \\otimes x \\left(y x\\right)^{k - q - 1} \\right) + \\left( 1 \\otimes \\left(x y\\right)^{k} \\right) + \\left( y \\otimes x \\left(y x\\right)^{k - 1} \\right) + \\left( \\left(x y\\right)^{k} \\otimes 1 \\right) + \\left( x \\left(y x\\right)^{k - 1} \\otimes y \\right), \\quad c^{3} d \\sum_{q=0}^{k - 1} \\left( x \\left(y x\\right)^{k - 1} \\left(x y\\right)^{q} \\otimes y \\left(x y\\right)^{2 k - q - 1} \\right) + c^{2} d \\sum_{q=0}^{k - 1} \\left( y \\left(x y\\right)^{k + q - 1} \\otimes \\left(y x\\right)^{2 k - q - 1} \\right) + c d \\sum_{q=0}^{k - 1} \\left( x \\left(y x\\right)^{k - 1} \\left(x y\\right)^{q} \\otimes \\left(y x\\right)^{k - q} \\right) + c d \\left( x \\left(y x\\right)^{k - 1} \\otimes \\left(x y\\right)^{k} \\right) + c \\sum_{q=0}^{k - 1} \\left( \\left(x y\\right)^{q} \\otimes y \\left(x y\\right)^{k - q} \\right) + c \\sum_{q=0}^{k - 2} \\left( \\left(x y\\right)^{q + 1} \\otimes y \\left(x y\\right)^{k - q - 1} \\right) + c \\sum_{q=0}^{k - 1} \\left( y \\left(x y\\right)^{q} \\otimes \\left(y x\\right)^{k - q} \\right) + c \\sum_{q=0}^{k - 2} \\left( y \\left(x y\\right)^{q + 1} \\otimes \\left(y x\\right)^{k - q - 1} \\right) + c \\left( y \\otimes \\left(x y\\right)^{k} \\right) + d \\sum_{q=0}^{k - 1} \\left( \\left(x y\\right)^{q} \\otimes \\left(y x\\right)^{2 k - q - 1} \\right) + d \\sum_{q=0}^{k - 1} \\left( x \\left(y x\\right)^{k - 1} \\left(x y\\right)^{q} \\otimes y \\left(x y\\right)^{k - q - 1} \\right) + d \\left( \\left(x y\\right)^{k - 1} \\otimes \\left(x y\\right)^{k} \\right) + d \\left( x \\left(y x\\right)^{k - 1} \\otimes y \\left(x y\\right)^{k - 1} \\right) + \\sum_{q=0}^{k - 2} \\left( y \\left(x y\\right)^{q} \\otimes y \\left(x y\\right)^{k - q - 1} \\right) + \\sum_{q=0}^{k - 2} \\left( y \\left(x y\\right)^{q + 1} \\otimes y \\left(x y\\right)^{k - q - 2} \\right) + \\left( y \\otimes y \\left(x y\\right)^{k - 1} \\right) + \\left( y \\left(x y\\right)^{k - 1} \\otimes y \\right)\\right ]$$"
       ],
       "metadata": {},
       "output_type": "pyout",
       "prompt_number": 73,
       "text": [
        "\u23a1         k - 1                                                    k - 1      \n",
        "\u23a2          ____                                                     ____      \n",
        "\u23a2          \u2572                                                        \u2572         \n",
        "\u23a2           \u2572        (     k      q                                  \u2572        \n",
        "\u23a2       3    \u2572  (x\u22c5y) \u22c5(y\u22c5x) \u2297     k - q    3                  2      \u2572  (x\u22c5y)\n",
        "\u23a20, 0, c \u22c5   \u2571        (x\u22c5y)     )        + c \u22c5   (     k    + c \u22c5d\u22c5   \u2571       \n",
        "\u23a2           \u2571                                 (x\u22c5y) \u2297     k          \u2571        \n",
        "\u23a2          \u2571                                     (x\u22c5y) )            \u2571         \n",
        "\u23a2          \u203e\u203e\u203e\u203e                                                     \u203e\u203e\u203e\u203e      \n",
        "\u23a3         q = 0                                                    q = 0      \n",
        "\n",
        "                                 k - 1                                     k -\n",
        "                                  ____                                      __\n",
        "                                  \u2572                                         \u2572 \n",
        "    (     k      q                 \u2572           (     k      q                \u2572\n",
        " \u22c5(y\u22c5x) \u2297       2\u22c5k - q - 2    2    \u2572  (x\u22c5y) \u22c5(y\u22c5x) \u2297     k - q - 1      2    \n",
        " x\u22c5(y\u22c5x)           )        + c \u22c5   \u2571        (x\u22c5y)         \u22c5y)        + c \u22c5   \n",
        "                                   \u2571                                         \u2571\n",
        "                                  \u2571                                         \u2571 \n",
        "                                  \u203e\u203e\u203e\u203e                                      \u203e\u203e\n",
        "                                 q = 0                                     q =\n",
        "\n",
        " 1                                                             k - 1          \n",
        "__                                                              ____          \n",
        "                                                                \u2572             \n",
        "        (       k - 1      q                                     \u2572            \n",
        "\u2572  y\u22c5(x\u22c5y)     \u22c5(y\u22c5x) \u2297     k - q    2                            \u2572  x\u22c5(y\u22c5x) \u2297\n",
        "\u2571           (x\u22c5y)     )           + c \u22c5   (       k - 1    + d\u22c5   \u2571      x\u22c5(y\u22c5\n",
        "                                       y\u22c5(x\u22c5y)     \u2297     k       \u2571            \n",
        "                                             (x\u22c5y) )            \u2571             \n",
        "\u203e\u203e                                                              \u203e\u203e\u203e\u203e          \n",
        " 0                                                             q = 0          \n",
        "\n",
        "                       k - 1                                     k - 1        \n",
        "                        ____                                      ____        \n",
        "                        \u2572                                         \u2572           \n",
        "(       q                \u2572           (       k + q - 1             \u2572          \n",
        "       2\u22c5k - q - 2        \u2572  x\u22c5(y\u22c5x)         \u2297       k - q - 1      \u2572  x\u22c5(y\u22c5x)\n",
        "x)           )     + d\u22c5   \u2571          x\u22c5(y\u22c5x)         )         +    \u2571      (x\u22c5\n",
        "                         \u2571                                         \u2571          \n",
        "                        \u2571                                         \u2571           \n",
        "                        \u203e\u203e\u203e\u203e                                      \u203e\u203e\u203e\u203e        \n",
        "                       q = 0                                     q = 0        \n",
        "\n",
        "                     k - 1                     k - 1                          \n",
        "                      ____                      ____                          \n",
        "                      \u2572                         \u2572                             \n",
        " (       q             \u2572        (     q          \u2572          (     q + 1       \n",
        " \u2297     k - q - 1        \u2572  (y\u22c5x) \u2297     k - q      \u2572  (y\u22c5x)     \u2297     k - q - 1\n",
        "y)         \u22c5y)     +    \u2571     (x\u22c5y)     )    +    \u2571       (x\u22c5y)         )     \n",
        "                       \u2571                         \u2571                            \n",
        "                      \u2571                         \u2571                             \n",
        "                      \u203e\u203e\u203e\u203e                      \u203e\u203e\u203e\u203e                          \n",
        "                     q = 0                     q = 0                          \n",
        "\n",
        "   k - 1                                                                      \n",
        "    ____                                                                      \n",
        "    \u2572                                                                         \n",
        "     \u2572           (       q                                                    \n",
        "      \u2572  y\u22c5(y\u22c5x) \u2297       k - q - 1                                            \n",
        " +    \u2571      x\u22c5(y\u22c5x)         )     + (1\u2297     k + (y\u2297       k - 1 +  (     k  +\n",
        "     \u2571                                (x\u22c5y) )     x\u22c5(y\u22c5x)     )    (x\u22c5y) \u22971)  \n",
        "    \u2571                                                                         \n",
        "    \u203e\u203e\u203e\u203e                                                                      \n",
        "   q = 0                                                                      \n",
        "\n",
        "                       k - 1                                               k -\n",
        "                        ____                                                __\n",
        "                        \u2572                                                   \u2572 \n",
        "                         \u2572            (       k - 1      q                   \u2572\n",
        "                   3      \u2572  x\u22c5(y\u22c5x)     \u22c5(x\u22c5y) \u2297       2\u22c5k - q - 1    2      \n",
        "  (       k - 1 , c \u22c5d\u22c5   \u2571           y\u22c5(x\u22c5y)           )           + c \u22c5d\u22c5   \n",
        " x\u22c5(y\u22c5x)     \u2297y)         \u2571                                                   \u2571\n",
        "                        \u2571                                                   \u2571 \n",
        "                        \u203e\u203e\u203e\u203e                                                \u203e\u203e\n",
        "                       q = 0                                               q =\n",
        "\n",
        " 1                                         k - 1                              \n",
        "__                                          ____                              \n",
        "                                            \u2572                                 \n",
        "           (       k + q - 1                 \u2572        (       k - 1      q    \n",
        "\u2572  y\u22c5(x\u22c5y)         \u2297     2\u22c5k - q - 1          \u2572  x\u22c5(y\u22c5x)     \u22c5(x\u22c5y) \u2297     k - \n",
        "\u2571          (y\u22c5x)           )         + c\u22c5d\u22c5   \u2571           (y\u22c5x)     )         \n",
        "                                             \u2571                                \n",
        "                                            \u2571                                 \n",
        "\u203e\u203e                                          \u203e\u203e\u203e\u203e                              \n",
        " 0                                         q = 0                              \n",
        "\n",
        "                                k - 1                         k - 2           \n",
        "                                 ____                          ____           \n",
        "                                 \u2572                             \u2572              \n",
        "                                  \u2572         (     q             \u2572           ( \n",
        "q                                  \u2572  (x\u22c5y) \u2297       k - q        \u2572  (x\u22c5y)     \n",
        "  + c\u22c5d\u22c5   (       k - 1    + c\u22c5   \u2571     y\u22c5(x\u22c5y)     )    + c\u22c5   \u2571       y\u22c5(x\u22c5\n",
        "        x\u22c5(y\u22c5x)     \u2297     k       \u2571                             \u2571             \n",
        "              (x\u22c5y) )            \u2571                             \u2571              \n",
        "                                 \u203e\u203e\u203e\u203e                          \u203e\u203e\u203e\u203e           \n",
        "                                q = 0                         q = 0           \n",
        "\n",
        "                      k - 1                         k - 2                     \n",
        "                       ____                          ____                     \n",
        "                       \u2572                             \u2572                        \n",
        "    q + 1               \u2572        (       q            \u2572          (       q + 1\n",
        "\u2297       k - q - 1        \u2572  y\u22c5(x\u22c5y) \u2297     k - q        \u2572  y\u22c5(x\u22c5y)     \u2297     k \n",
        "y)         )      + c\u22c5   \u2571      (y\u22c5x)     )     + c\u22c5   \u2571        (y\u22c5x)         \n",
        "                        \u2571                             \u2571                       \n",
        "                       \u2571                             \u2571                        \n",
        "                       \u203e\u203e\u203e\u203e                          \u203e\u203e\u203e\u203e                     \n",
        "                      q = 0                         q = 0                     \n",
        "\n",
        "                          k - 1                             k - 1             \n",
        "                           ____                              ____             \n",
        "                           \u2572                                 \u2572                \n",
        "                            \u2572           (     q               \u2572           (   \n",
        "- q - 1                      \u2572  (x\u22c5y) \u2297     2\u22c5k - q - 1        \u2572  x\u22c5(y\u22c5x)     \n",
        ")       + c\u22c5(y\u2297     k + d\u22c5   \u2571     (y\u22c5x)           )    + d\u22c5   \u2571           y\u22c5(\n",
        "             (x\u22c5y) )        \u2571                                 \u2571               \n",
        "                           \u2571                                 \u2571                \n",
        "                           \u203e\u203e\u203e\u203e                              \u203e\u203e\u203e\u203e             \n",
        "                          q = 0                             q = 0             \n",
        "\n",
        "                                                                              \n",
        "                                                                              \n",
        "                                                                              \n",
        "    k - 1      q                                                              \n",
        "\u22c5(x\u22c5y) \u2297       k - q - 1                                                      \n",
        "x\u22c5y)         )           + d\u22c5   (     k - 1    + d\u22c5      (       k - 1       +\n",
        "                             (x\u22c5y)     \u2297     k     x\u22c5(y\u22c5x)     \u2297       k - 1  \n",
        "                                  (x\u22c5y) )                y\u22c5(x\u22c5y)     )        \n",
        "                                                                              \n",
        "                                                                              \n",
        "\n",
        " k - 2                             k - 2                                      \n",
        "  ____                              ____                                      \n",
        "  \u2572                                 \u2572                                         \n",
        "   \u2572           (       q             \u2572           (       q + 1                \n",
        "    \u2572  y\u22c5(x\u22c5y) \u2297       k - q - 1      \u2572  y\u22c5(x\u22c5y)     \u2297       k - q - 2        \n",
        "    \u2571      y\u22c5(x\u22c5y)         )     +    \u2571        y\u22c5(x\u22c5y)         )       + (y\u2297  \n",
        "   \u2571                                 \u2571                                    y\u22c5(x\n",
        "  \u2571                                 \u2571                                         \n",
        "  \u203e\u203e\u203e\u203e                              \u203e\u203e\u203e\u203e                                      \n",
        " q = 0                             q = 0                                      \n",
        "\n",
        "                            \u23a4\n",
        "                            \u23a5\n",
        "                            \u23a5\n",
        "                            \u23a5\n",
        "                            \u23a5\n",
        "     k - 1 +  (       k - 1 \u23a5\n",
        "\u22c5y)     )    y\u22c5(x\u22c5y)     \u2297y)\u23a5\n",
        "                            \u23a5\n",
        "                            \u23a5\n",
        "                            \u23a6"
       ]
      }
     ],
     "prompt_number": 73
    },
    {
     "cell_type": "code",
     "collapsed": false,
     "input": [
      "line3_rhs0 # verified, zero"
     ],
     "language": "python",
     "metadata": {},
     "outputs": [
      {
       "output_type": "stream",
       "stream": "stderr",
       "text": [
        "/usr/lib/python3/dist-packages/IPython/core/formatters.py:239: FormatterWarning: Exception in image/png formatter: \n",
        "c^{3} \\sum_{q=0}^{k - 1} \\left( \n",
        "                                ^\n",
        "Expected \"\\right\" (at char 32), (line:1, col:33)\n",
        "  FormatterWarning,\n"
       ]
      },
      {
       "latex": [
        "$$c^{3} \\sum_{q=0}^{k - 1} \\left( \\left(x y\\right)^{k} \\left(y x\\right)^{q} \\otimes \\left(x y\\right)^{k - q} \\right) + c^{3} \\left( \\left(x y\\right)^{k} \\otimes \\left(x y\\right)^{k} \\right) + c^{2} d \\sum_{q=0}^{k - 1} \\left( \\left(x y\\right)^{k} \\left(y x\\right)^{q} \\otimes x \\left(y x\\right)^{2 k - q - 2} \\right) + c^{2} \\sum_{q=0}^{k - 1} \\left( \\left(x y\\right)^{k} \\left(y x\\right)^{q} \\otimes \\left(x y\\right)^{k - q - 1} y \\right) + c^{2} \\sum_{q=0}^{k - 1} \\left( y \\left(x y\\right)^{k - 1} \\left(y x\\right)^{q} \\otimes \\left(x y\\right)^{k - q} \\right) + c^{2} \\left( y \\left(x y\\right)^{k - 1} \\otimes \\left(x y\\right)^{k} \\right) + d \\sum_{q=0}^{k - 1} \\left( x \\left(y x\\right)^{q} \\otimes x \\left(y x\\right)^{2 k - q - 2} \\right) + d \\sum_{q=0}^{k - 1} \\left( x \\left(y x\\right)^{k + q - 1} \\otimes x \\left(y x\\right)^{k - q - 1} \\right) + \\sum_{q=0}^{k - 1} \\left( x \\left(y x\\right)^{q} \\otimes \\left(x y\\right)^{k - q - 1} y \\right) + \\sum_{q=0}^{k - 1} \\left( \\left(y x\\right)^{q} \\otimes \\left(x y\\right)^{k - q} \\right) + \\sum_{q=0}^{k - 1} \\left( \\left(y x\\right)^{q + 1} \\otimes \\left(x y\\right)^{k - q - 1} \\right) + \\sum_{q=0}^{k - 1} \\left( y \\left(y x\\right)^{q} \\otimes x \\left(y x\\right)^{k - q - 1} \\right) + \\left( 1 \\otimes \\left(x y\\right)^{k} \\right) + \\left( y \\otimes x \\left(y x\\right)^{k - 1} \\right) + \\left( \\left(x y\\right)^{k} \\otimes 1 \\right) + \\left( x \\left(y x\\right)^{k - 1} \\otimes y \\right)$$"
       ],
       "metadata": {},
       "output_type": "pyout",
       "prompt_number": 74,
       "text": [
        "   k - 1                                                    k - 1             \n",
        "    ____                                                     ____             \n",
        "    \u2572                                                        \u2572                \n",
        "     \u2572        (     k      q                                  \u2572            (  \n",
        " 3    \u2572  (x\u22c5y) \u22c5(y\u22c5x) \u2297     k - q    3                  2      \u2572  (x\u22c5y) \u22c5(y\u22c5x)\n",
        "c \u22c5   \u2571        (x\u22c5y)     )        + c \u22c5   (     k    + c \u22c5d\u22c5   \u2571        x\u22c5(y\u22c5x\n",
        "     \u2571                                 (x\u22c5y) \u2297     k          \u2571               \n",
        "    \u2571                                     (x\u22c5y) )            \u2571                \n",
        "    \u203e\u203e\u203e\u203e                                                     \u203e\u203e\u203e\u203e             \n",
        "   q = 0                                                    q = 0             \n",
        "\n",
        "                          k - 1                                     k - 1     \n",
        "                           ____                                      ____     \n",
        "                           \u2572                                         \u2572        \n",
        "   k      q                 \u2572           (     k      q                \u2572       \n",
        " \u2297       2\u22c5k - q - 2    2    \u2572  (x\u22c5y) \u22c5(y\u22c5x) \u2297     k - q - 1      2    \u2572  y\u22c5(x\n",
        ")           )        + c \u22c5   \u2571        (x\u22c5y)         \u22c5y)        + c \u22c5   \u2571      \n",
        "                            \u2571                                         \u2571       \n",
        "                           \u2571                                         \u2571        \n",
        "                           \u203e\u203e\u203e\u203e                                      \u203e\u203e\u203e\u203e     \n",
        "                          q = 0                                     q = 0     \n",
        "\n",
        "                                                        k - 1                 \n",
        "                                                         ____                 \n",
        "                                                         \u2572                    \n",
        " (       k - 1      q                                     \u2572            (      \n",
        "\u22c5y)     \u22c5(y\u22c5x) \u2297     k - q    2                            \u2572  x\u22c5(y\u22c5x) \u2297       \n",
        "     (x\u22c5y)     )           + c \u22c5   (       k - 1    + d\u22c5   \u2571      x\u22c5(y\u22c5x)     \n",
        "                                y\u22c5(x\u22c5y)     \u2297     k       \u2571                   \n",
        "                                      (x\u22c5y) )            \u2571                    \n",
        "                                                         \u203e\u203e\u203e\u203e                 \n",
        "                                                        q = 0                 \n",
        "\n",
        "                k - 1                                     k - 1               \n",
        "                 ____                                      ____               \n",
        "                 \u2572                                         \u2572                  \n",
        " q                \u2572           (       k + q - 1             \u2572           (     \n",
        "2\u22c5k - q - 2        \u2572  x\u22c5(y\u22c5x)         \u2297       k - q - 1      \u2572  x\u22c5(y\u22c5x) \u2297     \n",
        "      )     + d\u22c5   \u2571          x\u22c5(y\u22c5x)         )         +    \u2571      (x\u22c5y)     \n",
        "                  \u2571                                         \u2571                 \n",
        "                 \u2571                                         \u2571                  \n",
        "                 \u203e\u203e\u203e\u203e                                      \u203e\u203e\u203e\u203e               \n",
        "                q = 0                                     q = 0               \n",
        "\n",
        "              k - 1                     k - 1                             k - \n",
        "               ____                      ____                              ___\n",
        "               \u2572                         \u2572                                 \u2572  \n",
        "  q             \u2572        (     q          \u2572          (     q + 1            \u2572 \n",
        "k - q - 1        \u2572  (y\u22c5x) \u2297     k - q      \u2572  (y\u22c5x)     \u2297     k - q - 1      \u2572\n",
        "    \u22c5y)     +    \u2571     (x\u22c5y)     )    +    \u2571       (x\u22c5y)         )      +    \u2571\n",
        "                \u2571                         \u2571                                 \u2571 \n",
        "               \u2571                         \u2571                                 \u2571  \n",
        "               \u203e\u203e\u203e\u203e                      \u203e\u203e\u203e\u203e                              \u203e\u203e\u203e\n",
        "              q = 0                     q = 0                             q = \n",
        "\n",
        "1                                                                             \n",
        "_                                                                             \n",
        "                                                                              \n",
        "          (       q                                                           \n",
        "  y\u22c5(y\u22c5x) \u2297       k - q - 1                                                   \n",
        "      x\u22c5(y\u22c5x)         )     + (1\u2297     k + (y\u2297       k - 1 +  (     k  +  (    \n",
        "                               (x\u22c5y) )     x\u22c5(y\u22c5x)     )    (x\u22c5y) \u22971)   x\u22c5(y\u22c5x\n",
        "                                                                              \n",
        "\u203e                                                                             \n",
        "0                                                                             \n",
        "\n",
        "         \n",
        "         \n",
        "         \n",
        "         \n",
        "         \n",
        "   k - 1 \n",
        ")     \u2297y)\n",
        "         \n",
        "         \n",
        "         "
       ]
      }
     ],
     "prompt_number": 74
    },
    {
     "cell_type": "code",
     "collapsed": false,
     "input": [
      "line4_rhs0 # should be equal to the one in \\delta_{1 or 2}"
     ],
     "language": "python",
     "metadata": {},
     "outputs": [
      {
       "output_type": "stream",
       "stream": "stderr",
       "text": [
        "/usr/lib/python3/dist-packages/IPython/core/formatters.py:239: FormatterWarning: Exception in image/png formatter: \n",
        "c^{3} d \\sum_{q=0}^{k - 1} \\left( \n",
        "                                  ^\n",
        "Expected \"\\right\" (at char 34), (line:1, col:35)\n",
        "  FormatterWarning,\n"
       ]
      },
      {
       "latex": [
        "$$c^{3} d \\sum_{q=0}^{k - 1} \\left( x \\left(y x\\right)^{k - 1} \\left(x y\\right)^{q} \\otimes y \\left(x y\\right)^{2 k - q - 1} \\right) + c^{2} d \\sum_{q=0}^{k - 1} \\left( y \\left(x y\\right)^{k + q - 1} \\otimes \\left(y x\\right)^{2 k - q - 1} \\right) + c d \\sum_{q=0}^{k - 1} \\left( x \\left(y x\\right)^{k - 1} \\left(x y\\right)^{q} \\otimes \\left(y x\\right)^{k - q} \\right) + c d \\left( x \\left(y x\\right)^{k - 1} \\otimes \\left(x y\\right)^{k} \\right) + c \\sum_{q=0}^{k - 1} \\left( \\left(x y\\right)^{q} \\otimes y \\left(x y\\right)^{k - q} \\right) + c \\sum_{q=0}^{k - 2} \\left( \\left(x y\\right)^{q + 1} \\otimes y \\left(x y\\right)^{k - q - 1} \\right) + c \\sum_{q=0}^{k - 1} \\left( y \\left(x y\\right)^{q} \\otimes \\left(y x\\right)^{k - q} \\right) + c \\sum_{q=0}^{k - 2} \\left( y \\left(x y\\right)^{q + 1} \\otimes \\left(y x\\right)^{k - q - 1} \\right) + c \\left( y \\otimes \\left(x y\\right)^{k} \\right) + d \\sum_{q=0}^{k - 1} \\left( \\left(x y\\right)^{q} \\otimes \\left(y x\\right)^{2 k - q - 1} \\right) + d \\sum_{q=0}^{k - 1} \\left( x \\left(y x\\right)^{k - 1} \\left(x y\\right)^{q} \\otimes y \\left(x y\\right)^{k - q - 1} \\right) + d \\left( \\left(x y\\right)^{k - 1} \\otimes \\left(x y\\right)^{k} \\right) + d \\left( x \\left(y x\\right)^{k - 1} \\otimes y \\left(x y\\right)^{k - 1} \\right) + \\sum_{q=0}^{k - 2} \\left( y \\left(x y\\right)^{q} \\otimes y \\left(x y\\right)^{k - q - 1} \\right) + \\sum_{q=0}^{k - 2} \\left( y \\left(x y\\right)^{q + 1} \\otimes y \\left(x y\\right)^{k - q - 2} \\right) + \\left( y \\otimes y \\left(x y\\right)^{k - 1} \\right) + \\left( y \\left(x y\\right)^{k - 1} \\otimes y \\right)$$"
       ],
       "metadata": {},
       "output_type": "pyout",
       "prompt_number": 75,
       "text": [
        "     k - 1                                               k - 1                \n",
        "      ____                                                ____                \n",
        "      \u2572                                                   \u2572                   \n",
        "       \u2572            (       k - 1      q                   \u2572           (      \n",
        " 3      \u2572  x\u22c5(y\u22c5x)     \u22c5(x\u22c5y) \u2297       2\u22c5k - q - 1    2      \u2572  y\u22c5(x\u22c5y)        \n",
        "c \u22c5d\u22c5   \u2571           y\u22c5(x\u22c5y)           )           + c \u22c5d\u22c5   \u2571          (y\u22c5x)  \n",
        "       \u2571                                                   \u2571                  \n",
        "      \u2571                                                   \u2571                   \n",
        "      \u203e\u203e\u203e\u203e                                                \u203e\u203e\u203e\u203e                \n",
        "     q = 0                                               q = 0                \n",
        "\n",
        "                         k - 1                                                \n",
        "                          ____                                                \n",
        "                          \u2572                                                   \n",
        " k + q - 1                 \u2572        (       k - 1      q                      \n",
        " \u2297     2\u22c5k - q - 1          \u2572  x\u22c5(y\u22c5x)     \u22c5(x\u22c5y) \u2297     k - q                 \n",
        "         )         + c\u22c5d\u22c5   \u2571           (y\u22c5x)     )           + c\u22c5d\u22c5   (      \n",
        "                           \u2571                                        x\u22c5(y\u22c5x)   \n",
        "                          \u2571                                               (x\u22c5y\n",
        "                          \u203e\u203e\u203e\u203e                                                \n",
        "                         q = 0                                                \n",
        "\n",
        "              k - 1                         k - 2                             \n",
        "               ____                          ____                             \n",
        "               \u2572                             \u2572                                \n",
        "                \u2572         (     q             \u2572           (     q + 1         \n",
        "                 \u2572  (x\u22c5y) \u2297       k - q        \u2572  (x\u22c5y)     \u2297       k - q - 1 \n",
        " k - 1    + c\u22c5   \u2571     y\u22c5(x\u22c5y)     )    + c\u22c5   \u2571       y\u22c5(x\u22c5y)         )      \n",
        "  \u2297     k       \u2571                             \u2571                               \n",
        ") )            \u2571                             \u2571                                \n",
        "               \u203e\u203e\u203e\u203e                          \u203e\u203e\u203e\u203e                             \n",
        "              q = 0                         q = 0                             \n",
        "\n",
        "    k - 1                         k - 2                                       \n",
        "     ____                          ____                                       \n",
        "     \u2572                             \u2572                                          \n",
        "      \u2572        (       q            \u2572          (       q + 1                  \n",
        "       \u2572  y\u22c5(x\u22c5y) \u2297     k - q        \u2572  y\u22c5(x\u22c5y)     \u2297     k - q - 1           \n",
        "+ c\u22c5   \u2571      (y\u22c5x)     )     + c\u22c5   \u2571        (y\u22c5x)         )       + c\u22c5(y\u2297   \n",
        "      \u2571                             \u2571                                    (x\u22c5y)\n",
        "     \u2571                             \u2571                                          \n",
        "     \u203e\u203e\u203e\u203e                          \u203e\u203e\u203e\u203e                                       \n",
        "    q = 0                         q = 0                                       \n",
        "\n",
        "        k - 1                             k - 1                               \n",
        "         ____                              ____                               \n",
        "         \u2572                                 \u2572                                  \n",
        "          \u2572           (     q               \u2572           (       k - 1      q  \n",
        "           \u2572  (x\u22c5y) \u2297     2\u22c5k - q - 1        \u2572  x\u22c5(y\u22c5x)     \u22c5(x\u22c5y) \u2297       k -\n",
        "  k + d\u22c5   \u2571     (y\u22c5x)           )    + d\u22c5   \u2571           y\u22c5(x\u22c5y)         )    \n",
        " )        \u2571                                 \u2571                                 \n",
        "         \u2571                                 \u2571                                  \n",
        "         \u203e\u203e\u203e\u203e                              \u203e\u203e\u203e\u203e                               \n",
        "        q = 0                             q = 0                               \n",
        "\n",
        "                                                             k - 2            \n",
        "                                                              ____            \n",
        "                                                              \u2572               \n",
        "                                                               \u2572           (  \n",
        " q - 1                                                          \u2572  y\u22c5(x\u22c5y) \u2297  \n",
        "       + d\u22c5   (     k - 1    + d\u22c5      (       k - 1       +    \u2571      y\u22c5(x\u22c5y)\n",
        "           (x\u22c5y)     \u2297     k     x\u22c5(y\u22c5x)     \u2297       k - 1     \u2571              \n",
        "                (x\u22c5y) )                y\u22c5(x\u22c5y)     )          \u2571               \n",
        "                                                              \u203e\u203e\u203e\u203e            \n",
        "                                                             q = 0            \n",
        "\n",
        "                 k - 2                                                        \n",
        "                  ____                                                        \n",
        "                  \u2572                                                           \n",
        "     q             \u2572           (       q + 1                                  \n",
        "     k - q - 1      \u2572  y\u22c5(x\u22c5y)     \u2297       k - q - 2                          \n",
        "         )     +    \u2571        y\u22c5(x\u22c5y)         )       + (y\u2297       k - 1 +  (   \n",
        "                   \u2571                                    y\u22c5(x\u22c5y)     )    y\u22c5(x\u22c5\n",
        "                  \u2571                                                           \n",
        "                  \u203e\u203e\u203e\u203e                                                        \n",
        "                 q = 0                                                        \n",
        "\n",
        "          \n",
        "          \n",
        "          \n",
        "          \n",
        "          \n",
        "    k - 1 \n",
        "y)     \u2297y)\n",
        "          \n",
        "          \n",
        "          "
       ]
      }
     ],
     "prompt_number": 75
    },
    {
     "cell_type": "code",
     "collapsed": true,
     "input": [
      "mysimplify(Y*X)"
     ],
     "language": "python",
     "metadata": {},
     "outputs": [
      {
       "output_type": "stream",
       "stream": "stderr",
       "text": [
        "/usr/lib/python3/dist-packages/IPython/core/formatters.py:239: FormatterWarning: Exception in image/png formatter: \n",
        "\\left( \n",
        "       ^\n",
        "Expected \"\\right\" (at char 7), (line:1, col:8)\n",
        "  FormatterWarning,\n"
       ]
      },
      {
       "latex": [
        "$$\\left( 1 \\otimes x y \\right) + \\left( x \\otimes y \\right) + \\left( y \\otimes x \\right) + \\left( y x \\otimes 1 \\right)$$"
       ],
       "metadata": {},
       "output_type": "pyout",
       "prompt_number": 80,
       "text": [
        "(1\u2297x\u22c5y) + (x\u2297y) + (y\u2297x) + (y\u22c5x\u22971)"
       ]
      }
     ],
     "prompt_number": 80
    },
    {
     "cell_type": "code",
     "collapsed": false,
     "input": [],
     "language": "python",
     "metadata": {},
     "outputs": []
    }
   ],
   "metadata": {}
  }
 ]
}