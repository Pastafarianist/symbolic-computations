{
 "cells": [
  {
   "cell_type": "code",
   "execution_count": 1,
   "metadata": {
    "collapsed": true
   },
   "outputs": [],
   "source": [
    "import sympy as sp\n",
    "sp.init_printing()"
   ]
  },
  {
   "cell_type": "code",
   "execution_count": 2,
   "metadata": {
    "collapsed": true
   },
   "outputs": [],
   "source": [
    "from validate_resolution import *"
   ]
  },
  {
   "cell_type": "code",
   "execution_count": 3,
   "metadata": {
    "collapsed": true
   },
   "outputs": [],
   "source": [
    "comp = composition(d3, d4)"
   ]
  },
  {
   "cell_type": "code",
   "execution_count": 4,
   "metadata": {},
   "outputs": [
    {
     "data": {
      "text/latex": [
       "$$\\sum_{q=0}^{k - 1} \\left( x \\left(y x\\right)^{q} \\otimes \\left(x y\\right)^{k - q - 1} y \\right) + \\sum_{q=0}^{k - 1} \\left( \\left(y x\\right)^{q} \\otimes \\left(x y\\right)^{k - q} \\right) + \\sum_{q=0}^{k - 1} \\left( \\left(y x\\right)^{q + 1} \\otimes \\left(x y\\right)^{k - q - 1} \\right) + \\sum_{q=0}^{k - 1} \\left( y \\left(y x\\right)^{q} \\otimes x \\left(y x\\right)^{k - q - 1} \\right) + \\left( 1 \\otimes \\left(x y\\right)^{k} \\right) + \\left( y \\otimes x \\left(y x\\right)^{k - 1} \\right) + \\left( \\left(x y\\right)^{k} \\otimes 1 \\right) + \\left( x \\left(y x\\right)^{k - 1} \\otimes y \\right)$$"
      ],
      "text/plain": [
       "k - 1                             k - 1                     k - 1             \n",
       " ____                              ____                      ____             \n",
       " ╲                                 ╲                         ╲                \n",
       "  ╲           (       q             ╲        (     q          ╲          (    \n",
       "   ╲  x⋅(y⋅x) ⊗     k - q - 1        ╲  (y⋅x) ⊗     k - q      ╲  (y⋅x)     ⊗ \n",
       "   ╱      (x⋅y)         ⋅y)     +    ╱     (x⋅y)     )    +    ╱       (x⋅y)  \n",
       "  ╱                                 ╱                         ╱               \n",
       " ╱                                 ╱                         ╱                \n",
       " ‾‾‾‾                              ‾‾‾‾                      ‾‾‾‾             \n",
       "q = 0                             q = 0                     q = 0             \n",
       "\n",
       "                k - 1                                                         \n",
       "                 ____                                                         \n",
       "                 ╲                                                            \n",
       " q + 1            ╲           (       q                                       \n",
       "    k - q - 1      ╲  y⋅(y⋅x) ⊗       k - q - 1                               \n",
       "       )      +    ╱      x⋅(y⋅x)         )     + (1⊗     k + (y⊗       k - 1 \n",
       "                  ╱                                (x⋅y) )     x⋅(y⋅x)     )  \n",
       "                 ╱                                                            \n",
       "                 ‾‾‾‾                                                         \n",
       "                q = 0                                                         \n",
       "\n",
       "                             \n",
       "                             \n",
       "                             \n",
       "                             \n",
       "                             \n",
       "+  (     k  +  (       k - 1 \n",
       "  (x⋅y) ⊗1)   x⋅(y⋅x)     ⊗y)\n",
       "                             \n",
       "                             \n",
       "                             "
      ]
     },
     "execution_count": 4,
     "metadata": {},
     "output_type": "execute_result"
    }
   ],
   "source": [
    "comp[1][2]"
   ]
  },
  {
   "cell_type": "code",
   "execution_count": 5,
   "metadata": {},
   "outputs": [
    {
     "data": {
      "text/latex": [
       "$$c \\sum_{q=0}^{k - 1} \\left( \\left(y x\\right)^{q} \\otimes \\left(x y\\right)^{2 k - q - 1} \\right) + c \\sum_{q=0}^{k - 1} \\left( \\left(x y\\right)^{k} \\left(y x\\right)^{q} \\otimes \\left(x y\\right)^{k - q - 1} \\right) + c \\left( \\left(x y\\right)^{k} \\otimes \\left(x y\\right)^{k - 1} \\right) + c \\left( \\left(y x\\right)^{k - 1} \\otimes \\left(x y\\right)^{k} \\right) + \\sum_{q=0}^{k - 1} \\left( \\left(y x\\right)^{q} \\otimes \\left(x y\\right)^{k - q - 1} y \\left(x y\\right)^{k - 1} \\right) + \\sum_{q=0}^{k - 1} \\left( y \\left(x y\\right)^{k - 1} \\left(y x\\right)^{q} \\otimes \\left(x y\\right)^{k - q - 1} \\right) + \\left( \\left(y x\\right)^{k - 1} \\otimes y \\left(x y\\right)^{k - 1} \\right) + \\left( y \\left(x y\\right)^{k - 1} \\otimes \\left(x y\\right)^{k - 1} \\right)$$"
      ],
      "text/plain": [
       "  k - 1                             k - 1                                     \n",
       "   ____                              ____                                     \n",
       "   ╲                                 ╲                                        \n",
       "    ╲           (     q               ╲          (     k      q               \n",
       "     ╲  (y⋅x) ⊗     2⋅k - q - 1        ╲  (x⋅y) ⋅(y⋅x) ⊗     k - q - 1        \n",
       "c⋅   ╱     (x⋅y)           )    + c⋅   ╱        (x⋅y)         )        + c⋅   \n",
       "    ╱                                 ╱                                    (x⋅\n",
       "   ╱                                 ╱                                        \n",
       "   ‾‾‾‾                              ‾‾‾‾                                     \n",
       "  q = 0                             q = 0                                     \n",
       "\n",
       "                                       k - 1                                  \n",
       "                                        ____                                  \n",
       "                                        ╲                                     \n",
       "                                         ╲                (     q             \n",
       "                                          ╲  (y⋅x) ⊗     k - q - 1        k - \n",
       "  (     k      + c⋅   (     k - 1    +    ╱     (x⋅y)         ⋅y⋅(x⋅y)     )  \n",
       "y) ⊗     k - 1     (y⋅x)     ⊗     k     ╱                                    \n",
       "(x⋅y)     )             (x⋅y) )         ╱                                     \n",
       "                                        ‾‾‾‾                                  \n",
       "                                       q = 0                                  \n",
       "\n",
       "    k - 1                                                                     \n",
       "     ____                                                                     \n",
       "     ╲                                                                        \n",
       "      ╲          (       k - 1      q                                         \n",
       "1      ╲  y⋅(x⋅y)     ⋅(y⋅x) ⊗     k - q - 1                                  \n",
       "  +    ╱           (x⋅y)         )           +       (     k - 1       +      \n",
       "      ╱                                        (y⋅x)     ⊗       k - 1   y⋅(x⋅\n",
       "     ╱                                              y⋅(x⋅y)     )             \n",
       "     ‾‾‾‾                                                                     \n",
       "    q = 0                                                                     \n",
       "\n",
       "                  \n",
       "                  \n",
       "                  \n",
       "                  \n",
       "                  \n",
       "(       k - 1     \n",
       "y)     ⊗     k - 1\n",
       " (x⋅y)     )      \n",
       "                  \n",
       "                  "
      ]
     },
     "execution_count": 5,
     "metadata": {},
     "output_type": "execute_result"
    }
   ],
   "source": [
    "comp[1][3]"
   ]
  },
  {
   "cell_type": "code",
   "execution_count": null,
   "metadata": {
    "collapsed": true
   },
   "outputs": [],
   "source": []
  }
 ],
 "metadata": {
  "kernelspec": {
   "display_name": "Python 3",
   "language": "python",
   "name": "python3"
  },
  "language_info": {
   "codemirror_mode": {
    "name": "ipython",
    "version": 3
   },
   "file_extension": ".py",
   "mimetype": "text/x-python",
   "name": "python",
   "nbconvert_exporter": "python",
   "pygments_lexer": "ipython3",
   "version": "3.6.1"
  }
 },
 "nbformat": 4,
 "nbformat_minor": 2
}
