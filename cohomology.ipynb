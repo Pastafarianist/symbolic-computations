{
 "cells": [
  {
   "cell_type": "code",
   "execution_count": 1,
   "metadata": {},
   "outputs": [],
   "source": [
    "import sympy as sp\n",
    "from rrop import TP, Sum, mysimplify, k, c, d, x, y, xy, yx, canonical_expr, split_commutative\n",
    "\n",
    "sp.init_printing()"
   ]
  },
  {
   "cell_type": "code",
   "execution_count": 2,
   "metadata": {
    "collapsed": true
   },
   "outputs": [],
   "source": [
    "q = sp.symbols('q')"
   ]
  },
  {
   "cell_type": "code",
   "execution_count": 3,
   "metadata": {
    "collapsed": true
   },
   "outputs": [],
   "source": [
    "Y = TP(y, 1) + TP(1, y)\n",
    "X = TP(x, 1) + TP(1, x)\n",
    "\n",
    "Phi1 = Sum(TP((y*x)**q, (x*y)**(k - 1 - q)), (q, 0, k - 1))\n",
    "Phi2 = -TP(x, 1) - TP(1, x) + Sum(TP(y * (x*y)**q, y * (x*y)**(k - 2 - q)), (q, 0, k - 2))\n",
    "\n",
    "lbda = TP(x, 1) * Phi1\n",
    "mu = Sum(TP((x*y)**q, y*(x*y)**(k - 1 - q)), (q, 0, k - 1))\n",
    "\n",
    "rho = TP(x * yx**(k-1), 1) + TP(1, x * yx**(k-1))\n",
    "psi = TP(yx**(k-1), xy**(k-1))\n",
    "tau = Y * X\n",
    "\n",
    "sigma = X * Phi1\n",
    "\n",
    "omega = TP((1 + c*x) * yx**(k-1), xy**k)"
   ]
  },
  {
   "cell_type": "code",
   "execution_count": 13,
   "metadata": {},
   "outputs": [
    {
     "data": {
      "image/png": "[encoded data removed]",
      "text/latex": [
       "$$\\left [ 1, \\quad y \\left(x y\\right)^{i}, \\quad x \\left(y x\\right)^{i}, \\quad \\left(x y\\right)^{i}, \\quad \\left(y x\\right)^{i}, \\quad \\left(x y\\right)^{k}\\right ]$$"
      ],
      "text/plain": [
       "⎡          i         i       i       i       k⎤\n",
       "⎣1, y⋅(x⋅y) , x⋅(y⋅x) , (x⋅y) , (y⋅x) , (x⋅y) ⎦"
      ]
     },
     "execution_count": 13,
     "metadata": {},
     "output_type": "execute_result"
    }
   ],
   "source": [
    "i = sp.symbols('i')\n",
    "\n",
    "basis = [\n",
    "    1,\n",
    "    y*xy**i, x*yx**i, # i=0..k-1\n",
    "    xy**i, yx**i, # i=1..k-1\n",
    "    xy**k\n",
    "]\n",
    "basis"
   ]
  },
  {
   "cell_type": "code",
   "execution_count": 5,
   "metadata": {
    "collapsed": true
   },
   "outputs": [],
   "source": [
    "def act1(a, r):\n",
    "    return canonical_expr(a.args[0] * r * a.args[1])\n",
    "\n",
    "def act(a, r):\n",
    "    assert isinstance(a, TP) or isinstance(a, sp.Add) or isinstance(a, Sum) or isinstance(a, sp.Mul)\n",
    "    assert isinstance(r, sp.Mul) or isinstance(r, sp.Pow) or isinstance(r, sp.Symbol) or isinstance(r, int)\n",
    "    \n",
    "    if isinstance(a, TP):\n",
    "        return act1(a, r)\n",
    "    elif isinstance(a, Sum):\n",
    "        inner = act1(a.function, r)\n",
    "        return Sum(inner, a.limits[0])\n",
    "    elif isinstance(a, sp.Mul):\n",
    "        commutative, other = split_commutative(a)\n",
    "        return commutative * act(sp.Mul(*other), r)\n",
    "    else:\n",
    "        return sp.Add(*[act(arg, r) for arg in a.args])"
   ]
  },
  {
   "cell_type": "code",
   "execution_count": 6,
   "metadata": {},
   "outputs": [],
   "source": [
    "l = [(b, (act(Y, b), act(X, b))) for b in basis]"
   ]
  },
  {
   "cell_type": "code",
   "execution_count": 7,
   "metadata": {},
   "outputs": [
    {
     "data": {
      "text/latex": [
       "$$\\left[\\begin{matrix}\\left( 1 \\otimes y \\right) + \\left( y \\otimes 1 \\right) & \\left( 1 \\otimes x \\right) + \\left( x \\otimes 1 \\right)\\end{matrix}\\right]$$"
      ],
      "text/plain": [
       "[(1⊗y) + (y⊗1)  (1⊗x) + (x⊗1)]"
      ]
     },
     "execution_count": 7,
     "metadata": {},
     "output_type": "execute_result"
    }
   ],
   "source": [
    "d0 = sp.Matrix([[Y, X]])\n",
    "d0"
   ]
  },
  {
   "cell_type": "code",
   "execution_count": 8,
   "metadata": {},
   "outputs": [
    {
     "data": {
      "text/latex": [
       "$$\\left[\\begin{matrix}d \\sum_{q=0}^{k - 1} \\left( x \\left(y x\\right)^{q} \\otimes \\left(x y\\right)^{k - q - 1} \\right) + \\left( 1 \\otimes y \\right) + \\left( y \\otimes 1 \\right) & c \\sum_{q=0}^{k - 1} \\left( x \\left(y x\\right)^{q} \\otimes \\left(x y\\right)^{k - q - 1} \\right) + \\sum_{q=0}^{k - 1} \\left( \\left(y x\\right)^{q} \\otimes \\left(x y\\right)^{k - q - 1} \\right)\\\\d \\sum_{q=0}^{k - 1} \\left( \\left(x y\\right)^{q} \\otimes y \\left(x y\\right)^{k - q - 1} \\right) & c \\sum_{q=0}^{k - 1} \\left( \\left(x y\\right)^{q} \\otimes y \\left(x y\\right)^{k - q - 1} \\right) + \\sum_{q=0}^{k - 2} \\left( y \\left(x y\\right)^{q} \\otimes y \\left(x y\\right)^{k - q - 2} \\right) + \\left( 1 \\otimes x \\right) + \\left( x \\otimes 1 \\right)\\end{matrix}\\right]$$"
      ],
      "text/plain": [
       "⎡  k - 1                                                      k - 1           \n",
       "⎢   ____                                                       ____           \n",
       "⎢   ╲                                                          ╲              \n",
       "⎢    ╲          (       q                                       ╲          (  \n",
       "⎢     ╲  x⋅(y⋅x) ⊗     k - q - 1                                 ╲  x⋅(y⋅x) ⊗ \n",
       "⎢d⋅   ╱      (x⋅y)         )     + (1⊗y) + (y⊗1)            c⋅   ╱      (x⋅y) \n",
       "⎢    ╱                                                          ╱             \n",
       "⎢   ╱                                                          ╱              \n",
       "⎢   ‾‾‾‾                                                       ‾‾‾‾           \n",
       "⎢  q = 0                                                      q = 0           \n",
       "⎢                                                                             \n",
       "⎢          k - 1                                    k - 1                     \n",
       "⎢           ____                                     ____                     \n",
       "⎢           ╲                                        ╲                        \n",
       "⎢            ╲           (     q                      ╲           (     q     \n",
       "⎢             ╲  (x⋅y) ⊗       k - q - 1               ╲  (x⋅y) ⊗       k - q \n",
       "⎢        d⋅   ╱     y⋅(x⋅y)         )             c⋅   ╱     y⋅(x⋅y)         )\n",
       "⎢            ╱                                        ╱                       \n",
       "⎢           ╱                                        ╱                        \n",
       "⎢           ‾‾‾‾                                     ‾‾‾‾                     \n",
       "⎣          q = 0                                    q = 0                     \n",
       "\n",
       "                k - 1                                ⎤\n",
       "                 ____                                ⎥\n",
       "                 ╲                                   ⎥\n",
       "     q            ╲          (     q                 ⎥\n",
       "    k - q - 1      ╲  (y⋅x) ⊗     k - q - 1          ⎥\n",
       "        )     +    ╱     (x⋅y)         )             ⎥\n",
       "                  ╱                                  ⎥\n",
       "                 ╱                                   ⎥\n",
       "                 ‾‾‾‾                                ⎥\n",
       "                q = 0                                ⎥\n",
       "                                                     ⎥\n",
       "      k - 2                                          ⎥\n",
       "       ____                                          ⎥\n",
       "       ╲                                             ⎥\n",
       "        ╲           (       q                        ⎥\n",
       "- 1      ╲  y⋅(x⋅y) ⊗       k - q - 2                ⎥\n",
       "    +    ╱      y⋅(x⋅y)         )     + (1⊗x) + (x⊗1)⎥\n",
       "        ╱                                            ⎥\n",
       "       ╱                                             ⎥\n",
       "       ‾‾‾‾                                          ⎥\n",
       "      q = 0                                          ⎦"
      ]
     },
     "execution_count": 8,
     "metadata": {},
     "output_type": "execute_result"
    }
   ],
   "source": [
    "d1 = sp.Matrix([\n",
    "    [Y + d * lbda, Phi1 + c * lbda],\n",
    "    [d * mu, Phi2 + c * mu]\n",
    "])\n",
    "d1"
   ]
  },
  {
   "cell_type": "code",
   "execution_count": 9,
   "metadata": {},
   "outputs": [
    {
     "data": {
      "text/latex": [
       "$$\\left[\\begin{matrix}d \\sum_{q=0}^{k - 1} \\left( x \\left(y x\\right)^{q} \\otimes \\left(x y\\right)^{k - q - 1} \\right) + \\left( 1 \\otimes y \\right) + \\left( y \\otimes 1 \\right)\\\\d \\sum_{q=0}^{k - 1} \\left( \\left(x y\\right)^{q} \\otimes y \\left(x y\\right)^{k - q - 1} \\right)\\end{matrix}\\right]$$"
      ],
      "text/plain": [
       "⎡  k - 1                                        ⎤\n",
       "⎢   ____                                        ⎥\n",
       "⎢   ╲                                           ⎥\n",
       "⎢    ╲          (       q                       ⎥\n",
       "⎢     ╲  x⋅(y⋅x) ⊗     k - q - 1                ⎥\n",
       "⎢d⋅   ╱      (x⋅y)         )     + (1⊗y) + (y⊗1)⎥\n",
       "⎢    ╱                                          ⎥\n",
       "⎢   ╱                                           ⎥\n",
       "⎢   ‾‾‾‾                                        ⎥\n",
       "⎢  q = 0                                        ⎥\n",
       "⎢                                               ⎥\n",
       "⎢          k - 1                                ⎥\n",
       "⎢           ____                                ⎥\n",
       "⎢           ╲                                   ⎥\n",
       "⎢            ╲           (     q                ⎥\n",
       "⎢             ╲  (x⋅y) ⊗       k - q - 1        ⎥\n",
       "⎢        d⋅   ╱     y⋅(x⋅y)         )           ⎥\n",
       "⎢            ╱                                  ⎥\n",
       "⎢           ╱                                   ⎥\n",
       "⎢           ‾‾‾‾                                ⎥\n",
       "⎣          q = 0                                ⎦"
      ]
     },
     "execution_count": 9,
     "metadata": {},
     "output_type": "execute_result"
    }
   ],
   "source": [
    "d1.col(0)"
   ]
  },
  {
   "cell_type": "code",
   "execution_count": 8,
   "metadata": {
    "collapsed": true
   },
   "outputs": [],
   "source": [
    "from IPython.display import display"
   ]
  },
  {
   "cell_type": "code",
   "execution_count": 11,
   "metadata": {
    "collapsed": true
   },
   "outputs": [],
   "source": [
    "def multiply_row_by_col(row, col):\n",
    "    return canonical_expr(sum(act(c, r) for r, c in zip(row, col)))"
   ]
  },
  {
   "cell_type": "code",
   "execution_count": 14,
   "metadata": {},
   "outputs": [
    {
     "data": {
      "image/png": "[encoded data removed]",
      "text/latex": [
       "$$\\left [ d \\sum_{q=0}^{k - 1} x \\left(y x\\right)^{q} \\left(x y\\right)^{k - q - 1} + d \\sum_{q=0}^{k - 1} \\left(x y\\right)^{q} y \\left(x y\\right)^{k - q - 1}, \\quad c \\sum_{q=0}^{k - 1} x \\left(y x\\right)^{q} \\left(x y\\right)^{k - q - 1} + c \\sum_{q=0}^{k - 1} \\left(x y\\right)^{q} y \\left(x y\\right)^{k - q - 1} + \\sum_{q=0}^{k - 1} \\left(y x\\right)^{q} \\left(x y\\right)^{k - q - 1} + \\sum_{q=0}^{k - 2} y \\left(x y\\right)^{q} y \\left(x y\\right)^{k - q - 2}\\right ]$$"
      ],
      "text/plain": [
       "⎡  k - 1                             k - 1                            k - 1   \n",
       "⎢   ___                               ___                              ___    \n",
       "⎢   ╲                                 ╲                                ╲      \n",
       "⎢    ╲          q      k - q - 1       ╲        q        k - q - 1      ╲     \n",
       "⎢d⋅  ╱   x⋅(y⋅x) ⋅(x⋅y)          + d⋅  ╱   (x⋅y) ⋅y⋅(x⋅y)         , c⋅  ╱   x⋅\n",
       "⎢   ╱                                 ╱                                ╱      \n",
       "⎢   ‾‾‾                               ‾‾‾                              ‾‾‾    \n",
       "⎣  q = 0                             q = 0                            q = 0   \n",
       "\n",
       "                          k - 1                           k - 1               \n",
       "                           ___                             ___                \n",
       "                           ╲                               ╲                  \n",
       "     q      k - q - 1       ╲        q        k - q - 1     ╲        q      k \n",
       "(y⋅x) ⋅(x⋅y)          + c⋅  ╱   (x⋅y) ⋅y⋅(x⋅y)          +   ╱   (y⋅x) ⋅(x⋅y)  \n",
       "                           ╱                               ╱                  \n",
       "                           ‾‾‾                             ‾‾‾                \n",
       "                          q = 0                           q = 0               \n",
       "\n",
       "          k - 2                          ⎤\n",
       "           ___                           ⎥\n",
       "           ╲                             ⎥\n",
       "- q - 1     ╲          q        k - q - 2⎥\n",
       "        +   ╱   y⋅(x⋅y) ⋅y⋅(x⋅y)         ⎥\n",
       "           ╱                             ⎥\n",
       "           ‾‾‾                           ⎥\n",
       "          q = 0                          ⎦"
      ]
     },
     "metadata": {},
     "output_type": "display_data"
    },
    {
     "data": {
      "image/png": "[encoded data removed]",
      "text/latex": [
       "$$\\left [ d \\sum_{q=0}^{k - 1} x \\left(y x\\right)^{q} \\left(x y\\right)^{k - q - 1} + d \\sum_{q=0}^{k - 1} \\left(x y\\right)^{q} y \\left(x y\\right)^{i} y \\left(x y\\right)^{k - q - 1}, \\quad c \\sum_{q=0}^{k - 1} x \\left(y x\\right)^{q} \\left(x y\\right)^{k - q - 1} + c \\sum_{q=0}^{k - 1} \\left(x y\\right)^{q} y \\left(x y\\right)^{i} y \\left(x y\\right)^{k - q - 1} + \\left(x y\\right)^{i + 1} + \\left(y x\\right)^{i + 1} + \\sum_{q=0}^{k - 1} \\left(y x\\right)^{q} \\left(x y\\right)^{k - q - 1} + \\sum_{q=0}^{k - 2} y \\left(x y\\right)^{q} y \\left(x y\\right)^{i} y \\left(x y\\right)^{k - q - 2}\\right ]$$"
      ],
      "text/plain": [
       "⎡  k - 1                             k - 1                                    \n",
       "⎢   ___                               ___                                     \n",
       "⎢   ╲                                 ╲                                       \n",
       "⎢    ╲          q      k - q - 1       ╲        q        i        k - q - 1   \n",
       "⎢d⋅  ╱   x⋅(y⋅x) ⋅(x⋅y)          + d⋅  ╱   (x⋅y) ⋅y⋅(x⋅y) ⋅y⋅(x⋅y)         , c\n",
       "⎢   ╱                                 ╱                                       \n",
       "⎢   ‾‾‾                               ‾‾‾                                     \n",
       "⎣  q = 0                             q = 0                                    \n",
       "\n",
       " k - 1                             k - 1                                      \n",
       "  ___                               ___                                       \n",
       "  ╲                                 ╲                                         \n",
       "   ╲          q      k - q - 1       ╲        q        i        k - q - 1     \n",
       "⋅  ╱   x⋅(y⋅x) ⋅(x⋅y)          + c⋅  ╱   (x⋅y) ⋅y⋅(x⋅y) ⋅y⋅(x⋅y)          + (x\n",
       "  ╱                                 ╱                                         \n",
       "  ‾‾‾                               ‾‾‾                                       \n",
       " q = 0                             q = 0                                      \n",
       "\n",
       "                        k - 1                         k - 2                   \n",
       "                         ___                           ___                    \n",
       "                         ╲                             ╲                      \n",
       "   i + 1        i + 1     ╲        q      k - q - 1     ╲          q        i \n",
       "⋅y)      + (y⋅x)      +   ╱   (y⋅x) ⋅(x⋅y)          +   ╱   y⋅(x⋅y) ⋅y⋅(x⋅y) ⋅\n",
       "                         ╱                             ╱                      \n",
       "                         ‾‾‾                           ‾‾‾                    \n",
       "                        q = 0                         q = 0                   \n",
       "\n",
       "                ⎤\n",
       "                ⎥\n",
       "                ⎥\n",
       "       k - q - 2⎥\n",
       "y⋅(x⋅y)         ⎥\n",
       "                ⎥\n",
       "                ⎥\n",
       "                ⎦"
      ]
     },
     "metadata": {},
     "output_type": "display_data"
    },
    {
     "data": {
      "image/png": "[encoded data removed]",
      "text/latex": [
       "$$\\left [ d \\sum_{q=0}^{k - 1} \\left(x y\\right)^{i + k} + d \\sum_{q=0}^{k - 1} x \\left(y x\\right)^{q} \\left(x y\\right)^{k - q - 1}, \\quad c \\left(x y\\right)^{k} \\left(y x\\right)^{i} + c \\sum_{q=0}^{k - 1} \\left(x y\\right)^{i + k} + c \\sum_{q=0}^{k - 1} x \\left(y x\\right)^{q} \\left(x y\\right)^{k - q - 1} + x \\left(y x\\right)^{i} x + y \\left(x y\\right)^{k - 1} \\left(y x\\right)^{i} + \\sum_{q=0}^{k - 2} y \\left(x y\\right)^{i + k - 1} + \\sum_{q=0}^{k - 1} \\left(y x\\right)^{q} \\left(x y\\right)^{k - q - 1}\\right ]$$"
      ],
      "text/plain": [
       "⎡  k - 1                k - 1                                              k -\n",
       "⎢   ___                  ___                                                __\n",
       "⎢   ╲                    ╲                                                  ╲ \n",
       "⎢    ╲        i + k       ╲          q      k - q - 1         k      i       ╲\n",
       "⎢d⋅  ╱   (x⋅y)      + d⋅  ╱   x⋅(y⋅x) ⋅(x⋅y)         , c⋅(x⋅y) ⋅(y⋅x)  + c⋅  ╱\n",
       "⎢   ╱                    ╱                                                  ╱ \n",
       "⎢   ‾‾‾                  ‾‾‾                                                ‾‾\n",
       "⎣  q = 0                q = 0                                              q =\n",
       "\n",
       " 1                k - 1                                                       \n",
       "_                  ___                                                        \n",
       "                   ╲                                                          \n",
       "        i + k       ╲          q      k - q - 1          i            k - 1   \n",
       "   (x⋅y)      + c⋅  ╱   x⋅(y⋅x) ⋅(x⋅y)          + x⋅(y⋅x) ⋅x + y⋅(x⋅y)     ⋅(y\n",
       "                   ╱                                                          \n",
       "‾                  ‾‾‾                                                        \n",
       " 0                q = 0                                                       \n",
       "\n",
       "       k - 2                    k - 1                      ⎤\n",
       "        ___                      ___                       ⎥\n",
       "        ╲                        ╲                         ⎥\n",
       "   i     ╲          i + k - 1     ╲        q      k - q - 1⎥\n",
       "⋅x)  +   ╱   y⋅(x⋅y)          +   ╱   (y⋅x) ⋅(x⋅y)         ⎥\n",
       "        ╱                        ╱                         ⎥\n",
       "        ‾‾‾                      ‾‾‾                       ⎥\n",
       "       q = 0                    q = 0                      ⎦"
      ]
     },
     "metadata": {},
     "output_type": "display_data"
    },
    {
     "data": {
      "image/png": "[encoded data removed]",
      "text/latex": [
       "$$\\left [ d \\sum_{q=0}^{k - 1} x \\left(y x\\right)^{q} \\left(x y\\right)^{k - q - 1} + d \\sum_{q=0}^{k - 1} \\left(x y\\right)^{i + q} y \\left(x y\\right)^{k - q - 1}, \\quad c \\sum_{q=0}^{k - 1} x \\left(y x\\right)^{q} \\left(x y\\right)^{k - q - 1} + c \\sum_{q=0}^{k - 1} \\left(x y\\right)^{i + q} y \\left(x y\\right)^{k - q - 1} + x \\left(x y\\right)^{i} + x \\left(y x\\right)^{i} + \\sum_{q=0}^{k - 1} \\left(y x\\right)^{q} \\left(x y\\right)^{k - q - 1} + \\sum_{q=0}^{k - 2} y \\left(x y\\right)^{i + q} y \\left(x y\\right)^{k - q - 2}\\right ]$$"
      ],
      "text/plain": [
       "⎡  k - 1                             k - 1                                k - \n",
       "⎢   ___                               ___                                  ___\n",
       "⎢   ╲                                 ╲                                    ╲  \n",
       "⎢    ╲          q      k - q - 1       ╲        i + q        k - q - 1      ╲ \n",
       "⎢d⋅  ╱   x⋅(y⋅x) ⋅(x⋅y)          + d⋅  ╱   (x⋅y)     ⋅y⋅(x⋅y)         , c⋅  ╱ \n",
       "⎢   ╱                                 ╱                                    ╱  \n",
       "⎢   ‾‾‾                               ‾‾‾                                  ‾‾‾\n",
       "⎣  q = 0                             q = 0                                q = \n",
       "\n",
       "1                             k - 1                                           \n",
       "                               ___                                            \n",
       "                               ╲                                              \n",
       "         q      k - q - 1       ╲        i + q        k - q - 1          i    \n",
       "  x⋅(y⋅x) ⋅(x⋅y)          + c⋅  ╱   (x⋅y)     ⋅y⋅(x⋅y)          + x⋅(x⋅y)  + x\n",
       "                               ╱                                              \n",
       "                               ‾‾‾                                            \n",
       "0                             q = 0                                           \n",
       "\n",
       "          k - 1                         k - 2                              ⎤\n",
       "           ___                           ___                               ⎥\n",
       "           ╲                             ╲                                 ⎥\n",
       "      i     ╲        q      k - q - 1     ╲          i + q        k - q - 2⎥\n",
       "⋅(y⋅x)  +   ╱   (y⋅x) ⋅(x⋅y)          +   ╱   y⋅(x⋅y)     ⋅y⋅(x⋅y)         ⎥\n",
       "           ╱                             ╱                                 ⎥\n",
       "           ‾‾‾                           ‾‾‾                               ⎥\n",
       "          q = 0                         q = 0                              ⎦"
      ]
     },
     "metadata": {},
     "output_type": "display_data"
    },
    {
     "data": {
      "image/png": "[encoded data removed]",
      "text/latex": [
       "$$\\left [ d \\sum_{q=0}^{k - 1} x \\left(y x\\right)^{q} \\left(x y\\right)^{k - q - 1} + d \\sum_{q=0}^{k - 1} \\left(x y\\right)^{q} y \\left(x y\\right)^{i + k - q - 1}, \\quad c \\sum_{q=0}^{k - 1} x \\left(y x\\right)^{q} \\left(x y\\right)^{k - q - 1} + c \\sum_{q=0}^{k - 1} \\left(x y\\right)^{q} y \\left(x y\\right)^{i + k - q - 1} + x \\left(y x\\right)^{i} + \\left(y x\\right)^{i} x + \\sum_{q=0}^{k - 1} \\left(y x\\right)^{q} \\left(x y\\right)^{k - q - 1} + \\sum_{q=0}^{k - 2} y \\left(x y\\right)^{q} y \\left(x y\\right)^{i + k - q - 2}\\right ]$$"
      ],
      "text/plain": [
       "⎡  k - 1                             k - 1                                k - \n",
       "⎢   ___                               ___                                  ___\n",
       "⎢   ╲                                 ╲                                    ╲  \n",
       "⎢    ╲          q      k - q - 1       ╲        q        i + k - q - 1      ╲ \n",
       "⎢d⋅  ╱   x⋅(y⋅x) ⋅(x⋅y)          + d⋅  ╱   (x⋅y) ⋅y⋅(x⋅y)             , c⋅  ╱ \n",
       "⎢   ╱                                 ╱                                    ╱  \n",
       "⎢   ‾‾‾                               ‾‾‾                                  ‾‾‾\n",
       "⎣  q = 0                             q = 0                                q = \n",
       "\n",
       "1                             k - 1                                           \n",
       "                               ___                                            \n",
       "                               ╲                                              \n",
       "         q      k - q - 1       ╲        q        i + k - q - 1          i    \n",
       "  x⋅(y⋅x) ⋅(x⋅y)          + c⋅  ╱   (x⋅y) ⋅y⋅(x⋅y)              + x⋅(y⋅x)  + (\n",
       "                               ╱                                              \n",
       "                               ‾‾‾                                            \n",
       "0                             q = 0                                           \n",
       "\n",
       "          k - 1                         k - 2                              ⎤\n",
       "           ___                           ___                               ⎥\n",
       "           ╲                             ╲                                 ⎥\n",
       "    i       ╲        q      k - q - 1     ╲          q        i + k - q - 2⎥\n",
       "y⋅x) ⋅x +   ╱   (y⋅x) ⋅(x⋅y)          +   ╱   y⋅(x⋅y) ⋅y⋅(x⋅y)             ⎥\n",
       "           ╱                             ╱                                 ⎥\n",
       "           ‾‾‾                           ‾‾‾                               ⎥\n",
       "          q = 0                         q = 0                              ⎦"
      ]
     },
     "metadata": {},
     "output_type": "display_data"
    },
    {
     "data": {
      "image/png": "[encoded data removed]",
      "text/latex": [
       "$$\\left [ d \\sum_{q=0}^{k - 1} x \\left(y x\\right)^{q} \\left(x y\\right)^{k - q - 1} + d \\sum_{q=0}^{k - 1} \\left(x y\\right)^{k + q} y \\left(x y\\right)^{k - q - 1}, \\quad c \\sum_{q=0}^{k - 1} x \\left(y x\\right)^{q} \\left(x y\\right)^{k - q - 1} + c \\sum_{q=0}^{k - 1} \\left(x y\\right)^{k + q} y \\left(x y\\right)^{k - q - 1} + \\sum_{q=0}^{k - 1} \\left(y x\\right)^{q} \\left(x y\\right)^{k - q - 1} + \\sum_{q=0}^{k - 2} y \\left(x y\\right)^{k + q} y \\left(x y\\right)^{k - q - 2}\\right ]$$"
      ],
      "text/plain": [
       "⎡  k - 1                             k - 1                                k - \n",
       "⎢   ___                               ___                                  ___\n",
       "⎢   ╲                                 ╲                                    ╲  \n",
       "⎢    ╲          q      k - q - 1       ╲        k + q        k - q - 1      ╲ \n",
       "⎢d⋅  ╱   x⋅(y⋅x) ⋅(x⋅y)          + d⋅  ╱   (x⋅y)     ⋅y⋅(x⋅y)         , c⋅  ╱ \n",
       "⎢   ╱                                 ╱                                    ╱  \n",
       "⎢   ‾‾‾                               ‾‾‾                                  ‾‾‾\n",
       "⎣  q = 0                             q = 0                                q = \n",
       "\n",
       "1                             k - 1                               k - 1       \n",
       "                               ___                                 ___        \n",
       "                               ╲                                   ╲          \n",
       "         q      k - q - 1       ╲        k + q        k - q - 1     ╲        q\n",
       "  x⋅(y⋅x) ⋅(x⋅y)          + c⋅  ╱   (x⋅y)     ⋅y⋅(x⋅y)          +   ╱   (y⋅x) \n",
       "                               ╱                                   ╱          \n",
       "                               ‾‾‾                                 ‾‾‾        \n",
       "0                             q = 0                               q = 0       \n",
       "\n",
       "                  k - 2                              ⎤\n",
       "                   ___                               ⎥\n",
       "                   ╲                                 ⎥\n",
       "      k - q - 1     ╲          k + q        k - q - 2⎥\n",
       "⋅(x⋅y)          +   ╱   y⋅(x⋅y)     ⋅y⋅(x⋅y)         ⎥\n",
       "                   ╱                                 ⎥\n",
       "                   ‾‾‾                               ⎥\n",
       "                  q = 0                              ⎦"
      ]
     },
     "metadata": {},
     "output_type": "display_data"
    },
    {
     "data": {
      "image/png": "[encoded data removed]",
      "text/latex": [
       "$$\\left [ d \\left(x y\\right)^{i + k} + d \\sum_{q=0}^{k - 1} \\left(x y\\right)^{i + k} + d \\sum_{q=0}^{k - 1} \\left(x y\\right)^{q} y \\left(x y\\right)^{k - q - 1} + y \\left(x y\\right)^{i} y, \\quad c \\sum_{q=0}^{k - 1} \\left(x y\\right)^{i + k} + c \\sum_{q=0}^{k - 1} \\left(x y\\right)^{q} y \\left(x y\\right)^{k - q - 1} + \\sum_{q=0}^{k - 1} y \\left(x y\\right)^{i + k - 1} + \\sum_{q=0}^{k - 2} y \\left(x y\\right)^{q} y \\left(x y\\right)^{k - q - 2}\\right ]$$"
      ],
      "text/plain": [
       "⎡                 k - 1                k - 1                                  \n",
       "⎢                  ___                  ___                                   \n",
       "⎢                  ╲                    ╲                                     \n",
       "⎢       i + k       ╲        i + k       ╲        q        k - q - 1          \n",
       "⎢d⋅(x⋅y)      + d⋅  ╱   (x⋅y)      + d⋅  ╱   (x⋅y) ⋅y⋅(x⋅y)          + y⋅(x⋅y)\n",
       "⎢                  ╱                    ╱                                     \n",
       "⎢                  ‾‾‾                  ‾‾‾                                   \n",
       "⎣                 q = 0                q = 0                                  \n",
       "\n",
       "       k - 1                k - 1                           k - 1             \n",
       "        ___                  ___                             ___              \n",
       "        ╲                    ╲                               ╲                \n",
       "i        ╲        i + k       ╲        q        k - q - 1     ╲          i + k\n",
       " ⋅y, c⋅  ╱   (x⋅y)      + c⋅  ╱   (x⋅y) ⋅y⋅(x⋅y)          +   ╱   y⋅(x⋅y)     \n",
       "        ╱                    ╱                               ╱                \n",
       "        ‾‾‾                  ‾‾‾                             ‾‾‾              \n",
       "       q = 0                q = 0                           q = 0             \n",
       "\n",
       "       k - 2                          ⎤\n",
       "        ___                           ⎥\n",
       "        ╲                             ⎥\n",
       " - 1     ╲          q        k - q - 2⎥\n",
       "     +   ╱   y⋅(x⋅y) ⋅y⋅(x⋅y)         ⎥\n",
       "        ╱                             ⎥\n",
       "        ‾‾‾                           ⎥\n",
       "       q = 0                          ⎦"
      ]
     },
     "metadata": {},
     "output_type": "display_data"
    },
    {
     "data": {
      "image/png": "[encoded data removed]",
      "text/latex": [
       "$$\\left [ d \\left(x y\\right)^{i + k} + d \\sum_{q=0}^{k - 1} \\left(x y\\right)^{i + k} + d \\sum_{q=0}^{k - 1} \\left(x y\\right)^{q} y \\left(x y\\right)^{i} y \\left(x y\\right)^{k - q - 1} + y \\left(x y\\right)^{i} y, \\quad c \\sum_{q=0}^{k - 1} \\left(x y\\right)^{i + k} + c \\sum_{q=0}^{k - 1} \\left(x y\\right)^{q} y \\left(x y\\right)^{i} y \\left(x y\\right)^{k - q - 1} + \\left(x y\\right)^{i + 1} + \\left(y x\\right)^{i + 1} + \\sum_{q=0}^{k - 1} y \\left(x y\\right)^{i + k - 1} + \\sum_{q=0}^{k - 2} y \\left(x y\\right)^{q} y \\left(x y\\right)^{i} y \\left(x y\\right)^{k - q - 2}\\right ]$$"
      ],
      "text/plain": [
       "⎡                 k - 1                k - 1                                  \n",
       "⎢                  ___                  ___                                   \n",
       "⎢                  ╲                    ╲                                     \n",
       "⎢       i + k       ╲        i + k       ╲        q        i        k - q - 1 \n",
       "⎢d⋅(x⋅y)      + d⋅  ╱   (x⋅y)      + d⋅  ╱   (x⋅y) ⋅y⋅(x⋅y) ⋅y⋅(x⋅y)          \n",
       "⎢                  ╱                    ╱                                     \n",
       "⎢                  ‾‾‾                  ‾‾‾                                   \n",
       "⎣                 q = 0                q = 0                                  \n",
       "\n",
       "                k - 1                k - 1                                    \n",
       "                 ___                  ___                                     \n",
       "                 ╲                    ╲                                       \n",
       "         i        ╲        i + k       ╲        q        i        k - q - 1   \n",
       "+ y⋅(x⋅y) ⋅y, c⋅  ╱   (x⋅y)      + c⋅  ╱   (x⋅y) ⋅y⋅(x⋅y) ⋅y⋅(x⋅y)          + \n",
       "                 ╱                    ╱                                       \n",
       "                 ‾‾‾                  ‾‾‾                                     \n",
       "                q = 0                q = 0                                    \n",
       "\n",
       "                          k - 1                    k - 2                      \n",
       "                           ___                      ___                       \n",
       "                           ╲                        ╲                         \n",
       "     i + 1        i + 1     ╲          i + k - 1     ╲          q        i    \n",
       "(x⋅y)      + (y⋅x)      +   ╱   y⋅(x⋅y)          +   ╱   y⋅(x⋅y) ⋅y⋅(x⋅y) ⋅y⋅(\n",
       "                           ╱                        ╱                         \n",
       "                           ‾‾‾                      ‾‾‾                       \n",
       "                          q = 0                    q = 0                      \n",
       "\n",
       "             ⎤\n",
       "             ⎥\n",
       "             ⎥\n",
       "    k - q - 2⎥\n",
       "x⋅y)         ⎥\n",
       "             ⎥\n",
       "             ⎥\n",
       "             ⎦"
      ]
     },
     "metadata": {},
     "output_type": "display_data"
    },
    {
     "data": {
      "image/png": "[encoded data removed]",
      "text/latex": [
       "$$\\left [ d \\left(x y\\right)^{i + k} + y \\left(x y\\right)^{i} y, \\quad c \\left(x y\\right)^{k} \\left(y x\\right)^{i} + x \\left(y x\\right)^{i} x + y \\left(x y\\right)^{k - 1} \\left(y x\\right)^{i} + \\sum_{q=0}^{k - 2} y \\left(x y\\right)^{i + k - 1} + \\sum_{q=0}^{k - 1} y \\left(x y\\right)^{i + k - 1}\\right ]$$"
      ],
      "text/plain": [
       "⎡                                                                             \n",
       "⎢                                                                             \n",
       "⎢                                                                             \n",
       "⎢       i + k          i           k      i          i            k - 1      i\n",
       "⎢d⋅(x⋅y)      + y⋅(x⋅y) ⋅y, c⋅(x⋅y) ⋅(y⋅x)  + x⋅(y⋅x) ⋅x + y⋅(x⋅y)     ⋅(y⋅x) \n",
       "⎢                                                                             \n",
       "⎢                                                                             \n",
       "⎣                                                                             \n",
       "\n",
       "   k - 2                    k - 1                 ⎤\n",
       "    ___                      ___                  ⎥\n",
       "    ╲                        ╲                    ⎥\n",
       "     ╲          i + k - 1     ╲          i + k - 1⎥\n",
       " +   ╱   y⋅(x⋅y)          +   ╱   y⋅(x⋅y)         ⎥\n",
       "    ╱                        ╱                    ⎥\n",
       "    ‾‾‾                      ‾‾‾                  ⎥\n",
       "   q = 0                    q = 0                 ⎦"
      ]
     },
     "metadata": {},
     "output_type": "display_data"
    },
    {
     "data": {
      "image/png": "[encoded data removed]",
      "text/latex": [
       "$$\\left [ d \\left(x y\\right)^{i + k} + d \\sum_{q=0}^{k - 1} \\left(x y\\right)^{i + k} + d \\sum_{q=0}^{k - 1} \\left(x y\\right)^{i + q} y \\left(x y\\right)^{k - q - 1} + y \\left(x y\\right)^{i} y, \\quad c \\sum_{q=0}^{k - 1} \\left(x y\\right)^{i + k} + c \\sum_{q=0}^{k - 1} \\left(x y\\right)^{i + q} y \\left(x y\\right)^{k - q - 1} + x \\left(x y\\right)^{i} + x \\left(y x\\right)^{i} + \\sum_{q=0}^{k - 1} y \\left(x y\\right)^{i + k - 1} + \\sum_{q=0}^{k - 2} y \\left(x y\\right)^{i + q} y \\left(x y\\right)^{k - q - 2}\\right ]$$"
      ],
      "text/plain": [
       "⎡                 k - 1                k - 1                                  \n",
       "⎢                  ___                  ___                                   \n",
       "⎢                  ╲                    ╲                                     \n",
       "⎢       i + k       ╲        i + k       ╲        i + q        k - q - 1      \n",
       "⎢d⋅(x⋅y)      + d⋅  ╱   (x⋅y)      + d⋅  ╱   (x⋅y)     ⋅y⋅(x⋅y)          + y⋅(\n",
       "⎢                  ╱                    ╱                                     \n",
       "⎢                  ‾‾‾                  ‾‾‾                                   \n",
       "⎣                 q = 0                q = 0                                  \n",
       "\n",
       "           k - 1                k - 1                                         \n",
       "            ___                  ___                                          \n",
       "            ╲                    ╲                                            \n",
       "    i        ╲        i + k       ╲        i + q        k - q - 1          i  \n",
       "x⋅y) ⋅y, c⋅  ╱   (x⋅y)      + c⋅  ╱   (x⋅y)     ⋅y⋅(x⋅y)          + x⋅(x⋅y)  +\n",
       "            ╱                    ╱                                            \n",
       "            ‾‾‾                  ‾‾‾                                          \n",
       "           q = 0                q = 0                                         \n",
       "\n",
       "            k - 1                    k - 2                              ⎤\n",
       "             ___                      ___                               ⎥\n",
       "             ╲                        ╲                                 ⎥\n",
       "        i     ╲          i + k - 1     ╲          i + q        k - q - 2⎥\n",
       " x⋅(y⋅x)  +   ╱   y⋅(x⋅y)          +   ╱   y⋅(x⋅y)     ⋅y⋅(x⋅y)         ⎥\n",
       "             ╱                        ╱                                 ⎥\n",
       "             ‾‾‾                      ‾‾‾                               ⎥\n",
       "            q = 0                    q = 0                              ⎦"
      ]
     },
     "metadata": {},
     "output_type": "display_data"
    },
    {
     "data": {
      "image/png": "[encoded data removed]",
      "text/latex": [
       "$$\\left [ d \\left(x y\\right)^{i + k} + d \\sum_{q=0}^{k - 1} \\left(x y\\right)^{i + k} + d \\sum_{q=0}^{k - 1} \\left(x y\\right)^{q} y \\left(x y\\right)^{i + k - q - 1} + y \\left(x y\\right)^{i} y, \\quad c \\sum_{q=0}^{k - 1} \\left(x y\\right)^{i + k} + c \\sum_{q=0}^{k - 1} \\left(x y\\right)^{q} y \\left(x y\\right)^{i + k - q - 1} + x \\left(y x\\right)^{i} + \\left(y x\\right)^{i} x + \\sum_{q=0}^{k - 1} y \\left(x y\\right)^{i + k - 1} + \\sum_{q=0}^{k - 2} y \\left(x y\\right)^{q} y \\left(x y\\right)^{i + k - q - 2}\\right ]$$"
      ],
      "text/plain": [
       "⎡                 k - 1                k - 1                                  \n",
       "⎢                  ___                  ___                                   \n",
       "⎢                  ╲                    ╲                                     \n",
       "⎢       i + k       ╲        i + k       ╲        q        i + k - q - 1      \n",
       "⎢d⋅(x⋅y)      + d⋅  ╱   (x⋅y)      + d⋅  ╱   (x⋅y) ⋅y⋅(x⋅y)              + y⋅(\n",
       "⎢                  ╱                    ╱                                     \n",
       "⎢                  ‾‾‾                  ‾‾‾                                   \n",
       "⎣                 q = 0                q = 0                                  \n",
       "\n",
       "           k - 1                k - 1                                         \n",
       "            ___                  ___                                          \n",
       "            ╲                    ╲                                            \n",
       "    i        ╲        i + k       ╲        q        i + k - q - 1          i  \n",
       "x⋅y) ⋅y, c⋅  ╱   (x⋅y)      + c⋅  ╱   (x⋅y) ⋅y⋅(x⋅y)              + x⋅(y⋅x)  +\n",
       "            ╱                    ╱                                            \n",
       "            ‾‾‾                  ‾‾‾                                          \n",
       "           q = 0                q = 0                                         \n",
       "\n",
       "            k - 1                    k - 2                              ⎤\n",
       "             ___                      ___                               ⎥\n",
       "             ╲                        ╲                                 ⎥\n",
       "      i       ╲          i + k - 1     ╲          q        i + k - q - 2⎥\n",
       " (y⋅x) ⋅x +   ╱   y⋅(x⋅y)          +   ╱   y⋅(x⋅y) ⋅y⋅(x⋅y)             ⎥\n",
       "             ╱                        ╱                                 ⎥\n",
       "             ‾‾‾                      ‾‾‾                               ⎥\n",
       "            q = 0                    q = 0                              ⎦"
      ]
     },
     "metadata": {},
     "output_type": "display_data"
    },
    {
     "data": {
      "image/png": "[encoded data removed]",
      "text/latex": [
       "$$\\left [ d \\left(x y\\right)^{i + k} + d \\sum_{q=0}^{k - 1} \\left(x y\\right)^{i + k} + d \\sum_{q=0}^{k - 1} \\left(x y\\right)^{k + q} y \\left(x y\\right)^{k - q - 1} + y \\left(x y\\right)^{i} y, \\quad c \\sum_{q=0}^{k - 1} \\left(x y\\right)^{i + k} + c \\sum_{q=0}^{k - 1} \\left(x y\\right)^{k + q} y \\left(x y\\right)^{k - q - 1} + \\sum_{q=0}^{k - 1} y \\left(x y\\right)^{i + k - 1} + \\sum_{q=0}^{k - 2} y \\left(x y\\right)^{k + q} y \\left(x y\\right)^{k - q - 2}\\right ]$$"
      ],
      "text/plain": [
       "⎡                 k - 1                k - 1                                  \n",
       "⎢                  ___                  ___                                   \n",
       "⎢                  ╲                    ╲                                     \n",
       "⎢       i + k       ╲        i + k       ╲        k + q        k - q - 1      \n",
       "⎢d⋅(x⋅y)      + d⋅  ╱   (x⋅y)      + d⋅  ╱   (x⋅y)     ⋅y⋅(x⋅y)          + y⋅(\n",
       "⎢                  ╱                    ╱                                     \n",
       "⎢                  ‾‾‾                  ‾‾‾                                   \n",
       "⎣                 q = 0                q = 0                                  \n",
       "\n",
       "           k - 1                k - 1                               k - 1     \n",
       "            ___                  ___                                 ___      \n",
       "            ╲                    ╲                                   ╲        \n",
       "    i        ╲        i + k       ╲        k + q        k - q - 1     ╲       \n",
       "x⋅y) ⋅y, c⋅  ╱   (x⋅y)      + c⋅  ╱   (x⋅y)     ⋅y⋅(x⋅y)          +   ╱   y⋅(x\n",
       "            ╱                    ╱                                   ╱        \n",
       "            ‾‾‾                  ‾‾‾                                 ‾‾‾      \n",
       "           q = 0                q = 0                               q = 0     \n",
       "\n",
       "               k - 2                              ⎤\n",
       "                ___                               ⎥\n",
       "                ╲                                 ⎥\n",
       "   i + k - 1     ╲          k + q        k - q - 2⎥\n",
       "⋅y)          +   ╱   y⋅(x⋅y)     ⋅y⋅(x⋅y)         ⎥\n",
       "                ╱                                 ⎥\n",
       "                ‾‾‾                               ⎥\n",
       "               q = 0                              ⎦"
      ]
     },
     "metadata": {},
     "output_type": "display_data"
    },
    {
     "data": {
      "image/png": "[encoded data removed]",
      "text/latex": [
       "$$\\left [ d \\sum_{q=0}^{k - 1} \\left(x y\\right)^{q} y \\left(x y\\right)^{k - q - 1} + d \\sum_{q=0}^{k - 1} x \\left(y x\\right)^{q} x \\left(y x\\right)^{i} \\left(x y\\right)^{k - q - 1} + \\left(x y\\right)^{i + 1} + \\left(y x\\right)^{i + 1}, \\quad c \\sum_{q=0}^{k - 1} \\left(x y\\right)^{q} y \\left(x y\\right)^{k - q - 1} + c \\sum_{q=0}^{k - 1} x \\left(y x\\right)^{q} x \\left(y x\\right)^{i} \\left(x y\\right)^{k - q - 1} + \\sum_{q=0}^{k - 2} y \\left(x y\\right)^{q} y \\left(x y\\right)^{k - q - 2} + \\sum_{q=0}^{k - 1} \\left(y x\\right)^{q} x \\left(y x\\right)^{i} \\left(x y\\right)^{k - q - 1}\\right ]$$"
      ],
      "text/plain": [
       "⎡  k - 1                             k - 1                                    \n",
       "⎢   ___                               ___                                     \n",
       "⎢   ╲                                 ╲                                       \n",
       "⎢    ╲        q        k - q - 1       ╲          q        i      k - q - 1   \n",
       "⎢d⋅  ╱   (x⋅y) ⋅y⋅(x⋅y)          + d⋅  ╱   x⋅(y⋅x) ⋅x⋅(y⋅x) ⋅(x⋅y)          + \n",
       "⎢   ╱                                 ╱                                       \n",
       "⎢   ‾‾‾                               ‾‾‾                                     \n",
       "⎣  q = 0                             q = 0                                    \n",
       "\n",
       "                           k - 1                             k - 1            \n",
       "                            ___                               ___             \n",
       "                            ╲                                 ╲               \n",
       "     i + 1        i + 1      ╲        q        k - q - 1       ╲          q   \n",
       "(x⋅y)      + (y⋅x)     , c⋅  ╱   (x⋅y) ⋅y⋅(x⋅y)          + c⋅  ╱   x⋅(y⋅x) ⋅x⋅\n",
       "                            ╱                                 ╱               \n",
       "                            ‾‾‾                               ‾‾‾             \n",
       "                           q = 0                             q = 0            \n",
       "\n",
       "                        k - 2                             k - 1               \n",
       "                         ___                               ___                \n",
       "                         ╲                                 ╲                  \n",
       "     i      k - q - 1     ╲          q        k - q - 2     ╲        q        \n",
       "(y⋅x) ⋅(x⋅y)          +   ╱   y⋅(x⋅y) ⋅y⋅(x⋅y)          +   ╱   (y⋅x) ⋅x⋅(y⋅x)\n",
       "                         ╱                                 ╱                  \n",
       "                         ‾‾‾                               ‾‾‾                \n",
       "                        q = 0                             q = 0               \n",
       "\n",
       "                ⎤\n",
       "                ⎥\n",
       "                ⎥\n",
       "i      k - q - 1⎥\n",
       " ⋅(x⋅y)         ⎥\n",
       "                ⎥\n",
       "                ⎥\n",
       "                ⎦"
      ]
     },
     "metadata": {},
     "output_type": "display_data"
    },
    {
     "data": {
      "image/png": "[encoded data removed]",
      "text/latex": [
       "$$\\left [ d \\sum_{q=0}^{k - 1} x \\left(y x\\right)^{q} x \\left(y x\\right)^{i} \\left(x y\\right)^{k - q - 1} + d \\sum_{q=0}^{k - 1} \\left(x y\\right)^{q} y \\left(x y\\right)^{i} y \\left(x y\\right)^{k - q - 1} + \\left(x y\\right)^{i + 1} + \\left(y x\\right)^{i + 1}, \\quad c \\sum_{q=0}^{k - 1} x \\left(y x\\right)^{q} x \\left(y x\\right)^{i} \\left(x y\\right)^{k - q - 1} + c \\sum_{q=0}^{k - 1} \\left(x y\\right)^{q} y \\left(x y\\right)^{i} y \\left(x y\\right)^{k - q - 1} + \\left(x y\\right)^{i + 1} + \\left(y x\\right)^{i + 1} + \\sum_{q=0}^{k - 1} \\left(y x\\right)^{q} x \\left(y x\\right)^{i} \\left(x y\\right)^{k - q - 1} + \\sum_{q=0}^{k - 2} y \\left(x y\\right)^{q} y \\left(x y\\right)^{i} y \\left(x y\\right)^{k - q - 2}\\right ]$$"
      ],
      "text/plain": [
       "⎡  k - 1                                      k - 1                           \n",
       "⎢   ___                                        ___                            \n",
       "⎢   ╲                                          ╲                              \n",
       "⎢    ╲          q        i      k - q - 1       ╲        q        i        k -\n",
       "⎢d⋅  ╱   x⋅(y⋅x) ⋅x⋅(y⋅x) ⋅(x⋅y)          + d⋅  ╱   (x⋅y) ⋅y⋅(x⋅y) ⋅y⋅(x⋅y)   \n",
       "⎢   ╱                                          ╱                              \n",
       "⎢   ‾‾‾                                        ‾‾‾                            \n",
       "⎣  q = 0                                      q = 0                           \n",
       "\n",
       "                                    k - 1                                     \n",
       "                                     ___                                      \n",
       "                                     ╲                                        \n",
       " q - 1        i + 1        i + 1      ╲          q        i      k - q - 1    \n",
       "       + (x⋅y)      + (y⋅x)     , c⋅  ╱   x⋅(y⋅x) ⋅x⋅(y⋅x) ⋅(x⋅y)          + c\n",
       "                                     ╱                                        \n",
       "                                     ‾‾‾                                      \n",
       "                                    q = 0                                     \n",
       "\n",
       " k - 1                                                              k - 1     \n",
       "  ___                                                                ___      \n",
       "  ╲                                                                  ╲        \n",
       "   ╲        q        i        k - q - 1        i + 1        i + 1     ╲       \n",
       "⋅  ╱   (x⋅y) ⋅y⋅(x⋅y) ⋅y⋅(x⋅y)          + (x⋅y)      + (y⋅x)      +   ╱   (y⋅x\n",
       "  ╱                                                                  ╱        \n",
       "  ‾‾‾                                                                ‾‾‾      \n",
       " q = 0                                                              q = 0     \n",
       "\n",
       "                             k - 2                                   ⎤\n",
       "                              ___                                    ⎥\n",
       "                              ╲                                      ⎥\n",
       " q        i      k - q - 1     ╲          q        i        k - q - 2⎥\n",
       ") ⋅x⋅(y⋅x) ⋅(x⋅y)          +   ╱   y⋅(x⋅y) ⋅y⋅(x⋅y) ⋅y⋅(x⋅y)         ⎥\n",
       "                              ╱                                      ⎥\n",
       "                              ‾‾‾                                    ⎥\n",
       "                             q = 0                                   ⎦"
      ]
     },
     "metadata": {},
     "output_type": "display_data"
    },
    {
     "data": {
      "image/png": "[encoded data removed]",
      "text/latex": [
       "$$\\left [ d \\sum_{q=0}^{k - 1} \\left(x y\\right)^{i + k} + d \\sum_{q=0}^{k - 1} x \\left(y x\\right)^{q} x \\left(y x\\right)^{i} \\left(x y\\right)^{k - q - 1} + \\left(x y\\right)^{i + 1} + \\left(y x\\right)^{i + 1}, \\quad c \\left(x y\\right)^{k} \\left(y x\\right)^{i} + c \\sum_{q=0}^{k - 1} \\left(x y\\right)^{i + k} + c \\sum_{q=0}^{k - 1} x \\left(y x\\right)^{q} x \\left(y x\\right)^{i} \\left(x y\\right)^{k - q - 1} + x \\left(y x\\right)^{i} x + y \\left(x y\\right)^{k - 1} \\left(y x\\right)^{i} + \\sum_{q=0}^{k - 2} y \\left(x y\\right)^{i + k - 1} + \\sum_{q=0}^{k - 1} \\left(y x\\right)^{q} x \\left(y x\\right)^{i} \\left(x y\\right)^{k - q - 1}\\right ]$$"
      ],
      "text/plain": [
       "⎡  k - 1                k - 1                                                 \n",
       "⎢   ___                  ___                                                  \n",
       "⎢   ╲                    ╲                                                    \n",
       "⎢    ╲        i + k       ╲          q        i      k - q - 1        i + 1   \n",
       "⎢d⋅  ╱   (x⋅y)      + d⋅  ╱   x⋅(y⋅x) ⋅x⋅(y⋅x) ⋅(x⋅y)          + (x⋅y)      + \n",
       "⎢   ╱                    ╱                                                    \n",
       "⎢   ‾‾‾                  ‾‾‾                                                  \n",
       "⎣  q = 0                q = 0                                                 \n",
       "\n",
       "                                k - 1                k - 1                    \n",
       "                                 ___                  ___                     \n",
       "                                 ╲                    ╲                       \n",
       "     i + 1         k      i       ╲        i + k       ╲          q        i  \n",
       "(y⋅x)     , c⋅(x⋅y) ⋅(y⋅x)  + c⋅  ╱   (x⋅y)      + c⋅  ╱   x⋅(y⋅x) ⋅x⋅(y⋅x) ⋅(\n",
       "                                 ╱                    ╱                       \n",
       "                                 ‾‾‾                  ‾‾‾                     \n",
       "                                q = 0                q = 0                    \n",
       "\n",
       "                                                   k - 2                    k \n",
       "                                                    ___                      _\n",
       "                                                    ╲                        ╲\n",
       "    k - q - 1          i            k - 1      i     ╲          i + k - 1     \n",
       "x⋅y)          + x⋅(y⋅x) ⋅x + y⋅(x⋅y)     ⋅(y⋅x)  +   ╱   y⋅(x⋅y)          +   \n",
       "                                                    ╱                        ╱\n",
       "                                                    ‾‾‾                      ‾\n",
       "                                                   q = 0                    q \n",
       "\n",
       "- 1                               ⎤\n",
       "__                                ⎥\n",
       "                                  ⎥\n",
       "╲        q        i      k - q - 1⎥\n",
       "╱   (y⋅x) ⋅x⋅(y⋅x) ⋅(x⋅y)         ⎥\n",
       "                                  ⎥\n",
       "‾‾                                ⎥\n",
       "= 0                               ⎦"
      ]
     },
     "metadata": {},
     "output_type": "display_data"
    },
    {
     "data": {
      "image/png": "[encoded data removed]",
      "text/latex": [
       "$$\\left [ d \\sum_{q=0}^{k - 1} \\left(x y\\right)^{i + q} y \\left(x y\\right)^{k - q - 1} + d \\sum_{q=0}^{k - 1} x \\left(y x\\right)^{q} x \\left(y x\\right)^{i} \\left(x y\\right)^{k - q - 1} + \\left(x y\\right)^{i + 1} + \\left(y x\\right)^{i + 1}, \\quad c \\sum_{q=0}^{k - 1} \\left(x y\\right)^{i + q} y \\left(x y\\right)^{k - q - 1} + c \\sum_{q=0}^{k - 1} x \\left(y x\\right)^{q} x \\left(y x\\right)^{i} \\left(x y\\right)^{k - q - 1} + x \\left(x y\\right)^{i} + x \\left(y x\\right)^{i} + \\sum_{q=0}^{k - 2} y \\left(x y\\right)^{i + q} y \\left(x y\\right)^{k - q - 2} + \\sum_{q=0}^{k - 1} \\left(y x\\right)^{q} x \\left(y x\\right)^{i} \\left(x y\\right)^{k - q - 1}\\right ]$$"
      ],
      "text/plain": [
       "⎡  k - 1                                 k - 1                                \n",
       "⎢   ___                                   ___                                 \n",
       "⎢   ╲                                     ╲                                   \n",
       "⎢    ╲        i + q        k - q - 1       ╲          q        i      k - q - \n",
       "⎢d⋅  ╱   (x⋅y)     ⋅y⋅(x⋅y)          + d⋅  ╱   x⋅(y⋅x) ⋅x⋅(y⋅x) ⋅(x⋅y)        \n",
       "⎢   ╱                                     ╱                                   \n",
       "⎢   ‾‾‾                                   ‾‾‾                                 \n",
       "⎣  q = 0                                 q = 0                                \n",
       "\n",
       "                               k - 1                                 k - 1    \n",
       "                                ___                                   ___     \n",
       "                                ╲                                     ╲       \n",
       "1        i + 1        i + 1      ╲        i + q        k - q - 1       ╲      \n",
       "  + (x⋅y)      + (y⋅x)     , c⋅  ╱   (x⋅y)     ⋅y⋅(x⋅y)          + c⋅  ╱   x⋅(\n",
       "                                ╱                                     ╱       \n",
       "                                ‾‾‾                                   ‾‾‾     \n",
       "                               q = 0                                 q = 0    \n",
       "\n",
       "                                                      k - 2                   \n",
       "                                                       ___                    \n",
       "                                                       ╲                      \n",
       "    q        i      k - q - 1          i          i     ╲          i + q      \n",
       "y⋅x) ⋅x⋅(y⋅x) ⋅(x⋅y)          + x⋅(x⋅y)  + x⋅(y⋅x)  +   ╱   y⋅(x⋅y)     ⋅y⋅(x⋅\n",
       "                                                       ╱                      \n",
       "                                                       ‾‾‾                    \n",
       "                                                      q = 0                   \n",
       "\n",
       "              k - 1                               ⎤\n",
       "               ___                                ⎥\n",
       "               ╲                                  ⎥\n",
       "  k - q - 2     ╲        q        i      k - q - 1⎥\n",
       "y)          +   ╱   (y⋅x) ⋅x⋅(y⋅x) ⋅(x⋅y)         ⎥\n",
       "               ╱                                  ⎥\n",
       "               ‾‾‾                                ⎥\n",
       "              q = 0                               ⎦"
      ]
     },
     "metadata": {},
     "output_type": "display_data"
    },
    {
     "data": {
      "image/png": "[encoded data removed]",
      "text/latex": [
       "$$\\left [ d \\sum_{q=0}^{k - 1} \\left(x y\\right)^{q} y \\left(x y\\right)^{i + k - q - 1} + d \\sum_{q=0}^{k - 1} x \\left(y x\\right)^{q} x \\left(y x\\right)^{i} \\left(x y\\right)^{k - q - 1} + \\left(x y\\right)^{i + 1} + \\left(y x\\right)^{i + 1}, \\quad c \\sum_{q=0}^{k - 1} \\left(x y\\right)^{q} y \\left(x y\\right)^{i + k - q - 1} + c \\sum_{q=0}^{k - 1} x \\left(y x\\right)^{q} x \\left(y x\\right)^{i} \\left(x y\\right)^{k - q - 1} + x \\left(y x\\right)^{i} + \\left(y x\\right)^{i} x + \\sum_{q=0}^{k - 2} y \\left(x y\\right)^{q} y \\left(x y\\right)^{i + k - q - 2} + \\sum_{q=0}^{k - 1} \\left(y x\\right)^{q} x \\left(y x\\right)^{i} \\left(x y\\right)^{k - q - 1}\\right ]$$"
      ],
      "text/plain": [
       "⎡  k - 1                                 k - 1                                \n",
       "⎢   ___                                   ___                                 \n",
       "⎢   ╲                                     ╲                                   \n",
       "⎢    ╲        q        i + k - q - 1       ╲          q        i      k - q - \n",
       "⎢d⋅  ╱   (x⋅y) ⋅y⋅(x⋅y)              + d⋅  ╱   x⋅(y⋅x) ⋅x⋅(y⋅x) ⋅(x⋅y)        \n",
       "⎢   ╱                                     ╱                                   \n",
       "⎢   ‾‾‾                                   ‾‾‾                                 \n",
       "⎣  q = 0                                 q = 0                                \n",
       "\n",
       "                               k - 1                                 k - 1    \n",
       "                                ___                                   ___     \n",
       "                                ╲                                     ╲       \n",
       "1        i + 1        i + 1      ╲        q        i + k - q - 1       ╲      \n",
       "  + (x⋅y)      + (y⋅x)     , c⋅  ╱   (x⋅y) ⋅y⋅(x⋅y)              + c⋅  ╱   x⋅(\n",
       "                                ╱                                     ╱       \n",
       "                                ‾‾‾                                   ‾‾‾     \n",
       "                               q = 0                                 q = 0    \n",
       "\n",
       "                                                      k - 2                   \n",
       "                                                       ___                    \n",
       "                                                       ╲                      \n",
       "    q        i      k - q - 1          i        i       ╲          q        i \n",
       "y⋅x) ⋅x⋅(y⋅x) ⋅(x⋅y)          + x⋅(y⋅x)  + (y⋅x) ⋅x +   ╱   y⋅(x⋅y) ⋅y⋅(x⋅y)  \n",
       "                                                       ╱                      \n",
       "                                                       ‾‾‾                    \n",
       "                                                      q = 0                   \n",
       "\n",
       "              k - 1                               ⎤\n",
       "               ___                                ⎥\n",
       "               ╲                                  ⎥\n",
       "+ k - q - 2     ╲        q        i      k - q - 1⎥\n",
       "            +   ╱   (y⋅x) ⋅x⋅(y⋅x) ⋅(x⋅y)         ⎥\n",
       "               ╱                                  ⎥\n",
       "               ‾‾‾                                ⎥\n",
       "              q = 0                               ⎦"
      ]
     },
     "metadata": {},
     "output_type": "display_data"
    },
    {
     "data": {
      "image/png": "[encoded data removed]",
      "text/latex": [
       "$$\\left [ d \\sum_{q=0}^{k - 1} \\left(x y\\right)^{k + q} y \\left(x y\\right)^{k - q - 1} + d \\sum_{q=0}^{k - 1} x \\left(y x\\right)^{q} x \\left(y x\\right)^{i} \\left(x y\\right)^{k - q - 1} + \\left(x y\\right)^{i + 1} + \\left(y x\\right)^{i + 1}, \\quad c \\sum_{q=0}^{k - 1} \\left(x y\\right)^{k + q} y \\left(x y\\right)^{k - q - 1} + c \\sum_{q=0}^{k - 1} x \\left(y x\\right)^{q} x \\left(y x\\right)^{i} \\left(x y\\right)^{k - q - 1} + \\sum_{q=0}^{k - 2} y \\left(x y\\right)^{k + q} y \\left(x y\\right)^{k - q - 2} + \\sum_{q=0}^{k - 1} \\left(y x\\right)^{q} x \\left(y x\\right)^{i} \\left(x y\\right)^{k - q - 1}\\right ]$$"
      ],
      "text/plain": [
       "⎡  k - 1                                 k - 1                                \n",
       "⎢   ___                                   ___                                 \n",
       "⎢   ╲                                     ╲                                   \n",
       "⎢    ╲        k + q        k - q - 1       ╲          q        i      k - q - \n",
       "⎢d⋅  ╱   (x⋅y)     ⋅y⋅(x⋅y)          + d⋅  ╱   x⋅(y⋅x) ⋅x⋅(y⋅x) ⋅(x⋅y)        \n",
       "⎢   ╱                                     ╱                                   \n",
       "⎢   ‾‾‾                                   ‾‾‾                                 \n",
       "⎣  q = 0                                 q = 0                                \n",
       "\n",
       "                               k - 1                                 k - 1    \n",
       "                                ___                                   ___     \n",
       "                                ╲                                     ╲       \n",
       "1        i + 1        i + 1      ╲        k + q        k - q - 1       ╲      \n",
       "  + (x⋅y)      + (y⋅x)     , c⋅  ╱   (x⋅y)     ⋅y⋅(x⋅y)          + c⋅  ╱   x⋅(\n",
       "                                ╱                                     ╱       \n",
       "                                ‾‾‾                                   ‾‾‾     \n",
       "                               q = 0                                 q = 0    \n",
       "\n",
       "                                k - 2                                 k - 1   \n",
       "                                 ___                                   ___    \n",
       "                                 ╲                                     ╲      \n",
       "    q        i      k - q - 1     ╲          k + q        k - q - 2     ╲     \n",
       "y⋅x) ⋅x⋅(y⋅x) ⋅(x⋅y)          +   ╱   y⋅(x⋅y)     ⋅y⋅(x⋅y)          +   ╱   (y\n",
       "                                 ╱                                     ╱      \n",
       "                                 ‾‾‾                                   ‾‾‾    \n",
       "                                q = 0                                 q = 0   \n",
       "\n",
       "                            ⎤\n",
       "                            ⎥\n",
       "                            ⎥\n",
       "   q        i      k - q - 1⎥\n",
       "⋅x) ⋅x⋅(y⋅x) ⋅(x⋅y)         ⎥\n",
       "                            ⎥\n",
       "                            ⎥\n",
       "                            ⎦"
      ]
     },
     "metadata": {},
     "output_type": "display_data"
    },
    {
     "data": {
      "image/png": "[encoded data removed]",
      "text/latex": [
       "$$\\left [ d \\sum_{q=0}^{k - 1} x \\left(y x\\right)^{q} \\left(x y\\right)^{i + k - q - 1} + d \\sum_{q=0}^{k - 1} \\left(x y\\right)^{q} y \\left(x y\\right)^{k - q - 1} + y \\left(x y\\right)^{i} + \\left(x y\\right)^{i} y, \\quad c \\sum_{q=0}^{k - 1} x \\left(y x\\right)^{q} \\left(x y\\right)^{i + k - q - 1} + c \\sum_{q=0}^{k - 1} \\left(x y\\right)^{q} y \\left(x y\\right)^{k - q - 1} + \\sum_{q=0}^{k - 1} \\left(y x\\right)^{q} \\left(x y\\right)^{i + k - q - 1} + \\sum_{q=0}^{k - 2} y \\left(x y\\right)^{q} y \\left(x y\\right)^{k - q - 2}\\right ]$$"
      ],
      "text/plain": [
       "⎡  k - 1                                 k - 1                                \n",
       "⎢   ___                                   ___                                 \n",
       "⎢   ╲                                     ╲                                   \n",
       "⎢    ╲          q      i + k - q - 1       ╲        q        k - q - 1        \n",
       "⎢d⋅  ╱   x⋅(y⋅x) ⋅(x⋅y)              + d⋅  ╱   (x⋅y) ⋅y⋅(x⋅y)          + y⋅(x⋅\n",
       "⎢   ╱                                     ╱                                   \n",
       "⎢   ‾‾‾                                   ‾‾‾                                 \n",
       "⎣  q = 0                                 q = 0                                \n",
       "\n",
       "                  k - 1                                 k - 1                 \n",
       "                   ___                                   ___                  \n",
       "                   ╲                                     ╲                    \n",
       "  i        i        ╲          q      i + k - q - 1       ╲        q        k \n",
       "y)  + (x⋅y) ⋅y, c⋅  ╱   x⋅(y⋅x) ⋅(x⋅y)              + c⋅  ╱   (x⋅y) ⋅y⋅(x⋅y)  \n",
       "                   ╱                                     ╱                    \n",
       "                   ‾‾‾                                   ‾‾‾                  \n",
       "                  q = 0                                 q = 0                 \n",
       "\n",
       "          k - 1                             k - 2                          ⎤\n",
       "           ___                               ___                           ⎥\n",
       "           ╲                                 ╲                             ⎥\n",
       "- q - 1     ╲        q      i + k - q - 1     ╲          q        k - q - 2⎥\n",
       "        +   ╱   (y⋅x) ⋅(x⋅y)              +   ╱   y⋅(x⋅y) ⋅y⋅(x⋅y)         ⎥\n",
       "           ╱                                 ╱                             ⎥\n",
       "           ‾‾‾                               ‾‾‾                           ⎥\n",
       "          q = 0                             q = 0                          ⎦"
      ]
     },
     "metadata": {},
     "output_type": "display_data"
    },
    {
     "data": {
      "image/png": "[encoded data removed]",
      "text/latex": [
       "$$\\left [ d \\sum_{q=0}^{k - 1} x \\left(y x\\right)^{q} \\left(x y\\right)^{i + k - q - 1} + d \\sum_{q=0}^{k - 1} \\left(x y\\right)^{q} y \\left(x y\\right)^{i} y \\left(x y\\right)^{k - q - 1} + y \\left(x y\\right)^{i} + \\left(x y\\right)^{i} y, \\quad c \\sum_{q=0}^{k - 1} x \\left(y x\\right)^{q} \\left(x y\\right)^{i + k - q - 1} + c \\sum_{q=0}^{k - 1} \\left(x y\\right)^{q} y \\left(x y\\right)^{i} y \\left(x y\\right)^{k - q - 1} + \\left(x y\\right)^{i + 1} + \\left(y x\\right)^{i + 1} + \\sum_{q=0}^{k - 1} \\left(y x\\right)^{q} \\left(x y\\right)^{i + k - q - 1} + \\sum_{q=0}^{k - 2} y \\left(x y\\right)^{q} y \\left(x y\\right)^{i} y \\left(x y\\right)^{k - q - 2}\\right ]$$"
      ],
      "text/plain": [
       "⎡  k - 1                                 k - 1                                \n",
       "⎢   ___                                   ___                                 \n",
       "⎢   ╲                                     ╲                                   \n",
       "⎢    ╲          q      i + k - q - 1       ╲        q        i        k - q - \n",
       "⎢d⋅  ╱   x⋅(y⋅x) ⋅(x⋅y)              + d⋅  ╱   (x⋅y) ⋅y⋅(x⋅y) ⋅y⋅(x⋅y)        \n",
       "⎢   ╱                                     ╱                                   \n",
       "⎢   ‾‾‾                                   ‾‾‾                                 \n",
       "⎣  q = 0                                 q = 0                                \n",
       "\n",
       "                           k - 1                                 k - 1        \n",
       "                            ___                                   ___         \n",
       "                            ╲                                     ╲           \n",
       "1          i        i        ╲          q      i + k - q - 1       ╲        q \n",
       "  + y⋅(x⋅y)  + (x⋅y) ⋅y, c⋅  ╱   x⋅(y⋅x) ⋅(x⋅y)              + c⋅  ╱   (x⋅y) ⋅\n",
       "                            ╱                                     ╱           \n",
       "                            ‾‾‾                                   ‾‾‾         \n",
       "                           q = 0                                 q = 0        \n",
       "\n",
       "                                                      k - 1                   \n",
       "                                                       ___                    \n",
       "                                                       ╲                      \n",
       "       i        k - q - 1        i + 1        i + 1     ╲        q      i + k \n",
       "y⋅(x⋅y) ⋅y⋅(x⋅y)          + (x⋅y)      + (y⋅x)      +   ╱   (y⋅x) ⋅(x⋅y)      \n",
       "                                                       ╱                      \n",
       "                                                       ‾‾‾                    \n",
       "                                                      q = 0                   \n",
       "\n",
       "          k - 2                                   ⎤\n",
       "           ___                                    ⎥\n",
       "           ╲                                      ⎥\n",
       "- q - 1     ╲          q        i        k - q - 2⎥\n",
       "        +   ╱   y⋅(x⋅y) ⋅y⋅(x⋅y) ⋅y⋅(x⋅y)         ⎥\n",
       "           ╱                                      ⎥\n",
       "           ‾‾‾                                    ⎥\n",
       "          q = 0                                   ⎦"
      ]
     },
     "metadata": {},
     "output_type": "display_data"
    },
    {
     "data": {
      "image/png": "[encoded data removed]",
      "text/latex": [
       "$$\\left [ d \\sum_{q=0}^{k - 1} \\left(x y\\right)^{i + k} + d \\sum_{q=0}^{k - 1} x \\left(y x\\right)^{q} \\left(x y\\right)^{i + k - q - 1} + y \\left(x y\\right)^{i} + \\left(x y\\right)^{i} y, \\quad c \\left(x y\\right)^{k} \\left(y x\\right)^{i} + c \\sum_{q=0}^{k - 1} \\left(x y\\right)^{i + k} + c \\sum_{q=0}^{k - 1} x \\left(y x\\right)^{q} \\left(x y\\right)^{i + k - q - 1} + x \\left(y x\\right)^{i} x + y \\left(x y\\right)^{k - 1} \\left(y x\\right)^{i} + \\sum_{q=0}^{k - 2} y \\left(x y\\right)^{i + k - 1} + \\sum_{q=0}^{k - 1} \\left(y x\\right)^{q} \\left(x y\\right)^{i + k - q - 1}\\right ]$$"
      ],
      "text/plain": [
       "⎡  k - 1                k - 1                                                 \n",
       "⎢   ___                  ___                                                  \n",
       "⎢   ╲                    ╲                                                    \n",
       "⎢    ╲        i + k       ╲          q      i + k - q - 1          i        i \n",
       "⎢d⋅  ╱   (x⋅y)      + d⋅  ╱   x⋅(y⋅x) ⋅(x⋅y)              + y⋅(x⋅y)  + (x⋅y) ⋅\n",
       "⎢   ╱                    ╱                                                    \n",
       "⎢   ‾‾‾                  ‾‾‾                                                  \n",
       "⎣  q = 0                q = 0                                                 \n",
       "\n",
       "                       k - 1                k - 1                             \n",
       "                        ___                  ___                              \n",
       "                        ╲                    ╲                                \n",
       "          k      i       ╲        i + k       ╲          q      i + k - q - 1 \n",
       "y, c⋅(x⋅y) ⋅(y⋅x)  + c⋅  ╱   (x⋅y)      + c⋅  ╱   x⋅(y⋅x) ⋅(x⋅y)              \n",
       "                        ╱                    ╱                                \n",
       "                        ‾‾‾                  ‾‾‾                              \n",
       "                       q = 0                q = 0                             \n",
       "\n",
       "                                     k - 2                    k - 1           \n",
       "                                      ___                      ___            \n",
       "                                      ╲                        ╲              \n",
       "         i            k - 1      i     ╲          i + k - 1     ╲        q    \n",
       "+ x⋅(y⋅x) ⋅x + y⋅(x⋅y)     ⋅(y⋅x)  +   ╱   y⋅(x⋅y)          +   ╱   (y⋅x) ⋅(x⋅\n",
       "                                      ╱                        ╱              \n",
       "                                      ‾‾‾                      ‾‾‾            \n",
       "                                     q = 0                    q = 0           \n",
       "\n",
       "               ⎤\n",
       "               ⎥\n",
       "               ⎥\n",
       "  i + k - q - 1⎥\n",
       "y)             ⎥\n",
       "               ⎥\n",
       "               ⎥\n",
       "               ⎦"
      ]
     },
     "metadata": {},
     "output_type": "display_data"
    },
    {
     "data": {
      "image/png": "[encoded data removed]",
      "text/latex": [
       "$$\\left [ d \\sum_{q=0}^{k - 1} x \\left(y x\\right)^{q} \\left(x y\\right)^{i + k - q - 1} + d \\sum_{q=0}^{k - 1} \\left(x y\\right)^{i + q} y \\left(x y\\right)^{k - q - 1} + y \\left(x y\\right)^{i} + \\left(x y\\right)^{i} y, \\quad c \\sum_{q=0}^{k - 1} x \\left(y x\\right)^{q} \\left(x y\\right)^{i + k - q - 1} + c \\sum_{q=0}^{k - 1} \\left(x y\\right)^{i + q} y \\left(x y\\right)^{k - q - 1} + x \\left(x y\\right)^{i} + x \\left(y x\\right)^{i} + \\sum_{q=0}^{k - 1} \\left(y x\\right)^{q} \\left(x y\\right)^{i + k - q - 1} + \\sum_{q=0}^{k - 2} y \\left(x y\\right)^{i + q} y \\left(x y\\right)^{k - q - 2}\\right ]$$"
      ],
      "text/plain": [
       "⎡  k - 1                                 k - 1                                \n",
       "⎢   ___                                   ___                                 \n",
       "⎢   ╲                                     ╲                                   \n",
       "⎢    ╲          q      i + k - q - 1       ╲        i + q        k - q - 1    \n",
       "⎢d⋅  ╱   x⋅(y⋅x) ⋅(x⋅y)              + d⋅  ╱   (x⋅y)     ⋅y⋅(x⋅y)          + y\n",
       "⎢   ╱                                     ╱                                   \n",
       "⎢   ‾‾‾                                   ‾‾‾                                 \n",
       "⎣  q = 0                                 q = 0                                \n",
       "\n",
       "                      k - 1                                 k - 1             \n",
       "                       ___                                   ___              \n",
       "                       ╲                                     ╲                \n",
       "      i        i        ╲          q      i + k - q - 1       ╲        i + q  \n",
       "⋅(x⋅y)  + (x⋅y) ⋅y, c⋅  ╱   x⋅(y⋅x) ⋅(x⋅y)              + c⋅  ╱   (x⋅y)     ⋅y\n",
       "                       ╱                                     ╱                \n",
       "                       ‾‾‾                                   ‾‾‾              \n",
       "                      q = 0                                 q = 0             \n",
       "\n",
       "                                        k - 1                             k - \n",
       "                                         ___                               ___\n",
       "                                         ╲                                 ╲  \n",
       "      k - q - 1          i          i     ╲        q      i + k - q - 1     ╲ \n",
       "⋅(x⋅y)          + x⋅(x⋅y)  + x⋅(y⋅x)  +   ╱   (y⋅x) ⋅(x⋅y)              +   ╱ \n",
       "                                         ╱                                 ╱  \n",
       "                                         ‾‾‾                               ‾‾‾\n",
       "                                        q = 0                             q = \n",
       "\n",
       "2                              ⎤\n",
       "                               ⎥\n",
       "                               ⎥\n",
       "         i + q        k - q - 2⎥\n",
       "  y⋅(x⋅y)     ⋅y⋅(x⋅y)         ⎥\n",
       "                               ⎥\n",
       "                               ⎥\n",
       "0                              ⎦"
      ]
     },
     "metadata": {},
     "output_type": "display_data"
    },
    {
     "data": {
      "image/png": "[encoded data removed]",
      "text/latex": [
       "$$\\left [ d \\sum_{q=0}^{k - 1} x \\left(y x\\right)^{q} \\left(x y\\right)^{i + k - q - 1} + d \\sum_{q=0}^{k - 1} \\left(x y\\right)^{q} y \\left(x y\\right)^{i + k - q - 1} + y \\left(x y\\right)^{i} + \\left(x y\\right)^{i} y, \\quad c \\sum_{q=0}^{k - 1} x \\left(y x\\right)^{q} \\left(x y\\right)^{i + k - q - 1} + c \\sum_{q=0}^{k - 1} \\left(x y\\right)^{q} y \\left(x y\\right)^{i + k - q - 1} + x \\left(y x\\right)^{i} + \\left(y x\\right)^{i} x + \\sum_{q=0}^{k - 1} \\left(y x\\right)^{q} \\left(x y\\right)^{i + k - q - 1} + \\sum_{q=0}^{k - 2} y \\left(x y\\right)^{q} y \\left(x y\\right)^{i + k - q - 2}\\right ]$$"
      ],
      "text/plain": [
       "⎡  k - 1                                 k - 1                                \n",
       "⎢   ___                                   ___                                 \n",
       "⎢   ╲                                     ╲                                   \n",
       "⎢    ╲          q      i + k - q - 1       ╲        q        i + k - q - 1    \n",
       "⎢d⋅  ╱   x⋅(y⋅x) ⋅(x⋅y)              + d⋅  ╱   (x⋅y) ⋅y⋅(x⋅y)              + y\n",
       "⎢   ╱                                     ╱                                   \n",
       "⎢   ‾‾‾                                   ‾‾‾                                 \n",
       "⎣  q = 0                                 q = 0                                \n",
       "\n",
       "                      k - 1                                 k - 1             \n",
       "                       ___                                   ___              \n",
       "                       ╲                                     ╲                \n",
       "      i        i        ╲          q      i + k - q - 1       ╲        q      \n",
       "⋅(x⋅y)  + (x⋅y) ⋅y, c⋅  ╱   x⋅(y⋅x) ⋅(x⋅y)              + c⋅  ╱   (x⋅y) ⋅y⋅(x⋅\n",
       "                       ╱                                     ╱                \n",
       "                       ‾‾‾                                   ‾‾‾              \n",
       "                      q = 0                                 q = 0             \n",
       "\n",
       "                                        k - 1                             k - \n",
       "                                         ___                               ___\n",
       "                                         ╲                                 ╲  \n",
       "  i + k - q - 1          i        i       ╲        q      i + k - q - 1     ╲ \n",
       "y)              + x⋅(y⋅x)  + (y⋅x) ⋅x +   ╱   (y⋅x) ⋅(x⋅y)              +   ╱ \n",
       "                                         ╱                                 ╱  \n",
       "                                         ‾‾‾                               ‾‾‾\n",
       "                                        q = 0                             q = \n",
       "\n",
       "2                              ⎤\n",
       "                               ⎥\n",
       "                               ⎥\n",
       "         q        i + k - q - 2⎥\n",
       "  y⋅(x⋅y) ⋅y⋅(x⋅y)             ⎥\n",
       "                               ⎥\n",
       "                               ⎥\n",
       "0                              ⎦"
      ]
     },
     "metadata": {},
     "output_type": "display_data"
    },
    {
     "data": {
      "image/png": "[encoded data removed]",
      "text/latex": [
       "$$\\left [ d \\sum_{q=0}^{k - 1} x \\left(y x\\right)^{q} \\left(x y\\right)^{i + k - q - 1} + d \\sum_{q=0}^{k - 1} \\left(x y\\right)^{k + q} y \\left(x y\\right)^{k - q - 1} + y \\left(x y\\right)^{i} + \\left(x y\\right)^{i} y, \\quad c \\sum_{q=0}^{k - 1} x \\left(y x\\right)^{q} \\left(x y\\right)^{i + k - q - 1} + c \\sum_{q=0}^{k - 1} \\left(x y\\right)^{k + q} y \\left(x y\\right)^{k - q - 1} + \\sum_{q=0}^{k - 1} \\left(y x\\right)^{q} \\left(x y\\right)^{i + k - q - 1} + \\sum_{q=0}^{k - 2} y \\left(x y\\right)^{k + q} y \\left(x y\\right)^{k - q - 2}\\right ]$$"
      ],
      "text/plain": [
       "⎡  k - 1                                 k - 1                                \n",
       "⎢   ___                                   ___                                 \n",
       "⎢   ╲                                     ╲                                   \n",
       "⎢    ╲          q      i + k - q - 1       ╲        k + q        k - q - 1    \n",
       "⎢d⋅  ╱   x⋅(y⋅x) ⋅(x⋅y)              + d⋅  ╱   (x⋅y)     ⋅y⋅(x⋅y)          + y\n",
       "⎢   ╱                                     ╱                                   \n",
       "⎢   ‾‾‾                                   ‾‾‾                                 \n",
       "⎣  q = 0                                 q = 0                                \n",
       "\n",
       "                      k - 1                                 k - 1             \n",
       "                       ___                                   ___              \n",
       "                       ╲                                     ╲                \n",
       "      i        i        ╲          q      i + k - q - 1       ╲        k + q  \n",
       "⋅(x⋅y)  + (x⋅y) ⋅y, c⋅  ╱   x⋅(y⋅x) ⋅(x⋅y)              + c⋅  ╱   (x⋅y)     ⋅y\n",
       "                       ╱                                     ╱                \n",
       "                       ‾‾‾                                   ‾‾‾              \n",
       "                      q = 0                                 q = 0             \n",
       "\n",
       "                  k - 1                             k - 2                     \n",
       "                   ___                               ___                      \n",
       "                   ╲                                 ╲                        \n",
       "      k - q - 1     ╲        q      i + k - q - 1     ╲          k + q        \n",
       "⋅(x⋅y)          +   ╱   (y⋅x) ⋅(x⋅y)              +   ╱   y⋅(x⋅y)     ⋅y⋅(x⋅y)\n",
       "                   ╱                                 ╱                        \n",
       "                   ‾‾‾                               ‾‾‾                      \n",
       "                  q = 0                             q = 0                     \n",
       "\n",
       "         ⎤\n",
       "         ⎥\n",
       "         ⎥\n",
       "k - q - 2⎥\n",
       "         ⎥\n",
       "         ⎥\n",
       "         ⎥\n",
       "         ⎦"
      ]
     },
     "metadata": {},
     "output_type": "display_data"
    },
    {
     "data": {
      "image/png": "[encoded data removed]",
      "text/latex": [
       "$$\\left [ d \\sum_{q=0}^{k - 1} x \\left(y x\\right)^{i + q} \\left(x y\\right)^{k - q - 1} + d \\sum_{q=0}^{k - 1} \\left(x y\\right)^{q} y \\left(x y\\right)^{k - q - 1} + y \\left(x y\\right)^{i} + y \\left(y x\\right)^{i}, \\quad c \\sum_{q=0}^{k - 1} x \\left(y x\\right)^{i + q} \\left(x y\\right)^{k - q - 1} + c \\sum_{q=0}^{k - 1} \\left(x y\\right)^{q} y \\left(x y\\right)^{k - q - 1} + \\sum_{q=0}^{k - 1} \\left(y x\\right)^{i + q} \\left(x y\\right)^{k - q - 1} + \\sum_{q=0}^{k - 2} y \\left(x y\\right)^{q} y \\left(x y\\right)^{k - q - 2}\\right ]$$"
      ],
      "text/plain": [
       "⎡  k - 1                                 k - 1                                \n",
       "⎢   ___                                   ___                                 \n",
       "⎢   ╲                                     ╲                                   \n",
       "⎢    ╲          i + q      k - q - 1       ╲        q        k - q - 1        \n",
       "⎢d⋅  ╱   x⋅(y⋅x)     ⋅(x⋅y)          + d⋅  ╱   (x⋅y) ⋅y⋅(x⋅y)          + y⋅(x⋅\n",
       "⎢   ╱                                     ╱                                   \n",
       "⎢   ‾‾‾                                   ‾‾‾                                 \n",
       "⎣  q = 0                                 q = 0                                \n",
       "\n",
       "                  k - 1                                 k - 1                 \n",
       "                   ___                                   ___                  \n",
       "                   ╲                                     ╲                    \n",
       "  i          i      ╲          i + q      k - q - 1       ╲        q        k \n",
       "y)  + y⋅(y⋅x) , c⋅  ╱   x⋅(y⋅x)     ⋅(x⋅y)          + c⋅  ╱   (x⋅y) ⋅y⋅(x⋅y)  \n",
       "                   ╱                                     ╱                    \n",
       "                   ‾‾‾                                   ‾‾‾                  \n",
       "                  q = 0                                 q = 0                 \n",
       "\n",
       "          k - 1                             k - 2                          ⎤\n",
       "           ___                               ___                           ⎥\n",
       "           ╲                                 ╲                             ⎥\n",
       "- q - 1     ╲        i + q      k - q - 1     ╲          q        k - q - 2⎥\n",
       "        +   ╱   (y⋅x)     ⋅(x⋅y)          +   ╱   y⋅(x⋅y) ⋅y⋅(x⋅y)         ⎥\n",
       "           ╱                                 ╱                             ⎥\n",
       "           ‾‾‾                               ‾‾‾                           ⎥\n",
       "          q = 0                             q = 0                          ⎦"
      ]
     },
     "metadata": {},
     "output_type": "display_data"
    },
    {
     "data": {
      "image/png": "[encoded data removed]",
      "text/latex": [
       "$$\\left [ d \\sum_{q=0}^{k - 1} x \\left(y x\\right)^{i + q} \\left(x y\\right)^{k - q - 1} + d \\sum_{q=0}^{k - 1} \\left(x y\\right)^{q} y \\left(x y\\right)^{i} y \\left(x y\\right)^{k - q - 1} + y \\left(x y\\right)^{i} + y \\left(y x\\right)^{i}, \\quad c \\sum_{q=0}^{k - 1} x \\left(y x\\right)^{i + q} \\left(x y\\right)^{k - q - 1} + c \\sum_{q=0}^{k - 1} \\left(x y\\right)^{q} y \\left(x y\\right)^{i} y \\left(x y\\right)^{k - q - 1} + \\left(x y\\right)^{i + 1} + \\left(y x\\right)^{i + 1} + \\sum_{q=0}^{k - 1} \\left(y x\\right)^{i + q} \\left(x y\\right)^{k - q - 1} + \\sum_{q=0}^{k - 2} y \\left(x y\\right)^{q} y \\left(x y\\right)^{i} y \\left(x y\\right)^{k - q - 2}\\right ]$$"
      ],
      "text/plain": [
       "⎡  k - 1                                 k - 1                                \n",
       "⎢   ___                                   ___                                 \n",
       "⎢   ╲                                     ╲                                   \n",
       "⎢    ╲          i + q      k - q - 1       ╲        q        i        k - q - \n",
       "⎢d⋅  ╱   x⋅(y⋅x)     ⋅(x⋅y)          + d⋅  ╱   (x⋅y) ⋅y⋅(x⋅y) ⋅y⋅(x⋅y)        \n",
       "⎢   ╱                                     ╱                                   \n",
       "⎢   ‾‾‾                                   ‾‾‾                                 \n",
       "⎣  q = 0                                 q = 0                                \n",
       "\n",
       "                           k - 1                                 k - 1        \n",
       "                            ___                                   ___         \n",
       "                            ╲                                     ╲           \n",
       "1          i          i      ╲          i + q      k - q - 1       ╲        q \n",
       "  + y⋅(x⋅y)  + y⋅(y⋅x) , c⋅  ╱   x⋅(y⋅x)     ⋅(x⋅y)          + c⋅  ╱   (x⋅y) ⋅\n",
       "                            ╱                                     ╱           \n",
       "                            ‾‾‾                                   ‾‾‾         \n",
       "                           q = 0                                 q = 0        \n",
       "\n",
       "                                                      k - 1                   \n",
       "                                                       ___                    \n",
       "                                                       ╲                      \n",
       "       i        k - q - 1        i + 1        i + 1     ╲        i + q      k \n",
       "y⋅(x⋅y) ⋅y⋅(x⋅y)          + (x⋅y)      + (y⋅x)      +   ╱   (y⋅x)     ⋅(x⋅y)  \n",
       "                                                       ╱                      \n",
       "                                                       ‾‾‾                    \n",
       "                                                      q = 0                   \n",
       "\n",
       "          k - 2                                   ⎤\n",
       "           ___                                    ⎥\n",
       "           ╲                                      ⎥\n",
       "- q - 1     ╲          q        i        k - q - 2⎥\n",
       "        +   ╱   y⋅(x⋅y) ⋅y⋅(x⋅y) ⋅y⋅(x⋅y)         ⎥\n",
       "           ╱                                      ⎥\n",
       "           ‾‾‾                                    ⎥\n",
       "          q = 0                                   ⎦"
      ]
     },
     "metadata": {},
     "output_type": "display_data"
    },
    {
     "data": {
      "image/png": "[encoded data removed]",
      "text/latex": [
       "$$\\left [ d \\sum_{q=0}^{k - 1} \\left(x y\\right)^{i + k} + d \\sum_{q=0}^{k - 1} x \\left(y x\\right)^{i + q} \\left(x y\\right)^{k - q - 1} + y \\left(x y\\right)^{i} + y \\left(y x\\right)^{i}, \\quad c \\left(x y\\right)^{k} \\left(y x\\right)^{i} + c \\sum_{q=0}^{k - 1} \\left(x y\\right)^{i + k} + c \\sum_{q=0}^{k - 1} x \\left(y x\\right)^{i + q} \\left(x y\\right)^{k - q - 1} + x \\left(y x\\right)^{i} x + y \\left(x y\\right)^{k - 1} \\left(y x\\right)^{i} + \\sum_{q=0}^{k - 2} y \\left(x y\\right)^{i + k - 1} + \\sum_{q=0}^{k - 1} \\left(y x\\right)^{i + q} \\left(x y\\right)^{k - q - 1}\\right ]$$"
      ],
      "text/plain": [
       "⎡  k - 1                k - 1                                                 \n",
       "⎢   ___                  ___                                                  \n",
       "⎢   ╲                    ╲                                                    \n",
       "⎢    ╲        i + k       ╲          i + q      k - q - 1          i          \n",
       "⎢d⋅  ╱   (x⋅y)      + d⋅  ╱   x⋅(y⋅x)     ⋅(x⋅y)          + y⋅(x⋅y)  + y⋅(y⋅x)\n",
       "⎢   ╱                    ╱                                                    \n",
       "⎢   ‾‾‾                  ‾‾‾                                                  \n",
       "⎣  q = 0                q = 0                                                 \n",
       "\n",
       "                       k - 1                k - 1                             \n",
       "                        ___                  ___                              \n",
       "                        ╲                    ╲                                \n",
       "i         k      i       ╲        i + k       ╲          i + q      k - q - 1 \n",
       " , c⋅(x⋅y) ⋅(y⋅x)  + c⋅  ╱   (x⋅y)      + c⋅  ╱   x⋅(y⋅x)     ⋅(x⋅y)          \n",
       "                        ╱                    ╱                                \n",
       "                        ‾‾‾                  ‾‾‾                              \n",
       "                       q = 0                q = 0                             \n",
       "\n",
       "                                     k - 2                    k - 1           \n",
       "                                      ___                      ___            \n",
       "                                      ╲                        ╲              \n",
       "         i            k - 1      i     ╲          i + k - 1     ╲        i + q\n",
       "+ x⋅(y⋅x) ⋅x + y⋅(x⋅y)     ⋅(y⋅x)  +   ╱   y⋅(x⋅y)          +   ╱   (y⋅x)     \n",
       "                                      ╱                        ╱              \n",
       "                                      ‾‾‾                      ‾‾‾            \n",
       "                                     q = 0                    q = 0           \n",
       "\n",
       "               ⎤\n",
       "               ⎥\n",
       "               ⎥\n",
       "      k - q - 1⎥\n",
       "⋅(x⋅y)         ⎥\n",
       "               ⎥\n",
       "               ⎥\n",
       "               ⎦"
      ]
     },
     "metadata": {},
     "output_type": "display_data"
    },
    {
     "data": {
      "image/png": "[encoded data removed]",
      "text/latex": [
       "$$\\left [ d \\sum_{q=0}^{k - 1} x \\left(y x\\right)^{i + q} \\left(x y\\right)^{k - q - 1} + d \\sum_{q=0}^{k - 1} \\left(x y\\right)^{i + q} y \\left(x y\\right)^{k - q - 1} + y \\left(x y\\right)^{i} + y \\left(y x\\right)^{i}, \\quad c \\sum_{q=0}^{k - 1} x \\left(y x\\right)^{i + q} \\left(x y\\right)^{k - q - 1} + c \\sum_{q=0}^{k - 1} \\left(x y\\right)^{i + q} y \\left(x y\\right)^{k - q - 1} + x \\left(x y\\right)^{i} + x \\left(y x\\right)^{i} + \\sum_{q=0}^{k - 1} \\left(y x\\right)^{i + q} \\left(x y\\right)^{k - q - 1} + \\sum_{q=0}^{k - 2} y \\left(x y\\right)^{i + q} y \\left(x y\\right)^{k - q - 2}\\right ]$$"
      ],
      "text/plain": [
       "⎡  k - 1                                 k - 1                                \n",
       "⎢   ___                                   ___                                 \n",
       "⎢   ╲                                     ╲                                   \n",
       "⎢    ╲          i + q      k - q - 1       ╲        i + q        k - q - 1    \n",
       "⎢d⋅  ╱   x⋅(y⋅x)     ⋅(x⋅y)          + d⋅  ╱   (x⋅y)     ⋅y⋅(x⋅y)          + y\n",
       "⎢   ╱                                     ╱                                   \n",
       "⎢   ‾‾‾                                   ‾‾‾                                 \n",
       "⎣  q = 0                                 q = 0                                \n",
       "\n",
       "                      k - 1                                 k - 1             \n",
       "                       ___                                   ___              \n",
       "                       ╲                                     ╲                \n",
       "      i          i      ╲          i + q      k - q - 1       ╲        i + q  \n",
       "⋅(x⋅y)  + y⋅(y⋅x) , c⋅  ╱   x⋅(y⋅x)     ⋅(x⋅y)          + c⋅  ╱   (x⋅y)     ⋅y\n",
       "                       ╱                                     ╱                \n",
       "                       ‾‾‾                                   ‾‾‾              \n",
       "                      q = 0                                 q = 0             \n",
       "\n",
       "                                        k - 1                             k - \n",
       "                                         ___                               ___\n",
       "                                         ╲                                 ╲  \n",
       "      k - q - 1          i          i     ╲        i + q      k - q - 1     ╲ \n",
       "⋅(x⋅y)          + x⋅(x⋅y)  + x⋅(y⋅x)  +   ╱   (y⋅x)     ⋅(x⋅y)          +   ╱ \n",
       "                                         ╱                                 ╱  \n",
       "                                         ‾‾‾                               ‾‾‾\n",
       "                                        q = 0                             q = \n",
       "\n",
       "2                              ⎤\n",
       "                               ⎥\n",
       "                               ⎥\n",
       "         i + q        k - q - 2⎥\n",
       "  y⋅(x⋅y)     ⋅y⋅(x⋅y)         ⎥\n",
       "                               ⎥\n",
       "                               ⎥\n",
       "0                              ⎦"
      ]
     },
     "metadata": {},
     "output_type": "display_data"
    },
    {
     "data": {
      "image/png": "[encoded data removed]",
      "text/latex": [
       "$$\\left [ d \\sum_{q=0}^{k - 1} x \\left(y x\\right)^{i + q} \\left(x y\\right)^{k - q - 1} + d \\sum_{q=0}^{k - 1} \\left(x y\\right)^{q} y \\left(x y\\right)^{i + k - q - 1} + y \\left(x y\\right)^{i} + y \\left(y x\\right)^{i}, \\quad c \\sum_{q=0}^{k - 1} x \\left(y x\\right)^{i + q} \\left(x y\\right)^{k - q - 1} + c \\sum_{q=0}^{k - 1} \\left(x y\\right)^{q} y \\left(x y\\right)^{i + k - q - 1} + x \\left(y x\\right)^{i} + \\left(y x\\right)^{i} x + \\sum_{q=0}^{k - 1} \\left(y x\\right)^{i + q} \\left(x y\\right)^{k - q - 1} + \\sum_{q=0}^{k - 2} y \\left(x y\\right)^{q} y \\left(x y\\right)^{i + k - q - 2}\\right ]$$"
      ],
      "text/plain": [
       "⎡  k - 1                                 k - 1                                \n",
       "⎢   ___                                   ___                                 \n",
       "⎢   ╲                                     ╲                                   \n",
       "⎢    ╲          i + q      k - q - 1       ╲        q        i + k - q - 1    \n",
       "⎢d⋅  ╱   x⋅(y⋅x)     ⋅(x⋅y)          + d⋅  ╱   (x⋅y) ⋅y⋅(x⋅y)              + y\n",
       "⎢   ╱                                     ╱                                   \n",
       "⎢   ‾‾‾                                   ‾‾‾                                 \n",
       "⎣  q = 0                                 q = 0                                \n",
       "\n",
       "                      k - 1                                 k - 1             \n",
       "                       ___                                   ___              \n",
       "                       ╲                                     ╲                \n",
       "      i          i      ╲          i + q      k - q - 1       ╲        q      \n",
       "⋅(x⋅y)  + y⋅(y⋅x) , c⋅  ╱   x⋅(y⋅x)     ⋅(x⋅y)          + c⋅  ╱   (x⋅y) ⋅y⋅(x⋅\n",
       "                       ╱                                     ╱                \n",
       "                       ‾‾‾                                   ‾‾‾              \n",
       "                      q = 0                                 q = 0             \n",
       "\n",
       "                                        k - 1                             k - \n",
       "                                         ___                               ___\n",
       "                                         ╲                                 ╲  \n",
       "  i + k - q - 1          i        i       ╲        i + q      k - q - 1     ╲ \n",
       "y)              + x⋅(y⋅x)  + (y⋅x) ⋅x +   ╱   (y⋅x)     ⋅(x⋅y)          +   ╱ \n",
       "                                         ╱                                 ╱  \n",
       "                                         ‾‾‾                               ‾‾‾\n",
       "                                        q = 0                             q = \n",
       "\n",
       "2                              ⎤\n",
       "                               ⎥\n",
       "                               ⎥\n",
       "         q        i + k - q - 2⎥\n",
       "  y⋅(x⋅y) ⋅y⋅(x⋅y)             ⎥\n",
       "                               ⎥\n",
       "                               ⎥\n",
       "0                              ⎦"
      ]
     },
     "metadata": {},
     "output_type": "display_data"
    },
    {
     "data": {
      "image/png": "[encoded data removed]",
      "text/latex": [
       "$$\\left [ d \\sum_{q=0}^{k - 1} x \\left(y x\\right)^{i + q} \\left(x y\\right)^{k - q - 1} + d \\sum_{q=0}^{k - 1} \\left(x y\\right)^{k + q} y \\left(x y\\right)^{k - q - 1} + y \\left(x y\\right)^{i} + y \\left(y x\\right)^{i}, \\quad c \\sum_{q=0}^{k - 1} x \\left(y x\\right)^{i + q} \\left(x y\\right)^{k - q - 1} + c \\sum_{q=0}^{k - 1} \\left(x y\\right)^{k + q} y \\left(x y\\right)^{k - q - 1} + \\sum_{q=0}^{k - 1} \\left(y x\\right)^{i + q} \\left(x y\\right)^{k - q - 1} + \\sum_{q=0}^{k - 2} y \\left(x y\\right)^{k + q} y \\left(x y\\right)^{k - q - 2}\\right ]$$"
      ],
      "text/plain": [
       "⎡  k - 1                                 k - 1                                \n",
       "⎢   ___                                   ___                                 \n",
       "⎢   ╲                                     ╲                                   \n",
       "⎢    ╲          i + q      k - q - 1       ╲        k + q        k - q - 1    \n",
       "⎢d⋅  ╱   x⋅(y⋅x)     ⋅(x⋅y)          + d⋅  ╱   (x⋅y)     ⋅y⋅(x⋅y)          + y\n",
       "⎢   ╱                                     ╱                                   \n",
       "⎢   ‾‾‾                                   ‾‾‾                                 \n",
       "⎣  q = 0                                 q = 0                                \n",
       "\n",
       "                      k - 1                                 k - 1             \n",
       "                       ___                                   ___              \n",
       "                       ╲                                     ╲                \n",
       "      i          i      ╲          i + q      k - q - 1       ╲        k + q  \n",
       "⋅(x⋅y)  + y⋅(y⋅x) , c⋅  ╱   x⋅(y⋅x)     ⋅(x⋅y)          + c⋅  ╱   (x⋅y)     ⋅y\n",
       "                       ╱                                     ╱                \n",
       "                       ‾‾‾                                   ‾‾‾              \n",
       "                      q = 0                                 q = 0             \n",
       "\n",
       "                  k - 1                             k - 2                     \n",
       "                   ___                               ___                      \n",
       "                   ╲                                 ╲                        \n",
       "      k - q - 1     ╲        i + q      k - q - 1     ╲          k + q        \n",
       "⋅(x⋅y)          +   ╱   (y⋅x)     ⋅(x⋅y)          +   ╱   y⋅(x⋅y)     ⋅y⋅(x⋅y)\n",
       "                   ╱                                 ╱                        \n",
       "                   ‾‾‾                               ‾‾‾                      \n",
       "                  q = 0                             q = 0                     \n",
       "\n",
       "         ⎤\n",
       "         ⎥\n",
       "         ⎥\n",
       "k - q - 2⎥\n",
       "         ⎥\n",
       "         ⎥\n",
       "         ⎥\n",
       "         ⎦"
      ]
     },
     "metadata": {},
     "output_type": "display_data"
    },
    {
     "data": {
      "image/png": "[encoded data removed]",
      "text/latex": [
       "$$\\left [ d \\sum_{q=0}^{k - 1} x \\left(y x\\right)^{q} \\left(x y\\right)^{2 k - q - 1} + d \\sum_{q=0}^{k - 1} \\left(x y\\right)^{q} y \\left(x y\\right)^{k - q - 1}, \\quad c \\sum_{q=0}^{k - 1} x \\left(y x\\right)^{q} \\left(x y\\right)^{2 k - q - 1} + c \\sum_{q=0}^{k - 1} \\left(x y\\right)^{q} y \\left(x y\\right)^{k - q - 1} + \\sum_{q=0}^{k - 1} \\left(y x\\right)^{q} \\left(x y\\right)^{2 k - q - 1} + \\sum_{q=0}^{k - 2} y \\left(x y\\right)^{q} y \\left(x y\\right)^{k - q - 2}\\right ]$$"
      ],
      "text/plain": [
       "⎡  k - 1                               k - 1                            k - 1 \n",
       "⎢   ___                                 ___                              ___  \n",
       "⎢   ╲                                   ╲                                ╲    \n",
       "⎢    ╲          q      2⋅k - q - 1       ╲        q        k - q - 1      ╲   \n",
       "⎢d⋅  ╱   x⋅(y⋅x) ⋅(x⋅y)            + d⋅  ╱   (x⋅y) ⋅y⋅(x⋅y)         , c⋅  ╱   \n",
       "⎢   ╱                                   ╱                                ╱    \n",
       "⎢   ‾‾‾                                 ‾‾‾                              ‾‾‾  \n",
       "⎣  q = 0                               q = 0                            q = 0 \n",
       "\n",
       "                              k - 1                           k - 1           \n",
       "                               ___                             ___            \n",
       "                               ╲                               ╲              \n",
       "       q      2⋅k - q - 1       ╲        q        k - q - 1     ╲        q    \n",
       "x⋅(y⋅x) ⋅(x⋅y)            + c⋅  ╱   (x⋅y) ⋅y⋅(x⋅y)          +   ╱   (y⋅x) ⋅(x⋅\n",
       "                               ╱                               ╱              \n",
       "                               ‾‾‾                             ‾‾‾            \n",
       "                              q = 0                           q = 0           \n",
       "\n",
       "                k - 2                          ⎤\n",
       "                 ___                           ⎥\n",
       "                 ╲                             ⎥\n",
       "  2⋅k - q - 1     ╲          q        k - q - 2⎥\n",
       "y)            +   ╱   y⋅(x⋅y) ⋅y⋅(x⋅y)         ⎥\n",
       "                 ╱                             ⎥\n",
       "                 ‾‾‾                           ⎥\n",
       "                q = 0                          ⎦"
      ]
     },
     "metadata": {},
     "output_type": "display_data"
    },
    {
     "data": {
      "image/png": "[encoded data removed]",
      "text/latex": [
       "$$\\left [ d \\sum_{q=0}^{k - 1} x \\left(y x\\right)^{q} \\left(x y\\right)^{2 k - q - 1} + d \\sum_{q=0}^{k - 1} \\left(x y\\right)^{q} y \\left(x y\\right)^{i} y \\left(x y\\right)^{k - q - 1}, \\quad c \\sum_{q=0}^{k - 1} x \\left(y x\\right)^{q} \\left(x y\\right)^{2 k - q - 1} + c \\sum_{q=0}^{k - 1} \\left(x y\\right)^{q} y \\left(x y\\right)^{i} y \\left(x y\\right)^{k - q - 1} + \\left(x y\\right)^{i + 1} + \\left(y x\\right)^{i + 1} + \\sum_{q=0}^{k - 1} \\left(y x\\right)^{q} \\left(x y\\right)^{2 k - q - 1} + \\sum_{q=0}^{k - 2} y \\left(x y\\right)^{q} y \\left(x y\\right)^{i} y \\left(x y\\right)^{k - q - 2}\\right ]$$"
      ],
      "text/plain": [
       "⎡  k - 1                               k - 1                                  \n",
       "⎢   ___                                 ___                                   \n",
       "⎢   ╲                                   ╲                                     \n",
       "⎢    ╲          q      2⋅k - q - 1       ╲        q        i        k - q - 1 \n",
       "⎢d⋅  ╱   x⋅(y⋅x) ⋅(x⋅y)            + d⋅  ╱   (x⋅y) ⋅y⋅(x⋅y) ⋅y⋅(x⋅y)         ,\n",
       "⎢   ╱                                   ╱                                     \n",
       "⎢   ‾‾‾                                 ‾‾‾                                   \n",
       "⎣  q = 0                               q = 0                                  \n",
       "\n",
       "   k - 1                               k - 1                                  \n",
       "    ___                                 ___                                   \n",
       "    ╲                                   ╲                                     \n",
       "     ╲          q      2⋅k - q - 1       ╲        q        i        k - q - 1 \n",
       " c⋅  ╱   x⋅(y⋅x) ⋅(x⋅y)            + c⋅  ╱   (x⋅y) ⋅y⋅(x⋅y) ⋅y⋅(x⋅y)          \n",
       "    ╱                                   ╱                                     \n",
       "    ‾‾‾                                 ‾‾‾                                   \n",
       "   q = 0                               q = 0                                  \n",
       "\n",
       "                            k - 1                           k - 2             \n",
       "                             ___                             ___              \n",
       "                             ╲                               ╲                \n",
       "       i + 1        i + 1     ╲        q      2⋅k - q - 1     ╲          q    \n",
       "+ (x⋅y)      + (y⋅x)      +   ╱   (y⋅x) ⋅(x⋅y)            +   ╱   y⋅(x⋅y) ⋅y⋅(\n",
       "                             ╱                               ╱                \n",
       "                             ‾‾‾                             ‾‾‾              \n",
       "                            q = 0                           q = 0             \n",
       "\n",
       "                      ⎤\n",
       "                      ⎥\n",
       "                      ⎥\n",
       "    i        k - q - 2⎥\n",
       "x⋅y) ⋅y⋅(x⋅y)         ⎥\n",
       "                      ⎥\n",
       "                      ⎥\n",
       "                      ⎦"
      ]
     },
     "metadata": {},
     "output_type": "display_data"
    },
    {
     "data": {
      "image/png": "[encoded data removed]",
      "text/latex": [
       "$$\\left [ d \\sum_{q=0}^{k - 1} \\left(x y\\right)^{i + k} + d \\sum_{q=0}^{k - 1} x \\left(y x\\right)^{q} \\left(x y\\right)^{2 k - q - 1}, \\quad c \\left(x y\\right)^{k} \\left(y x\\right)^{i} + c \\sum_{q=0}^{k - 1} \\left(x y\\right)^{i + k} + c \\sum_{q=0}^{k - 1} x \\left(y x\\right)^{q} \\left(x y\\right)^{2 k - q - 1} + x \\left(y x\\right)^{i} x + y \\left(x y\\right)^{k - 1} \\left(y x\\right)^{i} + \\sum_{q=0}^{k - 2} y \\left(x y\\right)^{i + k - 1} + \\sum_{q=0}^{k - 1} \\left(y x\\right)^{q} \\left(x y\\right)^{2 k - q - 1}\\right ]$$"
      ],
      "text/plain": [
       "⎡  k - 1                k - 1                                                k\n",
       "⎢   ___                  ___                                                  \n",
       "⎢   ╲                    ╲                                                    \n",
       "⎢    ╲        i + k       ╲          q      2⋅k - q - 1         k      i      \n",
       "⎢d⋅  ╱   (x⋅y)      + d⋅  ╱   x⋅(y⋅x) ⋅(x⋅y)           , c⋅(x⋅y) ⋅(y⋅x)  + c⋅ \n",
       "⎢   ╱                    ╱                                                    \n",
       "⎢   ‾‾‾                  ‾‾‾                                                  \n",
       "⎣  q = 0                q = 0                                                q\n",
       "\n",
       " - 1                k - 1                                                     \n",
       "___                  ___                                                      \n",
       "╲                    ╲                                                        \n",
       " ╲        i + k       ╲          q      2⋅k - q - 1          i            k - \n",
       " ╱   (x⋅y)      + c⋅  ╱   x⋅(y⋅x) ⋅(x⋅y)            + x⋅(y⋅x) ⋅x + y⋅(x⋅y)    \n",
       "╱                    ╱                                                        \n",
       "‾‾‾                  ‾‾‾                                                      \n",
       " = 0                q = 0                                                     \n",
       "\n",
       "           k - 2                    k - 1                        ⎤\n",
       "            ___                      ___                         ⎥\n",
       "            ╲                        ╲                           ⎥\n",
       "1      i     ╲          i + k - 1     ╲        q      2⋅k - q - 1⎥\n",
       " ⋅(y⋅x)  +   ╱   y⋅(x⋅y)          +   ╱   (y⋅x) ⋅(x⋅y)           ⎥\n",
       "            ╱                        ╱                           ⎥\n",
       "            ‾‾‾                      ‾‾‾                         ⎥\n",
       "           q = 0                    q = 0                        ⎦"
      ]
     },
     "metadata": {},
     "output_type": "display_data"
    },
    {
     "data": {
      "image/png": "[encoded data removed]",
      "text/latex": [
       "$$\\left [ d \\sum_{q=0}^{k - 1} x \\left(y x\\right)^{q} \\left(x y\\right)^{2 k - q - 1} + d \\sum_{q=0}^{k - 1} \\left(x y\\right)^{i + q} y \\left(x y\\right)^{k - q - 1}, \\quad c \\sum_{q=0}^{k - 1} x \\left(y x\\right)^{q} \\left(x y\\right)^{2 k - q - 1} + c \\sum_{q=0}^{k - 1} \\left(x y\\right)^{i + q} y \\left(x y\\right)^{k - q - 1} + x \\left(x y\\right)^{i} + x \\left(y x\\right)^{i} + \\sum_{q=0}^{k - 1} \\left(y x\\right)^{q} \\left(x y\\right)^{2 k - q - 1} + \\sum_{q=0}^{k - 2} y \\left(x y\\right)^{i + q} y \\left(x y\\right)^{k - q - 2}\\right ]$$"
      ],
      "text/plain": [
       "⎡  k - 1                               k - 1                                k \n",
       "⎢   ___                                 ___                                  _\n",
       "⎢   ╲                                   ╲                                    ╲\n",
       "⎢    ╲          q      2⋅k - q - 1       ╲        i + q        k - q - 1      \n",
       "⎢d⋅  ╱   x⋅(y⋅x) ⋅(x⋅y)            + d⋅  ╱   (x⋅y)     ⋅y⋅(x⋅y)         , c⋅  \n",
       "⎢   ╱                                   ╱                                    ╱\n",
       "⎢   ‾‾‾                                 ‾‾‾                                  ‾\n",
       "⎣  q = 0                               q = 0                                q \n",
       "\n",
       "- 1                               k - 1                                       \n",
       "__                                 ___                                        \n",
       "                                   ╲                                          \n",
       "╲          q      2⋅k - q - 1       ╲        i + q        k - q - 1          i\n",
       "╱   x⋅(y⋅x) ⋅(x⋅y)            + c⋅  ╱   (x⋅y)     ⋅y⋅(x⋅y)          + x⋅(x⋅y) \n",
       "                                   ╱                                          \n",
       "‾‾                                 ‾‾‾                                        \n",
       "= 0                               q = 0                                       \n",
       "\n",
       "              k - 1                           k - 2                           \n",
       "               ___                             ___                            \n",
       "               ╲                               ╲                              \n",
       "          i     ╲        q      2⋅k - q - 1     ╲          i + q        k - q \n",
       " + x⋅(y⋅x)  +   ╱   (y⋅x) ⋅(x⋅y)            +   ╱   y⋅(x⋅y)     ⋅y⋅(x⋅y)      \n",
       "               ╱                               ╱                              \n",
       "               ‾‾‾                             ‾‾‾                            \n",
       "              q = 0                           q = 0                           \n",
       "\n",
       "   ⎤\n",
       "   ⎥\n",
       "   ⎥\n",
       "- 2⎥\n",
       "   ⎥\n",
       "   ⎥\n",
       "   ⎥\n",
       "   ⎦"
      ]
     },
     "metadata": {},
     "output_type": "display_data"
    },
    {
     "data": {
      "image/png": "[encoded data removed]",
      "text/latex": [
       "$$\\left [ d \\sum_{q=0}^{k - 1} x \\left(y x\\right)^{q} \\left(x y\\right)^{2 k - q - 1} + d \\sum_{q=0}^{k - 1} \\left(x y\\right)^{q} y \\left(x y\\right)^{i + k - q - 1}, \\quad c \\sum_{q=0}^{k - 1} x \\left(y x\\right)^{q} \\left(x y\\right)^{2 k - q - 1} + c \\sum_{q=0}^{k - 1} \\left(x y\\right)^{q} y \\left(x y\\right)^{i + k - q - 1} + x \\left(y x\\right)^{i} + \\left(y x\\right)^{i} x + \\sum_{q=0}^{k - 1} \\left(y x\\right)^{q} \\left(x y\\right)^{2 k - q - 1} + \\sum_{q=0}^{k - 2} y \\left(x y\\right)^{q} y \\left(x y\\right)^{i + k - q - 2}\\right ]$$"
      ],
      "text/plain": [
       "⎡  k - 1                               k - 1                                k \n",
       "⎢   ___                                 ___                                  _\n",
       "⎢   ╲                                   ╲                                    ╲\n",
       "⎢    ╲          q      2⋅k - q - 1       ╲        q        i + k - q - 1      \n",
       "⎢d⋅  ╱   x⋅(y⋅x) ⋅(x⋅y)            + d⋅  ╱   (x⋅y) ⋅y⋅(x⋅y)             , c⋅  \n",
       "⎢   ╱                                   ╱                                    ╱\n",
       "⎢   ‾‾‾                                 ‾‾‾                                  ‾\n",
       "⎣  q = 0                               q = 0                                q \n",
       "\n",
       "- 1                               k - 1                                       \n",
       "__                                 ___                                        \n",
       "                                   ╲                                          \n",
       "╲          q      2⋅k - q - 1       ╲        q        i + k - q - 1          i\n",
       "╱   x⋅(y⋅x) ⋅(x⋅y)            + c⋅  ╱   (x⋅y) ⋅y⋅(x⋅y)              + x⋅(y⋅x) \n",
       "                                   ╱                                          \n",
       "‾‾                                 ‾‾‾                                        \n",
       "= 0                               q = 0                                       \n",
       "\n",
       "              k - 1                           k - 2                           \n",
       "               ___                             ___                            \n",
       "               ╲                               ╲                              \n",
       "        i       ╲        q      2⋅k - q - 1     ╲          q        i + k - q \n",
       " + (y⋅x) ⋅x +   ╱   (y⋅x) ⋅(x⋅y)            +   ╱   y⋅(x⋅y) ⋅y⋅(x⋅y)          \n",
       "               ╱                               ╱                              \n",
       "               ‾‾‾                             ‾‾‾                            \n",
       "              q = 0                           q = 0                           \n",
       "\n",
       "   ⎤\n",
       "   ⎥\n",
       "   ⎥\n",
       "- 2⎥\n",
       "   ⎥\n",
       "   ⎥\n",
       "   ⎥\n",
       "   ⎦"
      ]
     },
     "metadata": {},
     "output_type": "display_data"
    },
    {
     "data": {
      "image/png": "[encoded data removed]",
      "text/latex": [
       "$$\\left [ d \\sum_{q=0}^{k - 1} x \\left(y x\\right)^{q} \\left(x y\\right)^{2 k - q - 1} + d \\sum_{q=0}^{k - 1} \\left(x y\\right)^{k + q} y \\left(x y\\right)^{k - q - 1}, \\quad c \\sum_{q=0}^{k - 1} x \\left(y x\\right)^{q} \\left(x y\\right)^{2 k - q - 1} + c \\sum_{q=0}^{k - 1} \\left(x y\\right)^{k + q} y \\left(x y\\right)^{k - q - 1} + \\sum_{q=0}^{k - 1} \\left(y x\\right)^{q} \\left(x y\\right)^{2 k - q - 1} + \\sum_{q=0}^{k - 2} y \\left(x y\\right)^{k + q} y \\left(x y\\right)^{k - q - 2}\\right ]$$"
      ],
      "text/plain": [
       "⎡  k - 1                               k - 1                                k \n",
       "⎢   ___                                 ___                                  _\n",
       "⎢   ╲                                   ╲                                    ╲\n",
       "⎢    ╲          q      2⋅k - q - 1       ╲        k + q        k - q - 1      \n",
       "⎢d⋅  ╱   x⋅(y⋅x) ⋅(x⋅y)            + d⋅  ╱   (x⋅y)     ⋅y⋅(x⋅y)         , c⋅  \n",
       "⎢   ╱                                   ╱                                    ╱\n",
       "⎢   ‾‾‾                                 ‾‾‾                                  ‾\n",
       "⎣  q = 0                               q = 0                                q \n",
       "\n",
       "- 1                               k - 1                               k - 1   \n",
       "__                                 ___                                 ___    \n",
       "                                   ╲                                   ╲      \n",
       "╲          q      2⋅k - q - 1       ╲        k + q        k - q - 1     ╲     \n",
       "╱   x⋅(y⋅x) ⋅(x⋅y)            + c⋅  ╱   (x⋅y)     ⋅y⋅(x⋅y)          +   ╱   (y\n",
       "                                   ╱                                   ╱      \n",
       "‾‾                                 ‾‾‾                                 ‾‾‾    \n",
       "= 0                               q = 0                               q = 0   \n",
       "\n",
       "                        k - 2                              ⎤\n",
       "                         ___                               ⎥\n",
       "                         ╲                                 ⎥\n",
       "   q      2⋅k - q - 1     ╲          k + q        k - q - 2⎥\n",
       "⋅x) ⋅(x⋅y)            +   ╱   y⋅(x⋅y)     ⋅y⋅(x⋅y)         ⎥\n",
       "                         ╱                                 ⎥\n",
       "                         ‾‾‾                               ⎥\n",
       "                        q = 0                              ⎦"
      ]
     },
     "metadata": {},
     "output_type": "display_data"
    }
   ],
   "source": [
    "for r1 in basis:\n",
    "    for r2 in basis:\n",
    "        r = (r1, r2)\n",
    "        result = [multiply_row_by_col(r, d1.col(i)) for i in (0, 1)]\n",
    "        display(result)"
   ]
  },
  {
   "cell_type": "code",
   "execution_count": null,
   "metadata": {
    "collapsed": true
   },
   "outputs": [],
   "source": []
  },
  {
   "cell_type": "code",
   "execution_count": 16,
   "metadata": {},
   "outputs": [],
   "source": [
    "from cohomology import ast_table, B, expand_with_transformers, ast, basis"
   ]
  },
  {
   "cell_type": "code",
   "execution_count": 13,
   "metadata": {
    "collapsed": true
   },
   "outputs": [],
   "source": [
    "import sympy as sp\n",
    "sp.init_printing()"
   ]
  },
  {
   "cell_type": "code",
   "execution_count": 17,
   "metadata": {},
   "outputs": [
    {
     "data": {
      "text/latex": [
       "$$c^{2} d \\left( \\left(x y\\right)^{k} \\otimes y \\right) + c d \\left( x \\otimes x y \\right) + c d \\left( y \\left(x y\\right)^{k - 1} \\otimes y \\right) + d \\left( 1 \\otimes x y \\right) + d \\left( x \\otimes y \\right)$$"
      ],
      "text/plain": [
       " 2                                                                      \n",
       "c ⋅d⋅ (     k  + c⋅d⋅(x⊗x⋅y) + c⋅d⋅ (       k - 1  + d⋅(1⊗x⋅y) + d⋅(x⊗y)\n",
       "     (x⋅y) ⊗y)                     y⋅(x⋅y)     ⊗y)                      "
      ]
     },
     "execution_count": 17,
     "metadata": {},
     "output_type": "execute_result"
    }
   ],
   "source": [
    "expr = expand_with_transformers(B)\n",
    "expr"
   ]
  },
  {
   "cell_type": "code",
   "execution_count": 21,
   "metadata": {},
   "outputs": [
    {
     "ename": "TypeError",
     "evalue": "cannot determine truth value of Relational",
     "output_type": "error",
     "traceback": [
      "\u001b[0;31m---------------------------------------------------------------------------\u001b[0m",
      "\u001b[0;31mTypeError\u001b[0m                                 Traceback (most recent call last)",
      "\u001b[0;32m/usr/lib/python3.6/site-packages/IPython/core/formatters.py\u001b[0m in \u001b[0;36m__call__\u001b[0;34m(self, obj)\u001b[0m\n\u001b[1;32m    670\u001b[0m                 \u001b[0mtype_pprinters\u001b[0m\u001b[0;34m=\u001b[0m\u001b[0mself\u001b[0m\u001b[0;34m.\u001b[0m\u001b[0mtype_printers\u001b[0m\u001b[0;34m,\u001b[0m\u001b[0;34m\u001b[0m\u001b[0m\n\u001b[1;32m    671\u001b[0m                 deferred_pprinters=self.deferred_printers)\n\u001b[0;32m--> 672\u001b[0;31m             \u001b[0mprinter\u001b[0m\u001b[0;34m.\u001b[0m\u001b[0mpretty\u001b[0m\u001b[0;34m(\u001b[0m\u001b[0mobj\u001b[0m\u001b[0;34m)\u001b[0m\u001b[0;34m\u001b[0m\u001b[0m\n\u001b[0m\u001b[1;32m    673\u001b[0m             \u001b[0mprinter\u001b[0m\u001b[0;34m.\u001b[0m\u001b[0mflush\u001b[0m\u001b[0;34m(\u001b[0m\u001b[0;34m)\u001b[0m\u001b[0;34m\u001b[0m\u001b[0m\n\u001b[1;32m    674\u001b[0m             \u001b[0;32mreturn\u001b[0m \u001b[0mstream\u001b[0m\u001b[0;34m.\u001b[0m\u001b[0mgetvalue\u001b[0m\u001b[0;34m(\u001b[0m\u001b[0;34m)\u001b[0m\u001b[0;34m\u001b[0m\u001b[0m\n",
      "\u001b[0;32m/usr/lib/python3.6/site-packages/IPython/lib/pretty.py\u001b[0m in \u001b[0;36mpretty\u001b[0;34m(self, obj)\u001b[0m\n\u001b[1;32m    366\u001b[0m                 \u001b[0;32mif\u001b[0m \u001b[0mcls\u001b[0m \u001b[0;32min\u001b[0m \u001b[0mself\u001b[0m\u001b[0;34m.\u001b[0m\u001b[0mtype_pprinters\u001b[0m\u001b[0;34m:\u001b[0m\u001b[0;34m\u001b[0m\u001b[0m\n\u001b[1;32m    367\u001b[0m                     \u001b[0;31m# printer registered in self.type_pprinters\u001b[0m\u001b[0;34m\u001b[0m\u001b[0;34m\u001b[0m\u001b[0m\n\u001b[0;32m--> 368\u001b[0;31m                     \u001b[0;32mreturn\u001b[0m \u001b[0mself\u001b[0m\u001b[0;34m.\u001b[0m\u001b[0mtype_pprinters\u001b[0m\u001b[0;34m[\u001b[0m\u001b[0mcls\u001b[0m\u001b[0;34m]\u001b[0m\u001b[0;34m(\u001b[0m\u001b[0mobj\u001b[0m\u001b[0;34m,\u001b[0m \u001b[0mself\u001b[0m\u001b[0;34m,\u001b[0m \u001b[0mcycle\u001b[0m\u001b[0;34m)\u001b[0m\u001b[0;34m\u001b[0m\u001b[0m\n\u001b[0m\u001b[1;32m    369\u001b[0m                 \u001b[0;32melse\u001b[0m\u001b[0;34m:\u001b[0m\u001b[0;34m\u001b[0m\u001b[0m\n\u001b[1;32m    370\u001b[0m                     \u001b[0;31m# deferred printer\u001b[0m\u001b[0;34m\u001b[0m\u001b[0;34m\u001b[0m\u001b[0m\n",
      "\u001b[0;32m/usr/lib/python3.6/site-packages/sympy/interactive/printing.py\u001b[0m in \u001b[0;36m_print_plain\u001b[0;34m(arg, p, cycle)\u001b[0m\n\u001b[1;32m     66\u001b[0m         \u001b[0;34m\"\"\"caller for pretty, for use in IPython 0.11\"\"\"\u001b[0m\u001b[0;34m\u001b[0m\u001b[0m\n\u001b[1;32m     67\u001b[0m         \u001b[0;32mif\u001b[0m \u001b[0m_can_print_latex\u001b[0m\u001b[0;34m(\u001b[0m\u001b[0marg\u001b[0m\u001b[0;34m)\u001b[0m\u001b[0;34m:\u001b[0m\u001b[0;34m\u001b[0m\u001b[0m\n\u001b[0;32m---> 68\u001b[0;31m             \u001b[0mp\u001b[0m\u001b[0;34m.\u001b[0m\u001b[0mtext\u001b[0m\u001b[0;34m(\u001b[0m\u001b[0mstringify_func\u001b[0m\u001b[0;34m(\u001b[0m\u001b[0marg\u001b[0m\u001b[0;34m)\u001b[0m\u001b[0;34m)\u001b[0m\u001b[0;34m\u001b[0m\u001b[0m\n\u001b[0m\u001b[1;32m     69\u001b[0m         \u001b[0;32melse\u001b[0m\u001b[0;34m:\u001b[0m\u001b[0;34m\u001b[0m\u001b[0m\n\u001b[1;32m     70\u001b[0m             \u001b[0mp\u001b[0m\u001b[0;34m.\u001b[0m\u001b[0mtext\u001b[0m\u001b[0;34m(\u001b[0m\u001b[0mIPython\u001b[0m\u001b[0;34m.\u001b[0m\u001b[0mlib\u001b[0m\u001b[0;34m.\u001b[0m\u001b[0mpretty\u001b[0m\u001b[0;34m.\u001b[0m\u001b[0mpretty\u001b[0m\u001b[0;34m(\u001b[0m\u001b[0marg\u001b[0m\u001b[0;34m)\u001b[0m\u001b[0;34m)\u001b[0m\u001b[0;34m\u001b[0m\u001b[0m\n",
      "\u001b[0;32m/usr/lib/python3.6/site-packages/sympy/printing/pretty/pretty.py\u001b[0m in \u001b[0;36mpretty\u001b[0;34m(expr, **settings)\u001b[0m\n\u001b[1;32m   2037\u001b[0m \u001b[0;34m\u001b[0m\u001b[0m\n\u001b[1;32m   2038\u001b[0m     \u001b[0;32mtry\u001b[0m\u001b[0;34m:\u001b[0m\u001b[0;34m\u001b[0m\u001b[0m\n\u001b[0;32m-> 2039\u001b[0;31m         \u001b[0;32mreturn\u001b[0m \u001b[0mpp\u001b[0m\u001b[0;34m.\u001b[0m\u001b[0mdoprint\u001b[0m\u001b[0;34m(\u001b[0m\u001b[0mexpr\u001b[0m\u001b[0;34m)\u001b[0m\u001b[0;34m\u001b[0m\u001b[0m\n\u001b[0m\u001b[1;32m   2040\u001b[0m     \u001b[0;32mfinally\u001b[0m\u001b[0;34m:\u001b[0m\u001b[0;34m\u001b[0m\u001b[0m\n\u001b[1;32m   2041\u001b[0m         \u001b[0mpretty_use_unicode\u001b[0m\u001b[0;34m(\u001b[0m\u001b[0muflag\u001b[0m\u001b[0;34m)\u001b[0m\u001b[0;34m\u001b[0m\u001b[0m\n",
      "\u001b[0;32m/usr/lib/python3.6/site-packages/sympy/printing/pretty/pretty.py\u001b[0m in \u001b[0;36mdoprint\u001b[0;34m(self, expr)\u001b[0m\n\u001b[1;32m     56\u001b[0m \u001b[0;34m\u001b[0m\u001b[0m\n\u001b[1;32m     57\u001b[0m     \u001b[0;32mdef\u001b[0m \u001b[0mdoprint\u001b[0m\u001b[0;34m(\u001b[0m\u001b[0mself\u001b[0m\u001b[0;34m,\u001b[0m \u001b[0mexpr\u001b[0m\u001b[0;34m)\u001b[0m\u001b[0;34m:\u001b[0m\u001b[0;34m\u001b[0m\u001b[0m\n\u001b[0;32m---> 58\u001b[0;31m         \u001b[0;32mreturn\u001b[0m \u001b[0mself\u001b[0m\u001b[0;34m.\u001b[0m\u001b[0m_print\u001b[0m\u001b[0;34m(\u001b[0m\u001b[0mexpr\u001b[0m\u001b[0;34m)\u001b[0m\u001b[0;34m.\u001b[0m\u001b[0mrender\u001b[0m\u001b[0;34m(\u001b[0m\u001b[0;34m**\u001b[0m\u001b[0mself\u001b[0m\u001b[0;34m.\u001b[0m\u001b[0m_settings\u001b[0m\u001b[0;34m)\u001b[0m\u001b[0;34m\u001b[0m\u001b[0m\n\u001b[0m\u001b[1;32m     59\u001b[0m \u001b[0;34m\u001b[0m\u001b[0m\n\u001b[1;32m     60\u001b[0m     \u001b[0;31m# empty op so _print(stringPict) returns the same\u001b[0m\u001b[0;34m\u001b[0m\u001b[0;34m\u001b[0m\u001b[0m\n",
      "\u001b[0;32m/usr/lib/python3.6/site-packages/sympy/printing/printer.py\u001b[0m in \u001b[0;36m_print\u001b[0;34m(self, expr, *args, **kwargs)\u001b[0m\n\u001b[1;32m    255\u001b[0m                 \u001b[0mprintmethod\u001b[0m \u001b[0;34m=\u001b[0m \u001b[0;34m'_print_'\u001b[0m \u001b[0;34m+\u001b[0m \u001b[0mcls\u001b[0m\u001b[0;34m.\u001b[0m\u001b[0m__name__\u001b[0m\u001b[0;34m\u001b[0m\u001b[0m\n\u001b[1;32m    256\u001b[0m                 \u001b[0;32mif\u001b[0m \u001b[0mhasattr\u001b[0m\u001b[0;34m(\u001b[0m\u001b[0mself\u001b[0m\u001b[0;34m,\u001b[0m \u001b[0mprintmethod\u001b[0m\u001b[0;34m)\u001b[0m\u001b[0;34m:\u001b[0m\u001b[0;34m\u001b[0m\u001b[0m\n\u001b[0;32m--> 257\u001b[0;31m                     \u001b[0;32mreturn\u001b[0m \u001b[0mgetattr\u001b[0m\u001b[0;34m(\u001b[0m\u001b[0mself\u001b[0m\u001b[0;34m,\u001b[0m \u001b[0mprintmethod\u001b[0m\u001b[0;34m)\u001b[0m\u001b[0;34m(\u001b[0m\u001b[0mexpr\u001b[0m\u001b[0;34m,\u001b[0m \u001b[0;34m*\u001b[0m\u001b[0margs\u001b[0m\u001b[0;34m,\u001b[0m \u001b[0;34m**\u001b[0m\u001b[0mkwargs\u001b[0m\u001b[0;34m)\u001b[0m\u001b[0;34m\u001b[0m\u001b[0m\n\u001b[0m\u001b[1;32m    258\u001b[0m \u001b[0;34m\u001b[0m\u001b[0m\n\u001b[1;32m    259\u001b[0m             \u001b[0;31m# Unknown object, fall back to the emptyPrinter.\u001b[0m\u001b[0;34m\u001b[0m\u001b[0;34m\u001b[0m\u001b[0m\n",
      "\u001b[0;32m/usr/lib/python3.6/site-packages/sympy/printing/pretty/pretty.py\u001b[0m in \u001b[0;36m_print_SeqFormula\u001b[0;34m(self, s)\u001b[0m\n\u001b[1;32m   1613\u001b[0m             printset = (dots, s.coeff(stop - 3), s.coeff(stop - 2),\n\u001b[1;32m   1614\u001b[0m                 s.coeff(stop - 1), s.coeff(stop))\n\u001b[0;32m-> 1615\u001b[0;31m         \u001b[0;32melif\u001b[0m \u001b[0ms\u001b[0m\u001b[0;34m.\u001b[0m\u001b[0mstop\u001b[0m \u001b[0;32mis\u001b[0m \u001b[0mS\u001b[0m\u001b[0;34m.\u001b[0m\u001b[0mInfinity\u001b[0m \u001b[0;32mor\u001b[0m \u001b[0ms\u001b[0m\u001b[0;34m.\u001b[0m\u001b[0mlength\u001b[0m \u001b[0;34m>\u001b[0m \u001b[0;36m4\u001b[0m\u001b[0;34m:\u001b[0m\u001b[0;34m\u001b[0m\u001b[0m\n\u001b[0m\u001b[1;32m   1616\u001b[0m             \u001b[0mprintset\u001b[0m \u001b[0;34m=\u001b[0m \u001b[0ms\u001b[0m\u001b[0;34m[\u001b[0m\u001b[0;34m:\u001b[0m\u001b[0;36m4\u001b[0m\u001b[0;34m]\u001b[0m\u001b[0;34m\u001b[0m\u001b[0m\n\u001b[1;32m   1617\u001b[0m             \u001b[0mprintset\u001b[0m\u001b[0;34m.\u001b[0m\u001b[0mappend\u001b[0m\u001b[0;34m(\u001b[0m\u001b[0mdots\u001b[0m\u001b[0;34m)\u001b[0m\u001b[0;34m\u001b[0m\u001b[0m\n",
      "\u001b[0;32m/usr/lib/python3.6/site-packages/sympy/core/relational.py\u001b[0m in \u001b[0;36m__nonzero__\u001b[0;34m(self)\u001b[0m\n\u001b[1;32m    193\u001b[0m \u001b[0;34m\u001b[0m\u001b[0m\n\u001b[1;32m    194\u001b[0m     \u001b[0;32mdef\u001b[0m \u001b[0m__nonzero__\u001b[0m\u001b[0;34m(\u001b[0m\u001b[0mself\u001b[0m\u001b[0;34m)\u001b[0m\u001b[0;34m:\u001b[0m\u001b[0;34m\u001b[0m\u001b[0m\n\u001b[0;32m--> 195\u001b[0;31m         \u001b[0;32mraise\u001b[0m \u001b[0mTypeError\u001b[0m\u001b[0;34m(\u001b[0m\u001b[0;34m\"cannot determine truth value of Relational\"\u001b[0m\u001b[0;34m)\u001b[0m\u001b[0;34m\u001b[0m\u001b[0m\n\u001b[0m\u001b[1;32m    196\u001b[0m \u001b[0;34m\u001b[0m\u001b[0m\n\u001b[1;32m    197\u001b[0m     \u001b[0m__bool__\u001b[0m \u001b[0;34m=\u001b[0m \u001b[0m__nonzero__\u001b[0m\u001b[0;34m\u001b[0m\u001b[0m\n",
      "\u001b[0;31mTypeError\u001b[0m: cannot determine truth value of Relational"
     ]
    },
    {
     "ename": "TypeError",
     "evalue": "cannot determine truth value of Relational",
     "output_type": "error",
     "traceback": [
      "\u001b[0;31m---------------------------------------------------------------------------\u001b[0m",
      "\u001b[0;31mTypeError\u001b[0m                                 Traceback (most recent call last)",
      "\u001b[0;32m/usr/lib/python3.6/site-packages/IPython/core/formatters.py\u001b[0m in \u001b[0;36m__call__\u001b[0;34m(self, obj)\u001b[0m\n\u001b[1;32m    305\u001b[0m                 \u001b[0;32mpass\u001b[0m\u001b[0;34m\u001b[0m\u001b[0m\n\u001b[1;32m    306\u001b[0m             \u001b[0;32melse\u001b[0m\u001b[0;34m:\u001b[0m\u001b[0;34m\u001b[0m\u001b[0m\n\u001b[0;32m--> 307\u001b[0;31m                 \u001b[0;32mreturn\u001b[0m \u001b[0mprinter\u001b[0m\u001b[0;34m(\u001b[0m\u001b[0mobj\u001b[0m\u001b[0;34m)\u001b[0m\u001b[0;34m\u001b[0m\u001b[0m\n\u001b[0m\u001b[1;32m    308\u001b[0m             \u001b[0;31m# Finally look for special method names\u001b[0m\u001b[0;34m\u001b[0m\u001b[0;34m\u001b[0m\u001b[0m\n\u001b[1;32m    309\u001b[0m             \u001b[0mmethod\u001b[0m \u001b[0;34m=\u001b[0m \u001b[0mget_real_method\u001b[0m\u001b[0;34m(\u001b[0m\u001b[0mobj\u001b[0m\u001b[0;34m,\u001b[0m \u001b[0mself\u001b[0m\u001b[0;34m.\u001b[0m\u001b[0mprint_method\u001b[0m\u001b[0;34m)\u001b[0m\u001b[0;34m\u001b[0m\u001b[0m\n",
      "\u001b[0;32m/usr/lib/python3.6/site-packages/sympy/interactive/printing.py\u001b[0m in \u001b[0;36m_print_latex_png\u001b[0;34m(o)\u001b[0m\n\u001b[1;32m    126\u001b[0m         \"\"\"\n\u001b[1;32m    127\u001b[0m         \u001b[0;32mif\u001b[0m \u001b[0m_can_print_latex\u001b[0m\u001b[0;34m(\u001b[0m\u001b[0mo\u001b[0m\u001b[0;34m)\u001b[0m\u001b[0;34m:\u001b[0m\u001b[0;34m\u001b[0m\u001b[0m\n\u001b[0;32m--> 128\u001b[0;31m             \u001b[0ms\u001b[0m \u001b[0;34m=\u001b[0m \u001b[0mlatex\u001b[0m\u001b[0;34m(\u001b[0m\u001b[0mo\u001b[0m\u001b[0;34m,\u001b[0m \u001b[0mmode\u001b[0m\u001b[0;34m=\u001b[0m\u001b[0mlatex_mode\u001b[0m\u001b[0;34m)\u001b[0m\u001b[0;34m\u001b[0m\u001b[0m\n\u001b[0m\u001b[1;32m    129\u001b[0m             \u001b[0;32mtry\u001b[0m\u001b[0;34m:\u001b[0m\u001b[0;34m\u001b[0m\u001b[0m\n\u001b[1;32m    130\u001b[0m                 \u001b[0;32mreturn\u001b[0m \u001b[0m_preview_wrapper\u001b[0m\u001b[0;34m(\u001b[0m\u001b[0ms\u001b[0m\u001b[0;34m)\u001b[0m\u001b[0;34m\u001b[0m\u001b[0m\n",
      "\u001b[0;32m/usr/lib/python3.6/site-packages/sympy/printing/latex.py\u001b[0m in \u001b[0;36mlatex\u001b[0;34m(expr, **settings)\u001b[0m\n\u001b[1;32m   2025\u001b[0m     \"\"\"\n\u001b[1;32m   2026\u001b[0m \u001b[0;34m\u001b[0m\u001b[0m\n\u001b[0;32m-> 2027\u001b[0;31m     \u001b[0;32mreturn\u001b[0m \u001b[0mLatexPrinter\u001b[0m\u001b[0;34m(\u001b[0m\u001b[0msettings\u001b[0m\u001b[0;34m)\u001b[0m\u001b[0;34m.\u001b[0m\u001b[0mdoprint\u001b[0m\u001b[0;34m(\u001b[0m\u001b[0mexpr\u001b[0m\u001b[0;34m)\u001b[0m\u001b[0;34m\u001b[0m\u001b[0m\n\u001b[0m\u001b[1;32m   2028\u001b[0m \u001b[0;34m\u001b[0m\u001b[0m\n\u001b[1;32m   2029\u001b[0m \u001b[0;34m\u001b[0m\u001b[0m\n",
      "\u001b[0;32m/usr/lib/python3.6/site-packages/sympy/printing/latex.py\u001b[0m in \u001b[0;36mdoprint\u001b[0;34m(self, expr)\u001b[0m\n\u001b[1;32m    152\u001b[0m \u001b[0;34m\u001b[0m\u001b[0m\n\u001b[1;32m    153\u001b[0m     \u001b[0;32mdef\u001b[0m \u001b[0mdoprint\u001b[0m\u001b[0;34m(\u001b[0m\u001b[0mself\u001b[0m\u001b[0;34m,\u001b[0m \u001b[0mexpr\u001b[0m\u001b[0;34m)\u001b[0m\u001b[0;34m:\u001b[0m\u001b[0;34m\u001b[0m\u001b[0m\n\u001b[0;32m--> 154\u001b[0;31m         \u001b[0mtex\u001b[0m \u001b[0;34m=\u001b[0m \u001b[0mPrinter\u001b[0m\u001b[0;34m.\u001b[0m\u001b[0mdoprint\u001b[0m\u001b[0;34m(\u001b[0m\u001b[0mself\u001b[0m\u001b[0;34m,\u001b[0m \u001b[0mexpr\u001b[0m\u001b[0;34m)\u001b[0m\u001b[0;34m\u001b[0m\u001b[0m\n\u001b[0m\u001b[1;32m    155\u001b[0m \u001b[0;34m\u001b[0m\u001b[0m\n\u001b[1;32m    156\u001b[0m         \u001b[0;32mif\u001b[0m \u001b[0mself\u001b[0m\u001b[0;34m.\u001b[0m\u001b[0m_settings\u001b[0m\u001b[0;34m[\u001b[0m\u001b[0;34m'mode'\u001b[0m\u001b[0;34m]\u001b[0m \u001b[0;34m==\u001b[0m \u001b[0;34m'plain'\u001b[0m\u001b[0;34m:\u001b[0m\u001b[0;34m\u001b[0m\u001b[0m\n",
      "\u001b[0;32m/usr/lib/python3.6/site-packages/sympy/printing/printer.py\u001b[0m in \u001b[0;36mdoprint\u001b[0;34m(self, expr)\u001b[0m\n\u001b[1;32m    231\u001b[0m     \u001b[0;32mdef\u001b[0m \u001b[0mdoprint\u001b[0m\u001b[0;34m(\u001b[0m\u001b[0mself\u001b[0m\u001b[0;34m,\u001b[0m \u001b[0mexpr\u001b[0m\u001b[0;34m)\u001b[0m\u001b[0;34m:\u001b[0m\u001b[0;34m\u001b[0m\u001b[0m\n\u001b[1;32m    232\u001b[0m         \u001b[0;34m\"\"\"Returns printer's representation for expr (as a string)\"\"\"\u001b[0m\u001b[0;34m\u001b[0m\u001b[0m\n\u001b[0;32m--> 233\u001b[0;31m         \u001b[0;32mreturn\u001b[0m \u001b[0mself\u001b[0m\u001b[0;34m.\u001b[0m\u001b[0m_str\u001b[0m\u001b[0;34m(\u001b[0m\u001b[0mself\u001b[0m\u001b[0;34m.\u001b[0m\u001b[0m_print\u001b[0m\u001b[0;34m(\u001b[0m\u001b[0mexpr\u001b[0m\u001b[0;34m)\u001b[0m\u001b[0;34m)\u001b[0m\u001b[0;34m\u001b[0m\u001b[0m\n\u001b[0m\u001b[1;32m    234\u001b[0m \u001b[0;34m\u001b[0m\u001b[0m\n\u001b[1;32m    235\u001b[0m     \u001b[0;32mdef\u001b[0m \u001b[0m_print\u001b[0m\u001b[0;34m(\u001b[0m\u001b[0mself\u001b[0m\u001b[0;34m,\u001b[0m \u001b[0mexpr\u001b[0m\u001b[0;34m,\u001b[0m \u001b[0;34m*\u001b[0m\u001b[0margs\u001b[0m\u001b[0;34m,\u001b[0m \u001b[0;34m**\u001b[0m\u001b[0mkwargs\u001b[0m\u001b[0;34m)\u001b[0m\u001b[0;34m:\u001b[0m\u001b[0;34m\u001b[0m\u001b[0m\n",
      "\u001b[0;32m/usr/lib/python3.6/site-packages/sympy/printing/printer.py\u001b[0m in \u001b[0;36m_print\u001b[0;34m(self, expr, *args, **kwargs)\u001b[0m\n\u001b[1;32m    255\u001b[0m                 \u001b[0mprintmethod\u001b[0m \u001b[0;34m=\u001b[0m \u001b[0;34m'_print_'\u001b[0m \u001b[0;34m+\u001b[0m \u001b[0mcls\u001b[0m\u001b[0;34m.\u001b[0m\u001b[0m__name__\u001b[0m\u001b[0;34m\u001b[0m\u001b[0m\n\u001b[1;32m    256\u001b[0m                 \u001b[0;32mif\u001b[0m \u001b[0mhasattr\u001b[0m\u001b[0;34m(\u001b[0m\u001b[0mself\u001b[0m\u001b[0;34m,\u001b[0m \u001b[0mprintmethod\u001b[0m\u001b[0;34m)\u001b[0m\u001b[0;34m:\u001b[0m\u001b[0;34m\u001b[0m\u001b[0m\n\u001b[0;32m--> 257\u001b[0;31m                     \u001b[0;32mreturn\u001b[0m \u001b[0mgetattr\u001b[0m\u001b[0;34m(\u001b[0m\u001b[0mself\u001b[0m\u001b[0;34m,\u001b[0m \u001b[0mprintmethod\u001b[0m\u001b[0;34m)\u001b[0m\u001b[0;34m(\u001b[0m\u001b[0mexpr\u001b[0m\u001b[0;34m,\u001b[0m \u001b[0;34m*\u001b[0m\u001b[0margs\u001b[0m\u001b[0;34m,\u001b[0m \u001b[0;34m**\u001b[0m\u001b[0mkwargs\u001b[0m\u001b[0;34m)\u001b[0m\u001b[0;34m\u001b[0m\u001b[0m\n\u001b[0m\u001b[1;32m    258\u001b[0m \u001b[0;34m\u001b[0m\u001b[0m\n\u001b[1;32m    259\u001b[0m             \u001b[0;31m# Unknown object, fall back to the emptyPrinter.\u001b[0m\u001b[0;34m\u001b[0m\u001b[0;34m\u001b[0m\u001b[0m\n",
      "\u001b[0;32m/usr/lib/python3.6/site-packages/sympy/printing/latex.py\u001b[0m in \u001b[0;36m_print_SeqFormula\u001b[0;34m(self, s)\u001b[0m\n\u001b[1;32m   1500\u001b[0m             printset = ('\\ldots', s.coeff(stop - 3), s.coeff(stop - 2),\n\u001b[1;32m   1501\u001b[0m                 s.coeff(stop - 1), s.coeff(stop))\n\u001b[0;32m-> 1502\u001b[0;31m         \u001b[0;32melif\u001b[0m \u001b[0ms\u001b[0m\u001b[0;34m.\u001b[0m\u001b[0mstop\u001b[0m \u001b[0;32mis\u001b[0m \u001b[0mS\u001b[0m\u001b[0;34m.\u001b[0m\u001b[0mInfinity\u001b[0m \u001b[0;32mor\u001b[0m \u001b[0ms\u001b[0m\u001b[0;34m.\u001b[0m\u001b[0mlength\u001b[0m \u001b[0;34m>\u001b[0m \u001b[0;36m4\u001b[0m\u001b[0;34m:\u001b[0m\u001b[0;34m\u001b[0m\u001b[0m\n\u001b[0m\u001b[1;32m   1503\u001b[0m             \u001b[0mprintset\u001b[0m \u001b[0;34m=\u001b[0m \u001b[0ms\u001b[0m\u001b[0;34m[\u001b[0m\u001b[0;34m:\u001b[0m\u001b[0;36m4\u001b[0m\u001b[0;34m]\u001b[0m\u001b[0;34m\u001b[0m\u001b[0m\n\u001b[1;32m   1504\u001b[0m             \u001b[0mprintset\u001b[0m\u001b[0;34m.\u001b[0m\u001b[0mappend\u001b[0m\u001b[0;34m(\u001b[0m\u001b[0;34m'\\ldots'\u001b[0m\u001b[0;34m)\u001b[0m\u001b[0;34m\u001b[0m\u001b[0m\n",
      "\u001b[0;32m/usr/lib/python3.6/site-packages/sympy/core/relational.py\u001b[0m in \u001b[0;36m__nonzero__\u001b[0;34m(self)\u001b[0m\n\u001b[1;32m    193\u001b[0m \u001b[0;34m\u001b[0m\u001b[0m\n\u001b[1;32m    194\u001b[0m     \u001b[0;32mdef\u001b[0m \u001b[0m__nonzero__\u001b[0m\u001b[0;34m(\u001b[0m\u001b[0mself\u001b[0m\u001b[0;34m)\u001b[0m\u001b[0;34m:\u001b[0m\u001b[0;34m\u001b[0m\u001b[0m\n\u001b[0;32m--> 195\u001b[0;31m         \u001b[0;32mraise\u001b[0m \u001b[0mTypeError\u001b[0m\u001b[0;34m(\u001b[0m\u001b[0;34m\"cannot determine truth value of Relational\"\u001b[0m\u001b[0;34m)\u001b[0m\u001b[0;34m\u001b[0m\u001b[0m\n\u001b[0m\u001b[1;32m    196\u001b[0m \u001b[0;34m\u001b[0m\u001b[0m\n\u001b[1;32m    197\u001b[0m     \u001b[0m__bool__\u001b[0m \u001b[0;34m=\u001b[0m \u001b[0m__nonzero__\u001b[0m\u001b[0;34m\u001b[0m\u001b[0m\n",
      "\u001b[0;31mTypeError\u001b[0m: cannot determine truth value of Relational"
     ]
    },
    {
     "ename": "TypeError",
     "evalue": "cannot determine truth value of Relational",
     "output_type": "error",
     "traceback": [
      "\u001b[0;31m---------------------------------------------------------------------------\u001b[0m",
      "\u001b[0;31mTypeError\u001b[0m                                 Traceback (most recent call last)",
      "\u001b[0;32m/usr/lib/python3.6/site-packages/IPython/core/formatters.py\u001b[0m in \u001b[0;36m__call__\u001b[0;34m(self, obj)\u001b[0m\n\u001b[1;32m    305\u001b[0m                 \u001b[0;32mpass\u001b[0m\u001b[0;34m\u001b[0m\u001b[0m\n\u001b[1;32m    306\u001b[0m             \u001b[0;32melse\u001b[0m\u001b[0;34m:\u001b[0m\u001b[0;34m\u001b[0m\u001b[0m\n\u001b[0;32m--> 307\u001b[0;31m                 \u001b[0;32mreturn\u001b[0m \u001b[0mprinter\u001b[0m\u001b[0;34m(\u001b[0m\u001b[0mobj\u001b[0m\u001b[0;34m)\u001b[0m\u001b[0;34m\u001b[0m\u001b[0m\n\u001b[0m\u001b[1;32m    308\u001b[0m             \u001b[0;31m# Finally look for special method names\u001b[0m\u001b[0;34m\u001b[0m\u001b[0;34m\u001b[0m\u001b[0m\n\u001b[1;32m    309\u001b[0m             \u001b[0mmethod\u001b[0m \u001b[0;34m=\u001b[0m \u001b[0mget_real_method\u001b[0m\u001b[0;34m(\u001b[0m\u001b[0mobj\u001b[0m\u001b[0;34m,\u001b[0m \u001b[0mself\u001b[0m\u001b[0;34m.\u001b[0m\u001b[0mprint_method\u001b[0m\u001b[0;34m)\u001b[0m\u001b[0;34m\u001b[0m\u001b[0m\n",
      "\u001b[0;32m/usr/lib/python3.6/site-packages/sympy/interactive/printing.py\u001b[0m in \u001b[0;36m_print_latex_text\u001b[0;34m(o)\u001b[0m\n\u001b[1;32m    149\u001b[0m         \"\"\"\n\u001b[1;32m    150\u001b[0m         \u001b[0;32mif\u001b[0m \u001b[0m_can_print_latex\u001b[0m\u001b[0;34m(\u001b[0m\u001b[0mo\u001b[0m\u001b[0;34m)\u001b[0m\u001b[0;34m:\u001b[0m\u001b[0;34m\u001b[0m\u001b[0m\n\u001b[0;32m--> 151\u001b[0;31m             \u001b[0ms\u001b[0m \u001b[0;34m=\u001b[0m \u001b[0mlatex\u001b[0m\u001b[0;34m(\u001b[0m\u001b[0mo\u001b[0m\u001b[0;34m,\u001b[0m \u001b[0mmode\u001b[0m\u001b[0;34m=\u001b[0m\u001b[0;34m'plain'\u001b[0m\u001b[0;34m)\u001b[0m\u001b[0;34m\u001b[0m\u001b[0m\n\u001b[0m\u001b[1;32m    152\u001b[0m             \u001b[0ms\u001b[0m \u001b[0;34m=\u001b[0m \u001b[0ms\u001b[0m\u001b[0;34m.\u001b[0m\u001b[0mreplace\u001b[0m\u001b[0;34m(\u001b[0m\u001b[0;34mr'\\dag'\u001b[0m\u001b[0;34m,\u001b[0m \u001b[0;34mr'\\dagger'\u001b[0m\u001b[0;34m)\u001b[0m\u001b[0;34m\u001b[0m\u001b[0m\n\u001b[1;32m    153\u001b[0m             \u001b[0ms\u001b[0m \u001b[0;34m=\u001b[0m \u001b[0ms\u001b[0m\u001b[0;34m.\u001b[0m\u001b[0mstrip\u001b[0m\u001b[0;34m(\u001b[0m\u001b[0;34m'$'\u001b[0m\u001b[0;34m)\u001b[0m\u001b[0;34m\u001b[0m\u001b[0m\n",
      "\u001b[0;32m/usr/lib/python3.6/site-packages/sympy/printing/latex.py\u001b[0m in \u001b[0;36mlatex\u001b[0;34m(expr, **settings)\u001b[0m\n\u001b[1;32m   2025\u001b[0m     \"\"\"\n\u001b[1;32m   2026\u001b[0m \u001b[0;34m\u001b[0m\u001b[0m\n\u001b[0;32m-> 2027\u001b[0;31m     \u001b[0;32mreturn\u001b[0m \u001b[0mLatexPrinter\u001b[0m\u001b[0;34m(\u001b[0m\u001b[0msettings\u001b[0m\u001b[0;34m)\u001b[0m\u001b[0;34m.\u001b[0m\u001b[0mdoprint\u001b[0m\u001b[0;34m(\u001b[0m\u001b[0mexpr\u001b[0m\u001b[0;34m)\u001b[0m\u001b[0;34m\u001b[0m\u001b[0m\n\u001b[0m\u001b[1;32m   2028\u001b[0m \u001b[0;34m\u001b[0m\u001b[0m\n\u001b[1;32m   2029\u001b[0m \u001b[0;34m\u001b[0m\u001b[0m\n",
      "\u001b[0;32m/usr/lib/python3.6/site-packages/sympy/printing/latex.py\u001b[0m in \u001b[0;36mdoprint\u001b[0;34m(self, expr)\u001b[0m\n\u001b[1;32m    152\u001b[0m \u001b[0;34m\u001b[0m\u001b[0m\n\u001b[1;32m    153\u001b[0m     \u001b[0;32mdef\u001b[0m \u001b[0mdoprint\u001b[0m\u001b[0;34m(\u001b[0m\u001b[0mself\u001b[0m\u001b[0;34m,\u001b[0m \u001b[0mexpr\u001b[0m\u001b[0;34m)\u001b[0m\u001b[0;34m:\u001b[0m\u001b[0;34m\u001b[0m\u001b[0m\n\u001b[0;32m--> 154\u001b[0;31m         \u001b[0mtex\u001b[0m \u001b[0;34m=\u001b[0m \u001b[0mPrinter\u001b[0m\u001b[0;34m.\u001b[0m\u001b[0mdoprint\u001b[0m\u001b[0;34m(\u001b[0m\u001b[0mself\u001b[0m\u001b[0;34m,\u001b[0m \u001b[0mexpr\u001b[0m\u001b[0;34m)\u001b[0m\u001b[0;34m\u001b[0m\u001b[0m\n\u001b[0m\u001b[1;32m    155\u001b[0m \u001b[0;34m\u001b[0m\u001b[0m\n\u001b[1;32m    156\u001b[0m         \u001b[0;32mif\u001b[0m \u001b[0mself\u001b[0m\u001b[0;34m.\u001b[0m\u001b[0m_settings\u001b[0m\u001b[0;34m[\u001b[0m\u001b[0;34m'mode'\u001b[0m\u001b[0;34m]\u001b[0m \u001b[0;34m==\u001b[0m \u001b[0;34m'plain'\u001b[0m\u001b[0;34m:\u001b[0m\u001b[0;34m\u001b[0m\u001b[0m\n",
      "\u001b[0;32m/usr/lib/python3.6/site-packages/sympy/printing/printer.py\u001b[0m in \u001b[0;36mdoprint\u001b[0;34m(self, expr)\u001b[0m\n\u001b[1;32m    231\u001b[0m     \u001b[0;32mdef\u001b[0m \u001b[0mdoprint\u001b[0m\u001b[0;34m(\u001b[0m\u001b[0mself\u001b[0m\u001b[0;34m,\u001b[0m \u001b[0mexpr\u001b[0m\u001b[0;34m)\u001b[0m\u001b[0;34m:\u001b[0m\u001b[0;34m\u001b[0m\u001b[0m\n\u001b[1;32m    232\u001b[0m         \u001b[0;34m\"\"\"Returns printer's representation for expr (as a string)\"\"\"\u001b[0m\u001b[0;34m\u001b[0m\u001b[0m\n\u001b[0;32m--> 233\u001b[0;31m         \u001b[0;32mreturn\u001b[0m \u001b[0mself\u001b[0m\u001b[0;34m.\u001b[0m\u001b[0m_str\u001b[0m\u001b[0;34m(\u001b[0m\u001b[0mself\u001b[0m\u001b[0;34m.\u001b[0m\u001b[0m_print\u001b[0m\u001b[0;34m(\u001b[0m\u001b[0mexpr\u001b[0m\u001b[0;34m)\u001b[0m\u001b[0;34m)\u001b[0m\u001b[0;34m\u001b[0m\u001b[0m\n\u001b[0m\u001b[1;32m    234\u001b[0m \u001b[0;34m\u001b[0m\u001b[0m\n\u001b[1;32m    235\u001b[0m     \u001b[0;32mdef\u001b[0m \u001b[0m_print\u001b[0m\u001b[0;34m(\u001b[0m\u001b[0mself\u001b[0m\u001b[0;34m,\u001b[0m \u001b[0mexpr\u001b[0m\u001b[0;34m,\u001b[0m \u001b[0;34m*\u001b[0m\u001b[0margs\u001b[0m\u001b[0;34m,\u001b[0m \u001b[0;34m**\u001b[0m\u001b[0mkwargs\u001b[0m\u001b[0;34m)\u001b[0m\u001b[0;34m:\u001b[0m\u001b[0;34m\u001b[0m\u001b[0m\n",
      "\u001b[0;32m/usr/lib/python3.6/site-packages/sympy/printing/printer.py\u001b[0m in \u001b[0;36m_print\u001b[0;34m(self, expr, *args, **kwargs)\u001b[0m\n\u001b[1;32m    255\u001b[0m                 \u001b[0mprintmethod\u001b[0m \u001b[0;34m=\u001b[0m \u001b[0;34m'_print_'\u001b[0m \u001b[0;34m+\u001b[0m \u001b[0mcls\u001b[0m\u001b[0;34m.\u001b[0m\u001b[0m__name__\u001b[0m\u001b[0;34m\u001b[0m\u001b[0m\n\u001b[1;32m    256\u001b[0m                 \u001b[0;32mif\u001b[0m \u001b[0mhasattr\u001b[0m\u001b[0;34m(\u001b[0m\u001b[0mself\u001b[0m\u001b[0;34m,\u001b[0m \u001b[0mprintmethod\u001b[0m\u001b[0;34m)\u001b[0m\u001b[0;34m:\u001b[0m\u001b[0;34m\u001b[0m\u001b[0m\n\u001b[0;32m--> 257\u001b[0;31m                     \u001b[0;32mreturn\u001b[0m \u001b[0mgetattr\u001b[0m\u001b[0;34m(\u001b[0m\u001b[0mself\u001b[0m\u001b[0;34m,\u001b[0m \u001b[0mprintmethod\u001b[0m\u001b[0;34m)\u001b[0m\u001b[0;34m(\u001b[0m\u001b[0mexpr\u001b[0m\u001b[0;34m,\u001b[0m \u001b[0;34m*\u001b[0m\u001b[0margs\u001b[0m\u001b[0;34m,\u001b[0m \u001b[0;34m**\u001b[0m\u001b[0mkwargs\u001b[0m\u001b[0;34m)\u001b[0m\u001b[0;34m\u001b[0m\u001b[0m\n\u001b[0m\u001b[1;32m    258\u001b[0m \u001b[0;34m\u001b[0m\u001b[0m\n\u001b[1;32m    259\u001b[0m             \u001b[0;31m# Unknown object, fall back to the emptyPrinter.\u001b[0m\u001b[0;34m\u001b[0m\u001b[0;34m\u001b[0m\u001b[0m\n",
      "\u001b[0;32m/usr/lib/python3.6/site-packages/sympy/printing/latex.py\u001b[0m in \u001b[0;36m_print_SeqFormula\u001b[0;34m(self, s)\u001b[0m\n\u001b[1;32m   1500\u001b[0m             printset = ('\\ldots', s.coeff(stop - 3), s.coeff(stop - 2),\n\u001b[1;32m   1501\u001b[0m                 s.coeff(stop - 1), s.coeff(stop))\n\u001b[0;32m-> 1502\u001b[0;31m         \u001b[0;32melif\u001b[0m \u001b[0ms\u001b[0m\u001b[0;34m.\u001b[0m\u001b[0mstop\u001b[0m \u001b[0;32mis\u001b[0m \u001b[0mS\u001b[0m\u001b[0;34m.\u001b[0m\u001b[0mInfinity\u001b[0m \u001b[0;32mor\u001b[0m \u001b[0ms\u001b[0m\u001b[0;34m.\u001b[0m\u001b[0mlength\u001b[0m \u001b[0;34m>\u001b[0m \u001b[0;36m4\u001b[0m\u001b[0;34m:\u001b[0m\u001b[0;34m\u001b[0m\u001b[0m\n\u001b[0m\u001b[1;32m   1503\u001b[0m             \u001b[0mprintset\u001b[0m \u001b[0;34m=\u001b[0m \u001b[0ms\u001b[0m\u001b[0;34m[\u001b[0m\u001b[0;34m:\u001b[0m\u001b[0;36m4\u001b[0m\u001b[0;34m]\u001b[0m\u001b[0;34m\u001b[0m\u001b[0m\n\u001b[1;32m   1504\u001b[0m             \u001b[0mprintset\u001b[0m\u001b[0;34m.\u001b[0m\u001b[0mappend\u001b[0m\u001b[0;34m(\u001b[0m\u001b[0;34m'\\ldots'\u001b[0m\u001b[0;34m)\u001b[0m\u001b[0;34m\u001b[0m\u001b[0m\n",
      "\u001b[0;32m/usr/lib/python3.6/site-packages/sympy/core/relational.py\u001b[0m in \u001b[0;36m__nonzero__\u001b[0;34m(self)\u001b[0m\n\u001b[1;32m    193\u001b[0m \u001b[0;34m\u001b[0m\u001b[0m\n\u001b[1;32m    194\u001b[0m     \u001b[0;32mdef\u001b[0m \u001b[0m__nonzero__\u001b[0m\u001b[0;34m(\u001b[0m\u001b[0mself\u001b[0m\u001b[0;34m)\u001b[0m\u001b[0;34m:\u001b[0m\u001b[0;34m\u001b[0m\u001b[0m\n\u001b[0;32m--> 195\u001b[0;31m         \u001b[0;32mraise\u001b[0m \u001b[0mTypeError\u001b[0m\u001b[0;34m(\u001b[0m\u001b[0;34m\"cannot determine truth value of Relational\"\u001b[0m\u001b[0;34m)\u001b[0m\u001b[0;34m\u001b[0m\u001b[0m\n\u001b[0m\u001b[1;32m    196\u001b[0m \u001b[0;34m\u001b[0m\u001b[0m\n\u001b[1;32m    197\u001b[0m     \u001b[0m__bool__\u001b[0m \u001b[0;34m=\u001b[0m \u001b[0m__nonzero__\u001b[0m\u001b[0;34m\u001b[0m\u001b[0m\n",
      "\u001b[0;31mTypeError\u001b[0m: cannot determine truth value of Relational"
     ]
    },
    {
     "ename": "TypeError",
     "evalue": "cannot determine truth value of Relational",
     "output_type": "error",
     "traceback": [
      "\u001b[0;31m---------------------------------------------------------------------------\u001b[0m",
      "\u001b[0;31mTypeError\u001b[0m                                 Traceback (most recent call last)",
      "\u001b[0;32m/usr/lib/python3.6/site-packages/IPython/core/formatters.py\u001b[0m in \u001b[0;36m__call__\u001b[0;34m(self, obj)\u001b[0m\n\u001b[1;32m    670\u001b[0m                 \u001b[0mtype_pprinters\u001b[0m\u001b[0;34m=\u001b[0m\u001b[0mself\u001b[0m\u001b[0;34m.\u001b[0m\u001b[0mtype_printers\u001b[0m\u001b[0;34m,\u001b[0m\u001b[0;34m\u001b[0m\u001b[0m\n\u001b[1;32m    671\u001b[0m                 deferred_pprinters=self.deferred_printers)\n\u001b[0;32m--> 672\u001b[0;31m             \u001b[0mprinter\u001b[0m\u001b[0;34m.\u001b[0m\u001b[0mpretty\u001b[0m\u001b[0;34m(\u001b[0m\u001b[0mobj\u001b[0m\u001b[0;34m)\u001b[0m\u001b[0;34m\u001b[0m\u001b[0m\n\u001b[0m\u001b[1;32m    673\u001b[0m             \u001b[0mprinter\u001b[0m\u001b[0;34m.\u001b[0m\u001b[0mflush\u001b[0m\u001b[0;34m(\u001b[0m\u001b[0;34m)\u001b[0m\u001b[0;34m\u001b[0m\u001b[0m\n\u001b[1;32m    674\u001b[0m             \u001b[0;32mreturn\u001b[0m \u001b[0mstream\u001b[0m\u001b[0;34m.\u001b[0m\u001b[0mgetvalue\u001b[0m\u001b[0;34m(\u001b[0m\u001b[0;34m)\u001b[0m\u001b[0;34m\u001b[0m\u001b[0m\n",
      "\u001b[0;32m/usr/lib/python3.6/site-packages/IPython/lib/pretty.py\u001b[0m in \u001b[0;36mpretty\u001b[0;34m(self, obj)\u001b[0m\n\u001b[1;32m    366\u001b[0m                 \u001b[0;32mif\u001b[0m \u001b[0mcls\u001b[0m \u001b[0;32min\u001b[0m \u001b[0mself\u001b[0m\u001b[0;34m.\u001b[0m\u001b[0mtype_pprinters\u001b[0m\u001b[0;34m:\u001b[0m\u001b[0;34m\u001b[0m\u001b[0m\n\u001b[1;32m    367\u001b[0m                     \u001b[0;31m# printer registered in self.type_pprinters\u001b[0m\u001b[0;34m\u001b[0m\u001b[0;34m\u001b[0m\u001b[0m\n\u001b[0;32m--> 368\u001b[0;31m                     \u001b[0;32mreturn\u001b[0m \u001b[0mself\u001b[0m\u001b[0;34m.\u001b[0m\u001b[0mtype_pprinters\u001b[0m\u001b[0;34m[\u001b[0m\u001b[0mcls\u001b[0m\u001b[0;34m]\u001b[0m\u001b[0;34m(\u001b[0m\u001b[0mobj\u001b[0m\u001b[0;34m,\u001b[0m \u001b[0mself\u001b[0m\u001b[0;34m,\u001b[0m \u001b[0mcycle\u001b[0m\u001b[0;34m)\u001b[0m\u001b[0;34m\u001b[0m\u001b[0m\n\u001b[0m\u001b[1;32m    369\u001b[0m                 \u001b[0;32melse\u001b[0m\u001b[0;34m:\u001b[0m\u001b[0;34m\u001b[0m\u001b[0m\n\u001b[1;32m    370\u001b[0m                     \u001b[0;31m# deferred printer\u001b[0m\u001b[0;34m\u001b[0m\u001b[0;34m\u001b[0m\u001b[0m\n",
      "\u001b[0;32m/usr/lib/python3.6/site-packages/sympy/interactive/printing.py\u001b[0m in \u001b[0;36m_print_plain\u001b[0;34m(arg, p, cycle)\u001b[0m\n\u001b[1;32m     66\u001b[0m         \u001b[0;34m\"\"\"caller for pretty, for use in IPython 0.11\"\"\"\u001b[0m\u001b[0;34m\u001b[0m\u001b[0m\n\u001b[1;32m     67\u001b[0m         \u001b[0;32mif\u001b[0m \u001b[0m_can_print_latex\u001b[0m\u001b[0;34m(\u001b[0m\u001b[0marg\u001b[0m\u001b[0;34m)\u001b[0m\u001b[0;34m:\u001b[0m\u001b[0;34m\u001b[0m\u001b[0m\n\u001b[0;32m---> 68\u001b[0;31m             \u001b[0mp\u001b[0m\u001b[0;34m.\u001b[0m\u001b[0mtext\u001b[0m\u001b[0;34m(\u001b[0m\u001b[0mstringify_func\u001b[0m\u001b[0;34m(\u001b[0m\u001b[0marg\u001b[0m\u001b[0;34m)\u001b[0m\u001b[0;34m)\u001b[0m\u001b[0;34m\u001b[0m\u001b[0m\n\u001b[0m\u001b[1;32m     69\u001b[0m         \u001b[0;32melse\u001b[0m\u001b[0;34m:\u001b[0m\u001b[0;34m\u001b[0m\u001b[0m\n\u001b[1;32m     70\u001b[0m             \u001b[0mp\u001b[0m\u001b[0;34m.\u001b[0m\u001b[0mtext\u001b[0m\u001b[0;34m(\u001b[0m\u001b[0mIPython\u001b[0m\u001b[0;34m.\u001b[0m\u001b[0mlib\u001b[0m\u001b[0;34m.\u001b[0m\u001b[0mpretty\u001b[0m\u001b[0;34m.\u001b[0m\u001b[0mpretty\u001b[0m\u001b[0;34m(\u001b[0m\u001b[0marg\u001b[0m\u001b[0;34m)\u001b[0m\u001b[0;34m)\u001b[0m\u001b[0;34m\u001b[0m\u001b[0m\n",
      "\u001b[0;32m/usr/lib/python3.6/site-packages/sympy/printing/pretty/pretty.py\u001b[0m in \u001b[0;36mpretty\u001b[0;34m(expr, **settings)\u001b[0m\n\u001b[1;32m   2037\u001b[0m \u001b[0;34m\u001b[0m\u001b[0m\n\u001b[1;32m   2038\u001b[0m     \u001b[0;32mtry\u001b[0m\u001b[0;34m:\u001b[0m\u001b[0;34m\u001b[0m\u001b[0m\n\u001b[0;32m-> 2039\u001b[0;31m         \u001b[0;32mreturn\u001b[0m \u001b[0mpp\u001b[0m\u001b[0;34m.\u001b[0m\u001b[0mdoprint\u001b[0m\u001b[0;34m(\u001b[0m\u001b[0mexpr\u001b[0m\u001b[0;34m)\u001b[0m\u001b[0;34m\u001b[0m\u001b[0m\n\u001b[0m\u001b[1;32m   2040\u001b[0m     \u001b[0;32mfinally\u001b[0m\u001b[0;34m:\u001b[0m\u001b[0;34m\u001b[0m\u001b[0m\n\u001b[1;32m   2041\u001b[0m         \u001b[0mpretty_use_unicode\u001b[0m\u001b[0;34m(\u001b[0m\u001b[0muflag\u001b[0m\u001b[0;34m)\u001b[0m\u001b[0;34m\u001b[0m\u001b[0m\n",
      "\u001b[0;32m/usr/lib/python3.6/site-packages/sympy/printing/pretty/pretty.py\u001b[0m in \u001b[0;36mdoprint\u001b[0;34m(self, expr)\u001b[0m\n\u001b[1;32m     56\u001b[0m \u001b[0;34m\u001b[0m\u001b[0m\n\u001b[1;32m     57\u001b[0m     \u001b[0;32mdef\u001b[0m \u001b[0mdoprint\u001b[0m\u001b[0;34m(\u001b[0m\u001b[0mself\u001b[0m\u001b[0;34m,\u001b[0m \u001b[0mexpr\u001b[0m\u001b[0;34m)\u001b[0m\u001b[0;34m:\u001b[0m\u001b[0;34m\u001b[0m\u001b[0m\n\u001b[0;32m---> 58\u001b[0;31m         \u001b[0;32mreturn\u001b[0m \u001b[0mself\u001b[0m\u001b[0;34m.\u001b[0m\u001b[0m_print\u001b[0m\u001b[0;34m(\u001b[0m\u001b[0mexpr\u001b[0m\u001b[0;34m)\u001b[0m\u001b[0;34m.\u001b[0m\u001b[0mrender\u001b[0m\u001b[0;34m(\u001b[0m\u001b[0;34m**\u001b[0m\u001b[0mself\u001b[0m\u001b[0;34m.\u001b[0m\u001b[0m_settings\u001b[0m\u001b[0;34m)\u001b[0m\u001b[0;34m\u001b[0m\u001b[0m\n\u001b[0m\u001b[1;32m     59\u001b[0m \u001b[0;34m\u001b[0m\u001b[0m\n\u001b[1;32m     60\u001b[0m     \u001b[0;31m# empty op so _print(stringPict) returns the same\u001b[0m\u001b[0;34m\u001b[0m\u001b[0;34m\u001b[0m\u001b[0m\n",
      "\u001b[0;32m/usr/lib/python3.6/site-packages/sympy/printing/printer.py\u001b[0m in \u001b[0;36m_print\u001b[0;34m(self, expr, *args, **kwargs)\u001b[0m\n\u001b[1;32m    255\u001b[0m                 \u001b[0mprintmethod\u001b[0m \u001b[0;34m=\u001b[0m \u001b[0;34m'_print_'\u001b[0m \u001b[0;34m+\u001b[0m \u001b[0mcls\u001b[0m\u001b[0;34m.\u001b[0m\u001b[0m__name__\u001b[0m\u001b[0;34m\u001b[0m\u001b[0m\n\u001b[1;32m    256\u001b[0m                 \u001b[0;32mif\u001b[0m \u001b[0mhasattr\u001b[0m\u001b[0;34m(\u001b[0m\u001b[0mself\u001b[0m\u001b[0;34m,\u001b[0m \u001b[0mprintmethod\u001b[0m\u001b[0;34m)\u001b[0m\u001b[0;34m:\u001b[0m\u001b[0;34m\u001b[0m\u001b[0m\n\u001b[0;32m--> 257\u001b[0;31m                     \u001b[0;32mreturn\u001b[0m \u001b[0mgetattr\u001b[0m\u001b[0;34m(\u001b[0m\u001b[0mself\u001b[0m\u001b[0;34m,\u001b[0m \u001b[0mprintmethod\u001b[0m\u001b[0;34m)\u001b[0m\u001b[0;34m(\u001b[0m\u001b[0mexpr\u001b[0m\u001b[0;34m,\u001b[0m \u001b[0;34m*\u001b[0m\u001b[0margs\u001b[0m\u001b[0;34m,\u001b[0m \u001b[0;34m**\u001b[0m\u001b[0mkwargs\u001b[0m\u001b[0;34m)\u001b[0m\u001b[0;34m\u001b[0m\u001b[0m\n\u001b[0m\u001b[1;32m    258\u001b[0m \u001b[0;34m\u001b[0m\u001b[0m\n\u001b[1;32m    259\u001b[0m             \u001b[0;31m# Unknown object, fall back to the emptyPrinter.\u001b[0m\u001b[0;34m\u001b[0m\u001b[0;34m\u001b[0m\u001b[0m\n",
      "\u001b[0;32m/usr/lib/python3.6/site-packages/sympy/printing/pretty/pretty.py\u001b[0m in \u001b[0;36m_print_SeqFormula\u001b[0;34m(self, s)\u001b[0m\n\u001b[1;32m   1613\u001b[0m             printset = (dots, s.coeff(stop - 3), s.coeff(stop - 2),\n\u001b[1;32m   1614\u001b[0m                 s.coeff(stop - 1), s.coeff(stop))\n\u001b[0;32m-> 1615\u001b[0;31m         \u001b[0;32melif\u001b[0m \u001b[0ms\u001b[0m\u001b[0;34m.\u001b[0m\u001b[0mstop\u001b[0m \u001b[0;32mis\u001b[0m \u001b[0mS\u001b[0m\u001b[0;34m.\u001b[0m\u001b[0mInfinity\u001b[0m \u001b[0;32mor\u001b[0m \u001b[0ms\u001b[0m\u001b[0;34m.\u001b[0m\u001b[0mlength\u001b[0m \u001b[0;34m>\u001b[0m \u001b[0;36m4\u001b[0m\u001b[0;34m:\u001b[0m\u001b[0;34m\u001b[0m\u001b[0m\n\u001b[0m\u001b[1;32m   1616\u001b[0m             \u001b[0mprintset\u001b[0m \u001b[0;34m=\u001b[0m \u001b[0ms\u001b[0m\u001b[0;34m[\u001b[0m\u001b[0;34m:\u001b[0m\u001b[0;36m4\u001b[0m\u001b[0;34m]\u001b[0m\u001b[0;34m\u001b[0m\u001b[0m\n\u001b[1;32m   1617\u001b[0m             \u001b[0mprintset\u001b[0m\u001b[0;34m.\u001b[0m\u001b[0mappend\u001b[0m\u001b[0;34m(\u001b[0m\u001b[0mdots\u001b[0m\u001b[0;34m)\u001b[0m\u001b[0;34m\u001b[0m\u001b[0m\n",
      "\u001b[0;32m/usr/lib/python3.6/site-packages/sympy/core/relational.py\u001b[0m in \u001b[0;36m__nonzero__\u001b[0;34m(self)\u001b[0m\n\u001b[1;32m    193\u001b[0m \u001b[0;34m\u001b[0m\u001b[0m\n\u001b[1;32m    194\u001b[0m     \u001b[0;32mdef\u001b[0m \u001b[0m__nonzero__\u001b[0m\u001b[0;34m(\u001b[0m\u001b[0mself\u001b[0m\u001b[0;34m)\u001b[0m\u001b[0;34m:\u001b[0m\u001b[0;34m\u001b[0m\u001b[0m\n\u001b[0;32m--> 195\u001b[0;31m         \u001b[0;32mraise\u001b[0m \u001b[0mTypeError\u001b[0m\u001b[0;34m(\u001b[0m\u001b[0;34m\"cannot determine truth value of Relational\"\u001b[0m\u001b[0;34m)\u001b[0m\u001b[0;34m\u001b[0m\u001b[0m\n\u001b[0m\u001b[1;32m    196\u001b[0m \u001b[0;34m\u001b[0m\u001b[0m\n\u001b[1;32m    197\u001b[0m     \u001b[0m__bool__\u001b[0m \u001b[0;34m=\u001b[0m \u001b[0m__nonzero__\u001b[0m\u001b[0;34m\u001b[0m\u001b[0m\n",
      "\u001b[0;31mTypeError\u001b[0m: cannot determine truth value of Relational"
     ]
    },
    {
     "ename": "TypeError",
     "evalue": "cannot determine truth value of Relational",
     "output_type": "error",
     "traceback": [
      "\u001b[0;31m---------------------------------------------------------------------------\u001b[0m",
      "\u001b[0;31mTypeError\u001b[0m                                 Traceback (most recent call last)",
      "\u001b[0;32m/usr/lib/python3.6/site-packages/IPython/core/formatters.py\u001b[0m in \u001b[0;36m__call__\u001b[0;34m(self, obj)\u001b[0m\n\u001b[1;32m    305\u001b[0m                 \u001b[0;32mpass\u001b[0m\u001b[0;34m\u001b[0m\u001b[0m\n\u001b[1;32m    306\u001b[0m             \u001b[0;32melse\u001b[0m\u001b[0;34m:\u001b[0m\u001b[0;34m\u001b[0m\u001b[0m\n\u001b[0;32m--> 307\u001b[0;31m                 \u001b[0;32mreturn\u001b[0m \u001b[0mprinter\u001b[0m\u001b[0;34m(\u001b[0m\u001b[0mobj\u001b[0m\u001b[0;34m)\u001b[0m\u001b[0;34m\u001b[0m\u001b[0m\n\u001b[0m\u001b[1;32m    308\u001b[0m             \u001b[0;31m# Finally look for special method names\u001b[0m\u001b[0;34m\u001b[0m\u001b[0;34m\u001b[0m\u001b[0m\n\u001b[1;32m    309\u001b[0m             \u001b[0mmethod\u001b[0m \u001b[0;34m=\u001b[0m \u001b[0mget_real_method\u001b[0m\u001b[0;34m(\u001b[0m\u001b[0mobj\u001b[0m\u001b[0;34m,\u001b[0m \u001b[0mself\u001b[0m\u001b[0;34m.\u001b[0m\u001b[0mprint_method\u001b[0m\u001b[0;34m)\u001b[0m\u001b[0;34m\u001b[0m\u001b[0m\n",
      "\u001b[0;32m/usr/lib/python3.6/site-packages/sympy/interactive/printing.py\u001b[0m in \u001b[0;36m_print_latex_png\u001b[0;34m(o)\u001b[0m\n\u001b[1;32m    126\u001b[0m         \"\"\"\n\u001b[1;32m    127\u001b[0m         \u001b[0;32mif\u001b[0m \u001b[0m_can_print_latex\u001b[0m\u001b[0;34m(\u001b[0m\u001b[0mo\u001b[0m\u001b[0;34m)\u001b[0m\u001b[0;34m:\u001b[0m\u001b[0;34m\u001b[0m\u001b[0m\n\u001b[0;32m--> 128\u001b[0;31m             \u001b[0ms\u001b[0m \u001b[0;34m=\u001b[0m \u001b[0mlatex\u001b[0m\u001b[0;34m(\u001b[0m\u001b[0mo\u001b[0m\u001b[0;34m,\u001b[0m \u001b[0mmode\u001b[0m\u001b[0;34m=\u001b[0m\u001b[0mlatex_mode\u001b[0m\u001b[0;34m)\u001b[0m\u001b[0;34m\u001b[0m\u001b[0m\n\u001b[0m\u001b[1;32m    129\u001b[0m             \u001b[0;32mtry\u001b[0m\u001b[0;34m:\u001b[0m\u001b[0;34m\u001b[0m\u001b[0m\n\u001b[1;32m    130\u001b[0m                 \u001b[0;32mreturn\u001b[0m \u001b[0m_preview_wrapper\u001b[0m\u001b[0;34m(\u001b[0m\u001b[0ms\u001b[0m\u001b[0;34m)\u001b[0m\u001b[0;34m\u001b[0m\u001b[0m\n",
      "\u001b[0;32m/usr/lib/python3.6/site-packages/sympy/printing/latex.py\u001b[0m in \u001b[0;36mlatex\u001b[0;34m(expr, **settings)\u001b[0m\n\u001b[1;32m   2025\u001b[0m     \"\"\"\n\u001b[1;32m   2026\u001b[0m \u001b[0;34m\u001b[0m\u001b[0m\n\u001b[0;32m-> 2027\u001b[0;31m     \u001b[0;32mreturn\u001b[0m \u001b[0mLatexPrinter\u001b[0m\u001b[0;34m(\u001b[0m\u001b[0msettings\u001b[0m\u001b[0;34m)\u001b[0m\u001b[0;34m.\u001b[0m\u001b[0mdoprint\u001b[0m\u001b[0;34m(\u001b[0m\u001b[0mexpr\u001b[0m\u001b[0;34m)\u001b[0m\u001b[0;34m\u001b[0m\u001b[0m\n\u001b[0m\u001b[1;32m   2028\u001b[0m \u001b[0;34m\u001b[0m\u001b[0m\n\u001b[1;32m   2029\u001b[0m \u001b[0;34m\u001b[0m\u001b[0m\n",
      "\u001b[0;32m/usr/lib/python3.6/site-packages/sympy/printing/latex.py\u001b[0m in \u001b[0;36mdoprint\u001b[0;34m(self, expr)\u001b[0m\n\u001b[1;32m    152\u001b[0m \u001b[0;34m\u001b[0m\u001b[0m\n\u001b[1;32m    153\u001b[0m     \u001b[0;32mdef\u001b[0m \u001b[0mdoprint\u001b[0m\u001b[0;34m(\u001b[0m\u001b[0mself\u001b[0m\u001b[0;34m,\u001b[0m \u001b[0mexpr\u001b[0m\u001b[0;34m)\u001b[0m\u001b[0;34m:\u001b[0m\u001b[0;34m\u001b[0m\u001b[0m\n\u001b[0;32m--> 154\u001b[0;31m         \u001b[0mtex\u001b[0m \u001b[0;34m=\u001b[0m \u001b[0mPrinter\u001b[0m\u001b[0;34m.\u001b[0m\u001b[0mdoprint\u001b[0m\u001b[0;34m(\u001b[0m\u001b[0mself\u001b[0m\u001b[0;34m,\u001b[0m \u001b[0mexpr\u001b[0m\u001b[0;34m)\u001b[0m\u001b[0;34m\u001b[0m\u001b[0m\n\u001b[0m\u001b[1;32m    155\u001b[0m \u001b[0;34m\u001b[0m\u001b[0m\n\u001b[1;32m    156\u001b[0m         \u001b[0;32mif\u001b[0m \u001b[0mself\u001b[0m\u001b[0;34m.\u001b[0m\u001b[0m_settings\u001b[0m\u001b[0;34m[\u001b[0m\u001b[0;34m'mode'\u001b[0m\u001b[0;34m]\u001b[0m \u001b[0;34m==\u001b[0m \u001b[0;34m'plain'\u001b[0m\u001b[0;34m:\u001b[0m\u001b[0;34m\u001b[0m\u001b[0m\n",
      "\u001b[0;32m/usr/lib/python3.6/site-packages/sympy/printing/printer.py\u001b[0m in \u001b[0;36mdoprint\u001b[0;34m(self, expr)\u001b[0m\n\u001b[1;32m    231\u001b[0m     \u001b[0;32mdef\u001b[0m \u001b[0mdoprint\u001b[0m\u001b[0;34m(\u001b[0m\u001b[0mself\u001b[0m\u001b[0;34m,\u001b[0m \u001b[0mexpr\u001b[0m\u001b[0;34m)\u001b[0m\u001b[0;34m:\u001b[0m\u001b[0;34m\u001b[0m\u001b[0m\n\u001b[1;32m    232\u001b[0m         \u001b[0;34m\"\"\"Returns printer's representation for expr (as a string)\"\"\"\u001b[0m\u001b[0;34m\u001b[0m\u001b[0m\n\u001b[0;32m--> 233\u001b[0;31m         \u001b[0;32mreturn\u001b[0m \u001b[0mself\u001b[0m\u001b[0;34m.\u001b[0m\u001b[0m_str\u001b[0m\u001b[0;34m(\u001b[0m\u001b[0mself\u001b[0m\u001b[0;34m.\u001b[0m\u001b[0m_print\u001b[0m\u001b[0;34m(\u001b[0m\u001b[0mexpr\u001b[0m\u001b[0;34m)\u001b[0m\u001b[0;34m)\u001b[0m\u001b[0;34m\u001b[0m\u001b[0m\n\u001b[0m\u001b[1;32m    234\u001b[0m \u001b[0;34m\u001b[0m\u001b[0m\n\u001b[1;32m    235\u001b[0m     \u001b[0;32mdef\u001b[0m \u001b[0m_print\u001b[0m\u001b[0;34m(\u001b[0m\u001b[0mself\u001b[0m\u001b[0;34m,\u001b[0m \u001b[0mexpr\u001b[0m\u001b[0;34m,\u001b[0m \u001b[0;34m*\u001b[0m\u001b[0margs\u001b[0m\u001b[0;34m,\u001b[0m \u001b[0;34m**\u001b[0m\u001b[0mkwargs\u001b[0m\u001b[0;34m)\u001b[0m\u001b[0;34m:\u001b[0m\u001b[0;34m\u001b[0m\u001b[0m\n",
      "\u001b[0;32m/usr/lib/python3.6/site-packages/sympy/printing/printer.py\u001b[0m in \u001b[0;36m_print\u001b[0;34m(self, expr, *args, **kwargs)\u001b[0m\n\u001b[1;32m    255\u001b[0m                 \u001b[0mprintmethod\u001b[0m \u001b[0;34m=\u001b[0m \u001b[0;34m'_print_'\u001b[0m \u001b[0;34m+\u001b[0m \u001b[0mcls\u001b[0m\u001b[0;34m.\u001b[0m\u001b[0m__name__\u001b[0m\u001b[0;34m\u001b[0m\u001b[0m\n\u001b[1;32m    256\u001b[0m                 \u001b[0;32mif\u001b[0m \u001b[0mhasattr\u001b[0m\u001b[0;34m(\u001b[0m\u001b[0mself\u001b[0m\u001b[0;34m,\u001b[0m \u001b[0mprintmethod\u001b[0m\u001b[0;34m)\u001b[0m\u001b[0;34m:\u001b[0m\u001b[0;34m\u001b[0m\u001b[0m\n\u001b[0;32m--> 257\u001b[0;31m                     \u001b[0;32mreturn\u001b[0m \u001b[0mgetattr\u001b[0m\u001b[0;34m(\u001b[0m\u001b[0mself\u001b[0m\u001b[0;34m,\u001b[0m \u001b[0mprintmethod\u001b[0m\u001b[0;34m)\u001b[0m\u001b[0;34m(\u001b[0m\u001b[0mexpr\u001b[0m\u001b[0;34m,\u001b[0m \u001b[0;34m*\u001b[0m\u001b[0margs\u001b[0m\u001b[0;34m,\u001b[0m \u001b[0;34m**\u001b[0m\u001b[0mkwargs\u001b[0m\u001b[0;34m)\u001b[0m\u001b[0;34m\u001b[0m\u001b[0m\n\u001b[0m\u001b[1;32m    258\u001b[0m \u001b[0;34m\u001b[0m\u001b[0m\n\u001b[1;32m    259\u001b[0m             \u001b[0;31m# Unknown object, fall back to the emptyPrinter.\u001b[0m\u001b[0;34m\u001b[0m\u001b[0;34m\u001b[0m\u001b[0m\n",
      "\u001b[0;32m/usr/lib/python3.6/site-packages/sympy/printing/latex.py\u001b[0m in \u001b[0;36m_print_SeqFormula\u001b[0;34m(self, s)\u001b[0m\n\u001b[1;32m   1500\u001b[0m             printset = ('\\ldots', s.coeff(stop - 3), s.coeff(stop - 2),\n\u001b[1;32m   1501\u001b[0m                 s.coeff(stop - 1), s.coeff(stop))\n\u001b[0;32m-> 1502\u001b[0;31m         \u001b[0;32melif\u001b[0m \u001b[0ms\u001b[0m\u001b[0;34m.\u001b[0m\u001b[0mstop\u001b[0m \u001b[0;32mis\u001b[0m \u001b[0mS\u001b[0m\u001b[0;34m.\u001b[0m\u001b[0mInfinity\u001b[0m \u001b[0;32mor\u001b[0m \u001b[0ms\u001b[0m\u001b[0;34m.\u001b[0m\u001b[0mlength\u001b[0m \u001b[0;34m>\u001b[0m \u001b[0;36m4\u001b[0m\u001b[0;34m:\u001b[0m\u001b[0;34m\u001b[0m\u001b[0m\n\u001b[0m\u001b[1;32m   1503\u001b[0m             \u001b[0mprintset\u001b[0m \u001b[0;34m=\u001b[0m \u001b[0ms\u001b[0m\u001b[0;34m[\u001b[0m\u001b[0;34m:\u001b[0m\u001b[0;36m4\u001b[0m\u001b[0;34m]\u001b[0m\u001b[0;34m\u001b[0m\u001b[0m\n\u001b[1;32m   1504\u001b[0m             \u001b[0mprintset\u001b[0m\u001b[0;34m.\u001b[0m\u001b[0mappend\u001b[0m\u001b[0;34m(\u001b[0m\u001b[0;34m'\\ldots'\u001b[0m\u001b[0;34m)\u001b[0m\u001b[0;34m\u001b[0m\u001b[0m\n",
      "\u001b[0;32m/usr/lib/python3.6/site-packages/sympy/core/relational.py\u001b[0m in \u001b[0;36m__nonzero__\u001b[0;34m(self)\u001b[0m\n\u001b[1;32m    193\u001b[0m \u001b[0;34m\u001b[0m\u001b[0m\n\u001b[1;32m    194\u001b[0m     \u001b[0;32mdef\u001b[0m \u001b[0m__nonzero__\u001b[0m\u001b[0;34m(\u001b[0m\u001b[0mself\u001b[0m\u001b[0;34m)\u001b[0m\u001b[0;34m:\u001b[0m\u001b[0;34m\u001b[0m\u001b[0m\n\u001b[0;32m--> 195\u001b[0;31m         \u001b[0;32mraise\u001b[0m \u001b[0mTypeError\u001b[0m\u001b[0;34m(\u001b[0m\u001b[0;34m\"cannot determine truth value of Relational\"\u001b[0m\u001b[0;34m)\u001b[0m\u001b[0;34m\u001b[0m\u001b[0m\n\u001b[0m\u001b[1;32m    196\u001b[0m \u001b[0;34m\u001b[0m\u001b[0m\n\u001b[1;32m    197\u001b[0m     \u001b[0m__bool__\u001b[0m \u001b[0;34m=\u001b[0m \u001b[0m__nonzero__\u001b[0m\u001b[0;34m\u001b[0m\u001b[0m\n",
      "\u001b[0;31mTypeError\u001b[0m: cannot determine truth value of Relational"
     ]
    },
    {
     "ename": "TypeError",
     "evalue": "cannot determine truth value of Relational",
     "output_type": "error",
     "traceback": [
      "\u001b[0;31m---------------------------------------------------------------------------\u001b[0m",
      "\u001b[0;31mTypeError\u001b[0m                                 Traceback (most recent call last)",
      "\u001b[0;32m/usr/lib/python3.6/site-packages/IPython/core/formatters.py\u001b[0m in \u001b[0;36m__call__\u001b[0;34m(self, obj)\u001b[0m\n\u001b[1;32m    305\u001b[0m                 \u001b[0;32mpass\u001b[0m\u001b[0;34m\u001b[0m\u001b[0m\n\u001b[1;32m    306\u001b[0m             \u001b[0;32melse\u001b[0m\u001b[0;34m:\u001b[0m\u001b[0;34m\u001b[0m\u001b[0m\n\u001b[0;32m--> 307\u001b[0;31m                 \u001b[0;32mreturn\u001b[0m \u001b[0mprinter\u001b[0m\u001b[0;34m(\u001b[0m\u001b[0mobj\u001b[0m\u001b[0;34m)\u001b[0m\u001b[0;34m\u001b[0m\u001b[0m\n\u001b[0m\u001b[1;32m    308\u001b[0m             \u001b[0;31m# Finally look for special method names\u001b[0m\u001b[0;34m\u001b[0m\u001b[0;34m\u001b[0m\u001b[0m\n\u001b[1;32m    309\u001b[0m             \u001b[0mmethod\u001b[0m \u001b[0;34m=\u001b[0m \u001b[0mget_real_method\u001b[0m\u001b[0;34m(\u001b[0m\u001b[0mobj\u001b[0m\u001b[0;34m,\u001b[0m \u001b[0mself\u001b[0m\u001b[0;34m.\u001b[0m\u001b[0mprint_method\u001b[0m\u001b[0;34m)\u001b[0m\u001b[0;34m\u001b[0m\u001b[0m\n",
      "\u001b[0;32m/usr/lib/python3.6/site-packages/sympy/interactive/printing.py\u001b[0m in \u001b[0;36m_print_latex_text\u001b[0;34m(o)\u001b[0m\n\u001b[1;32m    149\u001b[0m         \"\"\"\n\u001b[1;32m    150\u001b[0m         \u001b[0;32mif\u001b[0m \u001b[0m_can_print_latex\u001b[0m\u001b[0;34m(\u001b[0m\u001b[0mo\u001b[0m\u001b[0;34m)\u001b[0m\u001b[0;34m:\u001b[0m\u001b[0;34m\u001b[0m\u001b[0m\n\u001b[0;32m--> 151\u001b[0;31m             \u001b[0ms\u001b[0m \u001b[0;34m=\u001b[0m \u001b[0mlatex\u001b[0m\u001b[0;34m(\u001b[0m\u001b[0mo\u001b[0m\u001b[0;34m,\u001b[0m \u001b[0mmode\u001b[0m\u001b[0;34m=\u001b[0m\u001b[0;34m'plain'\u001b[0m\u001b[0;34m)\u001b[0m\u001b[0;34m\u001b[0m\u001b[0m\n\u001b[0m\u001b[1;32m    152\u001b[0m             \u001b[0ms\u001b[0m \u001b[0;34m=\u001b[0m \u001b[0ms\u001b[0m\u001b[0;34m.\u001b[0m\u001b[0mreplace\u001b[0m\u001b[0;34m(\u001b[0m\u001b[0;34mr'\\dag'\u001b[0m\u001b[0;34m,\u001b[0m \u001b[0;34mr'\\dagger'\u001b[0m\u001b[0;34m)\u001b[0m\u001b[0;34m\u001b[0m\u001b[0m\n\u001b[1;32m    153\u001b[0m             \u001b[0ms\u001b[0m \u001b[0;34m=\u001b[0m \u001b[0ms\u001b[0m\u001b[0;34m.\u001b[0m\u001b[0mstrip\u001b[0m\u001b[0;34m(\u001b[0m\u001b[0;34m'$'\u001b[0m\u001b[0;34m)\u001b[0m\u001b[0;34m\u001b[0m\u001b[0m\n",
      "\u001b[0;32m/usr/lib/python3.6/site-packages/sympy/printing/latex.py\u001b[0m in \u001b[0;36mlatex\u001b[0;34m(expr, **settings)\u001b[0m\n\u001b[1;32m   2025\u001b[0m     \"\"\"\n\u001b[1;32m   2026\u001b[0m \u001b[0;34m\u001b[0m\u001b[0m\n\u001b[0;32m-> 2027\u001b[0;31m     \u001b[0;32mreturn\u001b[0m \u001b[0mLatexPrinter\u001b[0m\u001b[0;34m(\u001b[0m\u001b[0msettings\u001b[0m\u001b[0;34m)\u001b[0m\u001b[0;34m.\u001b[0m\u001b[0mdoprint\u001b[0m\u001b[0;34m(\u001b[0m\u001b[0mexpr\u001b[0m\u001b[0;34m)\u001b[0m\u001b[0;34m\u001b[0m\u001b[0m\n\u001b[0m\u001b[1;32m   2028\u001b[0m \u001b[0;34m\u001b[0m\u001b[0m\n\u001b[1;32m   2029\u001b[0m \u001b[0;34m\u001b[0m\u001b[0m\n",
      "\u001b[0;32m/usr/lib/python3.6/site-packages/sympy/printing/latex.py\u001b[0m in \u001b[0;36mdoprint\u001b[0;34m(self, expr)\u001b[0m\n\u001b[1;32m    152\u001b[0m \u001b[0;34m\u001b[0m\u001b[0m\n\u001b[1;32m    153\u001b[0m     \u001b[0;32mdef\u001b[0m \u001b[0mdoprint\u001b[0m\u001b[0;34m(\u001b[0m\u001b[0mself\u001b[0m\u001b[0;34m,\u001b[0m \u001b[0mexpr\u001b[0m\u001b[0;34m)\u001b[0m\u001b[0;34m:\u001b[0m\u001b[0;34m\u001b[0m\u001b[0m\n\u001b[0;32m--> 154\u001b[0;31m         \u001b[0mtex\u001b[0m \u001b[0;34m=\u001b[0m \u001b[0mPrinter\u001b[0m\u001b[0;34m.\u001b[0m\u001b[0mdoprint\u001b[0m\u001b[0;34m(\u001b[0m\u001b[0mself\u001b[0m\u001b[0;34m,\u001b[0m \u001b[0mexpr\u001b[0m\u001b[0;34m)\u001b[0m\u001b[0;34m\u001b[0m\u001b[0m\n\u001b[0m\u001b[1;32m    155\u001b[0m \u001b[0;34m\u001b[0m\u001b[0m\n\u001b[1;32m    156\u001b[0m         \u001b[0;32mif\u001b[0m \u001b[0mself\u001b[0m\u001b[0;34m.\u001b[0m\u001b[0m_settings\u001b[0m\u001b[0;34m[\u001b[0m\u001b[0;34m'mode'\u001b[0m\u001b[0;34m]\u001b[0m \u001b[0;34m==\u001b[0m \u001b[0;34m'plain'\u001b[0m\u001b[0;34m:\u001b[0m\u001b[0;34m\u001b[0m\u001b[0m\n",
      "\u001b[0;32m/usr/lib/python3.6/site-packages/sympy/printing/printer.py\u001b[0m in \u001b[0;36mdoprint\u001b[0;34m(self, expr)\u001b[0m\n\u001b[1;32m    231\u001b[0m     \u001b[0;32mdef\u001b[0m \u001b[0mdoprint\u001b[0m\u001b[0;34m(\u001b[0m\u001b[0mself\u001b[0m\u001b[0;34m,\u001b[0m \u001b[0mexpr\u001b[0m\u001b[0;34m)\u001b[0m\u001b[0;34m:\u001b[0m\u001b[0;34m\u001b[0m\u001b[0m\n\u001b[1;32m    232\u001b[0m         \u001b[0;34m\"\"\"Returns printer's representation for expr (as a string)\"\"\"\u001b[0m\u001b[0;34m\u001b[0m\u001b[0m\n\u001b[0;32m--> 233\u001b[0;31m         \u001b[0;32mreturn\u001b[0m \u001b[0mself\u001b[0m\u001b[0;34m.\u001b[0m\u001b[0m_str\u001b[0m\u001b[0;34m(\u001b[0m\u001b[0mself\u001b[0m\u001b[0;34m.\u001b[0m\u001b[0m_print\u001b[0m\u001b[0;34m(\u001b[0m\u001b[0mexpr\u001b[0m\u001b[0;34m)\u001b[0m\u001b[0;34m)\u001b[0m\u001b[0;34m\u001b[0m\u001b[0m\n\u001b[0m\u001b[1;32m    234\u001b[0m \u001b[0;34m\u001b[0m\u001b[0m\n\u001b[1;32m    235\u001b[0m     \u001b[0;32mdef\u001b[0m \u001b[0m_print\u001b[0m\u001b[0;34m(\u001b[0m\u001b[0mself\u001b[0m\u001b[0;34m,\u001b[0m \u001b[0mexpr\u001b[0m\u001b[0;34m,\u001b[0m \u001b[0;34m*\u001b[0m\u001b[0margs\u001b[0m\u001b[0;34m,\u001b[0m \u001b[0;34m**\u001b[0m\u001b[0mkwargs\u001b[0m\u001b[0;34m)\u001b[0m\u001b[0;34m:\u001b[0m\u001b[0;34m\u001b[0m\u001b[0m\n",
      "\u001b[0;32m/usr/lib/python3.6/site-packages/sympy/printing/printer.py\u001b[0m in \u001b[0;36m_print\u001b[0;34m(self, expr, *args, **kwargs)\u001b[0m\n\u001b[1;32m    255\u001b[0m                 \u001b[0mprintmethod\u001b[0m \u001b[0;34m=\u001b[0m \u001b[0;34m'_print_'\u001b[0m \u001b[0;34m+\u001b[0m \u001b[0mcls\u001b[0m\u001b[0;34m.\u001b[0m\u001b[0m__name__\u001b[0m\u001b[0;34m\u001b[0m\u001b[0m\n\u001b[1;32m    256\u001b[0m                 \u001b[0;32mif\u001b[0m \u001b[0mhasattr\u001b[0m\u001b[0;34m(\u001b[0m\u001b[0mself\u001b[0m\u001b[0;34m,\u001b[0m \u001b[0mprintmethod\u001b[0m\u001b[0;34m)\u001b[0m\u001b[0;34m:\u001b[0m\u001b[0;34m\u001b[0m\u001b[0m\n\u001b[0;32m--> 257\u001b[0;31m                     \u001b[0;32mreturn\u001b[0m \u001b[0mgetattr\u001b[0m\u001b[0;34m(\u001b[0m\u001b[0mself\u001b[0m\u001b[0;34m,\u001b[0m \u001b[0mprintmethod\u001b[0m\u001b[0;34m)\u001b[0m\u001b[0;34m(\u001b[0m\u001b[0mexpr\u001b[0m\u001b[0;34m,\u001b[0m \u001b[0;34m*\u001b[0m\u001b[0margs\u001b[0m\u001b[0;34m,\u001b[0m \u001b[0;34m**\u001b[0m\u001b[0mkwargs\u001b[0m\u001b[0;34m)\u001b[0m\u001b[0;34m\u001b[0m\u001b[0m\n\u001b[0m\u001b[1;32m    258\u001b[0m \u001b[0;34m\u001b[0m\u001b[0m\n\u001b[1;32m    259\u001b[0m             \u001b[0;31m# Unknown object, fall back to the emptyPrinter.\u001b[0m\u001b[0;34m\u001b[0m\u001b[0;34m\u001b[0m\u001b[0m\n",
      "\u001b[0;32m/usr/lib/python3.6/site-packages/sympy/printing/latex.py\u001b[0m in \u001b[0;36m_print_SeqFormula\u001b[0;34m(self, s)\u001b[0m\n\u001b[1;32m   1500\u001b[0m             printset = ('\\ldots', s.coeff(stop - 3), s.coeff(stop - 2),\n\u001b[1;32m   1501\u001b[0m                 s.coeff(stop - 1), s.coeff(stop))\n\u001b[0;32m-> 1502\u001b[0;31m         \u001b[0;32melif\u001b[0m \u001b[0ms\u001b[0m\u001b[0;34m.\u001b[0m\u001b[0mstop\u001b[0m \u001b[0;32mis\u001b[0m \u001b[0mS\u001b[0m\u001b[0;34m.\u001b[0m\u001b[0mInfinity\u001b[0m \u001b[0;32mor\u001b[0m \u001b[0ms\u001b[0m\u001b[0;34m.\u001b[0m\u001b[0mlength\u001b[0m \u001b[0;34m>\u001b[0m \u001b[0;36m4\u001b[0m\u001b[0;34m:\u001b[0m\u001b[0;34m\u001b[0m\u001b[0m\n\u001b[0m\u001b[1;32m   1503\u001b[0m             \u001b[0mprintset\u001b[0m \u001b[0;34m=\u001b[0m \u001b[0ms\u001b[0m\u001b[0;34m[\u001b[0m\u001b[0;34m:\u001b[0m\u001b[0;36m4\u001b[0m\u001b[0;34m]\u001b[0m\u001b[0;34m\u001b[0m\u001b[0m\n\u001b[1;32m   1504\u001b[0m             \u001b[0mprintset\u001b[0m\u001b[0;34m.\u001b[0m\u001b[0mappend\u001b[0m\u001b[0;34m(\u001b[0m\u001b[0;34m'\\ldots'\u001b[0m\u001b[0;34m)\u001b[0m\u001b[0;34m\u001b[0m\u001b[0m\n",
      "\u001b[0;32m/usr/lib/python3.6/site-packages/sympy/core/relational.py\u001b[0m in \u001b[0;36m__nonzero__\u001b[0;34m(self)\u001b[0m\n\u001b[1;32m    193\u001b[0m \u001b[0;34m\u001b[0m\u001b[0m\n\u001b[1;32m    194\u001b[0m     \u001b[0;32mdef\u001b[0m \u001b[0m__nonzero__\u001b[0m\u001b[0;34m(\u001b[0m\u001b[0mself\u001b[0m\u001b[0;34m)\u001b[0m\u001b[0;34m:\u001b[0m\u001b[0;34m\u001b[0m\u001b[0m\n\u001b[0;32m--> 195\u001b[0;31m         \u001b[0;32mraise\u001b[0m \u001b[0mTypeError\u001b[0m\u001b[0;34m(\u001b[0m\u001b[0;34m\"cannot determine truth value of Relational\"\u001b[0m\u001b[0;34m)\u001b[0m\u001b[0;34m\u001b[0m\u001b[0m\n\u001b[0m\u001b[1;32m    196\u001b[0m \u001b[0;34m\u001b[0m\u001b[0m\n\u001b[1;32m    197\u001b[0m     \u001b[0m__bool__\u001b[0m \u001b[0;34m=\u001b[0m \u001b[0m__nonzero__\u001b[0m\u001b[0;34m\u001b[0m\u001b[0m\n",
      "\u001b[0;31mTypeError\u001b[0m: cannot determine truth value of Relational"
     ]
    }
   ],
   "source": [
    "def display_for(r):\n",
    "    product = ast(expr, r)\n",
    "    product_expanded = expand_with_transformers(product)\n",
    "    display(r)\n",
    "    display(product_expanded)\n",
    "    # print('({}) ∗ {} = {} → {}'.format(expr, r, product, product_expanded))\n",
    "\n",
    "display_for(basis[1])\n",
    "\n",
    "# for r in basis:\n",
    "#     display_for(r)"
   ]
  },
  {
   "cell_type": "code",
   "execution_count": 22,
   "metadata": {},
   "outputs": [
    {
     "data": {
      "text/plain": [
       "['__add__',\n",
       " '__class__',\n",
       " '__delattr__',\n",
       " '__dict__',\n",
       " '__dir__',\n",
       " '__doc__',\n",
       " '__eq__',\n",
       " '__format__',\n",
       " '__ge__',\n",
       " '__getattribute__',\n",
       " '__getitem__',\n",
       " '__getnewargs__',\n",
       " '__getstate__',\n",
       " '__gt__',\n",
       " '__hash__',\n",
       " '__init__',\n",
       " '__init_subclass__',\n",
       " '__iter__',\n",
       " '__le__',\n",
       " '__lt__',\n",
       " '__module__',\n",
       " '__mul__',\n",
       " '__ne__',\n",
       " '__neg__',\n",
       " '__new__',\n",
       " '__radd__',\n",
       " '__reduce__',\n",
       " '__reduce_ex__',\n",
       " '__repr__',\n",
       " '__rmul__',\n",
       " '__rsub__',\n",
       " '__setattr__',\n",
       " '__setstate__',\n",
       " '__sizeof__',\n",
       " '__slots__',\n",
       " '__str__',\n",
       " '__sub__',\n",
       " '__subclasshook__',\n",
       " '__weakref__',\n",
       " '_add',\n",
       " '_args',\n",
       " '_assumptions',\n",
       " '_compare_pretty',\n",
       " '_eval_coeff',\n",
       " '_eval_rewrite',\n",
       " '_eval_subs',\n",
       " '_explicit_class_assumptions',\n",
       " '_has',\n",
       " '_has_matcher',\n",
       " '_hashable_content',\n",
       " '_intersect_interval',\n",
       " '_ith_point',\n",
       " '_mhash',\n",
       " '_mul',\n",
       " '_op_priority',\n",
       " '_prop_handler',\n",
       " '_recursive_call',\n",
       " '_sorted_args',\n",
       " '_start_key',\n",
       " '_subs',\n",
       " '_xreplace',\n",
       " 'args',\n",
       " 'as_content_primitive',\n",
       " 'as_poly',\n",
       " 'assumptions0',\n",
       " 'atoms',\n",
       " 'canonical_variables',\n",
       " 'class_key',\n",
       " 'coeff',\n",
       " 'coeff_mul',\n",
       " 'compare',\n",
       " 'copy',\n",
       " 'count',\n",
       " 'count_ops',\n",
       " 'default_assumptions',\n",
       " 'doit',\n",
       " 'dummy_eq',\n",
       " 'find',\n",
       " 'formula',\n",
       " 'free_symbols',\n",
       " 'fromiter',\n",
       " 'func',\n",
       " 'gen',\n",
       " 'has',\n",
       " 'interval',\n",
       " 'is_Add',\n",
       " 'is_AlgebraicNumber',\n",
       " 'is_Atom',\n",
       " 'is_Boolean',\n",
       " 'is_Derivative',\n",
       " 'is_Dummy',\n",
       " 'is_Equality',\n",
       " 'is_Float',\n",
       " 'is_Function',\n",
       " 'is_Integer',\n",
       " 'is_Matrix',\n",
       " 'is_Mul',\n",
       " 'is_Not',\n",
       " 'is_Number',\n",
       " 'is_NumberSymbol',\n",
       " 'is_Order',\n",
       " 'is_Piecewise',\n",
       " 'is_Point',\n",
       " 'is_Poly',\n",
       " 'is_Pow',\n",
       " 'is_Rational',\n",
       " 'is_Relational',\n",
       " 'is_Symbol',\n",
       " 'is_Vector',\n",
       " 'is_Wild',\n",
       " 'is_algebraic',\n",
       " 'is_antihermitian',\n",
       " 'is_commutative',\n",
       " 'is_comparable',\n",
       " 'is_complex',\n",
       " 'is_composite',\n",
       " 'is_even',\n",
       " 'is_finite',\n",
       " 'is_hermitian',\n",
       " 'is_hypergeometric',\n",
       " 'is_imaginary',\n",
       " 'is_infinite',\n",
       " 'is_integer',\n",
       " 'is_irrational',\n",
       " 'is_negative',\n",
       " 'is_noninteger',\n",
       " 'is_nonnegative',\n",
       " 'is_nonpositive',\n",
       " 'is_nonzero',\n",
       " 'is_number',\n",
       " 'is_odd',\n",
       " 'is_polar',\n",
       " 'is_positive',\n",
       " 'is_prime',\n",
       " 'is_rational',\n",
       " 'is_real',\n",
       " 'is_transcendental',\n",
       " 'is_zero',\n",
       " 'length',\n",
       " 'match',\n",
       " 'matches',\n",
       " 'rcall',\n",
       " 'replace',\n",
       " 'rewrite',\n",
       " 'sort_key',\n",
       " 'start',\n",
       " 'stop',\n",
       " 'subs',\n",
       " 'variables',\n",
       " 'xreplace']"
      ]
     },
     "execution_count": 22,
     "metadata": {},
     "output_type": "execute_result"
    }
   ],
   "source": [
    "dir(basis[1])"
   ]
  },
  {
   "cell_type": "code",
   "execution_count": 26,
   "metadata": {},
   "outputs": [
    {
     "name": "stdout",
     "output_type": "stream",
     "text": [
      "args → (y*(x*y)**i, (i, 0, k - 1))\n",
      "as_content_primitive → <bound method Basic.as_content_primitive of SeqFormula(y*(x*y)**i, (i, 0, k - 1))>\n",
      "as_poly → <bound method Basic.as_poly of SeqFormula(y*(x*y)**i, (i, 0, k - 1))>\n",
      "assumptions0 → {}\n",
      "atoms → <bound method Basic.atoms of SeqFormula(y*(x*y)**i, (i, 0, k - 1))>\n",
      "canonical_variables → {i: 0_}\n",
      "class_key → <bound method Basic.class_key of <class 'sympy.series.sequences.SeqFormula'>>\n",
      "coeff → <bound method SeqBase.coeff of SeqFormula(y*(x*y)**i, (i, 0, k - 1))>\n",
      "coeff_mul → <bound method SeqFormula.coeff_mul of SeqFormula(y*(x*y)**i, (i, 0, k - 1))>\n",
      "compare → <bound method Basic.compare of SeqFormula(y*(x*y)**i, (i, 0, k - 1))>\n",
      "copy → <bound method Basic.copy of SeqFormula(y*(x*y)**i, (i, 0, k - 1))>\n",
      "count → <bound method Basic.count of SeqFormula(y*(x*y)**i, (i, 0, k - 1))>\n",
      "count_ops → <bound method Basic.count_ops of SeqFormula(y*(x*y)**i, (i, 0, k - 1))>\n",
      "default_assumptions → {\n",
      "\tcommutative: True}\n",
      "doit → <bound method Basic.doit of SeqFormula(y*(x*y)**i, (i, 0, k - 1))>\n",
      "dummy_eq → <bound method Basic.dummy_eq of SeqFormula(y*(x*y)**i, (i, 0, k - 1))>\n",
      "find → <bound method Basic.find of SeqFormula(y*(x*y)**i, (i, 0, k - 1))>\n",
      "formula → y*(x*y)**i\n",
      "free_symbols → {y, k, x}\n",
      "fromiter → <bound method Basic.fromiter of <class 'sympy.series.sequences.SeqFormula'>>\n",
      "func → <class 'sympy.series.sequences.SeqFormula'>\n",
      "gen → y*(x*y)**i\n",
      "has → <bound method Basic.has of SeqFormula(y*(x*y)**i, (i, 0, k - 1))>\n",
      "interval → [0, k - 1]\n",
      "length → k\n",
      "match → <bound method Basic.match of SeqFormula(y*(x*y)**i, (i, 0, k - 1))>\n",
      "matches → <bound method Basic.matches of SeqFormula(y*(x*y)**i, (i, 0, k - 1))>\n",
      "rcall → <bound method Basic.rcall of SeqFormula(y*(x*y)**i, (i, 0, k - 1))>\n",
      "replace → <bound method Basic.replace of SeqFormula(y*(x*y)**i, (i, 0, k - 1))>\n",
      "rewrite → <bound method Basic.rewrite of SeqFormula(y*(x*y)**i, (i, 0, k - 1))>\n",
      "sort_key → <bound method Basic.sort_key of SeqFormula(y*(x*y)**i, (i, 0, k - 1))>\n",
      "start → 0\n",
      "stop → k - 1\n",
      "subs → <bound method Basic.subs of SeqFormula(y*(x*y)**i, (i, 0, k - 1))>\n",
      "variables → (i,)\n",
      "xreplace → <bound method Basic.xreplace of SeqFormula(y*(x*y)**i, (i, 0, k - 1))>\n"
     ]
    }
   ],
   "source": [
    "for attr in dir(basis[1]):\n",
    "    if not attr.startswith('_') and not attr.startswith('is_'):\n",
    "        print('%s → %s' % (attr, getattr(basis[1], attr)))"
   ]
  },
  {
   "cell_type": "code",
   "execution_count": null,
   "metadata": {
    "collapsed": true
   },
   "outputs": [],
   "source": []
  }
 ],
 "metadata": {
  "kernelspec": {
   "display_name": "Python 3",
   "language": "python",
   "name": "python3"
  },
  "language_info": {
   "codemirror_mode": {
    "name": "ipython",
    "version": 3
   },
   "file_extension": ".py",
   "mimetype": "text/x-python",
   "name": "python",
   "nbconvert_exporter": "python",
   "pygments_lexer": "ipython3",
   "version": "3.6.1"
  }
 },
 "nbformat": 4,
 "nbformat_minor": 2
}
